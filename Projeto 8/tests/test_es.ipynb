{
 "cells": [
  {
   "cell_type": "markdown",
   "id": "9922e815-17b3-4de5-b897-8e269004068b",
   "metadata": {},
   "source": [
    "# Módulo de entrada e saída de dados (es)\n",
    "\n",
    "O módulo prevê a função para a leitura da API do TCE-RS e para produção dos gráficos"
   ]
  },
  {
   "cell_type": "code",
   "execution_count": 1,
   "id": "b7966907-1ae5-4f41-a4fd-2d006a739c86",
   "metadata": {},
   "outputs": [],
   "source": [
    "# Importando a biblioteca\n",
    "\n",
    "import numpy as np\n",
    "import pandas as pd\n",
    "\n",
    "\n",
    "# Função para consumir a API do TCE - RS\n",
    "\n",
    "def leitor_dados(arquivo: str) -> pd.DataFrame:\n",
    "    pass\n"
   ]
  },
  {
   "cell_type": "markdown",
   "id": "040a6ec6-53ed-4d36-8091-8a80abf50026",
   "metadata": {},
   "source": [
    "## Escolha de variável financeira\n",
    "\n",
    "Opções de variáveis: CÓDIGO no DataFrame\n",
    "\n",
    "1 - Valor de Dotação Inicial: VL_DOTACAO_INICIAL\n",
    "\n",
    "2- Valor de Créditos Suplementares : VL_CREDITOS_SUPLEMENTARES\n",
    "\n",
    "3 - Valor de Créditos Especiais: VL_CREDITOS_ESPECIAIS\n",
    "\n",
    "4 - Valor de Créditos Extraordinários: VL_CREDITOS_EXTRAORDINARIOS\n",
    "\n",
    "5 - Valor de Redução de Dotação : VL_REDUCAO_DOTACAO \n",
    "\n",
    "6 - Valor de Transferência:  VL_TRANSFERENCIA\n",
    "\n",
    "7 - Valor de Transposição: VL_TRANSPOSICAO\n",
    "\n",
    "8 - Valor de Remanejamento: VL_REMANEJAMENTO\n",
    "\n",
    "9 - Valor Empenhado: VL_EMPENHADO\n",
    "\n",
    "10 - Valor Liquidado: VL_LIQUIDADO  \n",
    "\n",
    "11 - Valor Pago: VL_PAGO\n",
    "\n",
    "12 - Valor Limitado: VL_LIMITADO\n",
    "\n",
    "13 - Valor de Recomposição: VL_RECOMPOSICAO\n",
    "\n",
    "14 - Valor de Previsão de Execução: VL_PREVISAO_EXECUCAO\n"
   ]
  },
  {
   "cell_type": "code",
   "execution_count": 2,
   "id": "b8aa2655-9f9b-4d5a-b953-a7121674006b",
   "metadata": {
    "tags": []
   },
   "outputs": [
    {
     "name": "stdin",
     "output_type": "stream",
     "text": [
      "\n",
      "Qual variável do Balancete de Despesas Orçamentárias dos municípios do RS em 2023 você deseja analisar:\n",
      "1 - Valor Empenhado\n",
      "2 - Valor Liquidado\n",
      "3 - Valor Pago\n",
      "Digite o código da variável: \n",
      " 1\n"
     ]
    }
   ],
   "source": [
    "# Teste de input\n",
    "\n",
    "variavel = input(\"\"\"\n",
    "Qual variável do Balancete de Despesas Orçamentárias dos municípios do RS em 2023 você deseja analisar:\n",
    "1 - Valor Empenhado\n",
    "2 - Valor Liquidado\n",
    "3 - Valor Pago\n",
    "Digite o código da variável: \n",
    "\"\"\")\n"
   ]
  },
  {
   "cell_type": "code",
   "execution_count": 3,
   "id": "b711316b-5e37-4f80-9a1a-943878a60401",
   "metadata": {
    "tags": []
   },
   "outputs": [
    {
     "name": "stdout",
     "output_type": "stream",
     "text": [
      "1\n"
     ]
    }
   ],
   "source": [
    "# Teste de armazenamento\n",
    "print(variavel)"
   ]
  },
  {
   "cell_type": "markdown",
   "id": "1f8f109c-f86f-4fe7-a5e6-852c620b33e6",
   "metadata": {},
   "source": [
    "## Requisito 2 (RU2) - Plotar o gráfico dos dados\n",
    "\n",
    "Função saida(grafico, media: float, desvio_padrao: float) -> None\n",
    "\n",
    "Esta função irá apresentar ao usuário o gráfico dos dados analisados, assim como a média e o desvio-padrão calculados."
   ]
  },
  {
   "cell_type": "code",
   "execution_count": 4,
   "id": "e773b5fd-3b8e-4503-9594-86d87f2ee87c",
   "metadata": {
    "tags": []
   },
   "outputs": [],
   "source": [
    "import numpy as np\n",
    "import matplotlib as mpl\n",
    "import matplotlib.pyplot as plt\n",
    "import pandas as pd\n",
    "\n",
    "def plotador(dados: pd.DataFrame) -> None:\n",
    "    pass"
   ]
  },
  {
   "cell_type": "code",
   "execution_count": 5,
   "id": "8457b755-952a-4914-be4c-afd0ccfb9e73",
   "metadata": {
    "tags": []
   },
   "outputs": [],
   "source": [
    "# Consumindo API para testes\n",
    "url = \"https://dados.tce.rs.gov.br/dados/municipal/balancete-despesa/2023.csv\"\n",
    "dados = pd.read_csv(url)"
   ]
  },
  {
   "cell_type": "code",
   "execution_count": 8,
   "id": "170d0688-ffc9-4f44-ae0d-8ee2b6852338",
   "metadata": {
    "tags": []
   },
   "outputs": [
    {
     "data": {
      "text/plain": [
       "<Axes: >"
      ]
     },
     "execution_count": 8,
     "metadata": {},
     "output_type": "execute_result"
    },
    {
     "data": {
      "image/png": "[encoded data removed]",
      "text/plain": [
       "<Figure size 640x480 with 1 Axes>"
      ]
     },
     "metadata": {},
     "output_type": "display_data"
    }
   ],
   "source": [
    "pago = dados['VL_PAGO']\n",
    "\n",
    "pago.plot()"
   ]
  },
  {
   "cell_type": "markdown",
   "id": "b15f78d3-cd72-4f7d-8eff-99a51284411c",
   "metadata": {},
   "source": [
    "## Requisito 1\n",
    "\n",
    "Função para coletar dados de variável do Balancete de Despesa Consolidado 2023 em formato CSV, usando a API de dados abertos do TCE - RS."
   ]
  },
  {
   "cell_type": "code",
   "execution_count": 2,
   "id": "95d13e2a-8714-40af-9716-d7c6f99111aa",
   "metadata": {},
   "outputs": [],
   "source": [
    "# API TCE RS\n",
    "dados = pd.read_csv(\"https://dados.tce.rs.gov.br/dados/municipal/balancete-despesa/2023.csv\")\n"
   ]
  },
  {
   "cell_type": "code",
   "execution_count": 3,
   "id": "103f6b54-a330-440f-950b-8d1434aa4c13",
   "metadata": {},
   "outputs": [
    {
     "data": {
      "text/html": [
       "<div>\n",
       "<style scoped>\n",
       "    .dataframe tbody tr th:only-of-type {\n",
       "        vertical-align: middle;\n",
       "    }\n",
       "\n",
       "    .dataframe tbody tr th {\n",
       "        vertical-align: top;\n",
       "    }\n",
       "\n",
       "    .dataframe thead th {\n",
       "        text-align: right;\n",
       "    }\n",
       "</style>\n",
       "<table border=\"1\" class=\"dataframe\">\n",
       "  <thead>\n",
       "    <tr style=\"text-align: right;\">\n",
       "      <th></th>\n",
       "      <th>ANO</th>\n",
       "      <th>MES</th>\n",
       "      <th>COD_MUNICIPIO</th>\n",
       "      <th>NOME_MUNICIPIO</th>\n",
       "      <th>CD_ORGAO</th>\n",
       "      <th>NOME_ORGAO</th>\n",
       "      <th>CD_RECEBIMENTO</th>\n",
       "      <th>CD_ORGAO_ORCAMENTARIO</th>\n",
       "      <th>NOME_ORGAO_ORCAMENTARIO</th>\n",
       "      <th>CD_UNIDADE_ORCAMENTARIA</th>\n",
       "      <th>...</th>\n",
       "      <th>VL_REDUCAO_RECURSO</th>\n",
       "      <th>VL_TRANSFERENCIA</th>\n",
       "      <th>VL_TRANSPOSICAO</th>\n",
       "      <th>VL_REMANEJAMENTO</th>\n",
       "      <th>VL_EMPENHADO</th>\n",
       "      <th>VL_LIQUIDADO</th>\n",
       "      <th>VL_PAGO</th>\n",
       "      <th>VL_LIMITADO</th>\n",
       "      <th>VL_RECOMPOSICAO</th>\n",
       "      <th>VL_PREVISAO_EXECUCAO</th>\n",
       "    </tr>\n",
       "  </thead>\n",
       "  <tbody>\n",
       "    <tr>\n",
       "      <th>0</th>\n",
       "      <td>2023</td>\n",
       "      <td>1</td>\n",
       "      <td>149</td>\n",
       "      <td>PORTO ALEGRE</td>\n",
       "      <td>88399</td>\n",
       "      <td>AGESAN - AGÊNCIA REGULADORA INTERMUNICIPAL DE ...</td>\n",
       "      <td>306703</td>\n",
       "      <td>1</td>\n",
       "      <td>AGESAN-RS</td>\n",
       "      <td>1</td>\n",
       "      <td>...</td>\n",
       "      <td>0.0</td>\n",
       "      <td>0.0</td>\n",
       "      <td>0.0</td>\n",
       "      <td>0.0</td>\n",
       "      <td>1291047.08</td>\n",
       "      <td>99401.81</td>\n",
       "      <td>99401.81</td>\n",
       "      <td>0.0</td>\n",
       "      <td>0.0</td>\n",
       "      <td>0.0</td>\n",
       "    </tr>\n",
       "    <tr>\n",
       "      <th>1</th>\n",
       "      <td>2023</td>\n",
       "      <td>1</td>\n",
       "      <td>149</td>\n",
       "      <td>PORTO ALEGRE</td>\n",
       "      <td>88399</td>\n",
       "      <td>AGESAN - AGÊNCIA REGULADORA INTERMUNICIPAL DE ...</td>\n",
       "      <td>306703</td>\n",
       "      <td>1</td>\n",
       "      <td>AGESAN-RS</td>\n",
       "      <td>1</td>\n",
       "      <td>...</td>\n",
       "      <td>0.0</td>\n",
       "      <td>0.0</td>\n",
       "      <td>0.0</td>\n",
       "      <td>0.0</td>\n",
       "      <td>251900.00</td>\n",
       "      <td>30456.87</td>\n",
       "      <td>0.00</td>\n",
       "      <td>0.0</td>\n",
       "      <td>0.0</td>\n",
       "      <td>0.0</td>\n",
       "    </tr>\n",
       "    <tr>\n",
       "      <th>2</th>\n",
       "      <td>2023</td>\n",
       "      <td>1</td>\n",
       "      <td>149</td>\n",
       "      <td>PORTO ALEGRE</td>\n",
       "      <td>88399</td>\n",
       "      <td>AGESAN - AGÊNCIA REGULADORA INTERMUNICIPAL DE ...</td>\n",
       "      <td>306703</td>\n",
       "      <td>1</td>\n",
       "      <td>AGESAN-RS</td>\n",
       "      <td>1</td>\n",
       "      <td>...</td>\n",
       "      <td>0.0</td>\n",
       "      <td>0.0</td>\n",
       "      <td>0.0</td>\n",
       "      <td>0.0</td>\n",
       "      <td>0.00</td>\n",
       "      <td>0.00</td>\n",
       "      <td>0.00</td>\n",
       "      <td>0.0</td>\n",
       "      <td>0.0</td>\n",
       "      <td>0.0</td>\n",
       "    </tr>\n",
       "    <tr>\n",
       "      <th>3</th>\n",
       "      <td>2023</td>\n",
       "      <td>1</td>\n",
       "      <td>149</td>\n",
       "      <td>PORTO ALEGRE</td>\n",
       "      <td>88399</td>\n",
       "      <td>AGESAN - AGÊNCIA REGULADORA INTERMUNICIPAL DE ...</td>\n",
       "      <td>306703</td>\n",
       "      <td>1</td>\n",
       "      <td>AGESAN-RS</td>\n",
       "      <td>1</td>\n",
       "      <td>...</td>\n",
       "      <td>0.0</td>\n",
       "      <td>0.0</td>\n",
       "      <td>0.0</td>\n",
       "      <td>0.0</td>\n",
       "      <td>6206.47</td>\n",
       "      <td>6206.47</td>\n",
       "      <td>6206.47</td>\n",
       "      <td>0.0</td>\n",
       "      <td>0.0</td>\n",
       "      <td>0.0</td>\n",
       "    </tr>\n",
       "  </tbody>\n",
       "</table>\n",
       "<p>4 rows × 41 columns</p>\n",
       "</div>"
      ],
      "text/plain": [
       "    ANO  MES  COD_MUNICIPIO NOME_MUNICIPIO  CD_ORGAO  \\\n",
       "0  2023    1            149   PORTO ALEGRE     88399   \n",
       "1  2023    1            149   PORTO ALEGRE     88399   \n",
       "2  2023    1            149   PORTO ALEGRE     88399   \n",
       "3  2023    1            149   PORTO ALEGRE     88399   \n",
       "\n",
       "                                          NOME_ORGAO  CD_RECEBIMENTO  \\\n",
       "0  AGESAN - AGÊNCIA REGULADORA INTERMUNICIPAL DE ...          306703   \n",
       "1  AGESAN - AGÊNCIA REGULADORA INTERMUNICIPAL DE ...          306703   \n",
       "2  AGESAN - AGÊNCIA REGULADORA INTERMUNICIPAL DE ...          306703   \n",
       "3  AGESAN - AGÊNCIA REGULADORA INTERMUNICIPAL DE ...          306703   \n",
       "\n",
       "   CD_ORGAO_ORCAMENTARIO NOME_ORGAO_ORCAMENTARIO  CD_UNIDADE_ORCAMENTARIA  \\\n",
       "0                      1               AGESAN-RS                        1   \n",
       "1                      1               AGESAN-RS                        1   \n",
       "2                      1               AGESAN-RS                        1   \n",
       "3                      1               AGESAN-RS                        1   \n",
       "\n",
       "   ... VL_REDUCAO_RECURSO VL_TRANSFERENCIA  VL_TRANSPOSICAO VL_REMANEJAMENTO  \\\n",
       "0  ...                0.0              0.0              0.0              0.0   \n",
       "1  ...                0.0              0.0              0.0              0.0   \n",
       "2  ...                0.0              0.0              0.0              0.0   \n",
       "3  ...                0.0              0.0              0.0              0.0   \n",
       "\n",
       "   VL_EMPENHADO VL_LIQUIDADO   VL_PAGO VL_LIMITADO  VL_RECOMPOSICAO  \\\n",
       "0    1291047.08     99401.81  99401.81         0.0              0.0   \n",
       "1     251900.00     30456.87      0.00         0.0              0.0   \n",
       "2          0.00         0.00      0.00         0.0              0.0   \n",
       "3       6206.47      6206.47   6206.47         0.0              0.0   \n",
       "\n",
       "  VL_PREVISAO_EXECUCAO  \n",
       "0                  0.0  \n",
       "1                  0.0  \n",
       "2                  0.0  \n",
       "3                  0.0  \n",
       "\n",
       "[4 rows x 41 columns]"
      ]
     },
     "execution_count": 3,
     "metadata": {},
     "output_type": "execute_result"
    }
   ],
   "source": [
    "dados.head(4)"
   ]
  },
  {
   "cell_type": "code",
   "execution_count": 21,
   "id": "9f377895-8a41-42fb-a953-df2c3aa25116",
   "metadata": {},
   "outputs": [
    {
     "data": {
      "text/html": [
       "<div>\n",
       "<style scoped>\n",
       "    .dataframe tbody tr th:only-of-type {\n",
       "        vertical-align: middle;\n",
       "    }\n",
       "\n",
       "    .dataframe tbody tr th {\n",
       "        vertical-align: top;\n",
       "    }\n",
       "\n",
       "    .dataframe thead th {\n",
       "        text-align: right;\n",
       "    }\n",
       "</style>\n",
       "<table border=\"1\" class=\"dataframe\">\n",
       "  <thead>\n",
       "    <tr style=\"text-align: right;\">\n",
       "      <th></th>\n",
       "      <th>ANO</th>\n",
       "      <th>MES</th>\n",
       "      <th>COD_MUNICIPIO</th>\n",
       "      <th>NOME_MUNICIPIO</th>\n",
       "      <th>CD_ORGAO</th>\n",
       "      <th>NOME_ORGAO</th>\n",
       "      <th>CD_RECEBIMENTO</th>\n",
       "      <th>CD_ORGAO_ORCAMENTARIO</th>\n",
       "      <th>NOME_ORGAO_ORCAMENTARIO</th>\n",
       "      <th>CD_UNIDADE_ORCAMENTARIA</th>\n",
       "      <th>...</th>\n",
       "      <th>VL_REDUCAO_RECURSO</th>\n",
       "      <th>VL_TRANSFERENCIA</th>\n",
       "      <th>VL_TRANSPOSICAO</th>\n",
       "      <th>VL_REMANEJAMENTO</th>\n",
       "      <th>VL_EMPENHADO</th>\n",
       "      <th>VL_LIQUIDADO</th>\n",
       "      <th>VL_PAGO</th>\n",
       "      <th>VL_LIMITADO</th>\n",
       "      <th>VL_RECOMPOSICAO</th>\n",
       "      <th>VL_PREVISAO_EXECUCAO</th>\n",
       "    </tr>\n",
       "  </thead>\n",
       "  <tbody>\n",
       "    <tr>\n",
       "      <th>427623</th>\n",
       "      <td>2023</td>\n",
       "      <td>10</td>\n",
       "      <td>222</td>\n",
       "      <td>TUPANCIRETÃ</td>\n",
       "      <td>88437</td>\n",
       "      <td>TUPANPREV - AUT. PREV. SERV. PÚBLICOS DO MUNIC...</td>\n",
       "      <td>314350</td>\n",
       "      <td>13</td>\n",
       "      <td>FUNPREV</td>\n",
       "      <td>1</td>\n",
       "      <td>...</td>\n",
       "      <td>0.0</td>\n",
       "      <td>0.0</td>\n",
       "      <td>0.0</td>\n",
       "      <td>0.0</td>\n",
       "      <td>0.00</td>\n",
       "      <td>0.00</td>\n",
       "      <td>0.00</td>\n",
       "      <td>0.0</td>\n",
       "      <td>0.0</td>\n",
       "      <td>0.0</td>\n",
       "    </tr>\n",
       "    <tr>\n",
       "      <th>427624</th>\n",
       "      <td>2023</td>\n",
       "      <td>10</td>\n",
       "      <td>222</td>\n",
       "      <td>TUPANCIRETÃ</td>\n",
       "      <td>88437</td>\n",
       "      <td>TUPANPREV - AUT. PREV. SERV. PÚBLICOS DO MUNIC...</td>\n",
       "      <td>314350</td>\n",
       "      <td>13</td>\n",
       "      <td>FUNPREV</td>\n",
       "      <td>1</td>\n",
       "      <td>...</td>\n",
       "      <td>0.0</td>\n",
       "      <td>0.0</td>\n",
       "      <td>0.0</td>\n",
       "      <td>0.0</td>\n",
       "      <td>46415.94</td>\n",
       "      <td>46415.94</td>\n",
       "      <td>46415.94</td>\n",
       "      <td>0.0</td>\n",
       "      <td>0.0</td>\n",
       "      <td>0.0</td>\n",
       "    </tr>\n",
       "    <tr>\n",
       "      <th>427625</th>\n",
       "      <td>2023</td>\n",
       "      <td>10</td>\n",
       "      <td>222</td>\n",
       "      <td>TUPANCIRETÃ</td>\n",
       "      <td>88437</td>\n",
       "      <td>TUPANPREV - AUT. PREV. SERV. PÚBLICOS DO MUNIC...</td>\n",
       "      <td>314350</td>\n",
       "      <td>13</td>\n",
       "      <td>FUNPREV</td>\n",
       "      <td>1</td>\n",
       "      <td>...</td>\n",
       "      <td>0.0</td>\n",
       "      <td>0.0</td>\n",
       "      <td>0.0</td>\n",
       "      <td>0.0</td>\n",
       "      <td>313795.47</td>\n",
       "      <td>282239.29</td>\n",
       "      <td>282239.29</td>\n",
       "      <td>0.0</td>\n",
       "      <td>0.0</td>\n",
       "      <td>0.0</td>\n",
       "    </tr>\n",
       "    <tr>\n",
       "      <th>427626</th>\n",
       "      <td>2023</td>\n",
       "      <td>10</td>\n",
       "      <td>222</td>\n",
       "      <td>TUPANCIRETÃ</td>\n",
       "      <td>88437</td>\n",
       "      <td>TUPANPREV - AUT. PREV. SERV. PÚBLICOS DO MUNIC...</td>\n",
       "      <td>314350</td>\n",
       "      <td>13</td>\n",
       "      <td>FUNPREV</td>\n",
       "      <td>1</td>\n",
       "      <td>...</td>\n",
       "      <td>0.0</td>\n",
       "      <td>0.0</td>\n",
       "      <td>0.0</td>\n",
       "      <td>0.0</td>\n",
       "      <td>0.00</td>\n",
       "      <td>0.00</td>\n",
       "      <td>0.00</td>\n",
       "      <td>0.0</td>\n",
       "      <td>0.0</td>\n",
       "      <td>0.0</td>\n",
       "    </tr>\n",
       "    <tr>\n",
       "      <th>427627</th>\n",
       "      <td>2023</td>\n",
       "      <td>10</td>\n",
       "      <td>222</td>\n",
       "      <td>TUPANCIRETÃ</td>\n",
       "      <td>88437</td>\n",
       "      <td>TUPANPREV - AUT. PREV. SERV. PÚBLICOS DO MUNIC...</td>\n",
       "      <td>314350</td>\n",
       "      <td>29</td>\n",
       "      <td>RESERVA CONTINGENCIA FUNPREV</td>\n",
       "      <td>99</td>\n",
       "      <td>...</td>\n",
       "      <td>0.0</td>\n",
       "      <td>0.0</td>\n",
       "      <td>0.0</td>\n",
       "      <td>0.0</td>\n",
       "      <td>0.00</td>\n",
       "      <td>0.00</td>\n",
       "      <td>0.00</td>\n",
       "      <td>0.0</td>\n",
       "      <td>0.0</td>\n",
       "      <td>0.0</td>\n",
       "    </tr>\n",
       "  </tbody>\n",
       "</table>\n",
       "<p>5 rows × 41 columns</p>\n",
       "</div>"
      ],
      "text/plain": [
       "         ANO  MES  COD_MUNICIPIO NOME_MUNICIPIO  CD_ORGAO  \\\n",
       "427623  2023   10            222    TUPANCIRETÃ     88437   \n",
       "427624  2023   10            222    TUPANCIRETÃ     88437   \n",
       "427625  2023   10            222    TUPANCIRETÃ     88437   \n",
       "427626  2023   10            222    TUPANCIRETÃ     88437   \n",
       "427627  2023   10            222    TUPANCIRETÃ     88437   \n",
       "\n",
       "                                               NOME_ORGAO  CD_RECEBIMENTO  \\\n",
       "427623  TUPANPREV - AUT. PREV. SERV. PÚBLICOS DO MUNIC...          314350   \n",
       "427624  TUPANPREV - AUT. PREV. SERV. PÚBLICOS DO MUNIC...          314350   \n",
       "427625  TUPANPREV - AUT. PREV. SERV. PÚBLICOS DO MUNIC...          314350   \n",
       "427626  TUPANPREV - AUT. PREV. SERV. PÚBLICOS DO MUNIC...          314350   \n",
       "427627  TUPANPREV - AUT. PREV. SERV. PÚBLICOS DO MUNIC...          314350   \n",
       "\n",
       "        CD_ORGAO_ORCAMENTARIO       NOME_ORGAO_ORCAMENTARIO  \\\n",
       "427623                     13                       FUNPREV   \n",
       "427624                     13                       FUNPREV   \n",
       "427625                     13                       FUNPREV   \n",
       "427626                     13                       FUNPREV   \n",
       "427627                     29  RESERVA CONTINGENCIA FUNPREV   \n",
       "\n",
       "        CD_UNIDADE_ORCAMENTARIA  ... VL_REDUCAO_RECURSO VL_TRANSFERENCIA  \\\n",
       "427623                        1  ...                0.0              0.0   \n",
       "427624                        1  ...                0.0              0.0   \n",
       "427625                        1  ...                0.0              0.0   \n",
       "427626                        1  ...                0.0              0.0   \n",
       "427627                       99  ...                0.0              0.0   \n",
       "\n",
       "        VL_TRANSPOSICAO VL_REMANEJAMENTO  VL_EMPENHADO VL_LIQUIDADO  \\\n",
       "427623              0.0              0.0          0.00         0.00   \n",
       "427624              0.0              0.0      46415.94     46415.94   \n",
       "427625              0.0              0.0     313795.47    282239.29   \n",
       "427626              0.0              0.0          0.00         0.00   \n",
       "427627              0.0              0.0          0.00         0.00   \n",
       "\n",
       "          VL_PAGO VL_LIMITADO  VL_RECOMPOSICAO VL_PREVISAO_EXECUCAO  \n",
       "427623       0.00         0.0              0.0                  0.0  \n",
       "427624   46415.94         0.0              0.0                  0.0  \n",
       "427625  282239.29         0.0              0.0                  0.0  \n",
       "427626       0.00         0.0              0.0                  0.0  \n",
       "427627       0.00         0.0              0.0                  0.0  \n",
       "\n",
       "[5 rows x 41 columns]"
      ]
     },
     "execution_count": 21,
     "metadata": {},
     "output_type": "execute_result"
    }
   ],
   "source": [
    "dados.tail(5)"
   ]
  },
  {
   "cell_type": "code",
   "execution_count": 12,
   "id": "a2501214-c910-4eba-9c9b-6a93cc3c00b2",
   "metadata": {},
   "outputs": [
    {
     "data": {
      "text/plain": [
       "pandas.core.series.Series"
      ]
     },
     "execution_count": 12,
     "metadata": {},
     "output_type": "execute_result"
    }
   ],
   "source": [
    "# Como selecionar uma categoria específica do DataFrame\n",
    "\n",
    "type(dados[\"VL_PAGO\"])"
   ]
  },
  {
   "cell_type": "code",
   "execution_count": 13,
   "id": "0452f932-441b-48c3-b3d6-6c33e30ad4a4",
   "metadata": {},
   "outputs": [
    {
     "data": {
      "text/plain": [
       "(427628,)"
      ]
     },
     "execution_count": 13,
     "metadata": {},
     "output_type": "execute_result"
    }
   ],
   "source": [
    "pagamentos.shape"
   ]
  },
  {
   "cell_type": "markdown",
   "id": "5d87857d-9754-4b15-8d95-04c4a7ae6c80",
   "metadata": {},
   "source": [
    "### Definindo a função de entrada"
   ]
  },
  {
   "cell_type": "code",
   "execution_count": null,
   "id": "4c5833d4-026a-46fb-8a5f-f597ec630c96",
   "metadata": {},
   "outputs": [],
   "source": [
    "# Determinando a função para consumir a API do TCE - RS\n",
    "\n",
    "def leitor_dados(arquivo: str) -> pd.DataFrame:\n",
    "    return pd.read_csv(arquivo)"
   ]
  },
  {
   "cell_type": "code",
   "execution_count": null,
   "id": "bcc7c9a3-ee69-4b17-807c-54875c247602",
   "metadata": {},
   "outputs": [],
   "source": [
    "# Teste\n",
    "\n",
    "url = \"https://dados.tce.rs.gov.br/dados/municipal/balancete-despesa/2023.csv\"\n",
    "\n",
    "dados = leitor_dados(url)"
   ]
  },
  {
   "cell_type": "code",
   "execution_count": null,
   "id": "3a9d6b85-5842-4e51-b33a-83045a7d8ded",
   "metadata": {},
   "outputs": [],
   "source": [
    "dados.head(4)"
   ]
  }
 ],
 "metadata": {
  "kernelspec": {
   "display_name": "Python 3 (ipykernel)",
   "language": "python",
   "name": "python3"
  },
  "language_info": {
   "codemirror_mode": {
    "name": "ipython",
    "version": 3
   },
   "file_extension": ".py",
   "mimetype": "text/x-python",
   "name": "python",
   "nbconvert_exporter": "python",
   "pygments_lexer": "ipython3",
   "version": "3.11.5"
  }
 },
 "nbformat": 4,
 "nbformat_minor": 5
}
