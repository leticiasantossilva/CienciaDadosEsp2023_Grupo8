{
 "cells": [
  {
   "cell_type": "markdown",
   "id": "c01fb147-b0ec-4d4a-9361-91d710f14685",
   "metadata": {},
   "source": [
    "# Módulo de processamento de dados (proc)\n",
    "\n",
    "O módulo prevê a funções de análise da API do TCE-RS."
   ]
  },
  {
   "cell_type": "code",
   "execution_count": 6,
   "id": "d76d6a5f-9d5b-4897-a4bc-4e42e6528b59",
   "metadata": {
    "tags": []
   },
   "outputs": [],
   "source": [
    "# Importando bibliotecas\n",
    "\n",
    "import requests\n",
    "import json\n",
    "\n",
    "import numpy as np\n",
    "import matplotlib as mpl\n",
    "import matplotlib.pyplot as plt\n",
    "import pandas as pd\n"
   ]
  },
  {
   "cell_type": "code",
   "execution_count": 16,
   "id": "da56364e-91d0-41a0-bdf2-aed8fe3325e2",
   "metadata": {},
   "outputs": [],
   "source": [
    "# Testes com dados da API TCE RS\n",
    "url = \"https://dados.tce.rs.gov.br/dados/municipal/balancete-despesa/2023.csv\"\n",
    "dados = pd.read_csv(url)\n",
    "\n"
   ]
  },
  {
   "cell_type": "markdown",
   "id": "58d91bc9-2a54-4152-951e-bab5b6eee3ec",
   "metadata": {},
   "source": [
    "## Requisito 1 (RU1) - Coleta de dados\n",
    "\n",
    "Função coleta_dados(api_tce: pd.DataFrame, variavel: string) -> DataFrame\n",
    "\n",
    "Função para coletar dados de variável do Balancete de Despesa Consolidado 2023 em formato CSV, usando a API de dados abertos do TCE - RS.\n"
   ]
  },
  {
   "cell_type": "code",
   "execution_count": 44,
   "id": "ec00f000-bf31-45ce-b940-1e5dc1078223",
   "metadata": {
    "tags": []
   },
   "outputs": [
    {
     "name": "stdout",
     "output_type": "stream",
     "text": [
      "VL_PAGO\n"
     ]
    }
   ],
   "source": [
    "coluna = ['', 'VL_DOTACAO_INICIAL', 'VL_CREDITOS_SUPLEMENTARES', 'VL_CREDITOS_ESPECIAIS', 'VL_CREDITOS_EXTRAORDINARIOS', 'VL_REDUCAO_DOTACAO', 'VL_TRANSFERENCIA', 'VL_TRANSPOSICAO', 'VL_REMANEJAMENTO', 'VL_EMPENHADO', 'VL_LIQUIDADO', 'VL_PAGO', 'VL_LIMITADO', 'VL_RECOMPOSICAO', 'VL_PREVISAO_EXECUCAO']\n",
    "\n",
    "print(coluna[11])"
   ]
  },
  {
   "cell_type": "code",
   "execution_count": 52,
   "id": "1e16d47f-1884-41b9-83ec-f2f38283b838",
   "metadata": {
    "tags": []
   },
   "outputs": [
    {
     "data": {
      "text/plain": [
       "str"
      ]
     },
     "execution_count": 52,
     "metadata": {},
     "output_type": "execute_result"
    }
   ],
   "source": [
    "variavel = '11'\n",
    "\n",
    "col_dado = int(variavel)\n",
    "type(coluna[col_dado])"
   ]
  },
  {
   "cell_type": "code",
   "execution_count": 58,
   "id": "22aed145-8362-404d-b2c5-dc44173812f9",
   "metadata": {
    "tags": []
   },
   "outputs": [
    {
     "data": {
      "text/plain": [
       "0          99401.81\n",
       "1              0.00\n",
       "2              0.00\n",
       "3           6206.47\n",
       "4           1239.00\n",
       "            ...    \n",
       "427623         0.00\n",
       "427624     46415.94\n",
       "427625    282239.29\n",
       "427626         0.00\n",
       "427627         0.00\n",
       "Name: VL_PAGO, Length: 427628, dtype: float64"
      ]
     },
     "execution_count": 58,
     "metadata": {},
     "output_type": "execute_result"
    }
   ],
   "source": [
    "dados[coluna[int(variavel)]]"
   ]
  },
  {
   "cell_type": "code",
   "execution_count": 63,
   "id": "7843d171-1ba4-4c62-b980-b8aec70e1eb4",
   "metadata": {
    "tags": []
   },
   "outputs": [],
   "source": [
    "# Definindo a função de processamento dos dados\n",
    "\n",
    "def coleta_dados(api_tce: pd.DataFrame, variavel: str) -> pd.DataFrame:\n",
    "    \"\"\" Esta função realiza a análise dos dados da variável escolhida no dataframe do Balancete \"\"\"\n",
    "    coluna = ['', 'VL_DOTACAO_INICIAL', 'VL_CREDITOS_SUPLEMENTARES', 'VL_CREDITOS_ESPECIAIS', 'VL_CREDITOS_EXTRAORDINARIOS', 'VL_REDUCAO_DOTACAO', 'VL_TRANSFERENCIA', 'VL_TRANSPOSICAO', 'VL_REMANEJAMENTO', 'VL_EMPENHADO', 'VL_LIQUIDADO', 'VL_PAGO', 'VL_LIMITADO', 'VL_RECOMPOSICAO', 'VL_PREVISAO_EXECUCAO']\n",
    "\n",
    "    resultado = api_tce[coluna[int(variavel)]]\n",
    "    \n",
    "    return resultado"
   ]
  },
  {
   "cell_type": "code",
   "execution_count": 64,
   "id": "7d831945-7c8f-44ee-bdce-4f8d36588225",
   "metadata": {
    "tags": []
   },
   "outputs": [
    {
     "data": {
      "text/plain": [
       "0    99401.81\n",
       "1        0.00\n",
       "2        0.00\n",
       "Name: VL_PAGO, dtype: float64"
      ]
     },
     "execution_count": 64,
     "metadata": {},
     "output_type": "execute_result"
    }
   ],
   "source": [
    "test = coleta_dados(dados, '11')\n",
    "\n",
    "test.head(3)"
   ]
  },
  {
   "cell_type": "code",
   "execution_count": 65,
   "id": "885bd84d-e49a-414f-b9ae-a9335f1d39a8",
   "metadata": {
    "tags": []
   },
   "outputs": [
    {
     "data": {
      "text/plain": [
       "<Axes: >"
      ]
     },
     "execution_count": 65,
     "metadata": {},
     "output_type": "execute_result"
    },
    {
     "data": {
      "image/png": "[encoded data removed]",
      "text/plain": [
       "<Figure size 640x480 with 1 Axes>"
      ]
     },
     "metadata": {},
     "output_type": "display_data"
    }
   ],
   "source": [
    "test.plot()"
   ]
  },
  {
   "cell_type": "markdown",
   "id": "530f9ca7-da25-4358-ba85-6fff2fbad618",
   "metadata": {},
   "source": [
    "## Requisito 3 (RU3) - Calcular média e desvio-padrão dos dados\n",
    "\n",
    "Função media_desv(dados_variavel: pandas.DataFrame) -> lista \n",
    "\n",
    "Esta função irá calcular a média e o desvio-padrão da variável financeira dos dados escolhida."
   ]
  },
  {
   "cell_type": "code",
   "execution_count": 11,
   "id": "51673359-cedf-4007-8c7f-8661ba1b27cd",
   "metadata": {
    "tags": []
   },
   "outputs": [
    {
     "name": "stdout",
     "output_type": "stream",
     "text": [
      "50.0\n"
     ]
    }
   ],
   "source": [
    "# Teste de média\n",
    "\n",
    "teste = np.array([0, 100])\n",
    "media = np.average(teste)\n",
    "\n",
    "print(media)"
   ]
  },
  {
   "cell_type": "code",
   "execution_count": 14,
   "id": "241c4a34-21fd-47c9-b512-e31a5b12b280",
   "metadata": {
    "tags": []
   },
   "outputs": [
    {
     "name": "stdout",
     "output_type": "stream",
     "text": [
      "247.5\n"
     ]
    }
   ],
   "source": [
    "# teste de desvio padrão\n",
    "\n",
    "teste1 = np.array([5, 500])\n",
    "desvio = np.std(teste1)\n",
    "\n",
    "print(desvio)"
   ]
  },
  {
   "cell_type": "code",
   "execution_count": 15,
   "id": "bfd5cf85-bac2-450e-b773-9462a96b0004",
   "metadata": {},
   "outputs": [],
   "source": [
    "# Definindo a função de calcular a média e o desvio-padrão\n",
    "\n",
    "def media_desv(dados) -> list:\n",
    "    \"\"\" Esta função calcula a média e o desvio-padrão da variável financeira dos dados escolhida \"\"\"\n",
    "    resultado_media = np.average(dados)\n",
    "    resultado_desv = np.std(dados)\n",
    "    return [resultado_media, resultado_desv]\n"
   ]
  }
 ],
 "metadata": {
  "kernelspec": {
   "display_name": "Python 3 (ipykernel)",
   "language": "python",
   "name": "python3"
  },
  "language_info": {
   "codemirror_mode": {
    "name": "ipython",
    "version": 3
   },
   "file_extension": ".py",
   "mimetype": "text/x-python",
   "name": "python",
   "nbconvert_exporter": "python",
   "pygments_lexer": "ipython3",
   "version": "3.11.5"
  }
 },
 "nbformat": 4,
 "nbformat_minor": 5
}
