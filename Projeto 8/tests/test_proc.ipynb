{
 "cells": [
  {
   "cell_type": "markdown",
   "id": "c01fb147-b0ec-4d4a-9361-91d710f14685",
   "metadata": {},
   "source": [
    "# Módulo de processamento de dados (proc)\n",
    "\n",
    "O módulo prevê a funções de análise da API do TCE-RS."
   ]
  },
  {
   "cell_type": "code",
   "execution_count": 1,
   "id": "d76d6a5f-9d5b-4897-a4bc-4e42e6528b59",
   "metadata": {
    "tags": []
   },
   "outputs": [],
   "source": [
    "# Importando bibliotecas\n",
    "\n",
    "import numpy as np\n",
    "import matplotlib as mpl\n",
    "import matplotlib.pyplot as plt\n",
    "import pandas as pd\n"
   ]
  },
  {
   "cell_type": "markdown",
   "id": "58d91bc9-2a54-4152-951e-bab5b6eee3ec",
   "metadata": {},
   "source": [
    "## Requisito 1 (RU1) - Coleta de dados\n",
    "\n",
    "Função coleta_dados(api_tce: string, variavel: string) -> DataFrame\n",
    "\n",
    "Função para coletar dados de variável do Balancete de Despesa Consolidado 2023 em formato CSV, usando a API de dados abertos do TCE - RS.\n"
   ]
  },
  {
   "cell_type": "code",
   "execution_count": null,
   "id": "d36fc9ca-a76e-4a82-be63-3fb064711775",
   "metadata": {},
   "outputs": [],
   "source": [
    "def coleta_dados(api_tce: string, variavel: string) -> pd.DataFrame"
   ]
  },
  {
   "cell_type": "code",
   "execution_count": null,
   "id": "da56364e-91d0-41a0-bdf2-aed8fe3325e2",
   "metadata": {},
   "outputs": [],
   "source": [
    "# API TCE RS\n",
    "url = \"https://dados.tce.rs.gov.br/dados/municipal/balancete-despesa/2023.csv\"\n",
    "dados = pd.read_csv(url)\n",
    "\n"
   ]
  },
  {
   "cell_type": "markdown",
   "id": "530f9ca7-da25-4358-ba85-6fff2fbad618",
   "metadata": {},
   "source": [
    "## Requisito 3 (RU3) - Calcular média e desvio-padrão dos dados\n",
    "\n",
    "Função media_desv(dados_variavel: pandas.DataFrame) -> lista \n",
    "\n",
    "Esta função irá calcular a média e o desvio-padrão da variável financeira dos dados escolhida."
   ]
  },
  {
   "cell_type": "code",
   "execution_count": null,
   "id": "bfd5cf85-bac2-450e-b773-9462a96b0004",
   "metadata": {},
   "outputs": [],
   "source": []
  }
 ],
 "metadata": {
  "kernelspec": {
   "display_name": "Python 3 (ipykernel)",
   "language": "python",
   "name": "python3"
  },
  "language_info": {
   "codemirror_mode": {
    "name": "ipython",
    "version": 3
   },
   "file_extension": ".py",
   "mimetype": "text/x-python",
   "name": "python",
   "nbconvert_exporter": "python",
   "pygments_lexer": "ipython3",
   "version": "3.11.5"
  }
 },
 "nbformat": 4,
 "nbformat_minor": 5
}
