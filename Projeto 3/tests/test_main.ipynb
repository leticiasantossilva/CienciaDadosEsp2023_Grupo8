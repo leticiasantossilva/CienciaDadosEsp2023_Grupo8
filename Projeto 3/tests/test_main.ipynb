{
 "cells": [
  {
   "cell_type": "markdown",
   "id": "f6269629-a0e6-4d93-9340-193fdda3d1e5",
   "metadata": {},
   "source": [
    "# Módulo Main\n",
    "\n",
    "Este módulo prevê a função principal que integra as fases de entrada, processamento e saída de dados."
   ]
  },
  {
   "cell_type": "code",
   "execution_count": 1,
   "id": "4a38ed16-242c-4694-8333-1c5982a1d766",
   "metadata": {
    "tags": []
   },
   "outputs": [],
   "source": [
    "# Importação das bibliotecas da geração de gráficos\n",
    "\n",
    "import numpy as np\n",
    "import matplotlib as mpl\n",
    "import matplotlib.pyplot as plt\n",
    "\n",
    "\n",
    "# Importação de módulos\n",
    "import test_es\n",
    "import test_proc\n"
   ]
  },
  {
   "cell_type": "markdown",
   "id": "c6b6abad-30ad-43fd-8c78-1e2b1b09301d",
   "metadata": {},
   "source": [
    "## Definindo função de operações"
   ]
  },
  {
   "cell_type": "code",
   "execution_count": 37,
   "id": "f5e78931-97a8-4f88-b2b8-9ce50b30d554",
   "metadata": {
    "tags": []
   },
   "outputs": [],
   "source": [
    "# Definindo a função ope() -> list\n",
    "\n",
    "def ope(operacao: str) -> list:\n",
    "    \"\"\"Esta função escolhe a operação de acordo com o usuário\"\"\"\n",
    "    if operacao == 'quad':\n",
    "        coef = test_es.leitora_coeficientes(operacao)\n",
    "        intervalo = test_es.leitora_int()\n",
    "        resultado = test_proc.quadratica(intervalo, coef)\n",
    "    elif operacao == 'afim':\n",
    "        coef = test_es.leitora_coeficientes(operacao)\n",
    "        intervalo = test_es.leitora_int()\n",
    "        resultado = test_proc.afim(intervalo, coef)\n",
    "    elif operacao == 'log':\n",
    "        intervalo = test_es.leitora_int()\n",
    "        resultado = test_proc.logar(intervalo)\n",
    "    else:\n",
    "        intervalo = test_es.leitora_int()\n",
    "        resultado = test_proc.exp(intervalo)\n",
    "    return resultado"
   ]
  },
  {
   "cell_type": "markdown",
   "id": "7d5c86f7-9fef-468b-be9d-807bb0827f08",
   "metadata": {},
   "source": [
    "### Teste de integação função quadrática"
   ]
  },
  {
   "cell_type": "code",
   "execution_count": 9,
   "id": "7df16239-8df5-457a-a20d-130820e34d35",
   "metadata": {
    "tags": []
   },
   "outputs": [
    {
     "name": "stdin",
     "output_type": "stream",
     "text": [
      "Qual o valor de x inicio da funcao?  1\n",
      "Qual o valor de x final da função?  20\n"
     ]
    }
   ],
   "source": [
    "# Atribuindo intervalo\n",
    "\n",
    "intervalo = test_es.leitora_int()"
   ]
  },
  {
   "cell_type": "code",
   "execution_count": 11,
   "id": "0a303bdb-c326-45c4-b63d-db9a5780babb",
   "metadata": {
    "tags": []
   },
   "outputs": [
    {
     "name": "stdout",
     "output_type": "stream",
     "text": [
      "[1.0, 20.0]\n"
     ]
    }
   ],
   "source": [
    "# Teste de armazenamento\n",
    "\n",
    "print(intervalo)"
   ]
  },
  {
   "cell_type": "code",
   "execution_count": 12,
   "id": "0a03b81f-9c53-4667-abbb-fa98ee35d8ec",
   "metadata": {
    "tags": []
   },
   "outputs": [
    {
     "name": "stdin",
     "output_type": "stream",
     "text": [
      "Qual o coeficiente a?  1\n",
      "Qual o coeficiente b?  1\n",
      "Qual o coeficiente c?  1\n"
     ]
    }
   ],
   "source": [
    "# Atribuindo coeficientes\n",
    "\n",
    "coef = test_es.leitora_coeficientes('quad')\n"
   ]
  },
  {
   "cell_type": "code",
   "execution_count": 13,
   "id": "98693ccb-2b25-47cf-93ab-d4f744f892a1",
   "metadata": {
    "tags": []
   },
   "outputs": [
    {
     "name": "stdout",
     "output_type": "stream",
     "text": [
      "['1', '1', '1']\n"
     ]
    }
   ],
   "source": [
    "# Teste de armazenamento\n",
    "\n",
    "print(coef)"
   ]
  },
  {
   "cell_type": "code",
   "execution_count": 23,
   "id": "ac7cba2f-cdd9-474e-b042-748ec8d965b2",
   "metadata": {
    "tags": []
   },
   "outputs": [
    {
     "name": "stdout",
     "output_type": "stream",
     "text": [
      "<class 'list'>\n"
     ]
    }
   ],
   "source": [
    "# Teste com a função quadrática\n",
    "\n",
    "resultado = test_proc.quadratica(intervalo, coef)\n",
    "\n",
    "print(type(resultado))"
   ]
  },
  {
   "cell_type": "markdown",
   "id": "b2ed6961-c9d4-4fae-bc04-5c94cad384ed",
   "metadata": {},
   "source": [
    "### Teste de integação função afim"
   ]
  },
  {
   "cell_type": "code",
   "execution_count": 24,
   "id": "aa5f17a4-051b-4241-9b10-2ec8b78d0345",
   "metadata": {
    "tags": []
   },
   "outputs": [
    {
     "name": "stdin",
     "output_type": "stream",
     "text": [
      "Qual o valor de x inicio da funcao?  -10\n",
      "Qual o valor de x final da função?  10\n"
     ]
    },
    {
     "name": "stdout",
     "output_type": "stream",
     "text": [
      "[-10.0, 10.0]\n"
     ]
    }
   ],
   "source": [
    "# Atribuindo intervalo\n",
    "\n",
    "intervalo = test_es.leitora_int()\n",
    "\n",
    "# Teste de armazenamento\n",
    "\n",
    "print(intervalo)"
   ]
  },
  {
   "cell_type": "code",
   "execution_count": 25,
   "id": "c30f11c8-47b4-4a24-940f-04424ef9b323",
   "metadata": {
    "tags": []
   },
   "outputs": [
    {
     "name": "stdin",
     "output_type": "stream",
     "text": [
      "Qual o coeficiente a?  1\n",
      "Qual o coeficiente b?  1\n"
     ]
    },
    {
     "name": "stdout",
     "output_type": "stream",
     "text": [
      "['1', '1']\n"
     ]
    }
   ],
   "source": [
    "# Atribuindo coeficientes\n",
    "\n",
    "coef = test_es.leitora_coeficientes('afim')\n",
    "\n",
    "# Teste de armazenamento\n",
    "\n",
    "print(coef)"
   ]
  },
  {
   "cell_type": "code",
   "execution_count": 26,
   "id": "a431eb47-5d83-4165-bc31-3748c7f3412c",
   "metadata": {
    "tags": []
   },
   "outputs": [
    {
     "name": "stdout",
     "output_type": "stream",
     "text": [
      "<class 'list'>\n"
     ]
    }
   ],
   "source": [
    "# Teste com a função quadrática\n",
    "\n",
    "resultado = test_proc.afim(intervalo, coef)\n",
    "\n",
    "print(type(resultado))"
   ]
  },
  {
   "cell_type": "markdown",
   "id": "91d8c3af-63e4-4227-842c-6bf298dbe34a",
   "metadata": {},
   "source": [
    "### Teste de integação função logarítmica"
   ]
  },
  {
   "cell_type": "code",
   "execution_count": 31,
   "id": "78cab37b-24ed-49f4-94aa-356450c04aa4",
   "metadata": {
    "tags": []
   },
   "outputs": [
    {
     "name": "stdin",
     "output_type": "stream",
     "text": [
      "Qual o valor de x inicio da funcao?  1\n",
      "Qual o valor de x final da função?  10\n"
     ]
    },
    {
     "name": "stdout",
     "output_type": "stream",
     "text": [
      "[1.0, 10.0]\n"
     ]
    }
   ],
   "source": [
    "# Atribuindo intervalo\n",
    "\n",
    "intervalo = test_es.leitora_int()\n",
    "\n",
    "# Teste de armazenamento\n",
    "\n",
    "print(intervalo)"
   ]
  },
  {
   "cell_type": "code",
   "execution_count": 32,
   "id": "cbd45390-34ce-4485-8c7a-11cc5be379ca",
   "metadata": {
    "tags": []
   },
   "outputs": [
    {
     "name": "stdout",
     "output_type": "stream",
     "text": [
      "<class 'list'>\n"
     ]
    }
   ],
   "source": [
    "# Teste com a função logar\n",
    "\n",
    "resultado = test_proc.logar(intervalo)\n",
    "\n",
    "print(type(resultado))"
   ]
  },
  {
   "cell_type": "markdown",
   "id": "de5913e1-3da8-40f2-b573-57e4038b42a1",
   "metadata": {},
   "source": [
    "### Teste de integação função exp"
   ]
  },
  {
   "cell_type": "code",
   "execution_count": 33,
   "id": "194ffb2d-954d-411b-a6e0-2983a79d1a65",
   "metadata": {
    "tags": []
   },
   "outputs": [
    {
     "name": "stdin",
     "output_type": "stream",
     "text": [
      "Qual o valor de x inicio da funcao?  10\n",
      "Qual o valor de x final da função?  20\n"
     ]
    },
    {
     "name": "stdout",
     "output_type": "stream",
     "text": [
      "[10.0, 20.0]\n"
     ]
    }
   ],
   "source": [
    "# Atribuindo intervalo\n",
    "\n",
    "intervalo = test_es.leitora_int()\n",
    "\n",
    "# Teste de armazenamento\n",
    "\n",
    "print(intervalo)"
   ]
  },
  {
   "cell_type": "code",
   "execution_count": 35,
   "id": "a232db52-ae1c-44bc-a460-70c9f7252a92",
   "metadata": {
    "tags": []
   },
   "outputs": [
    {
     "name": "stdout",
     "output_type": "stream",
     "text": [
      "<class 'list'>\n"
     ]
    }
   ],
   "source": [
    "# Teste com a função exp\n",
    "\n",
    "resultado = test_proc.exp(intervalo)\n",
    "\n",
    "print(type(resultado))"
   ]
  },
  {
   "cell_type": "markdown",
   "id": "0d3c7ea2-c6ea-4657-9114-1266a7f6418c",
   "metadata": {},
   "source": [
    "## Definindo a função Main"
   ]
  },
  {
   "cell_type": "code",
   "execution_count": 19,
   "id": "d30ed642-df80-4745-97cb-a2c92cf48b88",
   "metadata": {
    "tags": []
   },
   "outputs": [],
   "source": [
    "def main():\n",
    "    \"\"\"Esta é a função principal que integra as fases de entrada, processamento e saída de dados\"\"\"\n",
    "    # Leitura de dados\n",
    "    operacao = test_es.leitora_operacao()\n",
    "    # Processamento de dados\n",
    "    dados = ope(operacao)\n",
    "    # Saída de dados\n",
    "    test_es.impressora(dados[0], dados[1])"
   ]
  },
  {
   "cell_type": "code",
   "execution_count": 36,
   "id": "248b928c-4ed4-457f-81de-fe07d6e46ca7",
   "metadata": {
    "tags": []
   },
   "outputs": [
    {
     "name": "stdin",
     "output_type": "stream",
     "text": [
      "Digite o tipo de função que deseja plotar. \n",
      "Digite quad para quadratica (a*x2 + b*x + c); \n",
      "afim para afim (a*x + b); \n",
      "log para logarítmica (log(x)); \n",
      "exp para exponencial (exp(x)): \n",
      " quad\n",
      "Qual o coeficiente a?  1\n",
      "Qual o coeficiente b?  1\n",
      "Qual o coeficiente c?  1\n",
      "Qual o valor de x inicio da funcao?  -10\n",
      "Qual o valor de x final da função?  10\n"
     ]
    },
    {
     "data": {
      "image/png": "[encoded data removed]",
      "text/plain": [
       "<Figure size 640x480 with 1 Axes>"
      ]
     },
     "metadata": {},
     "output_type": "display_data"
    }
   ],
   "source": [
    "# teste da função principal\n",
    "\n",
    "main()"
   ]
  }
 ],
 "metadata": {
  "kernelspec": {
   "display_name": "Python 3 (ipykernel)",
   "language": "python",
   "name": "python3"
  },
  "language_info": {
   "codemirror_mode": {
    "name": "ipython",
    "version": 3
   },
   "file_extension": ".py",
   "mimetype": "text/x-python",
   "name": "python",
   "nbconvert_exporter": "python",
   "pygments_lexer": "ipython3",
   "version": "3.11.5"
  }
 },
 "nbformat": 4,
 "nbformat_minor": 5
}
