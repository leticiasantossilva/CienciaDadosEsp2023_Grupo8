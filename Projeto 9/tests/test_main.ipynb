{
 "cells": [
  {
   "cell_type": "markdown",
   "id": "a003059e-8bc7-400c-800e-2d16aa6bf9f2",
   "metadata": {},
   "source": [
    "# Módulo Principal\n",
    "\n",
    "Este módulo prevê a função principal que integra as fases de entrada, processamento e saída de dados do aplicativo que colete automaticamente dados da web e estime o modelo CAPM para ações na B3."
   ]
  },
  {
   "cell_type": "code",
   "execution_count": 7,
   "id": "58f2d37f-02c9-4c96-823a-c2496334b2de",
   "metadata": {
    "tags": []
   },
   "outputs": [],
   "source": [
    "# Importação de bibliotecas\n",
    "\n",
    "import numpy as np\n",
    "import yfinance as yf\n",
    "import pandas as pd\n",
    "from datetime import datetime, timedelta\n",
    "import requests\n",
    "import os\n",
    "import statsmodels.api as sm\n",
    "import statsmodels.formula.api as smf"
   ]
  },
  {
   "cell_type": "code",
   "execution_count": 43,
   "id": "558471a0-08e9-4bbe-b0f2-264646bacb08",
   "metadata": {
    "tags": []
   },
   "outputs": [],
   "source": [
    "# importação de módulos\n",
    "import test_es\n",
    "import test_proc"
   ]
  },
  {
   "cell_type": "code",
   "execution_count": 9,
   "id": "b7fcbf8d-e4ca-40e2-bb9d-f8e2d0a3a235",
   "metadata": {
    "tags": []
   },
   "outputs": [
    {
     "name": "stdin",
     "output_type": "stream",
     "text": [
      "Digite o ticker da ação listada na B3 que deseja avaliar 1 de 10: (ex.: VALE3.SA)  VALE3.SA\n",
      "Digite o ticker da ação listada na B3 que deseja avaliar 2 de 10: (ex.: VALE3.SA)  PETR3.SA\n",
      "Digite o ticker da ação listada na B3 que deseja avaliar 3 de 10: (ex.: VALE3.SA)  VALE3.SA\n",
      "Digite o ticker da ação listada na B3 que deseja avaliar 4 de 10: (ex.: VALE3.SA)  PETR4.SA\n",
      "Digite o ticker da ação listada na B3 que deseja avaliar 5 de 10: (ex.: VALE3.SA)  VALE3.SA\n",
      "Digite o ticker da ação listada na B3 que deseja avaliar 6 de 10: (ex.: VALE3.SA)  PETR3.SA\n",
      "Digite o ticker da ação listada na B3 que deseja avaliar 7 de 10: (ex.: VALE3.SA)  VALE3.SA\n",
      "Digite o ticker da ação listada na B3 que deseja avaliar 8 de 10: (ex.: VALE3.SA)  PETR4.SA\n",
      "Digite o ticker da ação listada na B3 que deseja avaliar 9 de 10: (ex.: VALE3.SA)  VALE3.SA\n",
      "Digite o ticker da ação listada na B3 que deseja avaliar 10 de 10: (ex.: VALE3.SA)  PETR4.SA\n"
     ]
    }
   ],
   "source": [
    "# Entrada de dados dos tickers de ações\n",
    "acoes = test_es.leitor_acoes()\n"
   ]
  },
  {
   "cell_type": "code",
   "execution_count": 45,
   "id": "5c0be70b-c181-4dab-a859-ebfb4a1ad5a1",
   "metadata": {
    "tags": []
   },
   "outputs": [
    {
     "name": "stdout",
     "output_type": "stream",
     "text": [
      "[ 0.02457728  0.00747122 -0.00507394  0.02196954  0.0380033   0.00147955\n",
      " -0.01181697  0.05007484  0.03096093 -0.05626515  0.00731522  0.04502559\n",
      " -0.07053548  0.03177581 -0.00763715 -0.05443927  0.01969188  0.0079875\n",
      " -0.0241507   0.03828308  0.02495333  0.00545077 -0.01770885  0.03274455\n",
      " -0.01389367 -0.01192219 -0.046435   -0.01840505 -0.01891257  0.0212681\n",
      " -0.03379183  0.06791383  0.02322941  0.01302555  0.0044085  -0.02267742\n",
      " -0.00748503  0.05316747  0.03651989  0.03903293 -0.01230071  0.01308001\n",
      " -0.01906348  0.01125115  0.02494946  0.0046053   0.01251179 -0.03114753\n",
      " -0.00879866 -0.01502214 -0.01594464  0.0612892   0.01393949 -0.14206209\n",
      "  0.02594419 -0.41056151 -0.28769722  0.26837914 -0.00139659  0.21118894\n",
      " -0.0542726   0.0225886   0.0866261  -0.05054974  0.01793996  0.09721424\n",
      "  0.03264269  0.07727037 -0.00326018  0.00186874 -0.02052218  0.03380929\n",
      "  0.04329808  0.03046362 -0.01242498  0.00522628  0.00043143  0.01294241\n",
      " -0.02512803 -0.0292703   0.02610259 -0.00307017 -0.04399473 -0.06902904\n",
      " -0.03064744  0.00917915  0.00909526  0.00951443 -0.07390889  0.05624002\n",
      "  0.16024357  0.02928309  0.11464965 -0.01295231  0.03975301  0.04639937\n",
      " -0.00851362  0.01395349  0.06210299 -0.03156152 -0.03224701 -0.02871311\n",
      "  0.05620429 -0.0393918   0.06438851 -0.17539704 -0.13155742  0.05427088\n",
      "  0.07788712 -0.0523255   0.05609108 -0.00414945  0.01458342  0.01625149\n",
      " -0.00459507  0.03986561  0.05528666 -0.00229446  0.06822536  0.028346\n",
      "  0.01674793  0.00549072  0.00443684 -0.04689093 -0.01354693 -0.02565972\n",
      "  0.02781894 -0.05160604  0.09094388 -0.0099193   0.03508767 -0.02488278\n",
      " -0.07655336  0.0544653  -0.01823019  0.05957453  0.04563715  0.03456703\n",
      " -0.03813709  0.00666669 -0.06413382 -0.01564263  0.00567546  0.067344\n",
      "  0.04335553  0.11387265 -0.00170345 -0.038908    0.01349432 -0.0164681\n",
      "  0.05878151  0.05955601  0.07557953 -0.03985831 -0.01752762  0.03067286\n",
      "  0.03917405  0.01315017 -0.06085957 -0.05313259  0.03957179  0.02932914\n",
      " -0.01909663  0.06829419  0.00633697 -0.054717    0.06686637  0.04677268\n",
      "  0.00089365  0.06296993 -0.0633383   0.01632213 -0.04686981 -0.07187074\n",
      "  0.04038536 -0.01460121  0.02096132  0.03256649  0.07473437  0.0797448\n",
      "  0.0963072   0.08411167  0.02686216 -0.01218803 -0.06349669  0.00160662\n",
      " -0.06095601  0.11206004  0.08817207 -0.07651044 -0.17762141  0.00929363\n",
      " -0.0132533   0.13737193 -0.04913727 -0.15305724  0.09781097  0.05218492\n",
      " -0.07056448  0.0533623   0.03253703  0.07459122 -0.04565705  0.01322428\n",
      "  0.02648757 -0.0366492  -0.01785711  0.00474309 -0.08182531 -0.00042849\n",
      "  0.02443209  0.01882857  0.06160163  0.02553173  0.00905312 -0.0482198\n",
      "  0.08252434  0.04606598  0.0385815  -0.01988741  0.10528337  0.11087905\n",
      "  0.05813958 -0.03014135 -0.02525083 -0.03121887 -0.00239969  0.06529203\n",
      " -0.01516126 -0.00229286  0.03545641  0.06115867  0.01178655  0.02759049\n",
      " -0.01461822  0.0381472   0.00670747 -0.05504056  0.07664002  0.09681103\n",
      " -0.06360333 -0.02633776 -0.02705009  0.06850848  0.00199089 -0.04910586\n",
      "  0.03194029  0.05235758  0.02693786  0.04282651 -0.03105747  0.00344374\n",
      "  0.        ]\n"
     ]
    }
   ],
   "source": [
    "for item in acoes:\n",
    "    acao = test_es.leitor_precos(item)\n",
    "\n",
    "print(acao)"
   ]
  },
  {
   "cell_type": "code",
   "execution_count": 58,
   "id": "79e9a2f8-371d-498a-8c31-fd0f29e93e5a",
   "metadata": {
    "tags": []
   },
   "outputs": [
    {
     "name": "stdout",
     "output_type": "stream",
     "text": [
      "(253,)\n",
      "(253, 1)\n",
      "(253,)\n"
     ]
    }
   ],
   "source": [
    "# Cálculo do prêmio de risco de mercado\n",
    "\n",
    "Ri = acao\n",
    "Rf = test_es.leitor_taxa()\n",
    "Rm = test_es.leitor_indice()\n",
    "\n",
    "# Ajustando número de amostra:\n",
    "Rf = np.array(Rf[-len(Ri):])\n",
    "Rm = np.array(Rm[-len(Ri):])\n",
    "\n",
    "print(Ri.shape)\n",
    "print(Rf.shape)\n",
    "print(Rm.shape)"
   ]
  },
  {
   "cell_type": "code",
   "execution_count": 52,
   "id": "b2fe3f68-78a3-4cf9-a77b-f63a95ea07e9",
   "metadata": {
    "tags": []
   },
   "outputs": [
    {
     "name": "stdout",
     "output_type": "stream",
     "text": [
      "(253,)\n",
      "(260, 1)\n",
      "(254,)\n",
      "(253, 253)\n"
     ]
    }
   ],
   "source": [
    "y = acao\n",
    "x = taxa\n",
    "\n",
    "\n",
    "print(acao.shape)\n",
    "print(taxa.shape)\n",
    "print(ibov_ret.shape)\n",
    "print(premio_risco.shape)\n",
    "\n",
    "#df = pd.DataFrame({'Ativo': y, 'Premio': x})\n",
    "#model = smf.OLS('Ativo ~ Premio', data=df).fit()\n",
    "#print(f'Ativo: {item}')\n",
    "#print(model.summary(), '\\n')"
   ]
  },
  {
   "cell_type": "code",
   "execution_count": 41,
   "id": "1fcae19a-d729-4feb-a4f3-9488db3fd7a6",
   "metadata": {
    "tags": []
   },
   "outputs": [
    {
     "ename": "ValueError",
     "evalue": "Per-column arrays must each be 1-dimensional",
     "output_type": "error",
     "traceback": [
      "\u001b[1;31m---------------------------------------------------------------------------\u001b[0m",
      "\u001b[1;31mValueError\u001b[0m                                Traceback (most recent call last)",
      "Cell \u001b[1;32mIn[41], line 1\u001b[0m\n\u001b[1;32m----> 1\u001b[0m data \u001b[38;5;241m=\u001b[39m pd\u001b[38;5;241m.\u001b[39mDataFrame({\u001b[38;5;124m'\u001b[39m\u001b[38;5;124mRi\u001b[39m\u001b[38;5;124m'\u001b[39m: acao, \u001b[38;5;124m'\u001b[39m\u001b[38;5;124mpremio_risco\u001b[39m\u001b[38;5;124m'\u001b[39m: premio_risco, \u001b[38;5;124m'\u001b[39m\u001b[38;5;124mRf\u001b[39m\u001b[38;5;124m'\u001b[39m: taxa})\n",
      "File \u001b[1;32m~\\anaconda3\\Lib\\site-packages\\pandas\\core\\frame.py:709\u001b[0m, in \u001b[0;36mDataFrame.__init__\u001b[1;34m(self, data, index, columns, dtype, copy)\u001b[0m\n\u001b[0;32m    703\u001b[0m     mgr \u001b[38;5;241m=\u001b[39m \u001b[38;5;28mself\u001b[39m\u001b[38;5;241m.\u001b[39m_init_mgr(\n\u001b[0;32m    704\u001b[0m         data, axes\u001b[38;5;241m=\u001b[39m{\u001b[38;5;124m\"\u001b[39m\u001b[38;5;124mindex\u001b[39m\u001b[38;5;124m\"\u001b[39m: index, \u001b[38;5;124m\"\u001b[39m\u001b[38;5;124mcolumns\u001b[39m\u001b[38;5;124m\"\u001b[39m: columns}, dtype\u001b[38;5;241m=\u001b[39mdtype, copy\u001b[38;5;241m=\u001b[39mcopy\n\u001b[0;32m    705\u001b[0m     )\n\u001b[0;32m    707\u001b[0m \u001b[38;5;28;01melif\u001b[39;00m \u001b[38;5;28misinstance\u001b[39m(data, \u001b[38;5;28mdict\u001b[39m):\n\u001b[0;32m    708\u001b[0m     \u001b[38;5;66;03m# GH#38939 de facto copy defaults to False only in non-dict cases\u001b[39;00m\n\u001b[1;32m--> 709\u001b[0m     mgr \u001b[38;5;241m=\u001b[39m dict_to_mgr(data, index, columns, dtype\u001b[38;5;241m=\u001b[39mdtype, copy\u001b[38;5;241m=\u001b[39mcopy, typ\u001b[38;5;241m=\u001b[39mmanager)\n\u001b[0;32m    710\u001b[0m \u001b[38;5;28;01melif\u001b[39;00m \u001b[38;5;28misinstance\u001b[39m(data, ma\u001b[38;5;241m.\u001b[39mMaskedArray):\n\u001b[0;32m    711\u001b[0m     \u001b[38;5;28;01mfrom\u001b[39;00m \u001b[38;5;21;01mnumpy\u001b[39;00m\u001b[38;5;21;01m.\u001b[39;00m\u001b[38;5;21;01mma\u001b[39;00m \u001b[38;5;28;01mimport\u001b[39;00m mrecords\n",
      "File \u001b[1;32m~\\anaconda3\\Lib\\site-packages\\pandas\\core\\internals\\construction.py:481\u001b[0m, in \u001b[0;36mdict_to_mgr\u001b[1;34m(data, index, columns, dtype, typ, copy)\u001b[0m\n\u001b[0;32m    477\u001b[0m     \u001b[38;5;28;01melse\u001b[39;00m:\n\u001b[0;32m    478\u001b[0m         \u001b[38;5;66;03m# dtype check to exclude e.g. range objects, scalars\u001b[39;00m\n\u001b[0;32m    479\u001b[0m         arrays \u001b[38;5;241m=\u001b[39m [x\u001b[38;5;241m.\u001b[39mcopy() \u001b[38;5;28;01mif\u001b[39;00m \u001b[38;5;28mhasattr\u001b[39m(x, \u001b[38;5;124m\"\u001b[39m\u001b[38;5;124mdtype\u001b[39m\u001b[38;5;124m\"\u001b[39m) \u001b[38;5;28;01melse\u001b[39;00m x \u001b[38;5;28;01mfor\u001b[39;00m x \u001b[38;5;129;01min\u001b[39;00m arrays]\n\u001b[1;32m--> 481\u001b[0m \u001b[38;5;28;01mreturn\u001b[39;00m arrays_to_mgr(arrays, columns, index, dtype\u001b[38;5;241m=\u001b[39mdtype, typ\u001b[38;5;241m=\u001b[39mtyp, consolidate\u001b[38;5;241m=\u001b[39mcopy)\n",
      "File \u001b[1;32m~\\anaconda3\\Lib\\site-packages\\pandas\\core\\internals\\construction.py:115\u001b[0m, in \u001b[0;36marrays_to_mgr\u001b[1;34m(arrays, columns, index, dtype, verify_integrity, typ, consolidate)\u001b[0m\n\u001b[0;32m    112\u001b[0m \u001b[38;5;28;01mif\u001b[39;00m verify_integrity:\n\u001b[0;32m    113\u001b[0m     \u001b[38;5;66;03m# figure out the index, if necessary\u001b[39;00m\n\u001b[0;32m    114\u001b[0m     \u001b[38;5;28;01mif\u001b[39;00m index \u001b[38;5;129;01mis\u001b[39;00m \u001b[38;5;28;01mNone\u001b[39;00m:\n\u001b[1;32m--> 115\u001b[0m         index \u001b[38;5;241m=\u001b[39m _extract_index(arrays)\n\u001b[0;32m    116\u001b[0m     \u001b[38;5;28;01melse\u001b[39;00m:\n\u001b[0;32m    117\u001b[0m         index \u001b[38;5;241m=\u001b[39m ensure_index(index)\n",
      "File \u001b[1;32m~\\anaconda3\\Lib\\site-packages\\pandas\\core\\internals\\construction.py:642\u001b[0m, in \u001b[0;36m_extract_index\u001b[1;34m(data)\u001b[0m\n\u001b[0;32m    640\u001b[0m         raw_lengths\u001b[38;5;241m.\u001b[39mappend(\u001b[38;5;28mlen\u001b[39m(val))\n\u001b[0;32m    641\u001b[0m     \u001b[38;5;28;01melif\u001b[39;00m \u001b[38;5;28misinstance\u001b[39m(val, np\u001b[38;5;241m.\u001b[39mndarray) \u001b[38;5;129;01mand\u001b[39;00m val\u001b[38;5;241m.\u001b[39mndim \u001b[38;5;241m>\u001b[39m \u001b[38;5;241m1\u001b[39m:\n\u001b[1;32m--> 642\u001b[0m         \u001b[38;5;28;01mraise\u001b[39;00m \u001b[38;5;167;01mValueError\u001b[39;00m(\u001b[38;5;124m\"\u001b[39m\u001b[38;5;124mPer-column arrays must each be 1-dimensional\u001b[39m\u001b[38;5;124m\"\u001b[39m)\n\u001b[0;32m    644\u001b[0m \u001b[38;5;28;01mif\u001b[39;00m \u001b[38;5;129;01mnot\u001b[39;00m indexes \u001b[38;5;129;01mand\u001b[39;00m \u001b[38;5;129;01mnot\u001b[39;00m raw_lengths:\n\u001b[0;32m    645\u001b[0m     \u001b[38;5;28;01mraise\u001b[39;00m \u001b[38;5;167;01mValueError\u001b[39;00m(\u001b[38;5;124m\"\u001b[39m\u001b[38;5;124mIf using all scalar values, you must pass an index\u001b[39m\u001b[38;5;124m\"\u001b[39m)\n",
      "\u001b[1;31mValueError\u001b[0m: Per-column arrays must each be 1-dimensional"
     ]
    }
   ],
   "source": [
    "data = pd.DataFrame({'Ri': acao, 'premio_risco': premio_risco, 'Rf': taxa})\n"
   ]
  },
  {
   "cell_type": "code",
   "execution_count": 14,
   "id": "a878c18e-004a-4998-b5e5-53b75da52a6b",
   "metadata": {
    "tags": []
   },
   "outputs": [
    {
     "ename": "ValueError",
     "evalue": "operands could not be broadcast together with shapes (253,1) (260,1) ",
     "output_type": "error",
     "traceback": [
      "\u001b[1;31m---------------------------------------------------------------------------\u001b[0m",
      "\u001b[1;31mValueError\u001b[0m                                Traceback (most recent call last)",
      "Cell \u001b[1;32mIn[14], line 1\u001b[0m\n\u001b[1;32m----> 1\u001b[0m results \u001b[38;5;241m=\u001b[39m sm\u001b[38;5;241m.\u001b[39mOLS(acao, premio_risco, missing \u001b[38;5;241m=\u001b[39m \u001b[38;5;124m'\u001b[39m\u001b[38;5;124mdrop\u001b[39m\u001b[38;5;124m'\u001b[39m)\u001b[38;5;241m.\u001b[39mfit()\n\u001b[0;32m      2\u001b[0m \u001b[38;5;28mprint\u001b[39m(results\u001b[38;5;241m.\u001b[39msummary())\n",
      "File \u001b[1;32m~\\anaconda3\\Lib\\site-packages\\statsmodels\\regression\\linear_model.py:922\u001b[0m, in \u001b[0;36mOLS.__init__\u001b[1;34m(self, endog, exog, missing, hasconst, **kwargs)\u001b[0m\n\u001b[0;32m    919\u001b[0m     msg \u001b[38;5;241m=\u001b[39m (\u001b[38;5;124m\"\u001b[39m\u001b[38;5;124mWeights are not supported in OLS and will be ignored\u001b[39m\u001b[38;5;124m\"\u001b[39m\n\u001b[0;32m    920\u001b[0m            \u001b[38;5;124m\"\u001b[39m\u001b[38;5;124mAn exception will be raised in the next version.\u001b[39m\u001b[38;5;124m\"\u001b[39m)\n\u001b[0;32m    921\u001b[0m     warnings\u001b[38;5;241m.\u001b[39mwarn(msg, ValueWarning)\n\u001b[1;32m--> 922\u001b[0m \u001b[38;5;28msuper\u001b[39m(OLS, \u001b[38;5;28mself\u001b[39m)\u001b[38;5;241m.\u001b[39m\u001b[38;5;21m__init__\u001b[39m(endog, exog, missing\u001b[38;5;241m=\u001b[39mmissing,\n\u001b[0;32m    923\u001b[0m                           hasconst\u001b[38;5;241m=\u001b[39mhasconst, \u001b[38;5;241m*\u001b[39m\u001b[38;5;241m*\u001b[39mkwargs)\n\u001b[0;32m    924\u001b[0m \u001b[38;5;28;01mif\u001b[39;00m \u001b[38;5;124m\"\u001b[39m\u001b[38;5;124mweights\u001b[39m\u001b[38;5;124m\"\u001b[39m \u001b[38;5;129;01min\u001b[39;00m \u001b[38;5;28mself\u001b[39m\u001b[38;5;241m.\u001b[39m_init_keys:\n\u001b[0;32m    925\u001b[0m     \u001b[38;5;28mself\u001b[39m\u001b[38;5;241m.\u001b[39m_init_keys\u001b[38;5;241m.\u001b[39mremove(\u001b[38;5;124m\"\u001b[39m\u001b[38;5;124mweights\u001b[39m\u001b[38;5;124m\"\u001b[39m)\n",
      "File \u001b[1;32m~\\anaconda3\\Lib\\site-packages\\statsmodels\\regression\\linear_model.py:748\u001b[0m, in \u001b[0;36mWLS.__init__\u001b[1;34m(self, endog, exog, weights, missing, hasconst, **kwargs)\u001b[0m\n\u001b[0;32m    746\u001b[0m \u001b[38;5;28;01melse\u001b[39;00m:\n\u001b[0;32m    747\u001b[0m     weights \u001b[38;5;241m=\u001b[39m weights\u001b[38;5;241m.\u001b[39msqueeze()\n\u001b[1;32m--> 748\u001b[0m \u001b[38;5;28msuper\u001b[39m(WLS, \u001b[38;5;28mself\u001b[39m)\u001b[38;5;241m.\u001b[39m\u001b[38;5;21m__init__\u001b[39m(endog, exog, missing\u001b[38;5;241m=\u001b[39mmissing,\n\u001b[0;32m    749\u001b[0m                           weights\u001b[38;5;241m=\u001b[39mweights, hasconst\u001b[38;5;241m=\u001b[39mhasconst, \u001b[38;5;241m*\u001b[39m\u001b[38;5;241m*\u001b[39mkwargs)\n\u001b[0;32m    750\u001b[0m nobs \u001b[38;5;241m=\u001b[39m \u001b[38;5;28mself\u001b[39m\u001b[38;5;241m.\u001b[39mexog\u001b[38;5;241m.\u001b[39mshape[\u001b[38;5;241m0\u001b[39m]\n\u001b[0;32m    751\u001b[0m weights \u001b[38;5;241m=\u001b[39m \u001b[38;5;28mself\u001b[39m\u001b[38;5;241m.\u001b[39mweights\n",
      "File \u001b[1;32m~\\anaconda3\\Lib\\site-packages\\statsmodels\\regression\\linear_model.py:202\u001b[0m, in \u001b[0;36mRegressionModel.__init__\u001b[1;34m(self, endog, exog, **kwargs)\u001b[0m\n\u001b[0;32m    201\u001b[0m \u001b[38;5;28;01mdef\u001b[39;00m \u001b[38;5;21m__init__\u001b[39m(\u001b[38;5;28mself\u001b[39m, endog, exog, \u001b[38;5;241m*\u001b[39m\u001b[38;5;241m*\u001b[39mkwargs):\n\u001b[1;32m--> 202\u001b[0m     \u001b[38;5;28msuper\u001b[39m(RegressionModel, \u001b[38;5;28mself\u001b[39m)\u001b[38;5;241m.\u001b[39m\u001b[38;5;21m__init__\u001b[39m(endog, exog, \u001b[38;5;241m*\u001b[39m\u001b[38;5;241m*\u001b[39mkwargs)\n\u001b[0;32m    203\u001b[0m     \u001b[38;5;28mself\u001b[39m\u001b[38;5;241m.\u001b[39mpinv_wexog: Float64Array \u001b[38;5;241m|\u001b[39m \u001b[38;5;28;01mNone\u001b[39;00m \u001b[38;5;241m=\u001b[39m \u001b[38;5;28;01mNone\u001b[39;00m\n\u001b[0;32m    204\u001b[0m     \u001b[38;5;28mself\u001b[39m\u001b[38;5;241m.\u001b[39m_data_attr\u001b[38;5;241m.\u001b[39mextend([\u001b[38;5;124m'\u001b[39m\u001b[38;5;124mpinv_wexog\u001b[39m\u001b[38;5;124m'\u001b[39m, \u001b[38;5;124m'\u001b[39m\u001b[38;5;124mwendog\u001b[39m\u001b[38;5;124m'\u001b[39m, \u001b[38;5;124m'\u001b[39m\u001b[38;5;124mwexog\u001b[39m\u001b[38;5;124m'\u001b[39m, \u001b[38;5;124m'\u001b[39m\u001b[38;5;124mweights\u001b[39m\u001b[38;5;124m'\u001b[39m])\n",
      "File \u001b[1;32m~\\anaconda3\\Lib\\site-packages\\statsmodels\\base\\model.py:270\u001b[0m, in \u001b[0;36mLikelihoodModel.__init__\u001b[1;34m(self, endog, exog, **kwargs)\u001b[0m\n\u001b[0;32m    269\u001b[0m \u001b[38;5;28;01mdef\u001b[39;00m \u001b[38;5;21m__init__\u001b[39m(\u001b[38;5;28mself\u001b[39m, endog, exog\u001b[38;5;241m=\u001b[39m\u001b[38;5;28;01mNone\u001b[39;00m, \u001b[38;5;241m*\u001b[39m\u001b[38;5;241m*\u001b[39mkwargs):\n\u001b[1;32m--> 270\u001b[0m     \u001b[38;5;28msuper\u001b[39m()\u001b[38;5;241m.\u001b[39m\u001b[38;5;21m__init__\u001b[39m(endog, exog, \u001b[38;5;241m*\u001b[39m\u001b[38;5;241m*\u001b[39mkwargs)\n\u001b[0;32m    271\u001b[0m     \u001b[38;5;28mself\u001b[39m\u001b[38;5;241m.\u001b[39minitialize()\n",
      "File \u001b[1;32m~\\anaconda3\\Lib\\site-packages\\statsmodels\\base\\model.py:95\u001b[0m, in \u001b[0;36mModel.__init__\u001b[1;34m(self, endog, exog, **kwargs)\u001b[0m\n\u001b[0;32m     93\u001b[0m missing \u001b[38;5;241m=\u001b[39m kwargs\u001b[38;5;241m.\u001b[39mpop(\u001b[38;5;124m'\u001b[39m\u001b[38;5;124mmissing\u001b[39m\u001b[38;5;124m'\u001b[39m, \u001b[38;5;124m'\u001b[39m\u001b[38;5;124mnone\u001b[39m\u001b[38;5;124m'\u001b[39m)\n\u001b[0;32m     94\u001b[0m hasconst \u001b[38;5;241m=\u001b[39m kwargs\u001b[38;5;241m.\u001b[39mpop(\u001b[38;5;124m'\u001b[39m\u001b[38;5;124mhasconst\u001b[39m\u001b[38;5;124m'\u001b[39m, \u001b[38;5;28;01mNone\u001b[39;00m)\n\u001b[1;32m---> 95\u001b[0m \u001b[38;5;28mself\u001b[39m\u001b[38;5;241m.\u001b[39mdata \u001b[38;5;241m=\u001b[39m \u001b[38;5;28mself\u001b[39m\u001b[38;5;241m.\u001b[39m_handle_data(endog, exog, missing, hasconst,\n\u001b[0;32m     96\u001b[0m                               \u001b[38;5;241m*\u001b[39m\u001b[38;5;241m*\u001b[39mkwargs)\n\u001b[0;32m     97\u001b[0m \u001b[38;5;28mself\u001b[39m\u001b[38;5;241m.\u001b[39mk_constant \u001b[38;5;241m=\u001b[39m \u001b[38;5;28mself\u001b[39m\u001b[38;5;241m.\u001b[39mdata\u001b[38;5;241m.\u001b[39mk_constant\n\u001b[0;32m     98\u001b[0m \u001b[38;5;28mself\u001b[39m\u001b[38;5;241m.\u001b[39mexog \u001b[38;5;241m=\u001b[39m \u001b[38;5;28mself\u001b[39m\u001b[38;5;241m.\u001b[39mdata\u001b[38;5;241m.\u001b[39mexog\n",
      "File \u001b[1;32m~\\anaconda3\\Lib\\site-packages\\statsmodels\\base\\model.py:135\u001b[0m, in \u001b[0;36mModel._handle_data\u001b[1;34m(self, endog, exog, missing, hasconst, **kwargs)\u001b[0m\n\u001b[0;32m    134\u001b[0m \u001b[38;5;28;01mdef\u001b[39;00m \u001b[38;5;21m_handle_data\u001b[39m(\u001b[38;5;28mself\u001b[39m, endog, exog, missing, hasconst, \u001b[38;5;241m*\u001b[39m\u001b[38;5;241m*\u001b[39mkwargs):\n\u001b[1;32m--> 135\u001b[0m     data \u001b[38;5;241m=\u001b[39m handle_data(endog, exog, missing, hasconst, \u001b[38;5;241m*\u001b[39m\u001b[38;5;241m*\u001b[39mkwargs)\n\u001b[0;32m    136\u001b[0m     \u001b[38;5;66;03m# kwargs arrays could have changed, easier to just attach here\u001b[39;00m\n\u001b[0;32m    137\u001b[0m     \u001b[38;5;28;01mfor\u001b[39;00m key \u001b[38;5;129;01min\u001b[39;00m kwargs:\n",
      "File \u001b[1;32m~\\anaconda3\\Lib\\site-packages\\statsmodels\\base\\data.py:675\u001b[0m, in \u001b[0;36mhandle_data\u001b[1;34m(endog, exog, missing, hasconst, **kwargs)\u001b[0m\n\u001b[0;32m    672\u001b[0m     exog \u001b[38;5;241m=\u001b[39m np\u001b[38;5;241m.\u001b[39masarray(exog)\n\u001b[0;32m    674\u001b[0m klass \u001b[38;5;241m=\u001b[39m handle_data_class_factory(endog, exog)\n\u001b[1;32m--> 675\u001b[0m \u001b[38;5;28;01mreturn\u001b[39;00m klass(endog, exog\u001b[38;5;241m=\u001b[39mexog, missing\u001b[38;5;241m=\u001b[39mmissing, hasconst\u001b[38;5;241m=\u001b[39mhasconst,\n\u001b[0;32m    676\u001b[0m              \u001b[38;5;241m*\u001b[39m\u001b[38;5;241m*\u001b[39mkwargs)\n",
      "File \u001b[1;32m~\\anaconda3\\Lib\\site-packages\\statsmodels\\base\\data.py:72\u001b[0m, in \u001b[0;36mModelData.__init__\u001b[1;34m(self, endog, exog, missing, hasconst, **kwargs)\u001b[0m\n\u001b[0;32m     70\u001b[0m     \u001b[38;5;28mself\u001b[39m\u001b[38;5;241m.\u001b[39mformula \u001b[38;5;241m=\u001b[39m kwargs\u001b[38;5;241m.\u001b[39mpop(\u001b[38;5;124m'\u001b[39m\u001b[38;5;124mformula\u001b[39m\u001b[38;5;124m'\u001b[39m)\n\u001b[0;32m     71\u001b[0m \u001b[38;5;28;01mif\u001b[39;00m missing \u001b[38;5;241m!=\u001b[39m \u001b[38;5;124m'\u001b[39m\u001b[38;5;124mnone\u001b[39m\u001b[38;5;124m'\u001b[39m:\n\u001b[1;32m---> 72\u001b[0m     arrays, nan_idx \u001b[38;5;241m=\u001b[39m \u001b[38;5;28mself\u001b[39m\u001b[38;5;241m.\u001b[39mhandle_missing(endog, exog, missing,\n\u001b[0;32m     73\u001b[0m                                           \u001b[38;5;241m*\u001b[39m\u001b[38;5;241m*\u001b[39mkwargs)\n\u001b[0;32m     74\u001b[0m     \u001b[38;5;28mself\u001b[39m\u001b[38;5;241m.\u001b[39mmissing_row_idx \u001b[38;5;241m=\u001b[39m nan_idx\n\u001b[0;32m     75\u001b[0m     \u001b[38;5;28mself\u001b[39m\u001b[38;5;241m.\u001b[39m\u001b[38;5;18m__dict__\u001b[39m\u001b[38;5;241m.\u001b[39mupdate(arrays)  \u001b[38;5;66;03m# attach all the data arrays\u001b[39;00m\n",
      "File \u001b[1;32m~\\anaconda3\\Lib\\site-packages\\statsmodels\\base\\data.py:266\u001b[0m, in \u001b[0;36mModelData.handle_missing\u001b[1;34m(cls, endog, exog, missing, **kwargs)\u001b[0m\n\u001b[0;32m    263\u001b[0m         nan_mask \u001b[38;5;241m|\u001b[39m\u001b[38;5;241m=\u001b[39m combined_2d_nans\n\u001b[0;32m    265\u001b[0m \u001b[38;5;28;01melse\u001b[39;00m:\n\u001b[1;32m--> 266\u001b[0m     nan_mask \u001b[38;5;241m=\u001b[39m _nan_rows(\u001b[38;5;241m*\u001b[39mcombined)\n\u001b[0;32m    267\u001b[0m     \u001b[38;5;28;01mif\u001b[39;00m combined_2d:\n\u001b[0;32m    268\u001b[0m         nan_mask \u001b[38;5;241m=\u001b[39m _nan_rows(\u001b[38;5;241m*\u001b[39m(nan_mask[:, \u001b[38;5;28;01mNone\u001b[39;00m],) \u001b[38;5;241m+\u001b[39m combined_2d)\n",
      "File \u001b[1;32m~\\anaconda3\\Lib\\site-packages\\statsmodels\\base\\data.py:51\u001b[0m, in \u001b[0;36m_nan_rows\u001b[1;34m(*arrs)\u001b[0m\n\u001b[0;32m     48\u001b[0m     x_is_boolean_array \u001b[38;5;241m=\u001b[39m \u001b[38;5;28mhasattr\u001b[39m(x, \u001b[38;5;124m'\u001b[39m\u001b[38;5;124mdtype\u001b[39m\u001b[38;5;124m'\u001b[39m) \u001b[38;5;129;01mand\u001b[39;00m x\u001b[38;5;241m.\u001b[39mdtype \u001b[38;5;241m==\u001b[39m \u001b[38;5;28mbool\u001b[39m \u001b[38;5;129;01mand\u001b[39;00m x\n\u001b[0;32m     49\u001b[0m     \u001b[38;5;28;01mreturn\u001b[39;00m np\u001b[38;5;241m.\u001b[39mlogical_or(_asarray_2d_null_rows(x),\n\u001b[0;32m     50\u001b[0m                          (x_is_boolean_array \u001b[38;5;241m|\u001b[39m _asarray_2d_null_rows(y)))\n\u001b[1;32m---> 51\u001b[0m \u001b[38;5;28;01mreturn\u001b[39;00m reduce(_nan_row_maybe_two_inputs, arrs)\u001b[38;5;241m.\u001b[39msqueeze()\n",
      "File \u001b[1;32m~\\anaconda3\\Lib\\site-packages\\statsmodels\\base\\data.py:49\u001b[0m, in \u001b[0;36m_nan_rows.<locals>._nan_row_maybe_two_inputs\u001b[1;34m(x, y)\u001b[0m\n\u001b[0;32m     46\u001b[0m \u001b[38;5;28;01mdef\u001b[39;00m \u001b[38;5;21m_nan_row_maybe_two_inputs\u001b[39m(x, y):\n\u001b[0;32m     47\u001b[0m     \u001b[38;5;66;03m# check for dtype bc dataframe has dtypes\u001b[39;00m\n\u001b[0;32m     48\u001b[0m     x_is_boolean_array \u001b[38;5;241m=\u001b[39m \u001b[38;5;28mhasattr\u001b[39m(x, \u001b[38;5;124m'\u001b[39m\u001b[38;5;124mdtype\u001b[39m\u001b[38;5;124m'\u001b[39m) \u001b[38;5;129;01mand\u001b[39;00m x\u001b[38;5;241m.\u001b[39mdtype \u001b[38;5;241m==\u001b[39m \u001b[38;5;28mbool\u001b[39m \u001b[38;5;129;01mand\u001b[39;00m x\n\u001b[1;32m---> 49\u001b[0m     \u001b[38;5;28;01mreturn\u001b[39;00m np\u001b[38;5;241m.\u001b[39mlogical_or(_asarray_2d_null_rows(x),\n\u001b[0;32m     50\u001b[0m                          (x_is_boolean_array \u001b[38;5;241m|\u001b[39m _asarray_2d_null_rows(y)))\n",
      "\u001b[1;31mValueError\u001b[0m: operands could not be broadcast together with shapes (253,1) (260,1) "
     ]
    }
   ],
   "source": [
    "results = sm.OLS(acao, premio_risco, missing = 'drop').fit()\n",
    "print(results.summary())"
   ]
  },
  {
   "cell_type": "code",
   "execution_count": null,
   "id": "03043e5f-9d2d-472d-ad43-0af139f9f534",
   "metadata": {},
   "outputs": [],
   "source": []
  },
  {
   "cell_type": "code",
   "execution_count": 4,
   "id": "ac198e95-db4f-4eda-aa83-f614a5bb5faa",
   "metadata": {
    "tags": []
   },
   "outputs": [],
   "source": [
    "def resultado_capm(ticker:str,capm:list) -> pd.DataFrame:\n",
    "    arquivo = pd.DataFrame({\n",
    "        'Nome da Ação': ticker,\n",
    "        'Data': datetime.datetime.now().strftime('%Y-%m-%d'),\n",
    "        'Alfa': capm.params['Intercepto'],\n",
    "        'Beta': capm.params['Mercado'],\n",
    "        'Sigma': capm.resid.std()\n",
    "    }, index=[0])"
   ]
  },
  {
   "cell_type": "code",
   "execution_count": null,
   "id": "97210156-e62e-4df2-9fbf-e2955da7389b",
   "metadata": {},
   "outputs": [],
   "source": []
  }
 ],
 "metadata": {
  "kernelspec": {
   "display_name": "Python 3 (ipykernel)",
   "language": "python",
   "name": "python3"
  },
  "language_info": {
   "codemirror_mode": {
    "name": "ipython",
    "version": 3
   },
   "file_extension": ".py",
   "mimetype": "text/x-python",
   "name": "python",
   "nbconvert_exporter": "python",
   "pygments_lexer": "ipython3",
   "version": "3.11.5"
  }
 },
 "nbformat": 4,
 "nbformat_minor": 5
}
