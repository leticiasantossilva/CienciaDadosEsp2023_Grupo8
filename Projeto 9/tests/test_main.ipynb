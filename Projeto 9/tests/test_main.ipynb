{
 "cells": [
  {
   "cell_type": "markdown",
   "id": "a003059e-8bc7-400c-800e-2d16aa6bf9f2",
   "metadata": {},
   "source": [
    "# Módulo Principal\n",
    "\n",
    "Este módulo prevê a função principal que integra as fases de entrada, processamento e saída de dados do aplicativo que colete automaticamente dados da web e estime o modelo CAPM para ações na B3."
   ]
  },
  {
   "cell_type": "code",
   "execution_count": 1,
   "id": "58f2d37f-02c9-4c96-823a-c2496334b2de",
   "metadata": {
    "tags": []
   },
   "outputs": [],
   "source": [
    "# Importação de bibliotecas\n",
    "\n",
    "import numpy as np\n",
    "import yfinance as yf\n",
    "import pandas as pd\n",
    "from datetime import datetime, timedelta\n",
    "import matplotlib.pyplot as plt\n",
    "import requests\n",
    "import os\n",
    "import statsmodels.api as sm\n",
    "import statsmodels.formula.api as smf"
   ]
  },
  {
   "cell_type": "code",
   "execution_count": 2,
   "id": "558471a0-08e9-4bbe-b0f2-264646bacb08",
   "metadata": {
    "tags": []
   },
   "outputs": [],
   "source": [
    "# importação de módulos\n",
    "import test_es\n",
    "import test_proc"
   ]
  },
  {
   "cell_type": "code",
   "execution_count": 3,
   "id": "b7fcbf8d-e4ca-40e2-bb9d-f8e2d0a3a235",
   "metadata": {
    "tags": []
   },
   "outputs": [
    {
     "name": "stdin",
     "output_type": "stream",
     "text": [
      "Digite o ticker da ação listada na B3 que deseja avaliar 1 de 10: (ex.: VALE3.SA)  VALE3.SA\n",
      "Digite o ticker da ação listada na B3 que deseja avaliar 2 de 10: (ex.: VALE3.SA)  PETR4.SA\n",
      "Digite o ticker da ação listada na B3 que deseja avaliar 3 de 10: (ex.: VALE3.SA)  PETR3.SA\n",
      "Digite o ticker da ação listada na B3 que deseja avaliar 4 de 10: (ex.: VALE3.SA)  VALE3.SA\n",
      "Digite o ticker da ação listada na B3 que deseja avaliar 5 de 10: (ex.: VALE3.SA)  PRIO3.SA\n",
      "Digite o ticker da ação listada na B3 que deseja avaliar 6 de 10: (ex.: VALE3.SA)  PETR4.SA\n",
      "Digite o ticker da ação listada na B3 que deseja avaliar 7 de 10: (ex.: VALE3.SA)  PETR3.SA\n",
      "Digite o ticker da ação listada na B3 que deseja avaliar 8 de 10: (ex.: VALE3.SA)  VALE3.SA\n",
      "Digite o ticker da ação listada na B3 que deseja avaliar 9 de 10: (ex.: VALE3.SA)  PRIO3.SA\n",
      "Digite o ticker da ação listada na B3 que deseja avaliar 10 de 10: (ex.: VALE3.SA)  PETR4.SA\n"
     ]
    }
   ],
   "source": [
    "# Entrada de dados dos tickers de ações\n",
    "acoes = test_es.leitor_acoes()\n"
   ]
  },
  {
   "cell_type": "code",
   "execution_count": 4,
   "id": "5c0be70b-c181-4dab-a859-ebfb4a1ad5a1",
   "metadata": {
    "tags": []
   },
   "outputs": [
    {
     "name": "stdout",
     "output_type": "stream",
     "text": [
      "[ 0.02457717  0.00747164 -0.00507426  0.02196933  0.03800371  0.00147936\n",
      " -0.01181678  0.05007473  0.03096074 -0.05626515  0.00731532  0.04502569\n",
      " -0.07053501  0.03177539 -0.00763724 -0.05443927  0.01969156  0.00798791\n",
      " -0.02415099  0.03828318  0.02495343  0.00545058 -0.01770866  0.03274464\n",
      " -0.01389376 -0.01192229 -0.046435   -0.01840474 -0.01891298  0.02126831\n",
      " -0.03379183  0.06791371  0.0232292   0.01302555  0.00440879 -0.02267751\n",
      " -0.00748493  0.05316747  0.03651969  0.03903303 -0.01230071  0.0130801\n",
      " -0.01906366  0.01125133  0.02494955  0.00460521  0.01251162 -0.03114753\n",
      " -0.00879866 -0.01502215 -0.01594483  0.06128931  0.01393984 -0.14206232\n",
      "  0.02594429 -0.41056151 -0.28769714  0.26837911 -0.00139659  0.21118892\n",
      " -0.05427274  0.02258853  0.08662611 -0.05054947  0.0179398   0.09721431\n",
      "  0.03264242  0.07727058 -0.00326054  0.00186923 -0.0205223   0.03380942\n",
      "  0.04329795  0.03046373 -0.0124252   0.00522639  0.00043154  0.01294208\n",
      " -0.0251277  -0.0292703   0.02610247 -0.00307006 -0.04399472 -0.06902903\n",
      " -0.03064756  0.00917915  0.00909533  0.00951424 -0.07390864  0.05623987\n",
      "  0.16024331  0.02928321  0.11464988 -0.0129523   0.03975291  0.04639957\n",
      " -0.0085138   0.0139534   0.06210318 -0.03156161 -0.03224701 -0.02871311\n",
      "  0.05620439 -0.03939189  0.06438823 -0.17539674 -0.13155762  0.05427101\n",
      "  0.07788701 -0.0523254   0.05609119 -0.00414945  0.01458331  0.01625138\n",
      " -0.00459497  0.03986582  0.05528644 -0.00229436  0.06822545  0.02834564\n",
      "  0.0167482   0.00549063  0.00443701 -0.04689092 -0.01354729 -0.02565954\n",
      "  0.02781876 -0.05160568  0.09094367 -0.00991947  0.03508777 -0.02488286\n",
      " -0.07655329  0.05446531 -0.01823001  0.05957453  0.04563698  0.03456703\n",
      " -0.03813709  0.00666686 -0.0641339  -0.01564245  0.00567528  0.067344\n",
      "  0.0433557   0.11387247 -0.00170366 -0.0389078   0.01349432 -0.01646817\n",
      "  0.05878166  0.05955586  0.07557947 -0.03985813 -0.01752762  0.0306728\n",
      "  0.03917405  0.01315017 -0.06085945 -0.05313271  0.03957166  0.02932934\n",
      " -0.01909675  0.06829426  0.00633685 -0.05471688  0.06686637  0.04677268\n",
      "  0.00089354  0.06297005 -0.06333852  0.01632248 -0.04686991 -0.07187074\n",
      "  0.04038549 -0.01460134  0.02096144  0.03256637  0.07473437  0.0797448\n",
      "  0.0963072   0.08411167  0.02686216 -0.01218795 -0.06349677  0.00160662\n",
      " -0.06095592  0.11206003  0.08817206 -0.07651051 -0.17762141  0.00929363\n",
      " -0.01325341  0.13737205 -0.04913736 -0.15305706  0.09781073  0.05218503\n",
      " -0.07056458  0.05336242  0.03253693  0.07459122 -0.04565706  0.01322447\n",
      "  0.02648747 -0.03664911 -0.0178572   0.00474309 -0.08182531 -0.00042849\n",
      "  0.02443209  0.01882837  0.06160174  0.02553183  0.00905321 -0.04821988\n",
      "  0.08252434  0.04606598  0.0385815  -0.01988749  0.10528338  0.11087913\n",
      "  0.05813958 -0.03014135 -0.02525083 -0.03121894 -0.00239969  0.06529211\n",
      " -0.01516126 -0.00229286  0.03545641  0.06115867  0.01178655  0.02759049\n",
      " -0.01461822  0.0381472   0.00670747 -0.05504056  0.07664002  0.09681103\n",
      " -0.06360333 -0.02633776 -0.02705009  0.06850848  0.00199089 -0.04910586\n",
      "  0.03194029  0.05235758  0.02693786  0.04282651 -0.03105747  0.00344374\n",
      "  0.        ]\n"
     ]
    }
   ],
   "source": [
    "for item in acoes:\n",
    "    acao = test_es.leitor_precos(item)\n",
    "\n",
    "print(acao)"
   ]
  },
  {
   "cell_type": "code",
   "execution_count": 5,
   "id": "7f02114a-ff54-4a91-99fd-2059cbcda682",
   "metadata": {
    "tags": []
   },
   "outputs": [],
   "source": [
    "# Dados do ativo livre de risco\n",
    "cdi = test_es.leitor_taxa()\n",
    "\n",
    "# Dados de mercado\n",
    "ibov = test_es.leitor_indice()"
   ]
  },
  {
   "cell_type": "code",
   "execution_count": 6,
   "id": "cc733644-49f4-46e3-aa6b-c4abdaf944d2",
   "metadata": {
    "tags": []
   },
   "outputs": [],
   "source": [
    "# Estimando modelo\n",
    "results = test_proc.estima_modelo(acao, ibov, cdi)\n"
   ]
  },
  {
   "cell_type": "code",
   "execution_count": 7,
   "id": "bbe3bb42-1848-482c-88ba-e8ee2f9f595d",
   "metadata": {
    "tags": []
   },
   "outputs": [
    {
     "name": "stdin",
     "output_type": "stream",
     "text": [
      "Digite o caminho da pasta de gravação de arquivos:  C:\\Users\\letis\\OneDrive\\Área de Trabalho\n"
     ]
    },
    {
     "name": "stdout",
     "output_type": "stream",
     "text": [
      "0.038125862120943474\n",
      "-1.0401836684983212\n",
      "0.0582766284358884\n",
      "C:\\Users\\letis\\OneDrive\\Área de Trabalho\n"
     ]
    }
   ],
   "source": [
    "# dados para o arquivo csv\n",
    "alfa = float(results.params[0])\n",
    "beta = float(results.params[1])\n",
    "sigma = float(results.resid.std())\n",
    "\n",
    "# seleção da pasta\n",
    "pasta = test_es.leitor_pasta()\n",
    "\n",
    "# teste de print\n",
    "print(alfa)\n",
    "print(beta)\n",
    "print(sigma)\n",
    "print(pasta)"
   ]
  },
  {
   "cell_type": "markdown",
   "id": "61396735-4f4f-4013-b83d-841040cce34a",
   "metadata": {},
   "source": [
    "## Main"
   ]
  },
  {
   "cell_type": "code",
   "execution_count": 8,
   "id": "97210156-e62e-4df2-9fbf-e2955da7389b",
   "metadata": {
    "tags": []
   },
   "outputs": [],
   "source": [
    "# Definindo a função principal\n",
    "\n",
    "def main():\n",
    "    \"\"\" Esta é a função que integra as fases de entrada, processamento e saída de dados  \"\"\"\n",
    "    \n",
    "    # Dados do ativo livre de risco\n",
    "    cdi = test_es.leitor_taxa()\n",
    "    \n",
    "    # Dados de mercado\n",
    "    ibov = test_es.leitor_indice()\n",
    "    \n",
    "    # Leitura de local de gravação\n",
    "    pasta = test_es.leitor_pasta()\n",
    "\n",
    "    # Dados das ações\n",
    "    acoes = test_es.leitor_acoes()\n",
    "    \n",
    "    # Dataframe para resultados das estimações\n",
    "    dados = pd.DataFrame(columns=['Nome da Ação', 'Data', 'Alfa', 'Beta', 'Sigma'])\n",
    "    \n",
    "    for item in acoes:\n",
    "        acao = test_es.leitor_precos(item)   \n",
    "    # Estimando modelo\n",
    "        results = test_proc.estima_modelo(acao, ibov, cdi)\n",
    "    # saída de dados\n",
    "        alfa = float(results.params[0])\n",
    "        beta = float(results.params[1])\n",
    "        sigma = float(results.resid.std())    \n",
    "        \n",
    "        resultado = pd.DataFrame({\n",
    "        'Nome da Ação': [item],\n",
    "        'Data': [datetime.now().strftime('%Y-%m-%d')],\n",
    "        'Alfa': [alfa],\n",
    "        'Beta': [beta],\n",
    "        'Sigma': [sigma]\n",
    "    })\n",
    "        dados = pd.concat([dados, resultado], ignore_index=True)\n",
    "\n",
    "    test_es.grava_csv(pasta, dados)\n",
    "    \n",
    "    \n"
   ]
  },
  {
   "cell_type": "code",
   "execution_count": 9,
   "id": "be205803-a0e4-438c-bb40-f3ffe08be079",
   "metadata": {
    "tags": []
   },
   "outputs": [
    {
     "name": "stdin",
     "output_type": "stream",
     "text": [
      "Digite o caminho da pasta de gravação de arquivos:  C:\\Users\\letis\\OneDrive\\Área de Trabalho\n",
      "Digite o ticker da ação listada na B3 que deseja avaliar 1 de 10: (ex.: VALE3.SA)  VALE3.SA\n",
      "Digite o ticker da ação listada na B3 que deseja avaliar 2 de 10: (ex.: VALE3.SA)  PETR4.SA\n",
      "Digite o ticker da ação listada na B3 que deseja avaliar 3 de 10: (ex.: VALE3.SA)  PETR3.SA\n",
      "Digite o ticker da ação listada na B3 que deseja avaliar 4 de 10: (ex.: VALE3.SA)  PRIO3.SA\n",
      "Digite o ticker da ação listada na B3 que deseja avaliar 5 de 10: (ex.: VALE3.SA)  BBAS3.SA\n",
      "Digite o ticker da ação listada na B3 que deseja avaliar 6 de 10: (ex.: VALE3.SA)  BBDC4.SA\n",
      "Digite o ticker da ação listada na B3 que deseja avaliar 7 de 10: (ex.: VALE3.SA)  ITUB4.SA\n",
      "Digite o ticker da ação listada na B3 que deseja avaliar 8 de 10: (ex.: VALE3.SA)  ITSA4.SA\n",
      "Digite o ticker da ação listada na B3 que deseja avaliar 9 de 10: (ex.: VALE3.SA)  B3SA3.SA\n",
      "Digite o ticker da ação listada na B3 que deseja avaliar 10 de 10: (ex.: VALE3.SA)  MGLU3.SA\n"
     ]
    },
    {
     "name": "stdout",
     "output_type": "stream",
     "text": [
      "Resultados salvos no arquivo resultados_capm.csv\n"
     ]
    }
   ],
   "source": [
    "# Testando a função main\n",
    "\n",
    "main()"
   ]
  }
 ],
 "metadata": {
  "kernelspec": {
   "display_name": "Python 3 (ipykernel)",
   "language": "python",
   "name": "python3"
  },
  "language_info": {
   "codemirror_mode": {
    "name": "ipython",
    "version": 3
   },
   "file_extension": ".py",
   "mimetype": "text/x-python",
   "name": "python",
   "nbconvert_exporter": "python",
   "pygments_lexer": "ipython3",
   "version": "3.11.5"
  }
 },
 "nbformat": 4,
 "nbformat_minor": 5
}
