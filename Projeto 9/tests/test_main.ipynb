{
 "cells": [
  {
   "cell_type": "markdown",
   "id": "a003059e-8bc7-400c-800e-2d16aa6bf9f2",
   "metadata": {},
   "source": [
    "# Módulo Principal\n",
    "\n",
    "Este módulo prevê a função principal que integra as fases de entrada, processamento e saída de dados do aplicativo que colete automaticamente dados da web e estime o modelo CAPM para ações na B3."
   ]
  },
  {
   "cell_type": "code",
   "execution_count": 1,
   "id": "58f2d37f-02c9-4c96-823a-c2496334b2de",
   "metadata": {
    "tags": []
   },
   "outputs": [],
   "source": [
    "# Importação de bibliotecas\n",
    "\n",
    "import numpy as np\n",
    "import yfinance as yf\n",
    "import pandas as pd\n",
    "from datetime import datetime, timedelta\n",
    "import matplotlib.pyplot as plt\n",
    "import requests\n",
    "import os\n",
    "import statsmodels.api as sm\n",
    "import statsmodels.formula.api as smf"
   ]
  },
  {
   "cell_type": "code",
   "execution_count": 2,
   "id": "558471a0-08e9-4bbe-b0f2-264646bacb08",
   "metadata": {
    "tags": []
   },
   "outputs": [],
   "source": [
    "# importação de módulos\n",
    "import test_es\n",
    "import test_proc"
   ]
  },
  {
   "cell_type": "code",
   "execution_count": 3,
   "id": "b7fcbf8d-e4ca-40e2-bb9d-f8e2d0a3a235",
   "metadata": {
    "tags": []
   },
   "outputs": [
    {
     "name": "stdin",
     "output_type": "stream",
     "text": [
      "Digite o ticker da ação listada na B3 que deseja avaliar 1 de 10: (ex.: VALE3.SA)  VALE3.SA\n",
      "Digite o ticker da ação listada na B3 que deseja avaliar 2 de 10: (ex.: VALE3.SA)  PETR4.SA\n",
      "Digite o ticker da ação listada na B3 que deseja avaliar 3 de 10: (ex.: VALE3.SA)  PETR3.SA\n",
      "Digite o ticker da ação listada na B3 que deseja avaliar 4 de 10: (ex.: VALE3.SA)  VALE3.SA\n",
      "Digite o ticker da ação listada na B3 que deseja avaliar 5 de 10: (ex.: VALE3.SA)  VALE3.SA\n",
      "Digite o ticker da ação listada na B3 que deseja avaliar 6 de 10: (ex.: VALE3.SA)  VALE3.SA\n",
      "Digite o ticker da ação listada na B3 que deseja avaliar 7 de 10: (ex.: VALE3.SA)  VALE3.SA\n",
      "Digite o ticker da ação listada na B3 que deseja avaliar 8 de 10: (ex.: VALE3.SA)  VALE3.SA\n",
      "Digite o ticker da ação listada na B3 que deseja avaliar 9 de 10: (ex.: VALE3.SA)  VALE3.SA\n",
      "Digite o ticker da ação listada na B3 que deseja avaliar 10 de 10: (ex.: VALE3.SA)  VALE3.SA\n"
     ]
    }
   ],
   "source": [
    "# Entrada de dados dos tickers de ações\n",
    "acoes = test_es.leitor_acoes()\n"
   ]
  },
  {
   "cell_type": "code",
   "execution_count": 4,
   "id": "5c0be70b-c181-4dab-a859-ebfb4a1ad5a1",
   "metadata": {
    "tags": []
   },
   "outputs": [
    {
     "name": "stdout",
     "output_type": "stream",
     "text": [
      "[ 0.05698001 -0.16262373 -0.08884114  0.07136143  0.00681455  0.02248915\n",
      "  0.02605155  0.05515082 -0.0027612  -0.01898725  0.04395151 -0.00038643\n",
      "  0.00946687 -0.03617203 -0.02700574 -0.02142854 -0.01021897  0.04719789\n",
      " -0.0263583   0.06406293  0.01573095 -0.01376675 -0.00562225  0.0163777\n",
      "  0.01074224 -0.03871707 -0.01658431 -0.06685417 -0.03442337 -0.01626559\n",
      " -0.0151756   0.06991707  0.03073959  0.00938485 -0.01115704 -0.05766838\n",
      "  0.01263878  0.02474277  0.00662392  0.03141555  0.02263851 -0.05172075\n",
      "  0.07342992  0.00672174  0.01787128  0.03164212  0.03686479  0.02684694\n",
      "  0.01514595 -0.09857894  0.04413796  0.00150968 -0.00489916 -0.14126109\n",
      "  0.07100331 -0.16121055 -0.05130106  0.05692115  0.06168902  0.00322802\n",
      " -0.00735438 -0.00671472  0.0892774  -0.05135898  0.09496965  0.0815822\n",
      " -0.03542858  0.05963671  0.0100634   0.03690031 -0.01441287 -0.01534567\n",
      "  0.05097183  0.07798325 -0.04126892  0.06262667 -0.01207319 -0.01109496\n",
      "  0.01447165 -0.01025805 -0.0069636  -0.02152648  0.01616665  0.00984958\n",
      "  0.00016909  0.01793271  0.04703342 -0.00238085 -0.04120922  0.0219051\n",
      "  0.03280275  0.04481121  0.13619295  0.05748317  0.03582167  0.04256355\n",
      "  0.01322207  0.00103031  0.09834192  0.00176976 -0.04053208 -0.03379544\n",
      "  0.01378922  0.04721879  0.01742355  0.01639844  0.02471145  0.01172482\n",
      "  0.00772013 -0.04851877  0.05174441  0.06726544  0.02333579  0.0459816\n",
      " -0.01081149  0.03269802 -0.01819283 -0.01826292  0.04174246 -0.02264822\n",
      " -0.03609623  0.04549238  0.02137146  0.00750548  0.00893949 -0.00625425\n",
      "  0.02534963 -0.04075029 -0.02888372 -0.05362861 -0.03781077 -0.00653252\n",
      " -0.03854321 -0.03472221 -0.05046883 -0.03944554  0.0166225   0.02777066\n",
      " -0.03194443 -0.02895525 -0.10235055 -0.01705805 -0.01050401  0.09200007\n",
      " -0.01056632  0.07874109  0.02177948  0.03242457 -0.03340839  0.00724927\n",
      "  0.09883034  0.03169598 -0.04432601  0.01767509  0.06550863 -0.02089477\n",
      " -0.03385488  0.15242287 -0.01845262 -0.03248757  0.05837803 -0.00601339\n",
      "  0.007093   -0.0326256  -0.08565307 -0.03782221 -0.00438114 -0.03813698\n",
      " -0.01156446  0.08382625  0.04673769 -0.00838617 -0.06662848 -0.07738484\n",
      "  0.04565377 -0.04810245 -0.02933339 -0.07431325  0.0464461  -0.04254109\n",
      "  0.03747042  0.02450251 -0.00410394 -0.05077257  0.03875969  0.02164176\n",
      " -0.00160698  0.12613394 -0.07601354  0.03403202 -0.00516798  0.12699927\n",
      " -0.01831638  0.05906345 -0.01015061  0.02764884 -0.00748081  0.03188788\n",
      "  0.00460726  0.04306489  0.00096508  0.03064066 -0.02848225 -0.05071696\n",
      "  0.00315598 -0.01842698  0.02106236 -0.03464131 -0.03334427  0.00282391\n",
      " -0.0143242  -0.04496338  0.04825062 -0.05397011 -0.07842631 -0.01807302\n",
      "  0.0052173   0.00749711 -0.06911844 -0.01906224  0.07616355  0.00509684\n",
      " -0.03028107 -0.03301951  0.00927062  0.02648515  0.0028335   0.06722198\n",
      " -0.06507807 -0.0035773  -0.05921016  0.03259627  0.03077416  0.04632189\n",
      " -0.00926611  0.02894894 -0.05208488  0.00258761  0.02262026 -0.0296912\n",
      " -0.02187883  0.09995304 -0.00270195  0.07789957 -0.0187041  -0.0147038\n",
      "  0.00870523  0.02041093  0.0390657  -0.00968992 -0.05766468 -0.03987269\n",
      "  0.00793083]\n"
     ]
    }
   ],
   "source": [
    "for item in acoes:\n",
    "    acao = test_es.leitor_precos(item)\n",
    "\n",
    "print(acao)"
   ]
  },
  {
   "cell_type": "code",
   "execution_count": 5,
   "id": "7f02114a-ff54-4a91-99fd-2059cbcda682",
   "metadata": {
    "tags": []
   },
   "outputs": [],
   "source": [
    "# Dados do ativo livre de risco\n",
    "cdi = test_es.leitor_taxa()\n",
    "\n",
    "# Dados de mercado\n",
    "ibov = test_es.leitor_indice()"
   ]
  },
  {
   "cell_type": "code",
   "execution_count": 6,
   "id": "cc733644-49f4-46e3-aa6b-c4abdaf944d2",
   "metadata": {
    "tags": []
   },
   "outputs": [],
   "source": [
    "# Estimando modelo\n",
    "results = test_proc.estima_modelo(acao, ibov, cdi)\n"
   ]
  },
  {
   "cell_type": "code",
   "execution_count": 7,
   "id": "bbe3bb42-1848-482c-88ba-e8ee2f9f595d",
   "metadata": {
    "tags": []
   },
   "outputs": [
    {
     "name": "stdin",
     "output_type": "stream",
     "text": [
      "Digite o caminho da pasta de gravação de arquivos:  C:\\Users\\letis\\OneDrive\\Área de Trabalho\\capm\n"
     ]
    },
    {
     "name": "stdout",
     "output_type": "stream",
     "text": [
      "0.021506403777692404\n",
      "-0.6120271755161005\n",
      "0.04448993306035745\n",
      "C:\\Users\\letis\\OneDrive\\Área de Trabalho\\capm\n"
     ]
    }
   ],
   "source": [
    "# dados para o arquivo csv\n",
    "alfa = float(results.params[0])\n",
    "beta = float(results.params[1])\n",
    "sigma = float(results.resid.std())\n",
    "\n",
    "# seleção da pasta\n",
    "pasta = test_es.leitor_pasta()\n",
    "\n",
    "# teste de print\n",
    "print(alfa)\n",
    "print(beta)\n",
    "print(sigma)\n",
    "print(pasta)"
   ]
  },
  {
   "cell_type": "code",
   "execution_count": 8,
   "id": "355957c8-4e77-46e5-8986-df0eca4381c9",
   "metadata": {
    "tags": []
   },
   "outputs": [
    {
     "name": "stdout",
     "output_type": "stream",
     "text": [
      "Resultados salvos no arquivo VALE3.SA_resultados_capm.csv\n"
     ]
    }
   ],
   "source": [
    "test_es.grava_csv(pasta, item, alfa, beta, sigma)"
   ]
  },
  {
   "cell_type": "markdown",
   "id": "61396735-4f4f-4013-b83d-841040cce34a",
   "metadata": {},
   "source": [
    "## Main"
   ]
  },
  {
   "cell_type": "code",
   "execution_count": 12,
   "id": "97210156-e62e-4df2-9fbf-e2955da7389b",
   "metadata": {
    "tags": []
   },
   "outputs": [],
   "source": [
    "# Definindo a função principal\n",
    "\n",
    "def main():\n",
    "    \"\"\" Esta é a função que integra as fases de entrada, processamento e saída de dados  \"\"\"\n",
    "    \n",
    "    # Dados do ativo livre de risco\n",
    "    cdi = test_es.leitor_taxa()\n",
    "    \n",
    "    # Dados de mercado\n",
    "    ibov = test_es.leitor_indice()\n",
    "    \n",
    "    # Leitura de local de gravação\n",
    "    pasta = test_es.leitor_pasta()\n",
    "\n",
    "    # Dados das ações\n",
    "    acoes = test_es.leitor_acoes()\n",
    "    \n",
    "    for item in acoes:\n",
    "        acao = test_es.leitor_precos(item)   \n",
    "    # Estimando modelo\n",
    "        results = test_proc.estima_modelo(acao, ibov, cdi)\n",
    "    # saída de dados\n",
    "        alfa = float(results.params[0])\n",
    "        beta = float(results.params[1])\n",
    "        sigma = float(results.resid.std())    \n",
    "        test_es.grava_csv(pasta, item, alfa, beta, sigma)\n",
    "    \n",
    "    \n"
   ]
  },
  {
   "cell_type": "code",
   "execution_count": 14,
   "id": "be205803-a0e4-438c-bb40-f3ffe08be079",
   "metadata": {
    "tags": []
   },
   "outputs": [
    {
     "name": "stdin",
     "output_type": "stream",
     "text": [
      "Digite o caminho da pasta de gravação de arquivos:  C:\\Users\\letis\\OneDrive\\Área de Trabalho\\capm\n",
      "Digite o ticker da ação listada na B3 que deseja avaliar 1 de 10: (ex.: VALE3.SA)  VALE3.SA\n",
      "Digite o ticker da ação listada na B3 que deseja avaliar 2 de 10: (ex.: VALE3.SA)  PETR4.SA\n",
      "Digite o ticker da ação listada na B3 que deseja avaliar 3 de 10: (ex.: VALE3.SA)  ITUB4.SA\n",
      "Digite o ticker da ação listada na B3 que deseja avaliar 4 de 10: (ex.: VALE3.SA)  BBDC4.SA\n",
      "Digite o ticker da ação listada na B3 que deseja avaliar 5 de 10: (ex.: VALE3.SA)  BBAS3.SA\n",
      "Digite o ticker da ação listada na B3 que deseja avaliar 6 de 10: (ex.: VALE3.SA)  MGLU3.SA\n",
      "Digite o ticker da ação listada na B3 que deseja avaliar 7 de 10: (ex.: VALE3.SA)  B3SA3.SA\n",
      "Digite o ticker da ação listada na B3 que deseja avaliar 8 de 10: (ex.: VALE3.SA)  ABEV3.SA\n",
      "Digite o ticker da ação listada na B3 que deseja avaliar 9 de 10: (ex.: VALE3.SA)  PRIO3.SA\n",
      "Digite o ticker da ação listada na B3 que deseja avaliar 10 de 10: (ex.: VALE3.SA)  ELET3.SA\n"
     ]
    },
    {
     "name": "stdout",
     "output_type": "stream",
     "text": [
      "Resultados salvos no arquivo VALE3.SA_resultados_capm.csv\n",
      "Resultados salvos no arquivo PETR4.SA_resultados_capm.csv\n",
      "Resultados salvos no arquivo ITUB4.SA_resultados_capm.csv\n",
      "Resultados salvos no arquivo BBDC4.SA_resultados_capm.csv\n",
      "Resultados salvos no arquivo BBAS3.SA_resultados_capm.csv\n",
      "Resultados salvos no arquivo MGLU3.SA_resultados_capm.csv\n",
      "Resultados salvos no arquivo B3SA3.SA_resultados_capm.csv\n",
      "Resultados salvos no arquivo ABEV3.SA_resultados_capm.csv\n",
      "Resultados salvos no arquivo PRIO3.SA_resultados_capm.csv\n",
      "Resultados salvos no arquivo ELET3.SA_resultados_capm.csv\n"
     ]
    }
   ],
   "source": [
    "# Testando a função main\n",
    "\n",
    "main()"
   ]
  }
 ],
 "metadata": {
  "kernelspec": {
   "display_name": "Python 3 (ipykernel)",
   "language": "python",
   "name": "python3"
  },
  "language_info": {
   "codemirror_mode": {
    "name": "ipython",
    "version": 3
   },
   "file_extension": ".py",
   "mimetype": "text/x-python",
   "name": "python",
   "nbconvert_exporter": "python",
   "pygments_lexer": "ipython3",
   "version": "3.11.5"
  }
 },
 "nbformat": 4,
 "nbformat_minor": 5
}
