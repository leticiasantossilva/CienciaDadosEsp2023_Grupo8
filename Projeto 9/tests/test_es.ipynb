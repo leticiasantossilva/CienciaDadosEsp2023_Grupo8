{
 "cells": [
  {
   "cell_type": "markdown",
   "id": "ab9aeebb-4203-425e-8b1c-6f2e9ac085b6",
   "metadata": {},
   "source": [
    "# Módulo de entrada e saída - es"
   ]
  },
  {
   "cell_type": "code",
   "execution_count": 8,
   "id": "dfa6ff4d-0336-4c50-a4f5-ade262d0c400",
   "metadata": {
    "tags": []
   },
   "outputs": [],
   "source": [
    "# Requisitos RU1 e RU2 - preços de fechamento\n",
    "# Função de leitura de preços de ações \n",
    "\n",
    "import numpy as np\n",
    "import pandas as pd\n",
    "\n",
    "def leitor_precos():\n",
    "    pass"
   ]
  },
  {
   "cell_type": "code",
   "execution_count": 7,
   "id": "63613dbb-1aeb-4408-892d-229b2f5653ca",
   "metadata": {
    "tags": []
   },
   "outputs": [],
   "source": [
    "# Requisito RU3 \n",
    "#Função de leitura da taxa CDI\n",
    "import numpy as np\n",
    "import pandas as pd\n",
    "def leitor_taxa():\n",
    "    pass\n"
   ]
  },
  {
   "cell_type": "code",
   "execution_count": null,
   "id": "02de1064-7acf-427a-8cf3-b7c69e16e2cd",
   "metadata": {},
   "outputs": [],
   "source": []
  }
 ],
 "metadata": {
  "kernelspec": {
   "display_name": "Python 3 (ipykernel)",
   "language": "python",
   "name": "python3"
  },
  "language_info": {
   "codemirror_mode": {
    "name": "ipython",
    "version": 3
   },
   "file_extension": ".py",
   "mimetype": "text/x-python",
   "name": "python",
   "nbconvert_exporter": "python",
   "pygments_lexer": "ipython3",
   "version": "3.11.5"
  }
 },
 "nbformat": 4,
 "nbformat_minor": 5
}
