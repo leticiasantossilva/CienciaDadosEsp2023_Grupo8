{
 "cells": [
  {
   "cell_type": "markdown",
   "id": "ab9aeebb-4203-425e-8b1c-6f2e9ac085b6",
   "metadata": {},
   "source": [
    "# Módulo de entrada e saída - es.py\n",
    "\n",
    "Este arquivo reúne os testes de funções do módulo de entrada e saída de dados do aplicativo que colete automaticamente dados da web e estime o modelo CAPM para ações na B3."
   ]
  },
  {
   "cell_type": "code",
   "execution_count": 2,
   "id": "2f04987a-01dc-4bdd-8a18-dff80ac3e740",
   "metadata": {
    "tags": []
   },
   "outputs": [],
   "source": [
    "# Importação de bibliotecas\n",
    "\n",
    "import numpy as np\n",
    "import matplotlib.pyplot as plt\n",
    "import pandas as pd\n",
    "import statsmodels.api as sm\n",
    "import statsmodels.formula.api as smf\n"
   ]
  },
  {
   "cell_type": "markdown",
   "id": "cbc3e684-f1b8-4ecc-987b-8c8ab519b08d",
   "metadata": {},
   "source": [
    "## Módulo de entrada de dados\n",
    "\n",
    "Testes das funções que atendem a requisitos de entrada de dados."
   ]
  },
  {
   "cell_type": "code",
   "execution_count": 3,
   "id": "dfa6ff4d-0336-4c50-a4f5-ade262d0c400",
   "metadata": {
    "tags": []
   },
   "outputs": [],
   "source": [
    "# Função de leitura de preços de ações \n",
    "def leitor_precos():\n",
    "    pass"
   ]
  },
  {
   "cell_type": "code",
   "execution_count": 4,
   "id": "63613dbb-1aeb-4408-892d-229b2f5653ca",
   "metadata": {
    "tags": []
   },
   "outputs": [],
   "source": [
    "#Função de leitura da taxa CDI\n",
    "def leitor_taxa():\n",
    "    pass\n"
   ]
  },
  {
   "cell_type": "code",
   "execution_count": 5,
   "id": "6979724b-77e3-4e59-b725-752c92ae14fd",
   "metadata": {
    "tags": []
   },
   "outputs": [],
   "source": [
    "#Função de leitura de índice da carteira de mercado\n",
    "def leitor_indice():\n",
    "    pass\n"
   ]
  },
  {
   "cell_type": "code",
   "execution_count": 6,
   "id": "f12a7850-7d12-44ad-b07c-040f39dbd76f",
   "metadata": {
    "tags": []
   },
   "outputs": [],
   "source": [
    "#Função de leitura de pasta\n",
    "def leitor_pasta():\n",
    "    pass\n"
   ]
  },
  {
   "cell_type": "code",
   "execution_count": 7,
   "id": "1a054dfa-e45a-4175-a595-573362ac7a87",
   "metadata": {
    "tags": []
   },
   "outputs": [],
   "source": [
    "#Função de leitura de ações\n",
    "def leitor_acoes():\n",
    "    pass\n"
   ]
  },
  {
   "cell_type": "markdown",
   "id": "a513e5a9-3f28-484f-9359-ad1aa9f62be9",
   "metadata": {},
   "source": [
    "## Módulo de saída\n",
    "\n",
    "Teste da função que atende ao requisito RU10, resultando em um arquivo de saída que deverá conter a data do resultado da estimação em cada semana em que o modelo for estimado.\n"
   ]
  },
  {
   "cell_type": "code",
   "execution_count": 8,
   "id": "c06eb51a-7977-4dea-aef2-ad384aa2934f",
   "metadata": {
    "tags": []
   },
   "outputs": [],
   "source": [
    "#Função de leitura de pasta\n",
    "def grava_arquivo():\n",
    "    pass\n"
   ]
  },
  {
   "cell_type": "code",
   "execution_count": null,
   "id": "02de1064-7acf-427a-8cf3-b7c69e16e2cd",
   "metadata": {},
   "outputs": [],
   "source": []
  }
 ],
 "metadata": {
  "kernelspec": {
   "display_name": "Python 3 (ipykernel)",
   "language": "python",
   "name": "python3"
  },
  "language_info": {
   "codemirror_mode": {
    "name": "ipython",
    "version": 3
   },
   "file_extension": ".py",
   "mimetype": "text/x-python",
   "name": "python",
   "nbconvert_exporter": "python",
   "pygments_lexer": "ipython3",
   "version": "3.11.5"
  }
 },
 "nbformat": 4,
 "nbformat_minor": 5
}
