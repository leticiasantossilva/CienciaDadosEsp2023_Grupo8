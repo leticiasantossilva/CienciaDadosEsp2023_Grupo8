{
 "cells": [
  {
   "cell_type": "markdown",
   "id": "ab9aeebb-4203-425e-8b1c-6f2e9ac085b6",
   "metadata": {},
   "source": [
    "# Módulo de entrada e saída - es.py\n",
    "\n",
    "Este arquivo reúne os testes de funções do módulo de entrada e saída de dados do aplicativo que colete automaticamente dados da web e estime o modelo CAPM para ações na B3."
   ]
  },
  {
   "cell_type": "code",
   "execution_count": 4,
   "id": "2f04987a-01dc-4bdd-8a18-dff80ac3e740",
   "metadata": {
    "tags": []
   },
   "outputs": [],
   "source": [
    "# Importação de bibliotecas\n",
    "\n",
    "import numpy as np\n",
    "import matplotlib.pyplot as plt\n",
    "import pandas as pd\n",
    "import sklearn\n"
   ]
  },
  {
   "cell_type": "markdown",
   "id": "cbc3e684-f1b8-4ecc-987b-8c8ab519b08d",
   "metadata": {},
   "source": [
    "## Módulo de entrada de dados\n",
    "\n",
    "Testes das funções que atendem a requisitos de entrada de dados."
   ]
  },
  {
   "cell_type": "markdown",
   "id": "933e1be0-7012-41ed-bbb9-8e696f357109",
   "metadata": {},
   "source": [
    "### RU1 e RU2 coleta de dados de preços de fechamento\n",
    "A coleta de dados deve ser feita no site do Yahoo Finance.\n",
    "O sistema deverá coletar dados de preço de fechamento das quarta-feiras de todas as semanas durante 260 semanas (5 anos)."
   ]
  },
  {
   "cell_type": "code",
   "execution_count": 3,
   "id": "dfa6ff4d-0336-4c50-a4f5-ade262d0c400",
   "metadata": {
    "tags": []
   },
   "outputs": [],
   "source": [
    "# Função de leitura de preços de ações \n",
    "def leitor_precos():\n",
    "    pass"
   ]
  },
  {
   "cell_type": "code",
   "execution_count": 79,
   "id": "ffacd42e-0dfd-40b7-8dd2-79733e63441e",
   "metadata": {
    "tags": []
   },
   "outputs": [
    {
     "name": "stderr",
     "output_type": "stream",
     "text": [
      "[*********************100%%**********************]  1 of 1 completed"
     ]
    },
    {
     "name": "stdout",
     "output_type": "stream",
     "text": [
      "                 Open       High        Low      Close  Adj Close     Volume\n",
      "Date                                                                        \n",
      "2019-01-17  38.549999  39.415001  38.314999  38.965000  37.399036  119284800\n",
      "2019-01-18  39.375000  39.470001  38.994999  39.205002  37.629387  135004000\n",
      "2019-01-22  39.102501  39.182499  38.154999  38.325001  36.784752  121576000\n",
      "2019-01-23  38.537498  38.785000  37.924999  38.480000  36.933525   92522400\n",
      "2019-01-24  38.527500  38.619999  37.935001  38.174999  36.640778  101766000\n"
     ]
    },
    {
     "name": "stderr",
     "output_type": "stream",
     "text": [
      "\n"
     ]
    }
   ],
   "source": [
    "# bibliotecas para leitor_precos()\n",
    "\n",
    "import yfinance as yf\n",
    "import pandas as pd\n",
    "from datetime import datetime, timedelta\n",
    "\n",
    "\n",
    "# Como calcular a data de início como sendo 260 semanas atrás da data atual\n",
    "end_date = datetime.now()\n",
    "start_date = end_date - timedelta(weeks=262)\n",
    "\n",
    "## Teste com apple (AAPL)\n",
    "ticker = 'AAPL'\n",
    "\n",
    "# Baixando histórico desse período\n",
    "data = yf.download(ticker, start=start_date, end=end_date)\n",
    "\n",
    "# Testar download\n",
    "print(data.head())"
   ]
  },
  {
   "cell_type": "code",
   "execution_count": 8,
   "id": "bce99f1f-521f-4dfa-a154-cbb9de4bde2e",
   "metadata": {
    "tags": []
   },
   "outputs": [
    {
     "name": "stdout",
     "output_type": "stream",
     "text": [
      "Date\n",
      "2019-01-31    39.937721\n",
      "2019-02-01    39.956928\n",
      "2019-02-04    41.091896\n",
      "2019-02-05    41.794968\n",
      "2019-02-06    41.809368\n",
      "Name: Adj Close, dtype: float64\n"
     ]
    }
   ],
   "source": [
    "# Pegando apenas os preços de fechamento\n",
    "fechamento = data['Adj Close']\n",
    "\n",
    "# Exibir os dados\n",
    "print(fechamento.head())"
   ]
  },
  {
   "cell_type": "code",
   "execution_count": 83,
   "id": "202edd48-f25f-407e-b5f6-d1fe640b2281",
   "metadata": {},
   "outputs": [
    {
     "name": "stderr",
     "output_type": "stream",
     "text": [
      "[*********************100%%**********************]  1 of 1 completed"
     ]
    },
    {
     "name": "stdout",
     "output_type": "stream",
     "text": [
      "Date\n",
      "2019-01-23     36.933521\n",
      "2019-01-30     39.652191\n",
      "2019-02-06     41.809357\n",
      "2019-02-13     41.010292\n",
      "2019-02-20     41.456104\n",
      "                 ...    \n",
      "2023-12-27    193.149994\n",
      "2024-01-03    184.250000\n",
      "2024-01-10    186.190002\n",
      "2024-01-17    182.679993\n",
      "2024-01-24    194.500000\n",
      "Name: Adj Close, Length: 260, dtype: float64\n"
     ]
    },
    {
     "name": "stderr",
     "output_type": "stream",
     "text": [
      "\n"
     ]
    }
   ],
   "source": [
    "# Testes para pegar os dados apenas das quarta-feiras das últimas 260 semanas\n",
    "\n",
    "##Exemplo apple\n",
    "ticker = 'AAPL'\n",
    "\n",
    "## Baixando dados históricos diários\n",
    "data1 = yf.download(ticker, start=start_date, end=end_date, interval='1d')\n",
    "\n",
    "## Filtrando apenas as quartas-feiras\n",
    "quarta_data = data1[data1.index.weekday == 2]  # 0 = segunda, ..., 6 = domingo\n",
    "\n",
    "# Testando exibição dos primeiros dados filtrados\n",
    "print(quarta_data['Adj Close'])"
   ]
  },
  {
   "cell_type": "code",
   "execution_count": 64,
   "id": "46df48c3-9785-44e4-b951-a2a5926d0e27",
   "metadata": {
    "tags": []
   },
   "outputs": [],
   "source": [
    "# Defininido a função de leitura de preços de ações\n",
    "\n",
    "    # Bibliotecas:\n",
    "import numpy as np\n",
    "import yfinance as yf\n",
    "import pandas as pd\n",
    "from datetime import datetime, timedelta\n",
    "\n",
    "\n",
    "def leitor_precos(ticker:str):\n",
    "    \"\"\"\" Esta função realiza a leitura de preço de fechamento de ações nas quarta-feiras de todas as últimas 260 semanas \"\"\"\n",
    "    end_date = datetime.now()\n",
    "    start_date = end_date - timedelta(weeks=262)\n",
    "    dado = yf.download(ticker, start=start_date, end=end_date, progress=False, interval='1d')\n",
    "    data_day = dado[dado.index.weekday == 2]\n",
    "    fechamento = data_day['Adj Close'].dropna()\n",
    "    return fechamento\n"
   ]
  },
  {
   "cell_type": "code",
   "execution_count": 65,
   "id": "22d829cc-ae88-4e7e-a700-95cdcd0c92f8",
   "metadata": {
    "tags": []
   },
   "outputs": [
    {
     "name": "stdout",
     "output_type": "stream",
     "text": [
      "Date\n",
      "2019-01-23     36.933521\n",
      "2019-01-30     39.652187\n",
      "2019-02-06     41.809357\n",
      "2019-02-13     41.010284\n",
      "2019-02-20     41.456108\n",
      "                 ...    \n",
      "2023-12-27    193.149994\n",
      "2024-01-03    184.250000\n",
      "2024-01-10    186.190002\n",
      "2024-01-17    182.679993\n",
      "2024-01-24    194.500000\n",
      "Name: Adj Close, Length: 260, dtype: float64\n"
     ]
    }
   ],
   "source": [
    "# Teste da função\n",
    "\n",
    "teste1 = leitor_precos('AAPL')\n",
    "\n",
    "print(teste1)"
   ]
  },
  {
   "cell_type": "markdown",
   "id": "b44d1afe-dd4f-4bed-8e14-d67f0c7dce1a",
   "metadata": {},
   "source": [
    "### Requisito RU3 - ativo livre de risco\n",
    "\n",
    "O sistema deverá coletar dados do ativo livre de risco (taxa CDI) pelas últimas 260 semanas."
   ]
  },
  {
   "cell_type": "code",
   "execution_count": 4,
   "id": "63613dbb-1aeb-4408-892d-229b2f5653ca",
   "metadata": {
    "tags": []
   },
   "outputs": [],
   "source": [
    "#Função de leitura da taxa CDI\n",
    "def leitor_taxa():\n",
    "    pass\n"
   ]
  },
  {
   "cell_type": "code",
   "execution_count": 39,
   "id": "911c83c6-7c23-439a-8fa7-936cbecc648a",
   "metadata": {
    "tags": []
   },
   "outputs": [
    {
     "name": "stdout",
     "output_type": "stream",
     "text": [
      "         data  valor\n",
      "0  01/06/1986   1.27\n",
      "1  01/07/1986   1.95\n",
      "2  01/08/1986   2.57\n",
      "3  01/09/1986   2.94\n",
      "4  01/10/1986   1.96\n"
     ]
    }
   ],
   "source": [
    "# Lendo cdi em arquivo json do Bacen\n",
    "\n",
    "cdi = pd.read_json('https://api.bcb.gov.br/dados/serie/bcdata.sgs.4390/dados?formato=json')\n",
    "\n",
    "print(cdi.head())"
   ]
  },
  {
   "cell_type": "code",
   "execution_count": 70,
   "id": "515a1932-b272-49ad-9f2b-0fc1c441a47d",
   "metadata": {
    "tags": []
   },
   "outputs": [
    {
     "name": "stdout",
     "output_type": "stream",
     "text": [
      "          data  valor\n",
      "391 2019-01-01   0.54\n",
      "392 2019-01-02   0.49\n",
      "393 2019-01-03   0.47\n",
      "394 2019-01-04   0.52\n",
      "395 2019-01-05   0.54\n",
      "..         ...    ...\n",
      "447 2023-01-09   0.97\n",
      "448 2023-01-10   1.00\n",
      "449 2023-01-11   0.92\n",
      "450 2023-01-12   0.89\n",
      "451 2024-01-01   0.75\n",
      "\n",
      "[61 rows x 2 columns]\n"
     ]
    }
   ],
   "source": [
    "df = pd.DataFrame(cdi)\n",
    "\n",
    "# Converter a coluna 'date' para o tipo datetime\n",
    "df['data'] = pd.to_datetime(df['data'])\n",
    "\n",
    "# Calcular a data de início (260 semanas atrás a partir da data atual)\n",
    "end_date = df['data'].max()\n",
    "start_date = end_date - timedelta(weeks=262)\n",
    "\n",
    "# Filtrar apenas os dados das últimas 260 semanas\n",
    "filtro1 = df[df['data'] >= start_date]\n",
    "\n",
    "# Exibir os dados filtrados\n",
    "print(filtro1)"
   ]
  },
  {
   "cell_type": "markdown",
   "id": "cd934235-442c-44c6-98e5-e38481543699",
   "metadata": {},
   "source": [
    "### Requisito RU4 - carteira de mercado\n",
    "\n",
    "O sistema deverá coletar dados da carteira de mercado (IBOVESPA) pelas últimas 260 semanas."
   ]
  },
  {
   "cell_type": "code",
   "execution_count": 5,
   "id": "6979724b-77e3-4e59-b725-752c92ae14fd",
   "metadata": {
    "tags": []
   },
   "outputs": [],
   "source": [
    "#Função de leitura de índice da carteira de mercado\n",
    "def leitor_indice():\n",
    "    pass\n"
   ]
  },
  {
   "cell_type": "code",
   "execution_count": 95,
   "id": "e7e999a1-2286-40f2-818e-867274034d54",
   "metadata": {
    "tags": []
   },
   "outputs": [
    {
     "name": "stderr",
     "output_type": "stream",
     "text": [
      "[*********************100%%**********************]  1 of 1 completed"
     ]
    },
    {
     "name": "stdout",
     "output_type": "stream",
     "text": [
      "               Open     High      Low    Close  Adj Close   Volume\n",
      "Date                                                              \n",
      "2019-01-10  93599.0  93987.0  93050.0  93806.0    93806.0  4840600\n",
      "2019-01-11  93806.0  93961.0  93359.0  93658.0    93658.0  5330500\n",
      "2019-01-14  93645.0  94474.0  93335.0  94474.0    94474.0  4486900\n",
      "2019-01-15  94474.0  94695.0  93402.0  94056.0    94056.0  4836400\n",
      "2019-01-16  94057.0  94393.0  93687.0  94393.0    94393.0  4257400\n"
     ]
    },
    {
     "name": "stderr",
     "output_type": "stream",
     "text": [
      "\n"
     ]
    }
   ],
   "source": [
    "# bibliotecas para leitor_indice()\n",
    "\n",
    "import yfinance as yf\n",
    "import pandas as pd\n",
    "from datetime import datetime, timedelta\n",
    "\n",
    "\n",
    "# Como calcular a data de início como sendo 260 semanas atrás da data atual\n",
    "end_date = datetime.now()\n",
    "start_date = end_date - timedelta(weeks=263)\n",
    "\n",
    "## índice Bovespa\n",
    "indice = '^BVSP'\n",
    "\n",
    "# Baixando histórico desse período\n",
    "data = yf.download(indice, start=start_date, end=end_date, interval='1d')\n",
    "\n",
    "# Teste de download de dados\n",
    "print(data.head())"
   ]
  },
  {
   "cell_type": "code",
   "execution_count": 96,
   "id": "ccb069e7-f1f6-4eca-a946-471464357a86",
   "metadata": {
    "tags": []
   },
   "outputs": [
    {
     "name": "stdout",
     "output_type": "stream",
     "text": [
      "Date\n",
      "2019-01-10    93806.0\n",
      "2019-01-11    93658.0\n",
      "2019-01-14    94474.0\n",
      "2019-01-15    94056.0\n",
      "2019-01-16    94393.0\n",
      "Name: Adj Close, dtype: float64\n"
     ]
    }
   ],
   "source": [
    "# Pegando apenas o fechamento do IBOVESPA\n",
    "\n",
    "fechamento = data['Adj Close']\n",
    "\n",
    "# Testar download\n",
    "print(fechamento.head())"
   ]
  },
  {
   "cell_type": "code",
   "execution_count": 97,
   "id": "abcfa4aa-9ba9-4ea9-bc75-ee9aec4f32ff",
   "metadata": {
    "tags": []
   },
   "outputs": [
    {
     "name": "stdout",
     "output_type": "stream",
     "text": [
      "Date\n",
      "2019-01-16     94393.000000\n",
      "2019-01-23     96558.000000\n",
      "2019-01-30     96996.000000\n",
      "2019-02-06     94636.000000\n",
      "2019-02-13     95842.000000\n",
      "                  ...      \n",
      "2023-12-27    134194.000000\n",
      "2024-01-03    132834.000000\n",
      "2024-01-10    130841.000000\n",
      "2024-01-17    128524.000000\n",
      "2024-01-24    127815.703125\n",
      "Name: Adj Close, Length: 254, dtype: float64\n"
     ]
    }
   ],
   "source": [
    "# Filtrando apenas os fechamentos das quartas-feiras\n",
    "dado_bov = fechamento[fechamento.index.weekday == 2]  # 0 = segunda, ..., 6 = domingo\n",
    "\n",
    "# Testando exibição dos primeiros dados filtrados\n",
    "print(dado_bov)"
   ]
  },
  {
   "cell_type": "code",
   "execution_count": 112,
   "id": "b597f8d4-8ce3-4ea2-afb6-c5238774733c",
   "metadata": {
    "tags": []
   },
   "outputs": [],
   "source": [
    "#definindo função de leitura da carteira de mercado (IBOVESPA)\n",
    "\n",
    "def leitor_indice():\n",
    "    \"\"\"\" Esta função realiza a leitura de fechamento do Bovespa nas quartas-feiras de todas as últimas 260 semanas \"\"\"\n",
    "    end_date = datetime.now()\n",
    "    start_date = end_date - timedelta(weeks=262)\n",
    "    bov = yf.download(\"^BVSP\", start=start_date, end=end_date, progress=False, interval='1d')\n",
    "    fechamento = bov['Adj Close']\n",
    "    mercado = fechamento[fechamento.index.weekday == 2]\n",
    "    return mercado\n"
   ]
  },
  {
   "cell_type": "code",
   "execution_count": 113,
   "id": "a17fa9c1-a44b-4d60-b8c4-f92cf67ecc74",
   "metadata": {
    "tags": []
   },
   "outputs": [
    {
     "data": {
      "text/plain": [
       "Date\n",
       "2019-01-23     96558.000000\n",
       "2019-01-30     96996.000000\n",
       "2019-02-06     94636.000000\n",
       "2019-02-13     95842.000000\n",
       "2019-02-20     96545.000000\n",
       "                  ...      \n",
       "2023-12-27    134194.000000\n",
       "2024-01-03    132834.000000\n",
       "2024-01-10    130841.000000\n",
       "2024-01-17    128524.000000\n",
       "2024-01-24    127815.703125\n",
       "Name: Adj Close, Length: 253, dtype: float64"
      ]
     },
     "execution_count": 113,
     "metadata": {},
     "output_type": "execute_result"
    }
   ],
   "source": [
    "# teste da função\n",
    "\n",
    "leitor_indice()"
   ]
  },
  {
   "cell_type": "markdown",
   "id": "558d277c-340f-43e6-b46d-6a9bdf40bfb7",
   "metadata": {},
   "source": [
    "### Definindo banco de 10 ações da B3\n",
    "\n",
    "A amostra deverá conter dados de 10 empresas com ações negociadas no mercado à vista da B3. \n",
    "\n",
    "Nesta função o usuário poderá escolher qual das 10 ações deseja calcular o CAPM"
   ]
  },
  {
   "cell_type": "code",
   "execution_count": 7,
   "id": "1a054dfa-e45a-4175-a595-573362ac7a87",
   "metadata": {
    "tags": []
   },
   "outputs": [],
   "source": [
    "#Função de leitura de ações\n",
    "def leitor_acoes():\n",
    "    pass\n"
   ]
  },
  {
   "cell_type": "code",
   "execution_count": null,
   "id": "25579e5d-3521-4e61-bc54-c301bb5bc51e",
   "metadata": {},
   "outputs": [],
   "source": []
  },
  {
   "cell_type": "markdown",
   "id": "5090814a-aed4-448b-b0ac-a01d1543be1d",
   "metadata": {},
   "source": [
    "### Definindo pasta de saída\n",
    "\n",
    "Fase de entrada da escolha de pasta onde devem ser guardados os resultados CAPM em arquivos CSV  em cada semana em que o modelo for estimado.\n",
    "\n",
    "Testes da função de leitura do teclado para escolha da pasta de gravação na primeira iniciação do sistema - leitor_pasta()"
   ]
  },
  {
   "cell_type": "code",
   "execution_count": 6,
   "id": "f12a7850-7d12-44ad-b07c-040f39dbd76f",
   "metadata": {
    "tags": []
   },
   "outputs": [],
   "source": [
    "#Função de leitura de pasta\n",
    "def leitor_pasta():\n",
    "    pass\n"
   ]
  },
  {
   "cell_type": "markdown",
   "id": "a513e5a9-3f28-484f-9359-ad1aa9f62be9",
   "metadata": {},
   "source": [
    "## Módulo de saída\n",
    "\n",
    "Teste da função que atende ao requisito RU10, resultando em um arquivo de saída que deverá conter a data do resultado da estimação em cada semana em que o modelo for estimado.\n"
   ]
  },
  {
   "cell_type": "code",
   "execution_count": 8,
   "id": "c06eb51a-7977-4dea-aef2-ad384aa2934f",
   "metadata": {
    "tags": []
   },
   "outputs": [],
   "source": [
    "#Função de leitura de pasta\n",
    "def grava_arquivo():\n",
    "    pass\n"
   ]
  },
  {
   "cell_type": "code",
   "execution_count": null,
   "id": "02de1064-7acf-427a-8cf3-b7c69e16e2cd",
   "metadata": {},
   "outputs": [],
   "source": []
  }
 ],
 "metadata": {
  "kernelspec": {
   "display_name": "Python 3 (ipykernel)",
   "language": "python",
   "name": "python3"
  },
  "language_info": {
   "codemirror_mode": {
    "name": "ipython",
    "version": 3
   },
   "file_extension": ".py",
   "mimetype": "text/x-python",
   "name": "python",
   "nbconvert_exporter": "python",
   "pygments_lexer": "ipython3",
   "version": "3.11.5"
  }
 },
 "nbformat": 4,
 "nbformat_minor": 5
}
