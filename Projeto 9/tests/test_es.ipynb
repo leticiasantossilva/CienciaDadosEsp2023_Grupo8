{
 "cells": [
  {
   "cell_type": "markdown",
   "id": "ab9aeebb-4203-425e-8b1c-6f2e9ac085b6",
   "metadata": {},
   "source": [
    "# Módulo de entrada e saída - es.py\n",
    "\n",
    "Este arquivo reúne os testes de funções do módulo de entrada e saída de dados do aplicativo que colete automaticamente dados da web e estime o modelo CAPM para ações na B3."
   ]
  },
  {
   "cell_type": "code",
   "execution_count": 187,
   "id": "2f04987a-01dc-4bdd-8a18-dff80ac3e740",
   "metadata": {
    "tags": []
   },
   "outputs": [],
   "source": [
    "# Importação de bibliotecas\n",
    "\n",
    "import numpy as np\n",
    "import yfinance as yf\n",
    "import pandas as pd\n",
    "from datetime import datetime, timedelta\n",
    "import requests\n",
    "import os\n",
    "import statsmodels.api as sm\n"
   ]
  },
  {
   "cell_type": "markdown",
   "id": "cbc3e684-f1b8-4ecc-987b-8c8ab519b08d",
   "metadata": {},
   "source": [
    "## Módulo de entrada de dados\n",
    "\n",
    "Testes das funções que atendem a requisitos de entrada de dados."
   ]
  },
  {
   "cell_type": "markdown",
   "id": "933e1be0-7012-41ed-bbb9-8e696f357109",
   "metadata": {},
   "source": [
    "### RU1 e RU2 coleta de dados de preços de fechamento\n",
    "A coleta de dados deve ser feita no site do Yahoo Finance.\n",
    "O sistema deverá coletar dados de preço de fechamento das quarta-feiras de todas as semanas durante 260 semanas (5 anos)."
   ]
  },
  {
   "cell_type": "code",
   "execution_count": 3,
   "id": "dfa6ff4d-0336-4c50-a4f5-ade262d0c400",
   "metadata": {
    "tags": []
   },
   "outputs": [],
   "source": [
    "# Função de leitura de preços de ações \n",
    "def leitor_precos():\n",
    "    pass"
   ]
  },
  {
   "cell_type": "code",
   "execution_count": 5,
   "id": "ffacd42e-0dfd-40b7-8dd2-79733e63441e",
   "metadata": {
    "tags": []
   },
   "outputs": [
    {
     "name": "stderr",
     "output_type": "stream",
     "text": [
      "[*********************100%%**********************]  1 of 1 completed"
     ]
    },
    {
     "name": "stdout",
     "output_type": "stream",
     "text": [
      "                 Open       High        Low      Close  Adj Close    Volume\n",
      "Date                                                                       \n",
      "2019-01-17  52.439999  54.709999  52.270000  54.230000  36.991947  25525500\n",
      "2019-01-18  54.950001  55.599998  54.250000  54.759998  37.353477  25815900\n",
      "2019-01-21  54.849998  55.349998  54.389999  55.279999  37.708183  10676600\n",
      "2019-01-22  54.480000  55.080002  54.349998  55.080002  37.571758  17154300\n",
      "2019-01-23  55.459999  55.900002  55.330002  55.650002  37.960575  13470400\n"
     ]
    },
    {
     "name": "stderr",
     "output_type": "stream",
     "text": [
      "\n"
     ]
    }
   ],
   "source": [
    "# bibliotecas para leitor_precos()\n",
    "\n",
    "import yfinance as yf\n",
    "import pandas as pd\n",
    "import numpy as np\n",
    "from datetime import datetime, timedelta\n",
    "\n",
    "\n",
    "# Como calcular a data de início como sendo 260 semanas atrás da data atual\n",
    "end_date = datetime.now()\n",
    "start_date = end_date - timedelta(weeks=262)\n",
    "\n",
    "## Teste com apple (AAPL)\n",
    "ticker = 'VALE3.SA'\n",
    "\n",
    "# Baixando histórico desse período\n",
    "data = yf.download(ticker, start=start_date, end=end_date)\n",
    "\n",
    "# Testar download\n",
    "print(data.head())"
   ]
  },
  {
   "cell_type": "code",
   "execution_count": 2,
   "id": "bce99f1f-521f-4dfa-a154-cbb9de4bde2e",
   "metadata": {
    "tags": []
   },
   "outputs": [
    {
     "name": "stdout",
     "output_type": "stream",
     "text": [
      "Date\n",
      "2019-01-17    36.991951\n",
      "2019-01-18    37.353477\n",
      "2019-01-21    37.708183\n",
      "2019-01-22    37.571754\n",
      "2019-01-23    37.960575\n",
      "Name: Adj Close, dtype: float64\n"
     ]
    }
   ],
   "source": [
    "# Pegando apenas os preços de fechamento\n",
    "fechamento = data['Adj Close']\n",
    "\n",
    "# Exibir os dados\n",
    "print(fechamento.head())"
   ]
  },
  {
   "cell_type": "code",
   "execution_count": 10,
   "id": "78c6d438-6fb4-49f1-b00e-098d7fbd191a",
   "metadata": {
    "tags": []
   },
   "outputs": [
    {
     "name": "stdout",
     "output_type": "stream",
     "text": [
      "Date\n",
      "2019-01-18    0.009726\n",
      "2019-01-21    0.009451\n",
      "2019-01-22   -0.003625\n",
      "2019-01-23    0.010296\n",
      "2019-01-24    0.008945\n",
      "                ...   \n",
      "2024-01-19   -0.013129\n",
      "2024-01-22   -0.004415\n",
      "2024-01-23    0.020439\n",
      "2024-01-24    0.010065\n",
      "2024-01-25   -0.022278\n",
      "Name: Adj Close, Length: 1247, dtype: float64\n",
      "<class 'pandas.core.series.Series'>\n"
     ]
    }
   ],
   "source": [
    "def leitor_retornos(series):\n",
    "    return np.log(series / series.shift(1)).dropna()\n",
    "\n",
    "retornos = leitor_retornos(fechamento)\n",
    "\n",
    "print(retornos)\n",
    "print(type(retornos))"
   ]
  },
  {
   "cell_type": "code",
   "execution_count": 8,
   "id": "c4c39294-af5e-419c-8a55-4519249df75e",
   "metadata": {
    "tags": []
   },
   "outputs": [
    {
     "name": "stdout",
     "output_type": "stream",
     "text": [
      "Date\n",
      "2019-01-18    0.009773\n",
      "2019-01-21    0.009496\n",
      "2019-01-22   -0.003618\n",
      "2019-01-23    0.010349\n",
      "2019-01-24    0.008985\n",
      "                ...   \n",
      "2024-01-19   -0.013044\n",
      "2024-01-22   -0.004405\n",
      "2024-01-23    0.020649\n",
      "2024-01-24    0.010116\n",
      "2024-01-25   -0.022031\n",
      "Name: Adj Close, Length: 1247, dtype: float64\n"
     ]
    }
   ],
   "source": [
    "# Calculando retorno\n",
    "\n",
    "retorno = fechamento.pct_change().dropna()\n",
    "\n",
    "# Testar novo dado\n",
    "print(retorno)"
   ]
  },
  {
   "cell_type": "code",
   "execution_count": 9,
   "id": "98333625-7142-4839-8b4d-09e42073fa8c",
   "metadata": {
    "tags": []
   },
   "outputs": [
    {
     "name": "stdout",
     "output_type": "stream",
     "text": [
      "<class 'pandas.core.series.Series'>\n"
     ]
    }
   ],
   "source": [
    "print(type(retorno))"
   ]
  },
  {
   "cell_type": "code",
   "execution_count": 83,
   "id": "202edd48-f25f-407e-b5f6-d1fe640b2281",
   "metadata": {},
   "outputs": [
    {
     "name": "stderr",
     "output_type": "stream",
     "text": [
      "[*********************100%%**********************]  1 of 1 completed"
     ]
    },
    {
     "name": "stdout",
     "output_type": "stream",
     "text": [
      "Date\n",
      "2019-01-23     36.933521\n",
      "2019-01-30     39.652191\n",
      "2019-02-06     41.809357\n",
      "2019-02-13     41.010292\n",
      "2019-02-20     41.456104\n",
      "                 ...    \n",
      "2023-12-27    193.149994\n",
      "2024-01-03    184.250000\n",
      "2024-01-10    186.190002\n",
      "2024-01-17    182.679993\n",
      "2024-01-24    194.500000\n",
      "Name: Adj Close, Length: 260, dtype: float64\n"
     ]
    },
    {
     "name": "stderr",
     "output_type": "stream",
     "text": [
      "\n"
     ]
    }
   ],
   "source": [
    "# Testes para pegar os dados apenas das quarta-feiras das últimas 260 semanas\n",
    "\n",
    "##Exemplo apple\n",
    "ticker = 'AAPL'\n",
    "\n",
    "## Baixando dados históricos diários\n",
    "data1 = yf.download(ticker, start=start_date, end=end_date, interval='1d')\n",
    "\n",
    "## Filtrando apenas as quartas-feiras\n",
    "quarta_data = data1[data1.index.weekday == 2]  # 0 = segunda, ..., 6 = domingo\n",
    "\n",
    "# Testando exibição dos primeiros dados filtrados\n",
    "print(quarta_data['Adj Close'])"
   ]
  },
  {
   "cell_type": "code",
   "execution_count": 11,
   "id": "46df48c3-9785-44e4-b951-a2a5926d0e27",
   "metadata": {
    "tags": []
   },
   "outputs": [],
   "source": [
    "# Defininido a função de leitura de preços de ações\n",
    "\n",
    "    # Bibliotecas:\n",
    "import numpy as np\n",
    "import yfinance as yf\n",
    "import pandas as pd\n",
    "from datetime import datetime, timedelta\n",
    "\n",
    "\n",
    "def leitor_precos(ticker:str) -> np.array:\n",
    "    \"\"\"\" Esta função realiza a leitura de preço de fechamento de ações nas quarta-feiras de todas as últimas 260 semanas e calcula seus retornos \"\"\"\n",
    "    end_date = datetime.now()\n",
    "    start_date = end_date - timedelta(weeks=263)\n",
    "    dado = yf.download(ticker, start=start_date, end=end_date, progress=False, interval='1d')\n",
    "    data_day = dado[dado.index.weekday == 2]\n",
    "    fechamento = data_day['Adj Close'].pct_change().dropna()\n",
    "    return np.array(fechamento)\n"
   ]
  },
  {
   "cell_type": "code",
   "execution_count": 185,
   "id": "22d829cc-ae88-4e7e-a700-95cdcd0c92f8",
   "metadata": {
    "tags": []
   },
   "outputs": [
    {
     "name": "stdout",
     "output_type": "stream",
     "text": [
      "[-6.58296856e-03  7.36098210e-02  5.44022733e-02 -1.91124639e-02\n",
      "  1.08710222e-02  1.65089038e-02 -2.00137976e-03  4.11983198e-02\n",
      "  3.54963842e-02  1.64734015e-03  3.65045735e-02  2.69772092e-02\n",
      "  1.25111699e-02  1.98394404e-02  1.62195231e-02 -3.61962193e-02\n",
      " -5.54202640e-02 -4.26354265e-02 -2.95438673e-02  2.90901323e-02\n",
      "  6.38214297e-02  1.89507592e-02  9.75384863e-03  2.30730600e-02\n",
      " -5.77271488e-03  5.90399891e-04  2.61616392e-02  2.09424258e-02\n",
      " -6.57153501e-02  2.25096073e-02  4.87793312e-02 -3.34368461e-02\n",
      "  1.78075784e-02  6.88369705e-02 -3.66742360e-03 -7.81076679e-03\n",
      " -9.36515631e-03  3.68559593e-02  3.23306548e-02  3.75899476e-02\n",
      "  3.29007230e-04  5.74693077e-02  3.11927249e-02 -4.83983890e-03\n",
      "  1.76682142e-02 -2.27750561e-02  3.44996540e-02  3.31278681e-02\n",
      "  8.38278193e-02  2.68808750e-02  2.04277971e-02  2.09004255e-02\n",
      " -8.91037214e-03  2.03032512e-02 -1.09412396e-02 -9.56987135e-02\n",
      "  3.44780527e-02 -9.02094638e-02 -1.04418527e-01 -4.66212353e-03\n",
      " -1.87763190e-02  1.04437477e-01  6.90042685e-02 -2.92866411e-02\n",
      "  4.21225270e-02  4.48333362e-02  2.61214735e-02  3.76399542e-02\n",
      " -3.50821356e-03  2.20362018e-02  8.52607798e-02 -3.54254763e-03\n",
      "  2.40905052e-02  1.12480052e-02  4.74033711e-02  2.49889553e-02\n",
      " -4.63060299e-03 -2.29508982e-02  1.58065199e-01  2.86313652e-02\n",
      "  2.38695445e-02  9.34686604e-02  3.85501473e-02 -1.07153638e-01\n",
      " -4.42378671e-02 -4.46803360e-02  8.11239754e-02 -6.30335385e-03\n",
      "  5.30935491e-02 -3.56466874e-02 -4.85153810e-02  3.37231565e-02\n",
      "  4.12887116e-02 -1.22185906e-02 -1.69448032e-02  6.07600744e-02\n",
      " -1.05622672e-02  4.95155989e-02  2.46459257e-02  2.10751030e-02\n",
      " -5.32454234e-02  3.38860998e-02  8.70942943e-03  7.59677711e-02\n",
      " -5.71589379e-02  1.23362482e-02 -3.36066472e-02 -4.19595945e-02\n",
      " -2.62464864e-02 -1.70408155e-02  3.98399632e-02 -3.74317900e-02\n",
      "  1.71537387e-02  4.70733180e-02  3.22907414e-02  1.11337763e-02\n",
      "  5.99298472e-04 -4.10239916e-02 -3.99803505e-02  1.56391239e-02\n",
      "  1.73228868e-02 -1.41112837e-02  1.65522196e-02  2.37552222e-02\n",
      "  2.72762476e-02  2.43828909e-02  5.55635798e-02  3.16802291e-02\n",
      " -2.51425109e-02 -2.88870425e-03  1.35883242e-02 -5.93040191e-03\n",
      "  3.42809115e-03  1.36646731e-02  2.79723857e-02  1.70482478e-02\n",
      " -3.91979400e-02 -2.13379933e-02 -2.07061280e-02 -5.81120923e-03\n",
      " -7.67580129e-03  5.92573061e-02 -2.74662548e-03  1.77357390e-02\n",
      " -2.21408998e-02  3.76556160e-02  5.50524127e-02  1.74757307e-02\n",
      "  6.25720399e-02  2.41033812e-02 -2.04128745e-02  2.12935748e-02\n",
      " -2.48634480e-02  3.48727733e-03 -5.29825169e-02 -3.93429345e-02\n",
      "  1.01133358e-01  3.77955545e-03 -2.11593680e-02 -7.23269336e-02\n",
      "  4.05449908e-02 -2.16740184e-02 -2.06198390e-02  6.65456496e-02\n",
      "  4.44156860e-02 -3.34140785e-02 -8.32228205e-03 -1.86032931e-02\n",
      " -6.37443854e-02  6.03562735e-02 -1.16279694e-01 -3.87713643e-02\n",
      " -2.13026335e-03  5.82834853e-02 -5.04335704e-03 -8.46850024e-02\n",
      " -5.90497021e-04  2.86660334e-02  2.65029822e-02  1.79821965e-02\n",
      "  5.18933617e-02  2.45034243e-02  5.95703432e-02  2.01352504e-02\n",
      "  3.13754950e-02 -4.02176336e-02 -6.15412448e-02 -8.01421090e-03\n",
      " -4.16778806e-03 -1.02374484e-02 -2.52407438e-02 -2.29579803e-02\n",
      " -5.50545293e-02  3.99015657e-02  3.81621901e-02 -2.89252843e-02\n",
      " -6.85118865e-02  1.03210459e-01  1.53237633e-02 -2.01232178e-02\n",
      " -4.78956441e-02  1.61061644e-02 -5.41860959e-02 -6.94722442e-02\n",
      "  2.53888246e-03  5.64261583e-02  1.28848175e-02  4.91826422e-02\n",
      "  2.51655443e-02  4.46265542e-02  2.40070361e-02 -4.13313304e-02\n",
      " -2.41757351e-02  5.20267567e-02  7.84925816e-04  3.16361810e-02\n",
      "  1.86276926e-02  1.85978063e-02 -2.23497158e-02  4.70331650e-02\n",
      " -2.30866806e-02  2.25329915e-02  3.64884859e-02 -3.63632383e-03\n",
      " -4.92217789e-03  3.14827059e-02  3.21587815e-03  3.44730569e-02\n",
      "  5.43946104e-05  2.87562176e-02  1.09907576e-02 -8.15345551e-03\n",
      "  2.80866429e-02 -3.07535325e-03 -9.87153592e-03 -7.47221867e-02\n",
      " -7.75322456e-03  2.57687752e-02  3.60534434e-02 -2.52597982e-02\n",
      " -4.75643737e-02  7.34747968e-03 -2.88336509e-02  1.89521744e-02\n",
      "  3.53563890e-02 -2.20244634e-02 -2.69562438e-02  1.67737395e-02\n",
      "  5.12732102e-02  2.93492733e-02  1.75522746e-02 -1.01406224e-02\n",
      "  1.55780339e-02  2.93261188e-02 -1.58112991e-02 -8.62294266e-03\n",
      " -4.60781474e-02  1.05291856e-02 -1.88517628e-02  6.47033490e-02]\n"
     ]
    }
   ],
   "source": [
    "# Teste da função\n",
    "\n",
    "teste1 = leitor_precos('AAPL')\n",
    "\n",
    "print(teste1)"
   ]
  },
  {
   "cell_type": "markdown",
   "id": "b44d1afe-dd4f-4bed-8e14-d67f0c7dce1a",
   "metadata": {},
   "source": [
    "### Requisito RU3 - ativo livre de risco\n",
    "\n",
    "O sistema deverá coletar dados do ativo livre de risco (taxa CDI) pelas últimas 260 semanas."
   ]
  },
  {
   "cell_type": "code",
   "execution_count": 4,
   "id": "63613dbb-1aeb-4408-892d-229b2f5653ca",
   "metadata": {
    "tags": []
   },
   "outputs": [],
   "source": [
    "#Função de leitura da taxa CDI\n",
    "def leitor_taxa():\n",
    "    pass\n"
   ]
  },
  {
   "cell_type": "code",
   "execution_count": 178,
   "id": "6d901bbd-1826-4a98-89b3-e27c18204187",
   "metadata": {
    "tags": []
   },
   "outputs": [
    {
     "name": "stdout",
     "output_type": "stream",
     "text": [
      "           data     valor\n",
      "8189 2018-12-07  0.024620\n",
      "8190 2018-12-10  0.024620\n",
      "8191 2018-12-11  0.024620\n",
      "8192 2018-12-12  0.024620\n",
      "8193 2018-12-13  0.024620\n",
      "...         ...       ...\n",
      "9472 2024-01-18  0.043739\n",
      "9473 2024-01-19  0.043739\n",
      "9474 2024-01-22  0.043739\n",
      "9475 2024-01-23  0.043739\n",
      "9476 2024-01-24  0.043739\n",
      "\n",
      "[1288 rows x 2 columns]\n"
     ]
    }
   ],
   "source": [
    "import requests\n",
    "import pandas as pd\n",
    "\n",
    "# Usando a URL da API de CDI diário do Bacen\n",
    "url = \"https://api.bcb.gov.br/dados/serie/bcdata.sgs.12/dados?formato=json\"\n",
    "\n",
    "# Fazendo uma solicitação GET para obter os dados\n",
    "api = requests.get(url)\n",
    "\n",
    "# Convertendo a resposta JSON em um DataFrame do pandas\n",
    "dados = api.json()\n",
    "cdi = pd.DataFrame(dados)\n",
    "\n",
    "# Convertendo a coluna 'data' para o formato de data do pandas\n",
    "cdi['data'] = pd.to_datetime(cdi['data'], format='%d/%m/%Y')\n",
    "\n",
    "# Filtrando dados para o intervalo específico da aplicação\n",
    "end_date = datetime.now()\n",
    "start_date = end_date - timedelta(weeks=268)\n",
    "cdi_filtro = cdi[(cdi['data'] >= start_date) & (cdi['data'] <= end_date)]\n",
    "\n",
    "#Testar o DataFrame resultante\n",
    "print(cdi_filtro)"
   ]
  },
  {
   "cell_type": "code",
   "execution_count": 177,
   "id": "9cc31392-3419-4020-88d2-0d519f5bae50",
   "metadata": {
    "tags": []
   },
   "outputs": [
    {
     "name": "stdout",
     "output_type": "stream",
     "text": [
      "               valor\n",
      "data                \n",
      "2018-12-12  0.024620\n",
      "2018-12-19  0.024620\n",
      "2018-12-26  0.024620\n",
      "2019-01-02  0.024620\n",
      "2019-01-09  0.024620\n",
      "...              ...\n",
      "2023-12-27  0.043739\n",
      "2024-01-03  0.043739\n",
      "2024-01-10  0.043739\n",
      "2024-01-17  0.043739\n",
      "2024-01-24  0.043739\n",
      "\n",
      "[260 rows x 1 columns]\n"
     ]
    }
   ],
   "source": [
    "# Definindo a coluna 'data' como índice\n",
    "cdi_filtro.set_index('data', inplace=True)\n",
    "\n",
    "# Filtrando apenas as taxas cdi de quarta-feiras\n",
    "dado_cdi = cdi_filtro[cdi_filtro.index.weekday == 2]\n",
    "\n",
    "\n",
    "print(dado_cdi)"
   ]
  },
  {
   "cell_type": "code",
   "execution_count": 254,
   "id": "7c31dbfc-4eae-406c-a4ad-c74592a0d466",
   "metadata": {
    "tags": []
   },
   "outputs": [],
   "source": [
    "# Definidno a função de leitura da taxa CDI\n",
    "\n",
    "def leitor_taxa():\n",
    "    \"\"\"\" Esta função realiza a leitura da taxa CDI nas quartas-feiras de todas as últimas 260 semanas \"\"\"\n",
    "    # URL da API de CDI diário do Bacen\n",
    "    url = \"https://api.bcb.gov.br/dados/serie/bcdata.sgs.12/dados?formato=json\"\n",
    "    api = requests.get(url)\n",
    "    \n",
    "    # Leitura de dados em json\n",
    "    dados = api.json()\n",
    "    cdi = pd.DataFrame(dados)\n",
    "    \n",
    "    # Formatando e filtrando período\n",
    "    cdi['data'] = pd.to_datetime(cdi['data'], format='%d/%m/%Y')\n",
    "    cdi['valor'] = pd.to_numeric(cdi['valor'], errors='coerce')\n",
    "    \n",
    "    end_date = datetime.now()\n",
    "    start_date = end_date - timedelta(weeks=268)\n",
    "    filtro = cdi[(cdi['data'] >= start_date) & (cdi['data'] <= end_date)]\n",
    "    \n",
    "    # selecionando as quarta-feiras\n",
    "    filtro.set_index('data', inplace=True)\n",
    "    dado_cdi = filtro[filtro.index.weekday == 2]\n",
    "    retorno = dado_cdi['valor'].dropna()\n",
    "    return np.array(retorno)\n"
   ]
  },
  {
   "cell_type": "code",
   "execution_count": 256,
   "id": "7c5af5b5-b6d9-404e-8900-cff109d74bc9",
   "metadata": {
    "tags": []
   },
   "outputs": [
    {
     "name": "stdout",
     "output_type": "stream",
     "text": [
      "(260,)\n"
     ]
    }
   ],
   "source": [
    "# Teste de funcionamento da função\n",
    "\n",
    "cdi_t = leitor_taxa()\n",
    "\n",
    "print(cdi_t.shape)"
   ]
  },
  {
   "cell_type": "markdown",
   "id": "cd934235-442c-44c6-98e5-e38481543699",
   "metadata": {},
   "source": [
    "### Requisito RU4 - carteira de mercado\n",
    "\n",
    "O sistema deverá coletar dados da carteira de mercado (IBOVESPA) pelas últimas 260 semanas."
   ]
  },
  {
   "cell_type": "code",
   "execution_count": 5,
   "id": "6979724b-77e3-4e59-b725-752c92ae14fd",
   "metadata": {
    "tags": []
   },
   "outputs": [],
   "source": [
    "#Função de leitura de índice da carteira de mercado\n",
    "def leitor_indice():\n",
    "    pass\n"
   ]
  },
  {
   "cell_type": "code",
   "execution_count": 176,
   "id": "e7e999a1-2286-40f2-818e-867274034d54",
   "metadata": {
    "tags": []
   },
   "outputs": [
    {
     "name": "stderr",
     "output_type": "stream",
     "text": [
      "[*********************100%%**********************]  1 of 1 completed"
     ]
    },
    {
     "name": "stdout",
     "output_type": "stream",
     "text": [
      "               Open     High      Low    Close  Adj Close   Volume\n",
      "Date                                                              \n",
      "2018-11-29  89145.0  89910.0  88475.0  89710.0    89710.0  4257400\n",
      "2018-11-30  89709.0  90246.0  89258.0  89504.0    89504.0  6736700\n",
      "2018-12-03  89511.0  91242.0  89429.0  89820.0    89820.0  5935600\n",
      "2018-12-04  89820.0  90452.0  88041.0  88624.0    88624.0  4879700\n",
      "2018-12-05  88644.0  89111.0  88449.0  89040.0    89040.0  2790000\n"
     ]
    },
    {
     "name": "stderr",
     "output_type": "stream",
     "text": [
      "\n"
     ]
    }
   ],
   "source": [
    "# bibliotecas para leitor_indice()\n",
    "\n",
    "import yfinance as yf\n",
    "import pandas as pd\n",
    "from datetime import datetime, timedelta\n",
    "\n",
    "\n",
    "# Como calcular a data de início como sendo 260 semanas atrás da data atual\n",
    "end_date = datetime.now()\n",
    "start_date = end_date - timedelta(weeks=269)\n",
    "\n",
    "## índice Bovespa\n",
    "indice = '^BVSP'\n",
    "\n",
    "# Baixando histórico desse período\n",
    "data = yf.download(indice, start=start_date, end=end_date, interval='1d')\n",
    "\n",
    "# Teste de download de dados\n",
    "print(data.head())"
   ]
  },
  {
   "cell_type": "code",
   "execution_count": 177,
   "id": "ccb069e7-f1f6-4eca-a946-471464357a86",
   "metadata": {
    "tags": []
   },
   "outputs": [
    {
     "name": "stdout",
     "output_type": "stream",
     "text": [
      "Date\n",
      "2018-11-29    89710.0\n",
      "2018-11-30    89504.0\n",
      "2018-12-03    89820.0\n",
      "2018-12-04    88624.0\n",
      "2018-12-05    89040.0\n",
      "Name: Adj Close, dtype: float64\n"
     ]
    }
   ],
   "source": [
    "# Pegando apenas o fechamento do IBOVESPA\n",
    "\n",
    "fechamento = data['Adj Close']\n",
    "\n",
    "# Testar download\n",
    "print(fechamento.head())"
   ]
  },
  {
   "cell_type": "code",
   "execution_count": 178,
   "id": "01b62dd8-e960-4f18-9f88-27b1e88b00d7",
   "metadata": {
    "tags": []
   },
   "outputs": [
    {
     "name": "stdout",
     "output_type": "stream",
     "text": [
      "Date\n",
      "2018-11-30   -0.002296\n",
      "2018-12-03    0.003531\n",
      "2018-12-04   -0.013316\n",
      "2018-12-05    0.004694\n",
      "2018-12-06   -0.002179\n",
      "Name: Adj Close, dtype: float64\n"
     ]
    }
   ],
   "source": [
    "# Calculando retorno\n",
    "\n",
    "retorno = fechamento.pct_change().dropna()\n",
    "\n",
    "# Testar novo dado\n",
    "print(retorno.head())"
   ]
  },
  {
   "cell_type": "code",
   "execution_count": 179,
   "id": "abcfa4aa-9ba9-4ea9-bc75-ee9aec4f32ff",
   "metadata": {
    "tags": []
   },
   "outputs": [
    {
     "name": "stdout",
     "output_type": "stream",
     "text": [
      "Date\n",
      "2018-12-05     89040.0\n",
      "2018-12-12     86977.0\n",
      "2018-12-19     85674.0\n",
      "2018-12-26     85136.0\n",
      "2019-01-02     91012.0\n",
      "                ...   \n",
      "2023-12-27    134194.0\n",
      "2024-01-03    132834.0\n",
      "2024-01-10    130841.0\n",
      "2024-01-17    128524.0\n",
      "2024-01-24    127816.0\n",
      "Name: Adj Close, Length: 260, dtype: float64\n"
     ]
    }
   ],
   "source": [
    "# Filtrando apenas os fechamentos das quartas-feiras\n",
    "dado_bov = fechamento[fechamento.index.weekday == 2]  # 0 = segunda, ..., 6 = domingo\n",
    "\n",
    "# Testando exibição dos primeiros dados filtrados\n",
    "print(dado_bov)"
   ]
  },
  {
   "cell_type": "code",
   "execution_count": 12,
   "id": "b597f8d4-8ce3-4ea2-afb6-c5238774733c",
   "metadata": {
    "tags": []
   },
   "outputs": [],
   "source": [
    "#definindo função de leitura da carteira de mercado (IBOVESPA)\n",
    "\n",
    "def leitor_indice() -> np.array:\n",
    "    \"\"\"\" Esta função realiza a leitura de fechamento do Bovespa nas quartas-feiras de todas as últimas 260 semanas e calcula seus retornos \"\"\"\n",
    "    end_date = datetime.now()\n",
    "    #start_date = end_date - timedelta(weeks=263)\n",
    "    start_date = end_date - timedelta(weeks=269)\n",
    "    bov = yf.download(\"^BVSP\", start=start_date, end=end_date, progress=False, interval='1d')\n",
    "    retorno = bov['Adj Close'].pct_change().dropna()\n",
    "    mercado = retorno[retorno.index.weekday == 2]\n",
    "    return np.array(mercado)\n"
   ]
  },
  {
   "cell_type": "code",
   "execution_count": 13,
   "id": "a17fa9c1-a44b-4d60-b8c4-f92cf67ecc74",
   "metadata": {
    "tags": []
   },
   "outputs": [],
   "source": [
    "# teste da função\n",
    "\n",
    "bov = leitor_indice()"
   ]
  },
  {
   "cell_type": "code",
   "execution_count": 236,
   "id": "fda53f63-6e55-4ebb-b8a1-910ac01856b9",
   "metadata": {
    "tags": []
   },
   "outputs": [
    {
     "name": "stdout",
     "output_type": "stream",
     "text": [
      "[[-0.01992601 -0.01817473 -0.03542707 ... -0.02923022 -0.03057542\n",
      "  -0.02810503]\n",
      " [-0.01992601 -0.01817473 -0.03542707 ... -0.02923022 -0.03057542\n",
      "  -0.02810503]\n",
      " [-0.01992601 -0.01817473 -0.03542707 ... -0.02923022 -0.03057542\n",
      "  -0.02810503]\n",
      " ...\n",
      " [-0.03904501 -0.03729373 -0.05454607 ... -0.04834922 -0.04969442\n",
      "  -0.04722403]\n",
      " [-0.03904501 -0.03729373 -0.05454607 ... -0.04834922 -0.04969442\n",
      "  -0.04722403]\n",
      " [-0.03904501 -0.03729373 -0.05454607 ... -0.04834922 -0.04969442\n",
      "  -0.04722403]]\n"
     ]
    }
   ],
   "source": [
    "# Teste para prêmio de risco de mercado\n",
    "\n",
    "taxa = leitor_taxa()\n",
    "ibov_ret = leitor_indice()\n",
    "\n",
    "    # Caso fosse necessário ajustar o cdi pelo número de amostra do ibov:\n",
    "    # cdi_ajustado = np.array(taxa[-len(ibov_ret):])\n",
    "\n",
    "\n",
    "# Calculando prêmio de risco de mercado\n",
    "premio_risco = ibov_ret - taxa\n",
    "\n",
    "print(premio_risco)\n"
   ]
  },
  {
   "cell_type": "markdown",
   "id": "558d277c-340f-43e6-b46d-6a9bdf40bfb7",
   "metadata": {},
   "source": [
    "### Definindo banco de 10 ações da B3\n",
    "\n",
    "A amostra deverá conter dados de 10 empresas com ações negociadas no mercado à vista da B3. \n",
    "\n",
    "Nesta função o usuário poderá escolher qual das 10 ações deseja calcular o CAPM.\n",
    "\n",
    "Amostra de teste com as 10 ações com maior volume médio de negociação em 2023:\n",
    "\n",
    "1. VALE ('VALE3.SA')\n",
    "2. PETROBRAS ('PETR4.SA')\n",
    "3. ITAÚ UNIBANCO ('ITUB4.SA')\n",
    "4. BRADESCO ('BBDC4.SA')\n",
    "5. BANCO DO BRASIL ('BBAS3.SA')\n",
    "6. MAGAZINE LUIZA ('MGLU3.SA')\n",
    "7. B3 ('B3SA3.SA')\n",
    "8. AMBEV ('ABEV3.SA')\n",
    "9. PETRORIO ('PRIO3.SA')\n",
    "10. ELETROBRAS ('ELET3.SA')"
   ]
  },
  {
   "cell_type": "code",
   "execution_count": 237,
   "id": "96c57194-15cc-4694-86d7-db019cf7920a",
   "metadata": {
    "tags": []
   },
   "outputs": [],
   "source": [
    "# Definindo a função de leitura de ações\n",
    "\n",
    "def leitor_acoes() -> list:\n",
    "    \"\"\" Função de leitura de teclado do código das 10 ações escolhidas para estimação do CAPM \"\"\"\n",
    "    acoes = []\n",
    "        \n",
    "    for i in range(1, 11):\n",
    "        acoes.append(input(f'Digite o ticker da ação listada na B3 que deseja avaliar {i} de 10: (ex.: VALE3.SA) '))\n",
    "    \n",
    "    return acoes"
   ]
  },
  {
   "cell_type": "code",
   "execution_count": 207,
   "id": "5605c645-eff7-42f9-bd7a-2d367e8ff140",
   "metadata": {
    "tags": []
   },
   "outputs": [
    {
     "name": "stdin",
     "output_type": "stream",
     "text": [
      "Digite o ticker da ação listada na B3 que deseja avaliar 1 de 10: (ex.: VALE3.SA)  VALE3.SA\n",
      "Digite o ticker da ação listada na B3 que deseja avaliar 2 de 10: (ex.: VALE3.SA)  PETR4.SA\n",
      "Digite o ticker da ação listada na B3 que deseja avaliar 3 de 10: (ex.: VALE3.SA)  ITUB4.SA\n",
      "Digite o ticker da ação listada na B3 que deseja avaliar 4 de 10: (ex.: VALE3.SA)  BBDC4.SA\n",
      "Digite o ticker da ação listada na B3 que deseja avaliar 5 de 10: (ex.: VALE3.SA)  BBAS3.SA\n",
      "Digite o ticker da ação listada na B3 que deseja avaliar 6 de 10: (ex.: VALE3.SA)  MGLU3.SA\n",
      "Digite o ticker da ação listada na B3 que deseja avaliar 7 de 10: (ex.: VALE3.SA)  B3SA3.SA\n",
      "Digite o ticker da ação listada na B3 que deseja avaliar 8 de 10: (ex.: VALE3.SA)  ABEV3.SA\n",
      "Digite o ticker da ação listada na B3 que deseja avaliar 9 de 10: (ex.: VALE3.SA)  PRIO3.SA\n",
      "Digite o ticker da ação listada na B3 que deseja avaliar 10 de 10: (ex.: VALE3.SA)  ELET3.SA\n"
     ]
    }
   ],
   "source": [
    "acoes = leitor_acoes()"
   ]
  },
  {
   "cell_type": "code",
   "execution_count": 208,
   "id": "441576b6-d9fa-480a-a8d0-3fd17329bcd7",
   "metadata": {
    "tags": []
   },
   "outputs": [
    {
     "name": "stdout",
     "output_type": "stream",
     "text": [
      "['VALE3.SA', 'PETR4.SA', 'ITUB4.SA', 'BBDC4.SA', 'BBAS3.SA', 'MGLU3.SA', 'B3SA3.SA', 'ABEV3.SA', 'PRIO3.SA', 'ELET3.SA']\n"
     ]
    }
   ],
   "source": [
    "# Teste de armazenamento de input\n",
    "\n",
    "print(acoes)"
   ]
  },
  {
   "cell_type": "code",
   "execution_count": 209,
   "id": "090496da-16ec-4c8d-8f8c-44486927a215",
   "metadata": {
    "tags": []
   },
   "outputs": [
    {
     "data": {
      "text/plain": [
       "array([ 0.05698012, -0.16262373, -0.08884108,  0.07136117,  0.00681461,\n",
       "        0.02248934,  0.0260516 ,  0.05515093, -0.00276131, -0.01898736,\n",
       "        0.0439514 , -0.00038621,  0.00946687, -0.03617224, -0.02700541,\n",
       "       -0.02142876, -0.01021897,  0.04719754, -0.0263582 ,  0.06406306,\n",
       "        0.01573128, -0.01376664, -0.00562247,  0.01637737,  0.01074235,\n",
       "       -0.03871686, -0.01658453, -0.06685407, -0.03442349, -0.01626547,\n",
       "       -0.01517547,  0.06991713,  0.0307394 ,  0.00938473, -0.01115704,\n",
       "       -0.05766804,  0.01263859,  0.02474258,  0.00662404,  0.03141567,\n",
       "        0.02263839, -0.05172053,  0.07342954,  0.00672207,  0.01787117,\n",
       "        0.03164212,  0.03686468,  0.02684704,  0.01514585, -0.09857904,\n",
       "        0.04413807,  0.00150978, -0.00489927, -0.14126114,  0.07100325,\n",
       "       -0.16121051, -0.05130093,  0.05692093,  0.0616891 ,  0.00322808,\n",
       "       -0.00735469, -0.00671428,  0.08927714, -0.0513587 ,  0.09496957,\n",
       "        0.08158208, -0.03542858,  0.05963649,  0.01006361,  0.03690041,\n",
       "       -0.01441297, -0.01534577,  0.05097173,  0.07798345, -0.04126883,\n",
       "        0.06262657, -0.01207319, -0.01109487,  0.01447148, -0.01025814,\n",
       "       -0.00696343, -0.02152639,  0.01616647,  0.00984967,  0.00016927,\n",
       "        0.01793253,  0.04703351, -0.00238102, -0.04120914,  0.02190501,\n",
       "        0.03280292,  0.04481112,  0.13619288,  0.05748331,  0.0358216 ,\n",
       "        0.04256374,  0.01322194,  0.00103007,  0.09834224,  0.00176965,\n",
       "       -0.04053208, -0.03379567,  0.01378934,  0.04721891,  0.01742344,\n",
       "        0.01639855,  0.02471145,  0.01172503,  0.00771981, -0.04851888,\n",
       "        0.05174474,  0.06726533,  0.02333579,  0.04598151, -0.01081122,\n",
       "        0.03269802, -0.01819301, -0.01826301,  0.04174247, -0.02264813,\n",
       "       -0.03609623,  0.04549238,  0.02137137,  0.00750557,  0.0089394 ,\n",
       "       -0.00625425,  0.02534971, -0.04075029, -0.02888372, -0.05362861,\n",
       "       -0.03781077, -0.00653262, -0.03854312, -0.03472231, -0.05046862,\n",
       "       -0.03944576,  0.01662285,  0.02777042, -0.03194443, -0.0289552 ,\n",
       "       -0.1023506 , -0.01705825, -0.01050387,  0.09200007, -0.01056638,\n",
       "        0.0787411 ,  0.02177936,  0.03242469, -0.03340817,  0.00724916,\n",
       "        0.09883045,  0.03169577, -0.04432582,  0.01767488,  0.06550874,\n",
       "       -0.02089486, -0.03385468,  0.15242275, -0.01845271, -0.03248748,\n",
       "        0.05837812, -0.00601348,  0.007093  , -0.0326256 , -0.08565307,\n",
       "       -0.03782211, -0.00438124, -0.03813708, -0.01156435,  0.08382625,\n",
       "        0.04673779, -0.00838626, -0.06662848, -0.07738474,  0.04565365,\n",
       "       -0.04810256, -0.02933328, -0.07431319,  0.04644591, -0.04254104,\n",
       "        0.03747043,  0.02450251, -0.00410388, -0.05077251,  0.03875962,\n",
       "        0.02164188, -0.00160709,  0.12613406, -0.07601343,  0.03403167,\n",
       "       -0.00516798,  0.1269994 , -0.01831638,  0.05906335, -0.01015051,\n",
       "        0.02764894, -0.00748081,  0.03188778,  0.00460735,  0.04306479,\n",
       "        0.00096508,  0.03064066, -0.02848225, -0.05071687,  0.00315598,\n",
       "       -0.01842698,  0.02106227, -0.03464121, -0.03334436,  0.00282391,\n",
       "       -0.0143242 , -0.04496348,  0.04825083, -0.0539702 , -0.07842631,\n",
       "       -0.01807313,  0.00521741,  0.00749711, -0.06911838, -0.0190623 ,\n",
       "        0.07616343,  0.00509684, -0.03028096, -0.03301951,  0.00927068,\n",
       "        0.02648509,  0.00283362,  0.06722186, -0.06507807, -0.0035773 ,\n",
       "       -0.05921016,  0.03259627,  0.03077416,  0.04632189, -0.00926611,\n",
       "        0.02894894, -0.05208488,  0.00258761,  0.02262026, -0.0296912 ,\n",
       "       -0.02187883,  0.09995304, -0.00270195,  0.07789957, -0.0187041 ,\n",
       "       -0.0147038 ,  0.00870523,  0.02041093,  0.0390657 , -0.00968992,\n",
       "       -0.05766468, -0.03987269,  0.00793083])"
      ]
     },
     "execution_count": 209,
     "metadata": {},
     "output_type": "execute_result"
    }
   ],
   "source": [
    "# Teste de integração com leitor_precos()\n",
    "\n",
    "leitor_precos(acoes[0])"
   ]
  },
  {
   "cell_type": "markdown",
   "id": "5090814a-aed4-448b-b0ac-a01d1543be1d",
   "metadata": {},
   "source": [
    "### RSOF2 - Gravação do arquivo em uma pasta definida pelo usuário.\n",
    "\n",
    "Fase de entrada da escolha de pasta onde devem ser guardados os resultados CAPM em arquivos CSV  em cada semana em que o modelo for estimado.\n",
    "\n",
    "Testes da função de leitura do teclado para escolha da pasta de gravação na primeira iniciação do sistema - leitor_pasta()"
   ]
  },
  {
   "cell_type": "code",
   "execution_count": 6,
   "id": "f12a7850-7d12-44ad-b07c-040f39dbd76f",
   "metadata": {
    "tags": []
   },
   "outputs": [],
   "source": [
    "#Função de leitura de pasta\n",
    "def leitor_pasta():\n",
    "    pass\n"
   ]
  },
  {
   "cell_type": "code",
   "execution_count": 141,
   "id": "64f3c188-237f-4735-9368-8f1ea0a7f4fa",
   "metadata": {
    "tags": []
   },
   "outputs": [
    {
     "name": "stdin",
     "output_type": "stream",
     "text": [
      "Digite o caminho da pasta de gravação de arquivos:  C:\\Users\\Documents\\\n"
     ]
    },
    {
     "name": "stdout",
     "output_type": "stream",
     "text": [
      "C:\\Users\\Documents\\\n"
     ]
    }
   ],
   "source": [
    "# Solicitando ao usuário o caminho da pasta\n",
    "pasta_destino = input(\"\"\"Digite o caminho da pasta de gravação de arquivos: \"\"\")\n",
    "\n",
    "# teste de armazenamento\n",
    "print(pasta_destino)"
   ]
  },
  {
   "cell_type": "code",
   "execution_count": 242,
   "id": "d5495e44-3094-4fc5-87b4-656a5b7d0b5d",
   "metadata": {
    "tags": []
   },
   "outputs": [],
   "source": [
    "# Definindo a função de leitura de pasta\n",
    "\n",
    "def leitor_pasta() -> str:\n",
    "    \"\"\" Esta função executa a leitura do teclado para a escolha da pasta de gravação dos arquivos \"\"\"\n",
    "    pasta_destino = input(\"\"\"Digite o caminho da pasta de gravação de arquivos: \"\"\")\n",
    "    return pasta_destino\n"
   ]
  },
  {
   "cell_type": "code",
   "execution_count": 143,
   "id": "48f7091a-d424-4d37-97a5-4621acb9b425",
   "metadata": {
    "tags": []
   },
   "outputs": [
    {
     "name": "stdin",
     "output_type": "stream",
     "text": [
      "Digite o caminho da pasta de gravação de arquivos:  C:\\Users\\\n"
     ]
    }
   ],
   "source": [
    "# Teste da função \n",
    "\n",
    "pasta = leitor_pasta()"
   ]
  },
  {
   "cell_type": "code",
   "execution_count": 144,
   "id": "8612f744-b4aa-4d97-ae36-32038a6d8e2c",
   "metadata": {
    "tags": []
   },
   "outputs": [
    {
     "name": "stdout",
     "output_type": "stream",
     "text": [
      "C:\\Users\\\n"
     ]
    }
   ],
   "source": [
    "# teste de armazenamento \n",
    "\n",
    "print(pasta)"
   ]
  },
  {
   "cell_type": "markdown",
   "id": "a513e5a9-3f28-484f-9359-ad1aa9f62be9",
   "metadata": {},
   "source": [
    "## Módulo de saída\n",
    "\n",
    "Teste da função que atende ao requisito RU10, resultando em um arquivo de saída que deverá conter a data do resultado da estimação em cada semana em que o modelo for estimado.\n"
   ]
  },
  {
   "cell_type": "code",
   "execution_count": 244,
   "id": "c06eb51a-7977-4dea-aef2-ad384aa2934f",
   "metadata": {
    "tags": []
   },
   "outputs": [],
   "source": [
    "\n",
    "# bibliotecas\n",
    "import os\n",
    "import csv\n"
   ]
  },
  {
   "cell_type": "code",
   "execution_count": 245,
   "id": "8c28fa8b-ae4c-41ea-9064-32da9245c80d",
   "metadata": {
    "tags": []
   },
   "outputs": [],
   "source": [
    "#Definindo a função de gravação de dados CAPM em novo arquivo .csv\n",
    "\n",
    "def grava_csv(pasta_destino: str, resultado_capm: pd.DataFrame):\n",
    "    \"\"\" Esta função cria um novo arquivo CSV com os resultados a cada estimação CAPM realizada \"\"\"\n",
    "    arquivo = resultado_capm\n",
    "    nome_arquivo = \"resultados_capm.csv\"\n",
    "    caminho = os.path.join(pasta_destino, nome_arquivo)\n",
    "    \n",
    "    arquivo.to_csv(caminho, index=False)\n",
    "    print(f\"Resultados salvos no arquivo {nome_arquivo}\")"
   ]
  },
  {
   "cell_type": "code",
   "execution_count": 239,
   "id": "4ba8cb46-01e7-4f9b-adc6-c2b756dfd743",
   "metadata": {
    "tags": []
   },
   "outputs": [
    {
     "name": "stdout",
     "output_type": "stream",
     "text": [
      "           data     valor\n",
      "0    1986-03-06  0.068111\n",
      "1    1986-03-10  0.069028\n",
      "2    1986-03-12  0.067417\n",
      "3    1986-03-14  0.064584\n",
      "4    1986-03-17  0.068222\n",
      "...         ...       ...\n",
      "9472 2024-01-18  0.043739\n",
      "9473 2024-01-19  0.043739\n",
      "9474 2024-01-22  0.043739\n",
      "9475 2024-01-23  0.043739\n",
      "9476 2024-01-24  0.043739\n",
      "\n",
      "[9477 rows x 2 columns]\n"
     ]
    }
   ],
   "source": [
    "print(df)"
   ]
  },
  {
   "cell_type": "code",
   "execution_count": 243,
   "id": "0d0ddf1e-b561-4c1e-96c5-b2cbeb97feca",
   "metadata": {
    "tags": []
   },
   "outputs": [
    {
     "name": "stdin",
     "output_type": "stream",
     "text": [
      "Digite o caminho da pasta de gravação de arquivos:  C:\\Users\\letis\\OneDrive\\Área de Trabalho\n"
     ]
    },
    {
     "name": "stdout",
     "output_type": "stream",
     "text": [
      "Resultados salvos no arquivo resultados_capm.csv\n"
     ]
    }
   ],
   "source": [
    "p1 = leitor_pasta()\n",
    "\n",
    "teste = df\n",
    "\n",
    "grava_csv(p1, teste)"
   ]
  }
 ],
 "metadata": {
  "kernelspec": {
   "display_name": "Python 3 (ipykernel)",
   "language": "python",
   "name": "python3"
  },
  "language_info": {
   "codemirror_mode": {
    "name": "ipython",
    "version": 3
   },
   "file_extension": ".py",
   "mimetype": "text/x-python",
   "name": "python",
   "nbconvert_exporter": "python",
   "pygments_lexer": "ipython3",
   "version": "3.11.5"
  }
 },
 "nbformat": 4,
 "nbformat_minor": 5
}
