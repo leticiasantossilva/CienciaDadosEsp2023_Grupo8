{
 "cells": [
  {
   "cell_type": "markdown",
   "id": "4ac2fe3f-804c-4017-aab3-e843cda7fc43",
   "metadata": {},
   "source": [
    "# Módulo de inferência econométrica - proc.py\n",
    "\n",
    "Este arquivo reúne os testes de funções do módulo de processamento de dados do aplicativo que colete automaticamente dados da web e estime o modelo CAPM para ações na B3."
   ]
  },
  {
   "cell_type": "code",
   "execution_count": 1,
   "id": "d99b70ea-f46c-43e5-b4ff-03d25646f6b5",
   "metadata": {
    "tags": []
   },
   "outputs": [],
   "source": [
    "# Importação de bibliotecas\n",
    "\n",
    "import statsmodels.api as sm\n",
    "import statsmodels.formula.api as smf\n",
    "import numpy as np\n",
    "import yfinance as yf\n",
    "import pandas as pd\n",
    "import matplotlib.pyplot as plt\n",
    "from datetime import datetime, timedelta\n",
    "import requests"
   ]
  },
  {
   "cell_type": "code",
   "execution_count": 2,
   "id": "0f5dfbb4-43b6-489d-b8b9-5b93423b7181",
   "metadata": {
    "tags": []
   },
   "outputs": [],
   "source": [
    "# Importar modulo es para escrever funções proc\n",
    "import test_es"
   ]
  },
  {
   "cell_type": "code",
   "execution_count": 3,
   "id": "68c703ee-5976-44b1-9d2e-da5bd0b47a63",
   "metadata": {
    "tags": []
   },
   "outputs": [],
   "source": [
    "# Usando exemplo PETR4.SA\n",
    "\n",
    "Ri = test_es.leitor_precos('VALE3.SA')\n",
    "Rf = test_es.leitor_taxa()\n",
    "Rm = test_es.leitor_indice()"
   ]
  },
  {
   "cell_type": "code",
   "execution_count": 4,
   "id": "9c9423ea-2086-4489-8f09-ffc80f75298a",
   "metadata": {
    "tags": []
   },
   "outputs": [
    {
     "name": "stdout",
     "output_type": "stream",
     "text": [
      "(253,)\n"
     ]
    }
   ],
   "source": [
    "Rf = np.array(Rf[-len(Ri):])\n",
    "Rm = np.array(Rm[-len(Ri):])\n",
    "\n",
    "# Cálculo de Prêmio de Risco\n",
    "\n",
    "Premio = (Rf - Rm)\n",
    "\n",
    "print(Premio.shape)"
   ]
  },
  {
   "cell_type": "code",
   "execution_count": null,
   "id": "b197308a-d334-428e-9da0-45d112bf267c",
   "metadata": {},
   "outputs": [],
   "source": []
  },
  {
   "cell_type": "markdown",
   "id": "ce685a18-c92a-41aa-9128-c7f50f17d563",
   "metadata": {},
   "source": [
    "## Requisito RU5 - método de estimação do modelo\n",
    "Função estima_modelo()\n",
    "\n",
    "Testes para a função de estimação do modelo por mínimos quadrados ordinários.\n",
    "\n",
    "Ri= Rf + βi(Rm − Rf) + εi"
   ]
  },
  {
   "cell_type": "code",
   "execution_count": 5,
   "id": "3ab7fd0a-95b4-43a2-8e06-7994c08c5363",
   "metadata": {},
   "outputs": [],
   "source": [
    "def estima_modelo(Ri:np.array, Rm:np.array, Rf:np.array):\n",
    "    pass"
   ]
  },
  {
   "cell_type": "code",
   "execution_count": 7,
   "id": "653afc55-d5bc-4e0e-b4cb-e689af03f3f9",
   "metadata": {
    "tags": []
   },
   "outputs": [],
   "source": [
    " # Construir DataFrame para análise\n",
    "df = pd.DataFrame({'ativo': Ri, 'mercado': Rm, 'cdi': Rf})\n",
    "df = df.dropna()"
   ]
  },
  {
   "cell_type": "code",
   "execution_count": 8,
   "id": "f32cedce-23e3-41df-ba81-3d1f5c5b0948",
   "metadata": {
    "tags": []
   },
   "outputs": [
    {
     "name": "stdout",
     "output_type": "stream",
     "text": [
      "(253, 2)\n"
     ]
    }
   ],
   "source": [
    "# Adicionando uma constante à variável independente\n",
    "X = sm.add_constant(Premio)\n",
    "\n",
    "print(X.shape)"
   ]
  },
  {
   "cell_type": "code",
   "execution_count": 9,
   "id": "b5b39ee7-42d3-4764-92fc-032537d64cf1",
   "metadata": {
    "tags": []
   },
   "outputs": [
    {
     "name": "stdout",
     "output_type": "stream",
     "text": [
      "                            OLS Regression Results                            \n",
      "==============================================================================\n",
      "Dep. Variable:                      y   R-squared:                       0.091\n",
      "Model:                            OLS   Adj. R-squared:                  0.087\n",
      "Method:                 Least Squares   F-statistic:                     25.16\n",
      "Date:                Fri, 26 Jan 2024   Prob (F-statistic):           9.97e-07\n",
      "Time:                        19:25:44   Log-Likelihood:                 428.47\n",
      "No. Observations:                 253   AIC:                            -852.9\n",
      "Df Residuals:                     251   BIC:                            -845.9\n",
      "Df Model:                           1                                         \n",
      "Covariance Type:            nonrobust                                         \n",
      "==============================================================================\n",
      "                 coef    std err          t      P>|t|      [0.025      0.975]\n",
      "------------------------------------------------------------------------------\n",
      "const          0.0215      0.005      4.756      0.000       0.013       0.030\n",
      "x1            -0.6120      0.122     -5.016      0.000      -0.852      -0.372\n",
      "==============================================================================\n",
      "Omnibus:                       10.434   Durbin-Watson:                   2.018\n",
      "Prob(Omnibus):                  0.005   Jarque-Bera (JB):               20.496\n",
      "Skew:                           0.114   Prob(JB):                     3.54e-05\n",
      "Kurtosis:                       4.376   Cond. No.                         43.5\n",
      "==============================================================================\n",
      "\n",
      "Notes:\n",
      "[1] Standard Errors assume that the covariance matrix of the errors is correctly specified.\n"
     ]
    }
   ],
   "source": [
    "# Ajustar o modelo CAPM\n",
    "results = sm.OLS(Ri, X, missing = 'drop').fit()\n",
    "print(results.summary())"
   ]
  },
  {
   "cell_type": "code",
   "execution_count": 26,
   "id": "4c6faade-03cf-4e29-b245-4e9354007d8c",
   "metadata": {
    "tags": []
   },
   "outputs": [],
   "source": [
    "# Definindo a função de estimação por mínimos quadrados ordinários\n",
    "\n",
    "def estima_modelo(Ri:np.array, Rm:np.array, Rf:np.array):\n",
    "    Rf = np.array(Rf[-len(Ri):])\n",
    "    Rm = np.array(Rm[-len(Ri):])\n",
    "    Premio = (Rf - Rm)\n",
    "    \n",
    "    # Adicionando uma constante à variável independente\n",
    "    X = sm.add_constant(Premio)\n",
    "    \n",
    "    # Estimando regressão\n",
    "    results = sm.OLS(Ri, X, missing = 'drop').fit()\n",
    "    return results"
   ]
  },
  {
   "cell_type": "markdown",
   "id": "d2f58590-9aea-4011-b0a0-e8651196a217",
   "metadata": {
    "tags": []
   },
   "source": [
    "sigma = results.resid.std()\n",
    "print(sigma)"
   ]
  },
  {
   "cell_type": "markdown",
   "id": "d1562000-eb0d-4d24-8ccb-8172f4a15e8a",
   "metadata": {},
   "source": [
    "## Requisito RU6 e RU7  - teste de nulidade do alfa de Jensen e do risco específico\n",
    "Função testa_nulidade_t_parametro()\n",
    "\n",
    "Testes para a função que realiza teste da nulidade do alfa de Jensen (o emprego do teste t).\n",
    "\n",
    "O risco específico de cada ação deverá ser testado também com teste t."
   ]
  },
  {
   "cell_type": "code",
   "execution_count": null,
   "id": "11c03efd-54f4-49ea-84cf-2cac5a54d3d5",
   "metadata": {
    "tags": []
   },
   "outputs": [],
   "source": [
    "results.t_test('const = 0')"
   ]
  },
  {
   "cell_type": "code",
   "execution_count": null,
   "id": "19ba9f43-4ae0-43c8-99bf-b455eef79fd9",
   "metadata": {},
   "outputs": [],
   "source": [
    "# Teste de nulidade do Alfa de Jensen com teste t\n",
    "test_nulidade_t = results.t_test('const = 0')\n",
    "\n",
    "print(test_nulidade_t)"
   ]
  },
  {
   "cell_type": "code",
   "execution_count": null,
   "id": "2da632b9-084a-4845-bbf5-4462a83723b4",
   "metadata": {
    "tags": []
   },
   "outputs": [],
   "source": [
    "# definindo função de teste de nulidade do Alfa de Jensen e do risco específico\n",
    "\n",
    "def test_nulidade_t_parametro(results):\n",
    "    teste_t = results.t_test('const = 0')\n",
    "    return teste_t"
   ]
  },
  {
   "cell_type": "markdown",
   "id": "ff0e3a99-9faa-4c38-adf7-beda50ba2f4c",
   "metadata": {},
   "source": [
    "## Requisito RU8 - teste do modelo\n",
    "Função testa_nulidade_F_parametros()\n",
    "\n",
    "Testes para a função que avalia a nulidade conjunta dos parâmetros da regressão (usando o teste F)."
   ]
  },
  {
   "cell_type": "code",
   "execution_count": null,
   "id": "e61d5314-6eca-4910-9d79-53c7f74d1592",
   "metadata": {
    "tags": []
   },
   "outputs": [],
   "source": [
    "#estabelecendo hipótese de nulidade\n",
    "\n",
    "hipotese = \"const = 0, x1 = 0\"\n",
    "\n",
    "print(results.f_test(hipotese))"
   ]
  },
  {
   "cell_type": "code",
   "execution_count": null,
   "id": "771a388d-51ae-432c-bf0c-4c1f2a0082ab",
   "metadata": {},
   "outputs": [],
   "source": [
    "# Teste F para Nulidade Conjunta dos Coeficientes\n",
    "test_nulidade_F_parametros = results.f_test(\"const = 0, x1 = 0\")\n",
    "\n",
    "print(test_nulidade_F_parametros)"
   ]
  },
  {
   "cell_type": "code",
   "execution_count": null,
   "id": "cbd7a9b9-dd73-408b-96bf-6c5b2fc4a7c5",
   "metadata": {
    "tags": []
   },
   "outputs": [],
   "source": [
    "# definindo função de teste de nulidade do Alfa de Jensen e do risco específico\n",
    "\n",
    "def test_nulidade_F_parametros(results):\n",
    "    hipotese = \"const = 0, x1 = 0\"\n",
    "    teste_f = results.f_test(hipotese)\n",
    "    return teste_f"
   ]
  },
  {
   "cell_type": "markdown",
   "id": "5c89b688-a1bf-4f1c-b60f-37aee8d0b93d",
   "metadata": {},
   "source": [
    "## Requisito RU9 - correlação serial \n",
    "Função testa_corr()\n",
    "\n",
    "Testes para a função de teste da correlação serial do modelo (usando o correlograma)."
   ]
  },
  {
   "cell_type": "code",
   "execution_count": null,
   "id": "3a57bffb-8c8f-40a9-8b5e-4e811b403121",
   "metadata": {
    "tags": []
   },
   "outputs": [],
   "source": [
    "# bibliotecas\n",
    "import statsmodels.api as sm\n",
    "import matplotlib.pyplot as plt\n",
    "import numpy as np"
   ]
  },
  {
   "cell_type": "code",
   "execution_count": null,
   "id": "910632f8-63a5-4c56-89d8-5b0cdaadf5dd",
   "metadata": {},
   "outputs": [],
   "source": [
    "# Encontrando os resíduos da regressão\n",
    "residuos = results.resid\n",
    "\n",
    "print(residuos)"
   ]
  },
  {
   "cell_type": "code",
   "execution_count": null,
   "id": "16db2f35-2fec-4d76-9ed0-d027db8c4102",
   "metadata": {
    "tags": []
   },
   "outputs": [],
   "source": [
    "# plotando correlograma\n",
    "\n",
    "sm.graphics.tsa.plot_acf(residuos, lags=250)\n",
    "plt.title(\"Correlograma dos Resíduos do CAPM\")\n",
    "plt.show()"
   ]
  },
  {
   "cell_type": "code",
   "execution_count": null,
   "id": "35c3324c-2311-47e1-a940-d64ca29be60a",
   "metadata": {
    "tags": []
   },
   "outputs": [],
   "source": [
    "# definindo função de teste correlograma\n",
    "\n",
    "def testa_corr(results):\n",
    "    residuos = results.resid\n",
    "    sm.graphics.tsa.plot_acf(residuos, lags=250)\n",
    "    plt.title(\"Correlograma dos Resíduos do CAPM\")\n",
    "    plt.show()"
   ]
  },
  {
   "cell_type": "markdown",
   "id": "e4139af9-0bfb-4a93-9bd0-db7c3574aabb",
   "metadata": {},
   "source": [
    "### Modulo proc precisa retornar lista com:\n",
    "results.params['Intercept']\n",
    "\n",
    "results.params['Market']\n",
    "\n",
    "results.resid.std()"
   ]
  }
 ],
 "metadata": {
  "kernelspec": {
   "display_name": "Python 3 (ipykernel)",
   "language": "python",
   "name": "python3"
  },
  "language_info": {
   "codemirror_mode": {
    "name": "ipython",
    "version": 3
   },
   "file_extension": ".py",
   "mimetype": "text/x-python",
   "name": "python",
   "nbconvert_exporter": "python",
   "pygments_lexer": "ipython3",
   "version": "3.11.5"
  }
 },
 "nbformat": 4,
 "nbformat_minor": 5
}
