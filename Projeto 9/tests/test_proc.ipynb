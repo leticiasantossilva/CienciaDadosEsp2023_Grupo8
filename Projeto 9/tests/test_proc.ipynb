{
 "cells": [
  {
   "cell_type": "markdown",
   "id": "4ac2fe3f-804c-4017-aab3-e843cda7fc43",
   "metadata": {},
   "source": [
    "# Módulo de inferência econométrica - proc.py\n",
    "\n",
    "Este arquivo reúne os testes de funções do módulo de processamento de dados do aplicativo que colete automaticamente dados da web e estime o modelo CAPM para ações na B3."
   ]
  },
  {
   "cell_type": "code",
   "execution_count": 1,
   "id": "d99b70ea-f46c-43e5-b4ff-03d25646f6b5",
   "metadata": {
    "tags": []
   },
   "outputs": [],
   "source": [
    "# Importação de bibliotecas\n",
    "\n",
    "import statsmodels.api as sm\n",
    "import statsmodels.formula.api as smf\n",
    "import numpy as np\n",
    "import yfinance as yf\n",
    "import pandas as pd\n",
    "from datetime import datetime, timedelta\n",
    "import requests"
   ]
  },
  {
   "cell_type": "code",
   "execution_count": 4,
   "id": "0f5dfbb4-43b6-489d-b8b9-5b93423b7181",
   "metadata": {
    "tags": []
   },
   "outputs": [],
   "source": [
    "# Importar modulo es para escrever funções proc\n",
    "import test_es"
   ]
  },
  {
   "cell_type": "code",
   "execution_count": 6,
   "id": "68c703ee-5976-44b1-9d2e-da5bd0b47a63",
   "metadata": {
    "tags": []
   },
   "outputs": [],
   "source": [
    "# Usando exemplo PETR4.SA\n",
    "\n",
    "Ri = test_es.leitor_precos('PETR4.SA')\n",
    "Rf = test_es.leitor_taxa()\n",
    "Rm = test_es.leitor_indice()"
   ]
  },
  {
   "cell_type": "code",
   "execution_count": 9,
   "id": "9c9423ea-2086-4489-8f09-ffc80f75298a",
   "metadata": {
    "tags": []
   },
   "outputs": [],
   "source": [
    "Rf = np.array(Rf[-len(Ri):])\n",
    "Rm = np.array(Rm[-len(Ri):])"
   ]
  },
  {
   "cell_type": "code",
   "execution_count": null,
   "id": "b197308a-d334-428e-9da0-45d112bf267c",
   "metadata": {},
   "outputs": [],
   "source": []
  },
  {
   "cell_type": "markdown",
   "id": "ce685a18-c92a-41aa-9128-c7f50f17d563",
   "metadata": {},
   "source": [
    "## Requisito RU5 - método de estimação do modelo\n",
    "Função estima_modelo()\n",
    "\n",
    "Testes para a função de estimação do modelo por mínimos quadrados ordinários."
   ]
  },
  {
   "cell_type": "code",
   "execution_count": 2,
   "id": "3ab7fd0a-95b4-43a2-8e06-7994c08c5363",
   "metadata": {},
   "outputs": [],
   "source": [
    "def estima_modelo(Ri:np.array, Rm:np.array, Rf:np.array):\n",
    "    pass"
   ]
  },
  {
   "cell_type": "code",
   "execution_count": 14,
   "id": "653afc55-d5bc-4e0e-b4cb-e689af03f3f9",
   "metadata": {
    "tags": []
   },
   "outputs": [],
   "source": [
    " # Construir DataFrame para análise\n",
    "data = pd.DataFrame({'ativo': Ri, 'mercado': Rm, 'cdi': Rf})\n",
    "data = data.dropna()"
   ]
  },
  {
   "cell_type": "code",
   "execution_count": 12,
   "id": "f32cedce-23e3-41df-ba81-3d1f5c5b0948",
   "metadata": {
    "tags": []
   },
   "outputs": [],
   "source": [
    "# Adicionar uma coluna de uns para estimar o alfa\n",
    "data['Intercept'] = 1.0"
   ]
  },
  {
   "cell_type": "code",
   "execution_count": 21,
   "id": "b5b39ee7-42d3-4764-92fc-032537d64cf1",
   "metadata": {
    "tags": []
   },
   "outputs": [
    {
     "name": "stdout",
     "output_type": "stream",
     "text": [
      "                            OLS Regression Results                            \n",
      "==============================================================================\n",
      "Dep. Variable:                      y   R-squared:                       0.329\n",
      "Model:                            OLS   Adj. R-squared:                  0.327\n",
      "Method:                 Least Squares   F-statistic:                     123.3\n",
      "Date:                Fri, 26 Jan 2024   Prob (F-statistic):           1.47e-23\n",
      "Time:                        02:38:52   Log-Likelihood:                 385.49\n",
      "No. Observations:                 253   AIC:                            -767.0\n",
      "Df Residuals:                     251   BIC:                            -759.9\n",
      "Df Model:                           1                                         \n",
      "Covariance Type:            nonrobust                                         \n",
      "==============================================================================\n",
      "                 coef    std err          t      P>|t|      [0.025      0.975]\n",
      "------------------------------------------------------------------------------\n",
      "const         -0.0224      0.003     -6.741      0.000      -0.029      -0.016\n",
      "mercado        2.2861      0.206     11.102      0.000       1.881       2.692\n",
      "==============================================================================\n",
      "Omnibus:                       28.887   Durbin-Watson:                   1.737\n",
      "Prob(Omnibus):                  0.000   Jarque-Bera (JB):               68.895\n",
      "Skew:                          -0.526   Prob(JB):                     1.10e-15\n",
      "Kurtosis:                       5.330   Cond. No.                         61.9\n",
      "==============================================================================\n",
      "\n",
      "Notes:\n",
      "[1] Standard Errors assume that the covariance matrix of the errors is correctly specified.\n"
     ]
    }
   ],
   "source": [
    "# Ajustar o modelo CAPM\n",
    "results = sm.OLS(data['ativo'] - data['cdi'], sm.add_constant(data['mercado'])).fit()\n",
    "print(results.summary())"
   ]
  },
  {
   "cell_type": "code",
   "execution_count": 22,
   "id": "c3611dc2-176f-48a4-85bb-c93dc17d09ea",
   "metadata": {
    "tags": []
   },
   "outputs": [
    {
     "name": "stdout",
     "output_type": "stream",
     "text": [
      "0.052833191024252484\n"
     ]
    }
   ],
   "source": [
    "sigma = results.resid.std()\n",
    "print(sigma)"
   ]
  },
  {
   "cell_type": "code",
   "execution_count": 24,
   "id": "65144d49-8d60-45a7-bff7-85cb8803db75",
   "metadata": {
    "tags": []
   },
   "outputs": [
    {
     "name": "stdout",
     "output_type": "stream",
     "text": [
      "2.2860561382337194\n"
     ]
    }
   ],
   "source": [
    "beta = results.params['mercado']\n",
    "print(beta)"
   ]
  },
  {
   "cell_type": "markdown",
   "id": "d1562000-eb0d-4d24-8ccb-8172f4a15e8a",
   "metadata": {},
   "source": [
    "## Requisito RU6 e RU7  - teste de nulidade do alfa de Jensen e do risco específico\n",
    "Função testa_nulidade_t_parametro()\n",
    "\n",
    "Testes para a função que realiza teste da nulidade do alfa de Jensen (o emprego do teste t)."
   ]
  },
  {
   "cell_type": "code",
   "execution_count": null,
   "id": "19ba9f43-4ae0-43c8-99bf-b455eef79fd9",
   "metadata": {},
   "outputs": [],
   "source": [
    "# Teste do Alfa de Jensen\n",
    "alpha_test = results.t_test([1, 0])\n"
   ]
  },
  {
   "cell_type": "code",
   "execution_count": null,
   "id": "a42183c7-5829-4254-b6b8-24f0f6372d00",
   "metadata": {},
   "outputs": [],
   "source": [
    "# Teste do Risco Específico\n",
    "specific_risk_test = model.t_test([0, 1])\n"
   ]
  },
  {
   "cell_type": "markdown",
   "id": "ff0e3a99-9faa-4c38-adf7-beda50ba2f4c",
   "metadata": {},
   "source": [
    "## Requisito RU8 - teste do modelo\n",
    "Função testa_nulidade_F_parametros()\n",
    "\n",
    "Testes para a função que avalia a nulidade conjunta dos parâmetros da regressão (usando o teste F)."
   ]
  },
  {
   "cell_type": "code",
   "execution_count": null,
   "id": "771a388d-51ae-432c-bf0c-4c1f2a0082ab",
   "metadata": {},
   "outputs": [],
   "source": [
    "joint_test = model.f_test(\"Rm_minus_Rf = 0\")\n"
   ]
  },
  {
   "cell_type": "markdown",
   "id": "5c89b688-a1bf-4f1c-b60f-37aee8d0b93d",
   "metadata": {},
   "source": [
    "## Requisito RU9 - correlação serial \n",
    "Função testa_corr()\n",
    "\n",
    "Testes para a função de teste da correlação serial do modelo (usando o correlograma)."
   ]
  },
  {
   "cell_type": "code",
   "execution_count": null,
   "id": "910632f8-63a5-4c56-89d8-5b0cdaadf5dd",
   "metadata": {},
   "outputs": [],
   "source": [
    "# Teste de Correlação Serial (Correlograma) nos resíduos\n",
    "residuals = model.resid\n",
    "serial_correlation_test = sm.stats.acorr_ljungbox(residuals)\n"
   ]
  },
  {
   "cell_type": "markdown",
   "id": "e4139af9-0bfb-4a93-9bd0-db7c3574aabb",
   "metadata": {},
   "source": [
    "### Modulo proc precisa retornar lista com:\n",
    "results.params['Intercept']\n",
    "\n",
    "results.params['Market']\n",
    "\n",
    "results.resid.std()"
   ]
  }
 ],
 "metadata": {
  "kernelspec": {
   "display_name": "Python 3 (ipykernel)",
   "language": "python",
   "name": "python3"
  },
  "language_info": {
   "codemirror_mode": {
    "name": "ipython",
    "version": 3
   },
   "file_extension": ".py",
   "mimetype": "text/x-python",
   "name": "python",
   "nbconvert_exporter": "python",
   "pygments_lexer": "ipython3",
   "version": "3.11.5"
  }
 },
 "nbformat": 4,
 "nbformat_minor": 5
}
