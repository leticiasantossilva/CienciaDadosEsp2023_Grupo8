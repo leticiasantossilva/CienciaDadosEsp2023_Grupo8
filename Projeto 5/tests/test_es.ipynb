{
 "cells": [
  {
   "cell_type": "markdown",
   "id": "5424551b-0e01-40ee-ba8a-3c532710d209",
   "metadata": {},
   "source": [
    "# Módulo es\n",
    "\n",
    "Este módulo prevê funções de entrada e saída de dados para o Aplicativo de Coleta de Dados na Web."
   ]
  },
  {
   "cell_type": "markdown",
   "id": "8a8f5eaf-ff80-4ff0-b8f5-d02a4d0f04b5",
   "metadata": {},
   "source": [
    "## Requisito 1\n",
    "\n",
    "Permitir que o usuário entre com o nome de uma página web.\n",
    "\n",
    "Função leitor_pagina() -> str\n",
    "\n",
    "Esta função receberá do usuário o endereço da página web e o tipo de dado que deve ser baixado."
   ]
  },
  {
   "cell_type": "code",
   "execution_count": 3,
   "id": "a079742a-3356-4eba-aba6-78aedb7d7ac9",
   "metadata": {
    "tags": []
   },
   "outputs": [],
   "source": [
    "# Definindo a função leitora\n",
    "\n",
    "def leitora() -> str:\n",
    "    pagina = input(\"Digite a página que deseja baixar. Exemplo: https://api.github.com/events \\n\")\n",
    "    return pagina"
   ]
  },
  {
   "cell_type": "code",
   "execution_count": 4,
   "id": "fd3d64d0-a950-4aa5-970e-24e2d8351010",
   "metadata": {
    "tags": []
   },
   "outputs": [
    {
     "name": "stdin",
     "output_type": "stream",
     "text": [
      "Digite a página que deseja baixar. Exemplo: https://api.github.com/events \n",
      " https://api.github.com/events\n"
     ]
    }
   ],
   "source": [
    "# Teste de função para armazenamento do dado\n",
    "\n",
    "p1 = leitora()\n"
   ]
  },
  {
   "cell_type": "code",
   "execution_count": 5,
   "id": "bed6a1c8-7d1e-4e8c-b6cd-52af2cc24e8b",
   "metadata": {
    "tags": []
   },
   "outputs": [
    {
     "name": "stdout",
     "output_type": "stream",
     "text": [
      "https://api.github.com/events\n"
     ]
    }
   ],
   "source": [
    "# Teste de armazenamento do dado\n",
    "\n",
    "print(p1)"
   ]
  },
  {
   "cell_type": "markdown",
   "id": "99c044b2-cfe5-4c84-b6d3-bea286e0ee4c",
   "metadata": {},
   "source": [
    "### Definir o tipo de dado a ser baixado"
   ]
  },
  {
   "cell_type": "code",
   "execution_count": 9,
   "id": "ab6a4dc3-3bfa-46d3-9964-7171a930b4f4",
   "metadata": {
    "tags": []
   },
   "outputs": [],
   "source": [
    "# Evoluindo a função leitora()\n",
    "\n",
    "def leitora() -> list:\n",
    "    \"\"\" Esta função recebe do usuário o endereço da página web e o tipo de dado que deve ser baixado. \"\"\"\n",
    "    pagina = input(\"Digite a página que deseja baixar. Exemplo: https://api.github.com/events \\n\")\n",
    "    formato = input(\"Digite o formato que deseja os dados da webpage ('json', 'raw', 'código fonte')? \")\n",
    "    return [pagina, formato]\n"
   ]
  },
  {
   "cell_type": "code",
   "execution_count": 7,
   "id": "f5420b40-9038-4e03-b21d-d92b56a329ab",
   "metadata": {
    "tags": []
   },
   "outputs": [
    {
     "name": "stdin",
     "output_type": "stream",
     "text": [
      "Digite a página que deseja ler. Exemplo: https://api.github.com/events \n",
      " https://g1.globo.com/\n",
      "Digite o formato que deseja ler os dados da webpage ('json', 'raw', 'código fonte')?  json\n"
     ]
    }
   ],
   "source": [
    "# Teste de função de entrada de dados\n",
    "\n",
    "p2 = leitora()"
   ]
  },
  {
   "cell_type": "code",
   "execution_count": 8,
   "id": "a8bf48ce-a45a-4614-a025-528b9e5ef09b",
   "metadata": {
    "tags": []
   },
   "outputs": [
    {
     "name": "stdout",
     "output_type": "stream",
     "text": [
      "['https://g1.globo.com/', 'json']\n"
     ]
    }
   ],
   "source": [
    "# Teste de armazenamento do dado\n",
    "\n",
    "print(p2)"
   ]
  },
  {
   "cell_type": "markdown",
   "id": "cf1e8fdd-5536-4b30-b6b9-fb56bc2dd2d5",
   "metadata": {},
   "source": [
    "## Requisito 3\n",
    "\n",
    "Abrir a página para o usuário.\n",
    "\n",
    "Função impressora_web(nome_pagina) -> None \n",
    "\n",
    "Esta função deve indicar ao usuário o arquivo que armazena os dados baixados na web."
   ]
  },
  {
   "cell_type": "code",
   "execution_count": 23,
   "id": "78baec25-c3ab-463f-aecd-845e94a8565f",
   "metadata": {
    "tags": []
   },
   "outputs": [],
   "source": [
    "# Teste de criar e abrir arquivo novo\n",
    "\n",
    "conteudo = \"Conteúdo de teste para arquivo.\"\n",
    "\n",
    "with open('arq_test.txt', 'w', encoding='utf-8') as at:\n",
    "    at.write(conteudo)\n"
   ]
  },
  {
   "cell_type": "code",
   "execution_count": 33,
   "id": "8a593b3f-af28-40e1-b379-af2134481683",
   "metadata": {
    "tags": []
   },
   "outputs": [],
   "source": [
    "# Definindo a função impressora do dado coletado da web\n",
    "\n",
    "def impressora_web(arquivo):\n",
    "    \"\"\" Esta função salva e indica ao usuário o arquivo em que estão armazenados os dados baixados da web. \"\"\"\n",
    "    with open(arquivo, encoding='utf-8') as f:\n",
    "        page = f.readlines()\n",
    "        print(page)\n",
    "        print('\\n A página da web contém as informações acima e foi salva no arquivo pagina.txt')\n",
    "        \n",
    "        "
   ]
  },
  {
   "cell_type": "code",
   "execution_count": 34,
   "id": "bf2358f9-cfa9-4ab2-9b43-76c68d89e121",
   "metadata": {
    "tags": []
   },
   "outputs": [
    {
     "name": "stdout",
     "output_type": "stream",
     "text": [
      "['Conteúdo de teste para arquivo.']\n",
      "\n",
      " A página da web contém as informações acima e foi salva no arquivo pagina.txt\n"
     ]
    }
   ],
   "source": [
    "# Teste da função impressora de arquivo com dados coletados\n",
    "\n",
    "impressora_web('arq_test.txt')"
   ]
  }
 ],
 "metadata": {
  "kernelspec": {
   "display_name": "Python 3 (ipykernel)",
   "language": "python",
   "name": "python3"
  },
  "language_info": {
   "codemirror_mode": {
    "name": "ipython",
    "version": 3
   },
   "file_extension": ".py",
   "mimetype": "text/x-python",
   "name": "python",
   "nbconvert_exporter": "python",
   "pygments_lexer": "ipython3",
   "version": "3.11.5"
  }
 },
 "nbformat": 4,
 "nbformat_minor": 5
}
