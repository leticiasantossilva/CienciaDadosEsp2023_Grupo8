{
 "cells": [
  {
   "cell_type": "markdown",
   "id": "a003059e-8bc7-400c-800e-2d16aa6bf9f2",
   "metadata": {},
   "source": [
    "# Módulo Principal\n",
    "\n",
    "Este módulo prevê a função principal que integra as fases de entrada, processamento e saída de dados do aplicativo que colete automaticamente dados da web e estime o modelo CAPM para ações na B3."
   ]
  },
  {
   "cell_type": "code",
   "execution_count": 2,
   "id": "58f2d37f-02c9-4c96-823a-c2496334b2de",
   "metadata": {
    "tags": []
   },
   "outputs": [],
   "source": [
    "# Importação de bibliotecas\n",
    "\n",
    "import numpy as np\n",
    "import yfinance as yf\n",
    "import pandas as pd\n",
    "from datetime import datetime, timedelta\n",
    "import matplotlib.pyplot as plt\n",
    "from sklearn.model_selection import train_test_split\n",
    "from sklearn.linear_model import LinearRegression\n",
    "from sklearn import metrics\n",
    "import statsmodels.api as sm\n",
    "import statsmodels.formula.api as smf"
   ]
  },
  {
   "cell_type": "code",
   "execution_count": 3,
   "id": "558471a0-08e9-4bbe-b0f2-264646bacb08",
   "metadata": {
    "tags": []
   },
   "outputs": [],
   "source": [
    "# importação de módulos\n",
    "import test_es\n",
    "import test_proc"
   ]
  },
  {
   "cell_type": "code",
   "execution_count": 4,
   "id": "b7fcbf8d-e4ca-40e2-bb9d-f8e2d0a3a235",
   "metadata": {
    "tags": []
   },
   "outputs": [
    {
     "name": "stdin",
     "output_type": "stream",
     "text": [
      "Digite o ticker da ação listada na B3 que deseja avaliar 1 de 10: (ex.: VALE3.SA)  PETR4.SA\n",
      "Digite o ticker da ação listada na B3 que deseja avaliar 2 de 10: (ex.: VALE3.SA)  PETR4.SA\n",
      "Digite o ticker da ação listada na B3 que deseja avaliar 3 de 10: (ex.: VALE3.SA)  PETR4.SA\n",
      "Digite o ticker da ação listada na B3 que deseja avaliar 4 de 10: (ex.: VALE3.SA)  PETR4.SA\n",
      "Digite o ticker da ação listada na B3 que deseja avaliar 5 de 10: (ex.: VALE3.SA)  PETR4.SA\n",
      "Digite o ticker da ação listada na B3 que deseja avaliar 6 de 10: (ex.: VALE3.SA)  PETR4.SA\n",
      "Digite o ticker da ação listada na B3 que deseja avaliar 7 de 10: (ex.: VALE3.SA)  PETR4.SA\n",
      "Digite o ticker da ação listada na B3 que deseja avaliar 8 de 10: (ex.: VALE3.SA)  PETR4.SA\n",
      "Digite o ticker da ação listada na B3 que deseja avaliar 9 de 10: (ex.: VALE3.SA)  PETR4.SA\n",
      "Digite o ticker da ação listada na B3 que deseja avaliar 10 de 10: (ex.: VALE3.SA)  PETR4.SA\n"
     ]
    }
   ],
   "source": [
    "# Entrada de dados dos tickers de ações\n",
    "acoes = test_es.leitor_acoes()\n"
   ]
  },
  {
   "cell_type": "code",
   "execution_count": 5,
   "id": "5c0be70b-c181-4dab-a859-ebfb4a1ad5a1",
   "metadata": {
    "tags": []
   },
   "outputs": [
    {
     "name": "stdout",
     "output_type": "stream",
     "text": [
      "[ 0.02457673  0.00747143 -0.00507394  0.02196923  0.03800403  0.00147926\n",
      " -0.01181677  0.05007462  0.03096093 -0.05626505  0.00731503  0.04502549\n",
      " -0.0705353   0.03177601 -0.00763743 -0.05443918  0.01969167  0.00798781\n",
      " -0.02415069  0.03828297  0.02495333  0.00545058 -0.01770866  0.03274455\n",
      " -0.01389385 -0.0119221  -0.0464351  -0.01840464 -0.01891287  0.0212681\n",
      " -0.03379193  0.06791416  0.0232291   0.01302575  0.0044085  -0.02267751\n",
      " -0.00748483  0.05316726  0.03651998  0.03903266 -0.01230044  0.01307992\n",
      " -0.01906357  0.01125133  0.02494928  0.0046053   0.01251188 -0.0311477\n",
      " -0.00879857 -0.01502232 -0.01594447  0.06128921  0.01393966 -0.14206216\n",
      "  0.02594419 -0.41056151 -0.28769722  0.26837914 -0.00139668  0.21118914\n",
      " -0.05427259  0.02258844  0.0866261  -0.05054953  0.01793988  0.0972143\n",
      "  0.03264235  0.07727038 -0.00326024  0.00186923 -0.02052242  0.03380935\n",
      "  0.04329802  0.03046373 -0.0124252   0.00522639  0.00043154  0.0129423\n",
      " -0.02512803 -0.02927019  0.02610247 -0.00307017 -0.04399467 -0.06902909\n",
      " -0.03064744  0.00917915  0.00909546  0.00951404 -0.07390858  0.05624001\n",
      "  0.16024316  0.02928332  0.11464976 -0.0129525   0.03975332  0.04639908\n",
      " -0.00851362  0.01395349  0.06210299 -0.03156135 -0.0322471  -0.02871311\n",
      "  0.05620429 -0.03939162  0.06438822 -0.17539706 -0.13155728  0.05427082\n",
      "  0.07788724 -0.0523256   0.05609108 -0.00414945  0.01458342  0.01625138\n",
      " -0.00459497  0.03986571  0.05528665 -0.00229446  0.06822555  0.02834563\n",
      "  0.01674811  0.00549071  0.00443692 -0.04689092 -0.01354729 -0.02565963\n",
      "  0.02781913 -0.05160603  0.09094359 -0.0099193   0.03508768 -0.02488287\n",
      " -0.07655312  0.0544654  -0.01823036  0.05957445  0.04563716  0.0345672\n",
      " -0.03813717  0.00666694 -0.0641339  -0.01564254  0.00567519  0.06734418\n",
      "  0.04335545  0.11387257 -0.00170352 -0.03890787  0.0134944  -0.01646817\n",
      "  0.05878166  0.05955579  0.07557947 -0.03985807 -0.01752768  0.0306728\n",
      "  0.03917412  0.01315017 -0.06085963 -0.05313259  0.03957166  0.02932934\n",
      " -0.01909682  0.06829439  0.00633697 -0.054717    0.06686624  0.04677274\n",
      "  0.00089354  0.06296994 -0.06333842  0.01632248 -0.0468698  -0.07187073\n",
      "  0.04038529 -0.01460127  0.02096151  0.03256618  0.0747345   0.07974469\n",
      "  0.09630741  0.08411157  0.02686208 -0.01218786 -0.06349677  0.00160671\n",
      " -0.06095609  0.11206014  0.08817197 -0.07651051 -0.17762134  0.00929363\n",
      " -0.0132533   0.13737193 -0.04913736 -0.15305706  0.09781073  0.05218514\n",
      " -0.07056467  0.05336242  0.03253703  0.07459112 -0.04565706  0.01322447\n",
      "  0.02648756 -0.03664919 -0.0178572   0.00474309 -0.08182531 -0.00042849\n",
      "  0.02443209  0.01882837  0.06160164  0.02553203  0.00905312 -0.04821988\n",
      "  0.08252434  0.04606598  0.0385815  -0.01988741  0.10528329  0.11087913\n",
      "  0.05813958 -0.03014135 -0.02525083 -0.03121894 -0.00239969  0.06529211\n",
      " -0.01516126 -0.00229286  0.03545641  0.06115867  0.01178655  0.02759049\n",
      " -0.01461822  0.0381472   0.00670747 -0.05504056  0.07664002  0.09681103\n",
      " -0.06360333 -0.02633776 -0.02705009  0.06850848  0.00199089 -0.04910586\n",
      "  0.03194029  0.05235758  0.02693786  0.04282651 -0.03105747  0.00344374\n",
      "  0.        ]\n"
     ]
    }
   ],
   "source": [
    "for item in acoes:\n",
    "    acao = test_es.leitor_precos(item)\n",
    "\n",
    "print(acao)"
   ]
  },
  {
   "cell_type": "code",
   "execution_count": 6,
   "id": "7f02114a-ff54-4a91-99fd-2059cbcda682",
   "metadata": {
    "tags": []
   },
   "outputs": [],
   "source": [
    "# Dados do ativo livre de risco\n",
    "cdi = test_es.leitor_taxa()\n",
    "\n",
    "# Dados de mercado\n",
    "ibov = test_es.leitor_indice()"
   ]
  },
  {
   "cell_type": "code",
   "execution_count": 9,
   "id": "cc733644-49f4-46e3-aa6b-c4abdaf944d2",
   "metadata": {
    "tags": []
   },
   "outputs": [
    {
     "name": "stdout",
     "output_type": "stream",
     "text": [
      "[0.006061748652324111, 2.0252548379447126, 0.06804296222173618]\n"
     ]
    }
   ],
   "source": [
    "# Estimando modelo\n",
    "results = test_proc.estima_modelo(acao, ibov, cdi)\n",
    "print(results)"
   ]
  },
  {
   "cell_type": "code",
   "execution_count": 10,
   "id": "bbe3bb42-1848-482c-88ba-e8ee2f9f595d",
   "metadata": {
    "tags": []
   },
   "outputs": [
    {
     "name": "stdin",
     "output_type": "stream",
     "text": [
      "Digite o caminho da pasta de gravação de arquivos:  C:\\Users\\letis\\Documents\\CienciaDadosEspecializacao2023\n"
     ]
    },
    {
     "name": "stdout",
     "output_type": "stream",
     "text": [
      "0.006061748652324111\n",
      "2.0252548379447126\n",
      "0.06804296222173618\n",
      "C:\\Users\\letis\\Documents\\CienciaDadosEspecializacao2023\n"
     ]
    }
   ],
   "source": [
    "# dados para o arquivo csv\n",
    "alfa = results[0]\n",
    "beta = results[1]\n",
    "sigma = results[2]\n",
    "\n",
    "# seleção da pasta\n",
    "pasta = test_es.leitor_pasta()\n",
    "\n",
    "# teste de print\n",
    "print(alfa)\n",
    "print(beta)\n",
    "print(sigma)\n",
    "print(pasta)"
   ]
  },
  {
   "cell_type": "markdown",
   "id": "61396735-4f4f-4013-b83d-841040cce34a",
   "metadata": {},
   "source": [
    "## Main"
   ]
  },
  {
   "cell_type": "code",
   "execution_count": 11,
   "id": "97210156-e62e-4df2-9fbf-e2955da7389b",
   "metadata": {
    "tags": []
   },
   "outputs": [],
   "source": [
    "# Definindo a função principal\n",
    "\n",
    "def main():\n",
    "    \"\"\" Esta é a função que integra as fases de entrada, processamento e saída de dados  \"\"\"\n",
    "    \n",
    "    # Dados do ativo livre de risco\n",
    "    cdi = test_es.leitor_taxa()\n",
    "    \n",
    "    # Dados de mercado\n",
    "    ibov = test_es.leitor_indice()\n",
    "    \n",
    "    # Leitura de local de gravação\n",
    "    pasta = test_es.leitor_pasta()\n",
    "\n",
    "    # Dados das ações\n",
    "    acoes = test_es.leitor_acoes()\n",
    "    \n",
    "    # Dataframe para resultados das estimações\n",
    "    dados = pd.DataFrame(columns=['Nome da Ação', 'Data', 'Alfa', 'Beta', 'Sigma'])\n",
    "    \n",
    "    for item in acoes:\n",
    "        acao = test_es.leitor_precos(item)   \n",
    "    # Estimando modelo\n",
    "        results = test_proc.estima_modelo(acao, ibov, cdi)\n",
    "    # saída de dados\n",
    "        alfa = results[0]\n",
    "        beta = results[1]\n",
    "        sigma = results[2]    \n",
    "        \n",
    "        resultado = pd.DataFrame({\n",
    "        'Nome da Ação': [item],\n",
    "        'Data': [datetime.now().strftime('%Y-%m-%d')],\n",
    "        'Alfa': [alfa],\n",
    "        'Beta': [beta],\n",
    "        'Sigma': [sigma]\n",
    "    })\n",
    "        dados = pd.concat([dados, resultado], ignore_index=True)\n",
    "\n",
    "    test_es.grava_csv(pasta, dados)\n",
    "    \n",
    "    \n"
   ]
  },
  {
   "cell_type": "code",
   "execution_count": 12,
   "id": "be205803-a0e4-438c-bb40-f3ffe08be079",
   "metadata": {
    "tags": []
   },
   "outputs": [
    {
     "name": "stdin",
     "output_type": "stream",
     "text": [
      "Digite o caminho da pasta de gravação de arquivos:  C:\\Users\\letis\\OneDrive\\Área de Trabalho\\syscapm\n",
      "Digite o ticker da ação listada na B3 que deseja avaliar 1 de 10: (ex.: VALE3.SA)  VALE3.SA\n",
      "Digite o ticker da ação listada na B3 que deseja avaliar 2 de 10: (ex.: VALE3.SA)  PETR4.SA\n",
      "Digite o ticker da ação listada na B3 que deseja avaliar 3 de 10: (ex.: VALE3.SA)  PETR3.SA\n",
      "Digite o ticker da ação listada na B3 que deseja avaliar 4 de 10: (ex.: VALE3.SA)  PRIO3.SA\n",
      "Digite o ticker da ação listada na B3 que deseja avaliar 5 de 10: (ex.: VALE3.SA)  BBAS3.SA\n",
      "Digite o ticker da ação listada na B3 que deseja avaliar 6 de 10: (ex.: VALE3.SA)  BBDC4.SA\n",
      "Digite o ticker da ação listada na B3 que deseja avaliar 7 de 10: (ex.: VALE3.SA)  BBDC3.SA\n",
      "Digite o ticker da ação listada na B3 que deseja avaliar 8 de 10: (ex.: VALE3.SA)  ITUB4.SA\n",
      "Digite o ticker da ação listada na B3 que deseja avaliar 9 de 10: (ex.: VALE3.SA)  ITSA4.SA\n",
      "Digite o ticker da ação listada na B3 que deseja avaliar 10 de 10: (ex.: VALE3.SA)  B3SA3.SA\n"
     ]
    },
    {
     "name": "stdout",
     "output_type": "stream",
     "text": [
      "Resultados salvos no arquivo resultados_capm.csv\n"
     ]
    }
   ],
   "source": [
    "# Testando a função main\n",
    "\n",
    "main()"
   ]
  }
 ],
 "metadata": {
  "kernelspec": {
   "display_name": "Python 3 (ipykernel)",
   "language": "python",
   "name": "python3"
  },
  "language_info": {
   "codemirror_mode": {
    "name": "ipython",
    "version": 3
   },
   "file_extension": ".py",
   "mimetype": "text/x-python",
   "name": "python",
   "nbconvert_exporter": "python",
   "pygments_lexer": "ipython3",
   "version": "3.11.5"
  }
 },
 "nbformat": 4,
 "nbformat_minor": 5
}
