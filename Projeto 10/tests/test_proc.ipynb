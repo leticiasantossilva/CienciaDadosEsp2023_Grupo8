{
 "cells": [
  {
   "cell_type": "markdown",
   "id": "4ac2fe3f-804c-4017-aab3-e843cda7fc43",
   "metadata": {},
   "source": [
    "# Módulo de inferência econométrica - proc.py\n",
    "\n",
    "Este arquivo reúne os testes de funções do módulo de processamento de dados do aplicativo que colete automaticamente dados da web e estime o modelo CAPM para ações na B3."
   ]
  },
  {
   "cell_type": "code",
   "execution_count": 2,
   "id": "d99b70ea-f46c-43e5-b4ff-03d25646f6b5",
   "metadata": {
    "tags": []
   },
   "outputs": [],
   "source": [
    "# Importação de bibliotecas\n",
    "\n",
    "import numpy as np\n",
    "import matplotlib.pyplot as plt\n",
    "import pandas as pd\n",
    "import sklearn\n",
    "from sklearn import linear_model\n"
   ]
  },
  {
   "cell_type": "markdown",
   "id": "ce685a18-c92a-41aa-9128-c7f50f17d563",
   "metadata": {},
   "source": [
    "## Requisito RU5 - método de estimação do modelo\n",
    "Função estima_modelo()\n",
    "\n",
    "Testes para a função de estimação do modelo por mínimos quadrados ordinários."
   ]
  },
  {
   "cell_type": "code",
   "execution_count": null,
   "id": "3ab7fd0a-95b4-43a2-8e06-7994c08c5363",
   "metadata": {},
   "outputs": [],
   "source": []
  },
  {
   "cell_type": "markdown",
   "id": "d1562000-eb0d-4d24-8ccb-8172f4a15e8a",
   "metadata": {},
   "source": [
    "## Requisito RU6 e RU7  - teste de nulidade do alfa de Jensen e do risco específico\n",
    "Função testa_nulidade_t_parametro()\n",
    "\n",
    "Testes para a função que realiza teste da nulidade do alfa de Jensen (o emprego do teste t)."
   ]
  },
  {
   "cell_type": "code",
   "execution_count": null,
   "id": "19ba9f43-4ae0-43c8-99bf-b455eef79fd9",
   "metadata": {},
   "outputs": [],
   "source": []
  },
  {
   "cell_type": "markdown",
   "id": "ff0e3a99-9faa-4c38-adf7-beda50ba2f4c",
   "metadata": {},
   "source": [
    "## Requisito RU8 - teste do modelo\n",
    "Função testa_nulidade_F_parametros()\n",
    "\n",
    "Testes para a função que avalia a nulidade conjunta dos parâmetros da regressão (usando o teste F)."
   ]
  },
  {
   "cell_type": "code",
   "execution_count": null,
   "id": "771a388d-51ae-432c-bf0c-4c1f2a0082ab",
   "metadata": {},
   "outputs": [],
   "source": []
  },
  {
   "cell_type": "markdown",
   "id": "5c89b688-a1bf-4f1c-b60f-37aee8d0b93d",
   "metadata": {},
   "source": [
    "## Requisito RU9 - correlação serial \n",
    "Função testa_corr()\n",
    "\n",
    "Testes para a função de teste da correlação serial do modelo (usando o correlograma)."
   ]
  },
  {
   "cell_type": "code",
   "execution_count": null,
   "id": "910632f8-63a5-4c56-89d8-5b0cdaadf5dd",
   "metadata": {},
   "outputs": [],
   "source": []
  }
 ],
 "metadata": {
  "kernelspec": {
   "display_name": "Python 3 (ipykernel)",
   "language": "python",
   "name": "python3"
  },
  "language_info": {
   "codemirror_mode": {
    "name": "ipython",
    "version": 3
   },
   "file_extension": ".py",
   "mimetype": "text/x-python",
   "name": "python",
   "nbconvert_exporter": "python",
   "pygments_lexer": "ipython3",
   "version": "3.11.5"
  }
 },
 "nbformat": 4,
 "nbformat_minor": 5
}
