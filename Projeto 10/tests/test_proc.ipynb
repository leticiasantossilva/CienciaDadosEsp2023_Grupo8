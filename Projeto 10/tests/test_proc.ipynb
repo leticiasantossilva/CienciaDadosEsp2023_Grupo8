{
 "cells": [
  {
   "cell_type": "markdown",
   "id": "4ac2fe3f-804c-4017-aab3-e843cda7fc43",
   "metadata": {},
   "source": [
    "# Módulo de inferência econométrica - proc.py\n",
    "\n",
    "Este arquivo reúne os testes de funções do módulo de processamento de dados do aplicativo que estime o modelo CAPM para ações na B3 com previsão a partir de apredizado de máquina."
   ]
  },
  {
   "cell_type": "code",
   "execution_count": 2,
   "id": "d99b70ea-f46c-43e5-b4ff-03d25646f6b5",
   "metadata": {
    "tags": []
   },
   "outputs": [],
   "source": [
    "# Importação de bibliotecas\n",
    "\n",
    "import numpy as np\n",
    "import pandas as pd\n",
    "from datetime import datetime, timedelta\n",
    "from sklearn.model_selection import train_test_split\n",
    "from sklearn.linear_model import LinearRegression\n",
    "from sklearn import metrics\n"
   ]
  },
  {
   "cell_type": "code",
   "execution_count": 6,
   "id": "e938fa24-6333-4993-87a4-e648aa94d671",
   "metadata": {
    "tags": []
   },
   "outputs": [],
   "source": [
    "# Importar modulo es para escrever funções proc\n",
    "import test_es"
   ]
  },
  {
   "cell_type": "markdown",
   "id": "ce685a18-c92a-41aa-9128-c7f50f17d563",
   "metadata": {},
   "source": [
    "## Requisito RU5 - método de estimação do modelo\n",
    "Função estima_modelo()\n",
    "\n",
    "O modelo deverá ser estimado por mínimo quadrados ordinários, utilizando machine learning.\n"
   ]
  },
  {
   "cell_type": "code",
   "execution_count": 4,
   "id": "3ab7fd0a-95b4-43a2-8e06-7994c08c5363",
   "metadata": {},
   "outputs": [],
   "source": [
    "def estima_modelo(Ri:np.array, Rm:np.array, Rf:np.array):\n",
    "    pass"
   ]
  },
  {
   "cell_type": "code",
   "execution_count": 25,
   "id": "07b4b1f8-a0c2-4f0b-95c0-2c3a347c5ad0",
   "metadata": {
    "tags": []
   },
   "outputs": [
    {
     "name": "stdout",
     "output_type": "stream",
     "text": [
      "[ 0.05698012 -0.16262368 -0.08884113  0.07136117  0.00681467  0.02248927\n",
      "  0.0260516   0.05515104 -0.00276153 -0.01898725  0.04395162 -0.00038665\n",
      "  0.00946709 -0.03617224 -0.02700574 -0.02142831 -0.01021909  0.04719777\n",
      " -0.0263582   0.06406259  0.01573118 -0.01376643 -0.00562236  0.01637737\n",
      "  0.01074235 -0.03871686 -0.01658453 -0.06685395 -0.03442336 -0.01626565\n",
      " -0.0151756   0.06991726  0.03073946  0.00938449 -0.01115681 -0.05766826\n",
      "  0.01263866  0.02474277  0.0066238   0.03141603  0.02263827 -0.05172052\n",
      "  0.07342954  0.00672185  0.01787139  0.03164168  0.03686501  0.02684694\n",
      "  0.01514605 -0.09857913  0.04413818  0.00150958 -0.00489916 -0.1412612\n",
      "  0.07100344 -0.16121066 -0.05130086  0.056921    0.06168903  0.00322802\n",
      " -0.00735463 -0.00671428  0.08927714 -0.05135881  0.09496971  0.08158208\n",
      " -0.03542858  0.0596366   0.0100634   0.03690041 -0.01441277 -0.01534567\n",
      "  0.05097162  0.07798316 -0.04126866  0.06262648 -0.01207311 -0.01109487\n",
      "  0.01447139 -0.01025796 -0.00696351 -0.02152639  0.01616656  0.00984958\n",
      "  0.00016936  0.01793253  0.04703342 -0.00238094 -0.0412093   0.02190519\n",
      "  0.03280283  0.04481121  0.13619263  0.05748346  0.03582167  0.04256367\n",
      "  0.01322176  0.00103019  0.09834207  0.00176987 -0.04053208 -0.03379567\n",
      "  0.01378934  0.04721891  0.01742333  0.01639866  0.02471135  0.01172503\n",
      "  0.00772002 -0.04851887  0.05174463  0.06726533  0.02333598  0.04598113\n",
      " -0.01081113  0.03269802 -0.01819301 -0.01826283  0.04174246 -0.02264822\n",
      " -0.03609632  0.04549238  0.02137155  0.00750548  0.00893949 -0.00625434\n",
      "  0.0253498  -0.04075037 -0.02888364 -0.05362869 -0.03781077 -0.00653262\n",
      " -0.03854312 -0.03472231 -0.05046873 -0.03944565  0.01662273  0.02777065\n",
      " -0.03194454 -0.02895531 -0.10235049 -0.01705818 -0.01050387  0.09199993\n",
      " -0.01056638  0.07874142  0.02177936  0.03242457 -0.0334085   0.00724939\n",
      "  0.09883045  0.03169587 -0.04432601  0.01767499  0.06550885 -0.02089486\n",
      " -0.03385468  0.15242263 -0.01845262 -0.03248757  0.05837812 -0.00601357\n",
      "  0.00709309 -0.03262569 -0.08565317 -0.03782191 -0.00438114 -0.03813708\n",
      " -0.01156435  0.08382613  0.04673769 -0.00838607 -0.06662867 -0.07738453\n",
      "  0.04565353 -0.04810256 -0.02933328 -0.07431325  0.04644604 -0.04254116\n",
      "  0.03747049  0.02450251 -0.00410382 -0.05077256  0.03875969  0.0216417\n",
      " -0.00160698  0.12613406 -0.07601343  0.03403167 -0.00516798  0.12699929\n",
      " -0.01831628  0.05906335 -0.01015051  0.02764894 -0.00748081  0.03188778\n",
      "  0.00460726  0.0430648   0.00096516  0.03064066 -0.02848233 -0.05071679\n",
      "  0.00315598 -0.01842698  0.02106218 -0.03464113 -0.03334436  0.00282391\n",
      " -0.0143242  -0.04496348  0.04825083 -0.0539702  -0.07842631 -0.01807313\n",
      "  0.00521741  0.00749711 -0.06911838 -0.0190623   0.07616343  0.00509684\n",
      " -0.03028096 -0.03301951  0.00927068  0.02648509  0.00283362  0.06722186\n",
      " -0.06507807 -0.0035773  -0.05921016  0.03259627  0.03077416  0.04632189\n",
      " -0.00926611  0.02894894 -0.05208488  0.00258761  0.02262026 -0.0296912\n",
      " -0.02187883  0.09995304 -0.00270195  0.07789957 -0.0187041  -0.0147038\n",
      "  0.00870523  0.02041093  0.0390657  -0.00968992 -0.05766468 -0.03987269\n",
      "  0.00793083]\n"
     ]
    }
   ],
   "source": [
    "# Usando exemplo PETR4.SA\n",
    "\n",
    "Ri = test_es.leitor_precos('VALE3.SA')\n",
    "Rf = test_es.leitor_taxa()\n",
    "Rm = test_es.leitor_indice()\n",
    "\n",
    "print(Ri)"
   ]
  },
  {
   "cell_type": "code",
   "execution_count": 29,
   "id": "d6589adb-f04f-41fc-bf8f-b42650db6232",
   "metadata": {
    "tags": []
   },
   "outputs": [
    {
     "name": "stdout",
     "output_type": "stream",
     "text": [
      "(253,)\n"
     ]
    }
   ],
   "source": [
    "Rf = np.array(Rf[-len(Ri):])\n",
    "Rm = np.array(Rm[-len(Ri):])\n",
    "\n",
    "# Cálculo de Prêmio de Risco\n",
    "\n",
    "Premio = (Rf - Rm)\n",
    "\n",
    "print(Premio.shape)"
   ]
  },
  {
   "cell_type": "code",
   "execution_count": 11,
   "id": "d1a14ecd-32a5-43a1-82bb-0750fc7bdaa2",
   "metadata": {
    "tags": []
   },
   "outputs": [
    {
     "name": "stdout",
     "output_type": "stream",
     "text": [
      "[[ 0.05697969]\n",
      " [-0.16262348]\n",
      " [-0.08884102]\n",
      " [ 0.07136116]\n",
      " [ 0.00681473]\n",
      " [ 0.02248915]\n",
      " [ 0.02605149]\n",
      " [ 0.05515105]\n",
      " [-0.00276131]\n",
      " [-0.01898736]\n",
      " [ 0.04395162]\n",
      " [-0.00038643]\n",
      " [ 0.00946687]\n",
      " [-0.03617234]\n",
      " [-0.02700541]\n",
      " [-0.02142877]\n",
      " [-0.01021874]\n",
      " [ 0.04719753]\n",
      " [-0.02635809]\n",
      " [ 0.06406282]\n",
      " [ 0.01573106]\n",
      " [-0.01376643]\n",
      " [-0.00562247]\n",
      " [ 0.01637737]\n",
      " [ 0.01074235]\n",
      " [-0.03871686]\n",
      " [-0.01658453]\n",
      " [-0.06685407]\n",
      " [-0.03442349]\n",
      " [-0.01626553]\n",
      " [-0.01517547]\n",
      " [ 0.06991694]\n",
      " [ 0.03073953]\n",
      " [ 0.00938485]\n",
      " [-0.01115681]\n",
      " [-0.05766843]\n",
      " [ 0.01263872]\n",
      " [ 0.02474289]\n",
      " [ 0.00662392]\n",
      " [ 0.03141567]\n",
      " [ 0.02263839]\n",
      " [-0.05172052]\n",
      " [ 0.07342942]\n",
      " [ 0.00672207]\n",
      " [ 0.01787106]\n",
      " [ 0.03164191]\n",
      " [ 0.03686511]\n",
      " [ 0.02684673]\n",
      " [ 0.01514625]\n",
      " [-0.09857912]\n",
      " [ 0.04413796]\n",
      " [ 0.00150968]\n",
      " [-0.00489916]\n",
      " [-0.1412612 ]\n",
      " [ 0.07100332]\n",
      " [-0.16121057]\n",
      " [-0.05130093]\n",
      " [ 0.05692122]\n",
      " [ 0.06168895]\n",
      " [ 0.00322814]\n",
      " [-0.00735463]\n",
      " [-0.00671459]\n",
      " [ 0.0892774 ]\n",
      " [-0.05135887]\n",
      " [ 0.09496952]\n",
      " [ 0.08158209]\n",
      " [-0.03542858]\n",
      " [ 0.05963693]\n",
      " [ 0.0100633 ]\n",
      " [ 0.03690031]\n",
      " [-0.01441277]\n",
      " [-0.01534577]\n",
      " [ 0.05097173]\n",
      " [ 0.07798326]\n",
      " [-0.04126875]\n",
      " [ 0.06262657]\n",
      " [-0.0120731 ]\n",
      " [-0.01109496]\n",
      " [ 0.01447156]\n",
      " [-0.01025805]\n",
      " [-0.0069636 ]\n",
      " [-0.02152657]\n",
      " [ 0.01616674]\n",
      " [ 0.00984958]\n",
      " [ 0.00016927]\n",
      " [ 0.01793253]\n",
      " [ 0.04703342]\n",
      " [-0.00238102]\n",
      " [-0.04120922]\n",
      " [ 0.02190519]\n",
      " [ 0.03280284]\n",
      " [ 0.04481129]\n",
      " [ 0.13619263]\n",
      " [ 0.05748346]\n",
      " [ 0.0358216 ]\n",
      " [ 0.04256355]\n",
      " [ 0.01322207]\n",
      " [ 0.00103031]\n",
      " [ 0.09834168]\n",
      " [ 0.00176998]\n",
      " [-0.04053208]\n",
      " [-0.03379555]\n",
      " [ 0.01378922]\n",
      " [ 0.04721868]\n",
      " [ 0.01742356]\n",
      " [ 0.01639877]\n",
      " [ 0.02471124]\n",
      " [ 0.01172514]\n",
      " [ 0.00772002]\n",
      " [-0.04851907]\n",
      " [ 0.05174464]\n",
      " [ 0.06726554]\n",
      " [ 0.02333578]\n",
      " [ 0.04598132]\n",
      " [-0.01081131]\n",
      " [ 0.03269812]\n",
      " [-0.01819292]\n",
      " [-0.01826292]\n",
      " [ 0.04174237]\n",
      " [-0.02264813]\n",
      " [-0.03609623]\n",
      " [ 0.04549229]\n",
      " [ 0.02137146]\n",
      " [ 0.00750557]\n",
      " [ 0.00893957]\n",
      " [-0.00625451]\n",
      " [ 0.02534972]\n",
      " [-0.04075029]\n",
      " [-0.02888373]\n",
      " [-0.05362843]\n",
      " [-0.03781077]\n",
      " [-0.00653262]\n",
      " [-0.03854321]\n",
      " [-0.03472211]\n",
      " [-0.05046893]\n",
      " [-0.03944565]\n",
      " [ 0.01662261]\n",
      " [ 0.02777077]\n",
      " [-0.03194443]\n",
      " [-0.02895542]\n",
      " [-0.10235055]\n",
      " [-0.01705819]\n",
      " [-0.0105038 ]\n",
      " [ 0.09200013]\n",
      " [-0.01056644]\n",
      " [ 0.07874116]\n",
      " [ 0.02177948]\n",
      " [ 0.03242457]\n",
      " [-0.03340839]\n",
      " [ 0.00724916]\n",
      " [ 0.09883046]\n",
      " [ 0.03169598]\n",
      " [-0.04432591]\n",
      " [ 0.01767477]\n",
      " [ 0.06550896]\n",
      " [-0.02089496]\n",
      " [-0.03385478]\n",
      " [ 0.15242287]\n",
      " [-0.01845262]\n",
      " [-0.03248757]\n",
      " [ 0.05837812]\n",
      " [-0.00601348]\n",
      " [ 0.007093  ]\n",
      " [-0.0326256 ]\n",
      " [-0.08565316]\n",
      " [-0.03782201]\n",
      " [-0.00438124]\n",
      " [-0.03813708]\n",
      " [-0.01156425]\n",
      " [ 0.08382613]\n",
      " [ 0.04673769]\n",
      " [-0.00838617]\n",
      " [-0.06662848]\n",
      " [-0.07738474]\n",
      " [ 0.04565376]\n",
      " [-0.04810266]\n",
      " [-0.02933339]\n",
      " [-0.07431314]\n",
      " [ 0.04644597]\n",
      " [-0.04254104]\n",
      " [ 0.03747049]\n",
      " [ 0.02450245]\n",
      " [-0.0041037 ]\n",
      " [-0.05077268]\n",
      " [ 0.03875969]\n",
      " [ 0.02164182]\n",
      " [-0.00160709]\n",
      " [ 0.12613406]\n",
      " [-0.07601353]\n",
      " [ 0.03403168]\n",
      " [-0.00516787]\n",
      " [ 0.1269994 ]\n",
      " [-0.01831638]\n",
      " [ 0.05906345]\n",
      " [-0.01015061]\n",
      " [ 0.02764894]\n",
      " [-0.00748081]\n",
      " [ 0.03188768]\n",
      " [ 0.00460735]\n",
      " [ 0.04306489]\n",
      " [ 0.00096516]\n",
      " [ 0.03064057]\n",
      " [-0.02848225]\n",
      " [-0.05071687]\n",
      " [ 0.00315589]\n",
      " [-0.01842698]\n",
      " [ 0.02106227]\n",
      " [-0.03464122]\n",
      " [-0.03334427]\n",
      " [ 0.00282391]\n",
      " [-0.0143242 ]\n",
      " [-0.04496338]\n",
      " [ 0.04825062]\n",
      " [-0.05397011]\n",
      " [-0.07842631]\n",
      " [-0.01807302]\n",
      " [ 0.0052173 ]\n",
      " [ 0.00749711]\n",
      " [-0.06911844]\n",
      " [-0.01906224]\n",
      " [ 0.07616355]\n",
      " [ 0.00509684]\n",
      " [-0.03028107]\n",
      " [-0.03301951]\n",
      " [ 0.00927062]\n",
      " [ 0.02648515]\n",
      " [ 0.0028335 ]\n",
      " [ 0.06722198]\n",
      " [-0.06507807]\n",
      " [-0.0035773 ]\n",
      " [-0.05921016]\n",
      " [ 0.03259627]\n",
      " [ 0.03077416]\n",
      " [ 0.04632189]\n",
      " [-0.00926611]\n",
      " [ 0.02894894]\n",
      " [-0.05208488]\n",
      " [ 0.00258761]\n",
      " [ 0.02262026]\n",
      " [-0.0296912 ]\n",
      " [-0.02187883]\n",
      " [ 0.09995304]\n",
      " [-0.00270195]\n",
      " [ 0.07789957]\n",
      " [-0.0187041 ]\n",
      " [-0.0147038 ]\n",
      " [ 0.00870523]\n",
      " [ 0.02041093]\n",
      " [ 0.0390657 ]\n",
      " [-0.00968992]\n",
      " [-0.05766468]\n",
      " [-0.03987269]\n",
      " [ 0.00793083]]\n"
     ]
    }
   ],
   "source": [
    "# Transformando arrays para usar o sklearn\n",
    "Ri = Ri.reshape(-1, 1)\n",
    "\n",
    "print(Ri)"
   ]
  },
  {
   "cell_type": "code",
   "execution_count": 31,
   "id": "976cb76d-a103-424a-aacf-3396c8ac5da5",
   "metadata": {
    "tags": []
   },
   "outputs": [
    {
     "name": "stdout",
     "output_type": "stream",
     "text": [
      "(253, 1)\n",
      "(253, 1)\n"
     ]
    }
   ],
   "source": [
    "# Transformando arrays para usar o sklearn\n",
    "Rm = Rm.reshape(-1, 1)\n",
    "\n",
    "Premio = Premio.reshape(-1, 1)\n",
    "\n",
    "print(Premio.shape)\n",
    "print(Rm.shape)"
   ]
  },
  {
   "cell_type": "code",
   "execution_count": 38,
   "id": "2a639f06-4beb-48ad-b933-9c08e1686b2c",
   "metadata": {
    "tags": []
   },
   "outputs": [],
   "source": [
    "# Teste de modelo com sklearn\n",
    "Rm_train, Rm_test, Ri_train, Ri_test = train_test_split(Rm, Ri, test_size=0.2, random_state=0)\n",
    "\n",
    "modelo = LinearRegression()\n",
    "results = modelo.fit(Rm_train, Ri_train)\n"
   ]
  },
  {
   "cell_type": "code",
   "execution_count": 44,
   "id": "24c5b9c8-4ed3-4133-a4f3-8b0f4625dda3",
   "metadata": {},
   "outputs": [
    {
     "name": "stdout",
     "output_type": "stream",
     "text": [
      "[ 0.01989388 -0.01206522  0.00071351 -0.00331591  0.01523025  0.00673763\n",
      "  0.00890183  0.00423936 -0.00341439  0.00773232 -0.01857583 -0.00517428\n",
      " -0.00774358  0.00428971 -0.00626537  0.01132248 -0.01496594 -0.0116203\n",
      "  0.01490027 -0.00047304  0.00725782  0.01262052 -0.0120018   0.00145955\n",
      " -0.00081742 -0.00211597 -0.01167673 -0.05995489  0.00312674  0.00773453\n",
      " -0.00565157  0.0113089   0.00149352  0.00093764 -0.01789162  0.00461838\n",
      "  0.0011985  -0.00175704  0.01199116 -0.01697467  0.00399036 -0.00816599\n",
      "  0.01379082  0.01389915 -0.00551924 -0.00783713  0.00278371  0.00274294\n",
      " -0.0003696   0.00201949  0.0102241 ]\n"
     ]
    }
   ],
   "source": [
    "# teste de previsao\n",
    "\n",
    "Ri_pred = modelo.predict(Rm_test)\n",
    "\n",
    "print(Ri_pred)"
   ]
  },
  {
   "cell_type": "code",
   "execution_count": 50,
   "id": "eaf79208-dd18-4c3e-8d8f-1ca0991fee92",
   "metadata": {
    "tags": []
   },
   "outputs": [
    {
     "name": "stdout",
     "output_type": "stream",
     "text": [
      "0.0006493721780621898\n",
      "0.7934916526499552\n"
     ]
    }
   ],
   "source": [
    "# encontrando os coeficientes\n",
    "\n",
    "alfa = modelo.intercept_\n",
    "beta = modelo.coef_[0] \n",
    "\n",
    "print(alfa)\n",
    "print(beta)"
   ]
  },
  {
   "cell_type": "code",
   "execution_count": 48,
   "id": "fe564866-8c2b-4abb-903a-71cc62380165",
   "metadata": {
    "tags": []
   },
   "outputs": [
    {
     "name": "stdout",
     "output_type": "stream",
     "text": [
      "0.04530180122195707\n"
     ]
    }
   ],
   "source": [
    "# encontrando volatilidade estimada (sigma)\n",
    "\n",
    "# Resíduos\n",
    "residuos = Ri_test - Ri_pred\n",
    "\n",
    "# volatilidade estimada\n",
    "sigma = np.sqrt(np.var(residuos))\n",
    "\n",
    "print(sigma)"
   ]
  },
  {
   "cell_type": "code",
   "execution_count": 58,
   "id": "19ba9f43-4ae0-43c8-99bf-b455eef79fd9",
   "metadata": {},
   "outputs": [],
   "source": [
    "# Função de estimação por mínimos quadrados ordinários\n",
    "\n",
    "def estima_modelo(Ri:np.array, Rm:np.array, Rf:np.array) -> list:\n",
    "    Rf = np.array(Rf[-len(Ri):])\n",
    "    Rm = np.array(Rm[-len(Ri):])\n",
    "    Premio = (Rf - Rm)\n",
    "    \n",
    "\n",
    "    Ri = Ri.reshape(-1, 1)\n",
    "    Rm = Rm.reshape(-1, 1)\n",
    "    Premio = Premio.reshape(-1, 1)\n",
    "    \n",
    "    # modelo capm com previsão\n",
    "    Rm_train, Rm_test, Ri_train, Ri_test = train_test_split(Rm, Ri, test_size=0.2, random_state=0)\n",
    "    \n",
    "    # Inicializando o modelo de regressão linear\n",
    "    modelo = LinearRegression()\n",
    "    \n",
    "    # Ajustando o modelo\n",
    "    results = modelo.fit(Rm_train, Ri_train)\n",
    "    \n",
    "    # Utilizando função de projeção\n",
    "    Ri_pred = modelo.predict(Rm_test)\n",
    "    \n",
    "    # Dados alfa, beta, sigma\n",
    "    alfa = float(modelo.intercept_)\n",
    "    beta = float(modelo.coef_[0])\n",
    "    # Resíduos\n",
    "    residuos = Ri_test - Ri_pred\n",
    "    # volatilidade estimada\n",
    "    sigma = np.sqrt(np.var(residuos))\n",
    "\n",
    "    return [alfa, beta, sigma]"
   ]
  },
  {
   "cell_type": "code",
   "execution_count": 59,
   "id": "be368bdb-413e-4fac-bb7e-312e2ba81071",
   "metadata": {
    "tags": []
   },
   "outputs": [
    {
     "name": "stderr",
     "output_type": "stream",
     "text": [
      "C:\\Users\\letis\\AppData\\Local\\Temp\\ipykernel_19036\\3156118695.py:26: DeprecationWarning: Conversion of an array with ndim > 0 to a scalar is deprecated, and will error in future. Ensure you extract a single element from your array before performing this operation. (Deprecated NumPy 1.25.)\n",
      "  alfa = float(modelo.intercept_)\n",
      "C:\\Users\\letis\\AppData\\Local\\Temp\\ipykernel_19036\\3156118695.py:27: DeprecationWarning: Conversion of an array with ndim > 0 to a scalar is deprecated, and will error in future. Ensure you extract a single element from your array before performing this operation. (Deprecated NumPy 1.25.)\n",
      "  beta = float(modelo.coef_[0])\n"
     ]
    },
    {
     "data": {
      "text/plain": [
       "[0.0006493742937928853, 0.7934910592517951, 0.04530182088258471]"
      ]
     },
     "execution_count": 59,
     "metadata": {},
     "output_type": "execute_result"
    }
   ],
   "source": [
    "# teste da função\n",
    "\n",
    "ri = test_es.leitor_precos('VALE3.SA')\n",
    "rm = test_es.leitor_indice()\n",
    "rf = test_es.leitor_taxa()\n",
    "\n",
    "estima_modelo(ri, rm, rf)"
   ]
  }
 ],
 "metadata": {
  "kernelspec": {
   "display_name": "Python 3 (ipykernel)",
   "language": "python",
   "name": "python3"
  },
  "language_info": {
   "codemirror_mode": {
    "name": "ipython",
    "version": 3
   },
   "file_extension": ".py",
   "mimetype": "text/x-python",
   "name": "python",
   "nbconvert_exporter": "python",
   "pygments_lexer": "ipython3",
   "version": "3.11.5"
  }
 },
 "nbformat": 4,
 "nbformat_minor": 5
}
