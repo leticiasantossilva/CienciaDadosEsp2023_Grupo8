{
 "cells": [
  {
   "cell_type": "markdown",
   "id": "ea3f421b-3378-405e-8930-cb81029ad459",
   "metadata": {},
   "source": [
    "# Módulo Principal\n",
    "\n",
    "Este módulo prevê a função principal que integra as fases de entrada, processamento e saída de dados do aplicativo de extração de dados em texto.\n",
    "\n",
    "A página onde será testado o web scraping é:\n",
    "[página de teste](https://pythonscraping.com/page/page1.html)\n"
   ]
  },
  {
   "cell_type": "code",
   "execution_count": 1,
   "id": "e30e86ee-85ba-4295-83d6-a7619c13cdf3",
   "metadata": {
    "tags": []
   },
   "outputs": [],
   "source": [
    "# Importando módulos\n",
    "\n",
    "import test_es\n",
    "import test_proc"
   ]
  },
  {
   "cell_type": "markdown",
   "id": "bd5ec4c1-d5ca-4eb3-a370-3ede52ae61cb",
   "metadata": {},
   "source": [
    "## Testes de integração de funções "
   ]
  },
  {
   "cell_type": "code",
   "execution_count": 3,
   "id": "bb23a07b-56e8-41c4-a567-ec617d86ba3a",
   "metadata": {
    "tags": []
   },
   "outputs": [
    {
     "name": "stdin",
     "output_type": "stream",
     "text": [
      "Informe o endereço da página (Ex: http://pythonscraping.com/pages/page1.html):  http://pythonscraping.com/pages/page1.html\n",
      "Informe o que deseja extrair (Exemplo: title, head, body, etc.):  title\n",
      "Informe a palavra-chave que deseja procurar  Useful\n"
     ]
    }
   ],
   "source": [
    "# Entrada de dados\n",
    "\n",
    "entrada = test_es.leitor()"
   ]
  },
  {
   "cell_type": "code",
   "execution_count": 4,
   "id": "cef2e5e7-f1ff-4718-8352-8e3661964c65",
   "metadata": {
    "tags": []
   },
   "outputs": [
    {
     "name": "stdout",
     "output_type": "stream",
     "text": [
      "['http://pythonscraping.com/pages/page1.html', 'title', 'Useful']\n"
     ]
    }
   ],
   "source": [
    "# Teste de armazenamento\n",
    "\n",
    "print(entrada)"
   ]
  },
  {
   "cell_type": "code",
   "execution_count": 7,
   "id": "90ead2f7-985f-4bcb-bd71-d365a0f0cc53",
   "metadata": {
    "tags": []
   },
   "outputs": [],
   "source": [
    "# Teste de integração com processamento - leitor_web\n",
    "\n",
    "html = test_proc.leitor_web(entrada[0])"
   ]
  },
  {
   "cell_type": "code",
   "execution_count": 6,
   "id": "159891c8-abfd-46e4-a68c-60b991d34d39",
   "metadata": {
    "tags": []
   },
   "outputs": [
    {
     "name": "stdout",
     "output_type": "stream",
     "text": [
      "<html>\n",
      "<head>\n",
      "<title>A Useful Page</title>\n",
      "</head>\n",
      "<body>\n",
      "<h1>An Interesting Title</h1>\n",
      "<div>\n",
      "Lorem ipsum dolor sit amet, consectetur adipisicing elit, sed do eiusmod tempor incididunt ut labore et dolore magna aliqua. Ut enim ad minim veniam, quis nostrud exercitation ullamco laboris nisi ut aliquip ex ea commodo consequat. Duis aute irure dolor in reprehenderit in voluptate velit esse cillum dolore eu fugiat nulla pariatur. Excepteur sint occaecat cupidatat non proident, sunt in culpa qui officia deserunt mollit anim id est laborum.\n",
      "</div>\n",
      "</body>\n",
      "</html>\n",
      "\n"
     ]
    }
   ],
   "source": [
    "# Teste de armazenamento\n",
    "\n",
    "print(html)"
   ]
  },
  {
   "cell_type": "code",
   "execution_count": 8,
   "id": "0c67733f-0895-414c-ba3e-7d781258c5b3",
   "metadata": {
    "tags": []
   },
   "outputs": [],
   "source": [
    "# Teste de integração com processamento - extrator\n",
    "\n",
    "dados = test_proc.extrator(entrada[0], entrada[1], entrada[2])"
   ]
  },
  {
   "cell_type": "code",
   "execution_count": 9,
   "id": "d4818c2c-1789-4dc1-8e56-d9386af72c0e",
   "metadata": {
    "tags": []
   },
   "outputs": [
    {
     "name": "stdout",
     "output_type": "stream",
     "text": [
      "[<html>\n",
      "<head>\n",
      "<title>A Useful Page</title>\n",
      "</head>\n",
      "<body>\n",
      "<h1>An Interesting Title</h1>\n",
      "<div>\n",
      "Lorem ipsum dolor sit amet, consectetur adipisicing elit, sed do eiusmod tempor incididunt ut labore et dolore magna aliqua. Ut enim ad minim veniam, quis nostrud exercitation ullamco laboris nisi ut aliquip ex ea commodo consequat. Duis aute irure dolor in reprehenderit in voluptate velit esse cillum dolore eu fugiat nulla pariatur. Excepteur sint occaecat cupidatat non proident, sunt in culpa qui officia deserunt mollit anim id est laborum.\n",
      "</div>\n",
      "</body>\n",
      "</html>\n",
      ", [<title>A Useful Page</title>], ['A Useful Page'], 1]\n"
     ]
    }
   ],
   "source": [
    "# Teste de armazenamento\n",
    "\n",
    "print(dados)"
   ]
  },
  {
   "cell_type": "code",
   "execution_count": 18,
   "id": "090526bc-bdf3-483d-a90e-c6b40a4cc017",
   "metadata": {
    "tags": []
   },
   "outputs": [
    {
     "name": "stdout",
     "output_type": "stream",
     "text": [
      "O title da página é: \n",
      "[<title>A Useful Page</title>]\n",
      "A palavra-chave \"Useful\" foi encontrada 1 vezes.\n"
     ]
    }
   ],
   "source": [
    "# Teste de integração com a saida\n",
    "\n",
    "test_es.saida(dados[0], entrada[1], entrada[2], dados[3])"
   ]
  },
  {
   "cell_type": "markdown",
   "id": "b6f325a6-de34-40a0-951d-5f432d592e30",
   "metadata": {},
   "source": [
    "## Definindo Main()"
   ]
  },
  {
   "cell_type": "code",
   "execution_count": 19,
   "id": "ece50b74-c0b4-44fd-855d-54ac390f30f2",
   "metadata": {
    "tags": []
   },
   "outputs": [],
   "source": [
    "# Definindo a função main()\n",
    "\n",
    "def main():\n",
    "    \"\"\" Esta função integra as fases de entrada, processamento e saída de dados \"\"\"\n",
    "    entrada = test_es.leitor()\n",
    "    dados = test_proc.extrator(entrada[0], entrada[1], entrada[2])\n",
    "    test_es.saida(dados[0], entrada[1], entrada[2], dados[3])"
   ]
  },
  {
   "cell_type": "code",
   "execution_count": 17,
   "id": "681bbd22-4e95-49ca-b8b5-f55ac32e4d3f",
   "metadata": {
    "tags": []
   },
   "outputs": [
    {
     "name": "stdin",
     "output_type": "stream",
     "text": [
      "Informe o endereço da página (Ex: http://pythonscraping.com/pages/page1.html):  http://pythonscraping.com/pages/page1.html\n",
      "Informe o que deseja extrair (Exemplo: title, head, body, etc.):  title\n",
      "Informe a palavra-chave que deseja procurar  Interesting\n"
     ]
    },
    {
     "name": "stdout",
     "output_type": "stream",
     "text": [
      "O title da página é: \n",
      "[<title>A Useful Page</title>]\n",
      "A palavra-chave \"Interesting\" foi encontrada 1 vezes.\n"
     ]
    }
   ],
   "source": [
    "# Teste da função main\n",
    "\n",
    "main()"
   ]
  }
 ],
 "metadata": {
  "kernelspec": {
   "display_name": "Python 3 (ipykernel)",
   "language": "python",
   "name": "python3"
  },
  "language_info": {
   "codemirror_mode": {
    "name": "ipython",
    "version": 3
   },
   "file_extension": ".py",
   "mimetype": "text/x-python",
   "name": "python",
   "nbconvert_exporter": "python",
   "pygments_lexer": "ipython3",
   "version": "3.11.5"
  }
 },
 "nbformat": 4,
 "nbformat_minor": 5
}
