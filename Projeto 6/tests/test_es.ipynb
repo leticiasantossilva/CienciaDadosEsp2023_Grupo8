{
 "cells": [
  {
   "cell_type": "markdown",
   "id": "e374e80f-6036-42d7-9c9b-54738497a1dc",
   "metadata": {},
   "source": [
    "# Módulo Entrada/Saída - es\n",
    "\n",
    "Este módulo apresenta as funções de entrada e de saída de dados do aplicativo que extrair dados em texto.\n",
    "\n",
    "A página onde será testado o web scraping é:\n",
    "[página de teste](https://pythonscraping.com/page/page1.html)\n"
   ]
  },
  {
   "cell_type": "markdown",
   "id": "f4b45a18-4b36-408e-9430-882aed4cf266",
   "metadata": {},
   "source": [
    "## Função de entrada de dados leitor()"
   ]
  },
  {
   "cell_type": "code",
   "execution_count": 8,
   "id": "150c33fe-91d9-43da-92c8-0c01cfcd31e8",
   "metadata": {
    "tags": []
   },
   "outputs": [],
   "source": [
    "# Definindo a função de entrada\n",
    "\n",
    "def leitor() -> list:\n",
    "    pass"
   ]
  },
  {
   "cell_type": "code",
   "execution_count": 5,
   "id": "3d76df22-2cf7-4310-9230-91bad2c2938d",
   "metadata": {
    "tags": []
   },
   "outputs": [
    {
     "name": "stdin",
     "output_type": "stream",
     "text": [
      "Informe o endereço da página (Ex: http://pythonscraping.com/pages/page1.html):  http://pythonscraping.com/pages/page1.html\n"
     ]
    }
   ],
   "source": [
    "# Teste de entrada do website\n",
    "\n",
    "endereco_web = input('Informe o endereço da página (Ex: http://pythonscraping.com/pages/page1.html): ')\n"
   ]
  },
  {
   "cell_type": "code",
   "execution_count": 6,
   "id": "c89f0f22-07d7-4e78-83dd-8f7be6f94a9b",
   "metadata": {
    "tags": []
   },
   "outputs": [
    {
     "name": "stdout",
     "output_type": "stream",
     "text": [
      "http://pythonscraping.com/pages/page1.html\n"
     ]
    }
   ],
   "source": [
    "# Teste de armazenamento da resposta \n",
    "print(endereco_web)"
   ]
  },
  {
   "cell_type": "code",
   "execution_count": 10,
   "id": "bf6a00f9-43dc-4c8e-9c70-73b300fc9e90",
   "metadata": {
    "tags": []
   },
   "outputs": [
    {
     "name": "stdin",
     "output_type": "stream",
     "text": [
      "Informe o que deseja extrair (Exemplo: title, head, body, etc.):  title\n"
     ]
    }
   ],
   "source": [
    "# Teste de escolha de tag html\n",
    "tag = input('Informe o que deseja extrair (Exemplo: title, head, body, etc.): ')\n"
   ]
  },
  {
   "cell_type": "code",
   "execution_count": 11,
   "id": "3083dd94-c7d9-4c8a-b56e-bf3456b85719",
   "metadata": {
    "tags": []
   },
   "outputs": [
    {
     "name": "stdout",
     "output_type": "stream",
     "text": [
      "title\n"
     ]
    }
   ],
   "source": [
    "# Teste de armazenamento da resposta \n",
    "print(tag)"
   ]
  },
  {
   "cell_type": "code",
   "execution_count": 12,
   "id": "48f819ec-dd7f-4083-ac9d-c0523adb61b9",
   "metadata": {
    "tags": []
   },
   "outputs": [
    {
     "name": "stdin",
     "output_type": "stream",
     "text": [
      "Informe a palavra-chave que deseja procurar  Page\n"
     ]
    }
   ],
   "source": [
    "# Teste de entrada da palavra-chave\n",
    "\n",
    "palavrachave = input('Informe a palavra-chave que deseja procurar ')"
   ]
  },
  {
   "cell_type": "code",
   "execution_count": 13,
   "id": "388b0c37-a3bc-49c8-ae12-423b92446dca",
   "metadata": {
    "tags": []
   },
   "outputs": [
    {
     "name": "stdout",
     "output_type": "stream",
     "text": [
      "Page\n"
     ]
    }
   ],
   "source": [
    "# Teste de armazenamento da resposta \n",
    "print(palavrachave)"
   ]
  },
  {
   "cell_type": "code",
   "execution_count": 27,
   "id": "88fd656f-bd41-4384-a305-abf8fa3d8625",
   "metadata": {
    "tags": []
   },
   "outputs": [],
   "source": [
    "# Definindo a função de entrada: leitor() -> list\n",
    "\n",
    "def leitor() -> list:\n",
    "    \"\"\" Esta função recebe o link da página, a tag html e a plavra-chave a ser buscada \"\"\"\n",
    "    endereco_web = input('Informe o endereço da página (Ex: http://pythonscraping.com/pages/page1.html): ')\n",
    "    tag = input('Informe o que deseja extrair (Exemplo: title, head, body, etc.): ')\n",
    "    palavra_chave = input('Informe a palavra-chave que deseja procurar: ')\n",
    "    return [endereco_web, tag, palavra_chave]"
   ]
  },
  {
   "cell_type": "markdown",
   "id": "62136db9-4354-4f06-8a6c-3d5ce0405dc1",
   "metadata": {},
   "source": [
    "## Função de saída de dados saida()"
   ]
  },
  {
   "cell_type": "code",
   "execution_count": 25,
   "id": "0142de7e-a21f-4446-9383-750b732159d8",
   "metadata": {
    "tags": []
   },
   "outputs": [],
   "source": [
    "# Definindo a função de saída\n",
    "\n",
    "def saida(soup, tag, keyword, contagem) -> None:\n",
    "    pass"
   ]
  },
  {
   "cell_type": "code",
   "execution_count": 21,
   "id": "00c8effb-6861-4ea9-82e8-811514e9fd4d",
   "metadata": {
    "tags": []
   },
   "outputs": [
    {
     "name": "stdout",
     "output_type": "stream",
     "text": [
      "O title da página é: \n",
      "<title>A Useful Page</title>\n"
     ]
    }
   ],
   "source": [
    "# Teste para imprimir a busca pela tag html\n",
    "\n",
    "soup_text = '<title>A Useful Page</title>'\n",
    "tag = 'title'\n",
    "\n",
    "print(f'O {tag} da página é: \\n{soup_text}')"
   ]
  },
  {
   "cell_type": "code",
   "execution_count": 23,
   "id": "2f9d63b6-7aa8-4364-9cc6-9612094cd58b",
   "metadata": {
    "tags": []
   },
   "outputs": [
    {
     "name": "stdout",
     "output_type": "stream",
     "text": [
      "A palavra-chave \"Interesting\" foi encontrada 7 vezes.\n"
     ]
    }
   ],
   "source": [
    "# Teste para imprimir busca por palavra chave\n",
    "\n",
    "keyword = 'Interesting'\n",
    "contagem = 7\n",
    "\n",
    "print(f'A palavra-chave \"{keyword}\" foi encontrada {contagem} vezes.')"
   ]
  },
  {
   "cell_type": "code",
   "execution_count": 26,
   "id": "11b8b2ab-15b6-4c2c-97b5-7dd1106a084b",
   "metadata": {
    "tags": []
   },
   "outputs": [],
   "source": [
    "# Definindo a função de saída\n",
    "\n",
    "def saida(soup, tag, keyword, contagem) -> None:\n",
    "    \"\"\" Esta é a função que imprime os resultados do scrapper \"\"\"\n",
    "    print(f'O {tag} da página é: \\n{soup.find_all(tag)}')\n",
    "    print(f'A palavra-chave \"{keyword}\" foi encontrada {contagem} vezes.')"
   ]
  }
 ],
 "metadata": {
  "kernelspec": {
   "display_name": "Python 3 (ipykernel)",
   "language": "python",
   "name": "python3"
  },
  "language_info": {
   "codemirror_mode": {
    "name": "ipython",
    "version": 3
   },
   "file_extension": ".py",
   "mimetype": "text/x-python",
   "name": "python",
   "nbconvert_exporter": "python",
   "pygments_lexer": "ipython3",
   "version": "3.11.5"
  }
 },
 "nbformat": 4,
 "nbformat_minor": 5
}
