{
 "cells": [
  {
   "cell_type": "markdown",
   "id": "2554be65-74a4-4f48-987c-f8760c0948c9",
   "metadata": {},
   "source": [
    "# Módulo proc\n",
    "\n",
    "A página onde será testado o web scraping é:\n",
    "[página de teste](https://pythonscraping.com/page/page1.html)\n"
   ]
  },
  {
   "cell_type": "markdown",
   "id": "339e20e6-49b3-4bff-8885-ee57ae639dd4",
   "metadata": {},
   "source": [
    "## Função leitor_web(endereco: str) -> str"
   ]
  },
  {
   "cell_type": "code",
   "execution_count": 1,
   "id": "ab88cf0b-0bca-4bba-8390-8e47fa2cde89",
   "metadata": {},
   "outputs": [],
   "source": [
    "# função leitor_web\n",
    "\n",
    "import requests\n",
    "\n",
    "def leitor_web(endereco_web: str) -> str:\n",
    "    pagina = requests.get(endereco_web)\n",
    "    return pagina.text"
   ]
  },
  {
   "cell_type": "code",
   "execution_count": 5,
   "id": "95c4984d-b7a3-4e20-ba35-fee5b574a18e",
   "metadata": {},
   "outputs": [
    {
     "name": "stdout",
     "output_type": "stream",
     "text": [
      "<html>\n",
      "<head>\n",
      "<title>A Useful Page</title>\n",
      "</head>\n",
      "<body>\n",
      "<h1>An Interesting Title</h1>\n",
      "<div>\n",
      "Lorem ipsum dolor sit amet, consectetur adipisicing elit, sed do eiusmod tempor incididunt ut labore et dolore magna aliqua. Ut enim ad minim veniam, quis nostrud exercitation ullamco laboris nisi ut aliquip ex ea commodo consequat. Duis aute irure dolor in reprehenderit in voluptate velit esse cillum dolore eu fugiat nulla pariatur. Excepteur sint occaecat cupidatat non proident, sunt in culpa qui officia deserunt mollit anim id est laborum.\n",
      "</div>\n",
      "</body>\n",
      "</html>\n",
      "\n"
     ]
    }
   ],
   "source": [
    "# teste de função\n",
    "\n",
    "pagina1 = leitor_web('http://pythonscraping.com/pages/page1.html')\n",
    "\n",
    "print(pagina1)"
   ]
  },
  {
   "cell_type": "markdown",
   "id": "8fd9d808-8936-40f6-b61e-65f879def5e6",
   "metadata": {},
   "source": [
    "## Função extrator(pagina_web: str, tag: str) -> str"
   ]
  },
  {
   "cell_type": "code",
   "execution_count": 6,
   "id": "a0e66b04-57a8-4ba8-b537-dddff10e30a4",
   "metadata": {},
   "outputs": [],
   "source": [
    "# Função de extração de dados\n",
    "\n",
    "from bs4 import BeautifulSoup\n",
    "\n",
    "def extrator(pagina_web: str, tag: str) -> str:\n",
    "    pass"
   ]
  },
  {
   "cell_type": "code",
   "execution_count": 35,
   "id": "ad35635f-4c05-4b18-b861-73479df27abd",
   "metadata": {},
   "outputs": [],
   "source": [
    "# teste de biblioteca\n",
    "\n",
    "soup = BeautifulSoup(pagina1, 'html.parser')"
   ]
  },
  {
   "cell_type": "code",
   "execution_count": 10,
   "id": "c5e0df46-f240-4a9b-a647-990afc370b42",
   "metadata": {},
   "outputs": [
    {
     "name": "stdout",
     "output_type": "stream",
     "text": [
      "<title>A Useful Page</title>\n"
     ]
    }
   ],
   "source": [
    "print(soup.title)"
   ]
  },
  {
   "cell_type": "code",
   "execution_count": 13,
   "id": "9cac0165-721b-46a4-9f60-29b81847492d",
   "metadata": {},
   "outputs": [
    {
     "name": "stdout",
     "output_type": "stream",
     "text": [
      "<head>\n",
      "<title>A Useful Page</title>\n",
      "</head>\n"
     ]
    }
   ],
   "source": [
    "print(soup.head)"
   ]
  },
  {
   "cell_type": "code",
   "execution_count": 14,
   "id": "bf94b32f-20f8-4c81-ab3a-618b39da0020",
   "metadata": {},
   "outputs": [
    {
     "name": "stdout",
     "output_type": "stream",
     "text": [
      "\n",
      "\n",
      "A Useful Page\n",
      "\n",
      "\n",
      "An Interesting Title\n",
      "\n",
      "Lorem ipsum dolor sit amet, consectetur adipisicing elit, sed do eiusmod tempor incididunt ut labore et dolore magna aliqua. Ut enim ad minim veniam, quis nostrud exercitation ullamco laboris nisi ut aliquip ex ea commodo consequat. Duis aute irure dolor in reprehenderit in voluptate velit esse cillum dolore eu fugiat nulla pariatur. Excepteur sint occaecat cupidatat non proident, sunt in culpa qui officia deserunt mollit anim id est laborum.\n",
      "\n",
      "\n",
      "\n",
      "\n"
     ]
    }
   ],
   "source": [
    "print(soup.get_text())"
   ]
  },
  {
   "cell_type": "code",
   "execution_count": 39,
   "id": "868c8eb0-08e1-43ae-90e7-bcd7e3d0bc0b",
   "metadata": {},
   "outputs": [
    {
     "name": "stdout",
     "output_type": "stream",
     "text": [
      "\n",
      "<html>\n",
      "<head>\n",
      "<title>A Useful Page</title>\n",
      "</head>\n",
      "<body>\n",
      "<h1>An Interesting Title</h1>\n",
      "<div class=\"body\" id=\"fakeLatin\">\n",
      "Lorem ipsum dolor sit amet, consectetur adipisicing elit, sed do eiusmod tempor incididunt ut labore et dolore magna aliqua. Ut enim ad minim veniam, quis nostrud exercitation ullamco laboris nisi ut aliquip ex ea commodo consequat. Duis aute irure dolor in reprehenderit in voluptate velit esse cillum dolore eu fugiat nulla pariatur. Excepteur sint occaecat cupidatat non proident, sunt in culpa qui officia deserunt mollit anim id est laborum.\n",
      "</div>\n",
      "</body>\n",
      "</html>\n",
      "\n"
     ]
    }
   ],
   "source": [
    "pagina2 = leitor_web('http://pythonscraping.com/pages/page2.html')\n",
    "\n",
    "print(pagina2)\n",
    "\n",
    "soup1 =  BeautifulSoup(pagina2, 'html.parser')"
   ]
  },
  {
   "cell_type": "code",
   "execution_count": 40,
   "id": "77d9960f-3b13-4a84-8fd2-712f3a4517df",
   "metadata": {
    "tags": []
   },
   "outputs": [
    {
     "data": {
      "text/plain": [
       "[<h1>An Interesting Title</h1>]"
      ]
     },
     "execution_count": 40,
     "metadata": {},
     "output_type": "execute_result"
    }
   ],
   "source": [
    "soup1.find_all('h1')"
   ]
  },
  {
   "cell_type": "code",
   "execution_count": 43,
   "id": "c78328f3-bddb-42f3-9ed4-ed99aad918ab",
   "metadata": {
    "tags": []
   },
   "outputs": [
    {
     "data": {
      "text/plain": [
       "[<body>\n",
       " <h1>An Interesting Title</h1>\n",
       " <div class=\"body\" id=\"fakeLatin\">\n",
       " Lorem ipsum dolor sit amet, consectetur adipisicing elit, sed do eiusmod tempor incididunt ut labore et dolore magna aliqua. Ut enim ad minim veniam, quis nostrud exercitation ullamco laboris nisi ut aliquip ex ea commodo consequat. Duis aute irure dolor in reprehenderit in voluptate velit esse cillum dolore eu fugiat nulla pariatur. Excepteur sint occaecat cupidatat non proident, sunt in culpa qui officia deserunt mollit anim id est laborum.\n",
       " </div>\n",
       " </body>]"
      ]
     },
     "execution_count": 43,
     "metadata": {},
     "output_type": "execute_result"
    }
   ],
   "source": [
    "soup1.find_all('title')\n",
    "soup1.find_all('body')"
   ]
  },
  {
   "cell_type": "markdown",
   "id": "93509728-f5d4-4d70-b822-961074bd80b5",
   "metadata": {},
   "source": [
    "### Teste da função extrator(pagina_web)"
   ]
  },
  {
   "cell_type": "code",
   "execution_count": 45,
   "id": "a2817024-3e9d-44b5-aa1d-b362f70bd230",
   "metadata": {},
   "outputs": [],
   "source": [
    "# Função de extração de todo texto da página\n",
    "\n",
    "from bs4 import BeautifulSoup\n",
    "\n",
    "def extrator_texto(pagina_web: str) -> str:\n",
    "    pagina = leitor_web(pagina_web)\n",
    "    soup = BeautifulSoup(pagina, 'html.parser')\n",
    "    dado_web = soup.get_text()\n",
    "    return dado_web"
   ]
  },
  {
   "cell_type": "code",
   "execution_count": 46,
   "id": "d12edb7d-dc73-49f7-838d-edc907202df9",
   "metadata": {},
   "outputs": [],
   "source": [
    "# Função para extrair qualquer tag\n",
    "\n",
    "from bs4 import BeautifulSoup\n",
    "\n",
    "def extrator(pagina_web: str, tag: str) -> str:\n",
    "    pagina = leitor_web(pagina_web)\n",
    "    soup = BeautifulSoup(pagina, 'html.parser')\n",
    "    dado_web = soup.find_all(tag)\n",
    "    return dado_web"
   ]
  },
  {
   "cell_type": "code",
   "execution_count": 51,
   "id": "36f22227-fe18-41d7-896a-90939f8cf879",
   "metadata": {},
   "outputs": [
    {
     "name": "stdout",
     "output_type": "stream",
     "text": [
      "[<body>\n",
      "<h1>An Interesting Title</h1>\n",
      "<div>\n",
      "Lorem ipsum dolor sit amet, consectetur adipisicing elit, sed do eiusmod tempor incididunt ut labore et dolore magna aliqua. Ut enim ad minim veniam, quis nostrud exercitation ullamco laboris nisi ut aliquip ex ea commodo consequat. Duis aute irure dolor in reprehenderit in voluptate velit esse cillum dolore eu fugiat nulla pariatur. Excepteur sint occaecat cupidatat non proident, sunt in culpa qui officia deserunt mollit anim id est laborum.\n",
      "</div>\n",
      "</body>]\n"
     ]
    }
   ],
   "source": [
    "pagina2 = extrator('http://pythonscraping.com/pages/page1.html', 'body')\n",
    "\n",
    "print(pagina2)"
   ]
  }
 ],
 "metadata": {
  "kernelspec": {
   "display_name": "Python 3 (ipykernel)",
   "language": "python",
   "name": "python3"
  },
  "language_info": {
   "codemirror_mode": {
    "name": "ipython",
    "version": 3
   },
   "file_extension": ".py",
   "mimetype": "text/x-python",
   "name": "python",
   "nbconvert_exporter": "python",
   "pygments_lexer": "ipython3",
   "version": "3.10.9"
  }
 },
 "nbformat": 4,
 "nbformat_minor": 5
}
