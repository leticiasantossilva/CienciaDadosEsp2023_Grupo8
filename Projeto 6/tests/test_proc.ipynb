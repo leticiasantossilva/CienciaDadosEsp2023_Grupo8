{
 "cells": [
  {
   "cell_type": "markdown",
   "id": "2554be65-74a4-4f48-987c-f8760c0948c9",
   "metadata": {},
   "source": [
    "# Módulo proc\n",
    "\n",
    "Este módulo apresenta as funções de processamento de dados do aplicativo que extrair dados em texto.\n",
    "\n",
    "A página onde será testado o web scraping é:\n",
    "[página de teste](https://pythonscraping.com/page/page1.html)\n"
   ]
  },
  {
   "cell_type": "markdown",
   "id": "339e20e6-49b3-4bff-8885-ee57ae639dd4",
   "metadata": {},
   "source": [
    "## Função leitor_web(endereco: str) -> str"
   ]
  },
  {
   "cell_type": "code",
   "execution_count": 58,
   "id": "ab88cf0b-0bca-4bba-8390-8e47fa2cde89",
   "metadata": {
    "tags": []
   },
   "outputs": [],
   "source": [
    "# função leitor_web\n",
    "\n",
    "import requests\n",
    "\n",
    "def leitor_web(endereco_web: str) -> str:\n",
    "    \"\"\" Esta função baixa página html escolhida \"\"\"\n",
    "    pagina = requests.get(endereco_web)\n",
    "    return pagina.text"
   ]
  },
  {
   "cell_type": "code",
   "execution_count": 57,
   "id": "95c4984d-b7a3-4e20-ba35-fee5b574a18e",
   "metadata": {},
   "outputs": [
    {
     "name": "stdout",
     "output_type": "stream",
     "text": [
      "<html>\n",
      "<head>\n",
      "<title>A Useful Page</title>\n",
      "</head>\n",
      "<body>\n",
      "<h1>An Interesting Title</h1>\n",
      "<div>\n",
      "Lorem ipsum dolor sit amet, consectetur adipisicing elit, sed do eiusmod tempor incididunt ut labore et dolore magna aliqua. Ut enim ad minim veniam, quis nostrud exercitation ullamco laboris nisi ut aliquip ex ea commodo consequat. Duis aute irure dolor in reprehenderit in voluptate velit esse cillum dolore eu fugiat nulla pariatur. Excepteur sint occaecat cupidatat non proident, sunt in culpa qui officia deserunt mollit anim id est laborum.\n",
      "</div>\n",
      "</body>\n",
      "</html>\n",
      "\n",
      "<class 'str'>\n"
     ]
    }
   ],
   "source": [
    "# teste de função\n",
    "\n",
    "pagina1 = leitor_web('http://pythonscraping.com/pages/page1.html')\n",
    "\n",
    "print(pagina1)\n",
    "print(type(pagina1))"
   ]
  },
  {
   "cell_type": "markdown",
   "id": "8fd9d808-8936-40f6-b61e-65f879def5e6",
   "metadata": {},
   "source": [
    "## Função extrator(pagina_web: str, tag: str) -> str"
   ]
  },
  {
   "cell_type": "code",
   "execution_count": 3,
   "id": "a0e66b04-57a8-4ba8-b537-dddff10e30a4",
   "metadata": {},
   "outputs": [],
   "source": [
    "# Função de extração de dados\n",
    "\n",
    "from bs4 import BeautifulSoup\n",
    "\n",
    "def extrator(pagina_web: str, tag: str) -> str:\n",
    "    pass"
   ]
  },
  {
   "cell_type": "markdown",
   "id": "0850fdc3-ad7e-48ee-bdcb-cd187090385f",
   "metadata": {},
   "source": [
    "### Testes da biblioteca BeautifulSoup4\n",
    "Referência: [link](https://beautiful-soup-4.readthedocs.io/en/latest/)"
   ]
  },
  {
   "cell_type": "code",
   "execution_count": 63,
   "id": "ad35635f-4c05-4b18-b861-73479df27abd",
   "metadata": {},
   "outputs": [],
   "source": [
    "# teste de biblioteca\n",
    "\n",
    "soup = BeautifulSoup(pagina1, 'html.parser')"
   ]
  },
  {
   "cell_type": "code",
   "execution_count": 5,
   "id": "c5e0df46-f240-4a9b-a647-990afc370b42",
   "metadata": {
    "tags": []
   },
   "outputs": [
    {
     "name": "stdout",
     "output_type": "stream",
     "text": [
      "<title>A Useful Page</title>\n"
     ]
    }
   ],
   "source": [
    "print(soup.title)"
   ]
  },
  {
   "cell_type": "code",
   "execution_count": 64,
   "id": "9cac0165-721b-46a4-9f60-29b81847492d",
   "metadata": {},
   "outputs": [
    {
     "name": "stdout",
     "output_type": "stream",
     "text": [
      "<head>\n",
      "<title>A Useful Page</title>\n",
      "</head>\n"
     ]
    }
   ],
   "source": [
    "print(soup.head)"
   ]
  },
  {
   "cell_type": "code",
   "execution_count": 65,
   "id": "f8786d1c-3ad5-4299-ba95-e3d72237984b",
   "metadata": {},
   "outputs": [
    {
     "name": "stdout",
     "output_type": "stream",
     "text": [
      "<body>\n",
      "<h1>An Interesting Title</h1>\n",
      "<div>\n",
      "Lorem ipsum dolor sit amet, consectetur adipisicing elit, sed do eiusmod tempor incididunt ut labore et dolore magna aliqua. Ut enim ad minim veniam, quis nostrud exercitation ullamco laboris nisi ut aliquip ex ea commodo consequat. Duis aute irure dolor in reprehenderit in voluptate velit esse cillum dolore eu fugiat nulla pariatur. Excepteur sint occaecat cupidatat non proident, sunt in culpa qui officia deserunt mollit anim id est laborum.\n",
      "</div>\n",
      "</body>\n"
     ]
    }
   ],
   "source": [
    "print(soup.body)"
   ]
  },
  {
   "cell_type": "code",
   "execution_count": 66,
   "id": "febfcc55-c675-4937-9c04-941ce0b2e7a6",
   "metadata": {},
   "outputs": [
    {
     "name": "stdout",
     "output_type": "stream",
     "text": [
      "<h1>An Interesting Title</h1>\n"
     ]
    }
   ],
   "source": [
    "print(soup.h1)"
   ]
  },
  {
   "cell_type": "code",
   "execution_count": 7,
   "id": "bf94b32f-20f8-4c81-ab3a-618b39da0020",
   "metadata": {},
   "outputs": [
    {
     "name": "stdout",
     "output_type": "stream",
     "text": [
      "\n",
      "\n",
      "A Useful Page\n",
      "\n",
      "\n",
      "An Interesting Title\n",
      "\n",
      "Lorem ipsum dolor sit amet, consectetur adipisicing elit, sed do eiusmod tempor incididunt ut labore et dolore magna aliqua. Ut enim ad minim veniam, quis nostrud exercitation ullamco laboris nisi ut aliquip ex ea commodo consequat. Duis aute irure dolor in reprehenderit in voluptate velit esse cillum dolore eu fugiat nulla pariatur. Excepteur sint occaecat cupidatat non proident, sunt in culpa qui officia deserunt mollit anim id est laborum.\n",
      "\n",
      "\n",
      "\n",
      "\n"
     ]
    }
   ],
   "source": [
    "print(soup.get_text())"
   ]
  },
  {
   "cell_type": "code",
   "execution_count": 8,
   "id": "868c8eb0-08e1-43ae-90e7-bcd7e3d0bc0b",
   "metadata": {},
   "outputs": [
    {
     "name": "stdout",
     "output_type": "stream",
     "text": [
      "\n",
      "<html>\n",
      "<head>\n",
      "<title>A Useful Page</title>\n",
      "</head>\n",
      "<body>\n",
      "<h1>An Interesting Title</h1>\n",
      "<div class=\"body\" id=\"fakeLatin\">\n",
      "Lorem ipsum dolor sit amet, consectetur adipisicing elit, sed do eiusmod tempor incididunt ut labore et dolore magna aliqua. Ut enim ad minim veniam, quis nostrud exercitation ullamco laboris nisi ut aliquip ex ea commodo consequat. Duis aute irure dolor in reprehenderit in voluptate velit esse cillum dolore eu fugiat nulla pariatur. Excepteur sint occaecat cupidatat non proident, sunt in culpa qui officia deserunt mollit anim id est laborum.\n",
      "</div>\n",
      "</body>\n",
      "</html>\n",
      "\n"
     ]
    }
   ],
   "source": [
    "pagina2 = leitor_web('http://pythonscraping.com/pages/page2.html')\n",
    "\n",
    "print(pagina2)\n",
    "\n",
    "soup1 =  BeautifulSoup(pagina2, 'html.parser')"
   ]
  },
  {
   "cell_type": "code",
   "execution_count": 68,
   "id": "77d9960f-3b13-4a84-8fd2-712f3a4517df",
   "metadata": {
    "tags": []
   },
   "outputs": [
    {
     "data": {
      "text/plain": [
       "<h1>An Interesting Title</h1>"
      ]
     },
     "execution_count": 68,
     "metadata": {},
     "output_type": "execute_result"
    }
   ],
   "source": [
    "# Buscando tags em html\n",
    "\n",
    "soup.find('h1')"
   ]
  },
  {
   "cell_type": "code",
   "execution_count": 35,
   "id": "9f263be3-9b0f-4561-8a23-cfdecde2e3d0",
   "metadata": {
    "tags": []
   },
   "outputs": [
    {
     "data": {
      "text/plain": [
       "[<body>\n",
       " <h1>An Interesting Title</h1>\n",
       " <div class=\"body\" id=\"fakeLatin\">\n",
       " Lorem ipsum dolor sit amet, consectetur adipisicing elit, sed do eiusmod tempor incididunt ut labore et dolore magna aliqua. Ut enim ad minim veniam, quis nostrud exercitation ullamco laboris nisi ut aliquip ex ea commodo consequat. Duis aute irure dolor in reprehenderit in voluptate velit esse cillum dolore eu fugiat nulla pariatur. Excepteur sint occaecat cupidatat non proident, sunt in culpa qui officia deserunt mollit anim id est laborum.\n",
       " </div>\n",
       " </body>]"
      ]
     },
     "execution_count": 35,
     "metadata": {},
     "output_type": "execute_result"
    }
   ],
   "source": [
    "soup1.find_all('title')\n",
    "soup1.find_all('body')"
   ]
  },
  {
   "cell_type": "code",
   "execution_count": 54,
   "id": "ca0522c6-339f-4522-9c33-82ef7d2165a6",
   "metadata": {
    "tags": []
   },
   "outputs": [
    {
     "name": "stdout",
     "output_type": "stream",
     "text": [
      "['That said, the homepage of this site does layer on some interesting ']\n"
     ]
    }
   ],
   "source": [
    "# Buscando uma palavra-chave no texto\n",
    "\n",
    "palavra_chave = 'Interesting'\n",
    "\n",
    "busca = soup.find_all(string=lambda text: palavra_chave.lower() in text.lower())\n",
    "\n",
    "print(busca)"
   ]
  },
  {
   "cell_type": "code",
   "execution_count": 55,
   "id": "420b1770-fff4-481b-95de-243d1bcad8c1",
   "metadata": {
    "tags": []
   },
   "outputs": [
    {
     "name": "stdout",
     "output_type": "stream",
     "text": [
      "A palavra-chave \"Interesting\" foi encontrada 1 vezes.\n"
     ]
    }
   ],
   "source": [
    "contagem = len(busca)\n",
    "\n",
    "print(f'A palavra-chave \"{palavra_chave}\" foi encontrada {contagem} vezes.')"
   ]
  },
  {
   "cell_type": "code",
   "execution_count": 56,
   "id": "27cdf6f9-911e-4380-8503-6e5aeb9f91fc",
   "metadata": {
    "tags": []
   },
   "outputs": [
    {
     "name": "stdout",
     "output_type": "stream",
     "text": [
      "A palavra-chave \"html\" foi encontrada 52 vezes.\n"
     ]
    }
   ],
   "source": [
    "# Teste com diversas ocorrências da palavra-chave\n",
    "\n",
    "pagina3 = leitor_web('https://blog.hubspot.com/website/html-websites')\n",
    "soup =  BeautifulSoup(pagina3, 'html.parser')\n",
    "\n",
    "palavra_chave = 'html'\n",
    "\n",
    "busca = soup.find_all(string=lambda text: palavra_chave.lower() in text.lower())\n",
    "\n",
    "contagem = len(busca)\n",
    "\n",
    "print(f'A palavra-chave \"{palavra_chave}\" foi encontrada {contagem} vezes.')"
   ]
  },
  {
   "cell_type": "code",
   "execution_count": 73,
   "id": "f1f1a79b-087a-463a-aa52-93d033e7baad",
   "metadata": {
    "tags": []
   },
   "outputs": [
    {
     "name": "stdout",
     "output_type": "stream",
     "text": [
      "<class 'int'>\n"
     ]
    }
   ],
   "source": [
    "print(type(contagem))"
   ]
  },
  {
   "cell_type": "markdown",
   "id": "93509728-f5d4-4d70-b822-961074bd80b5",
   "metadata": {},
   "source": [
    "### Teste da função extrator(pagina_web)"
   ]
  },
  {
   "cell_type": "code",
   "execution_count": 70,
   "id": "d12edb7d-dc73-49f7-838d-edc907202df9",
   "metadata": {},
   "outputs": [],
   "source": [
    "# Função para extrair qualquer tag\n",
    "\n",
    "from bs4 import BeautifulSoup\n",
    "\n",
    "def extrator(pagina_web: str, tag: str, palavra_chave: str) -> list:\n",
    "    \"\"\" Esta função extrai da pagina html a tag e a palavra-chave desejada \"\"\"\n",
    "    pagina = leitor_web(pagina_web)\n",
    "    soup = BeautifulSoup(pagina, 'html.parser')\n",
    "    dado_web = soup.find_all(tag)\n",
    "    busca = soup.find_all(string=lambda text: palavra_chave.lower() in text.lower())\n",
    "    contagem = len(busca)\n",
    "    return [soup, dado_web, busca, contagem]"
   ]
  },
  {
   "cell_type": "code",
   "execution_count": 71,
   "id": "36f22227-fe18-41d7-896a-90939f8cf879",
   "metadata": {
    "tags": []
   },
   "outputs": [
    {
     "name": "stdout",
     "output_type": "stream",
     "text": [
      "[<html>\n",
      "<head>\n",
      "<title>A Useful Page</title>\n",
      "</head>\n",
      "<body>\n",
      "<h1>An Interesting Title</h1>\n",
      "<div>\n",
      "Lorem ipsum dolor sit amet, consectetur adipisicing elit, sed do eiusmod tempor incididunt ut labore et dolore magna aliqua. Ut enim ad minim veniam, quis nostrud exercitation ullamco laboris nisi ut aliquip ex ea commodo consequat. Duis aute irure dolor in reprehenderit in voluptate velit esse cillum dolore eu fugiat nulla pariatur. Excepteur sint occaecat cupidatat non proident, sunt in culpa qui officia deserunt mollit anim id est laborum.\n",
      "</div>\n",
      "</body>\n",
      "</html>\n",
      ", [<title>A Useful Page</title>], ['An Interesting Title'], 1]\n"
     ]
    }
   ],
   "source": [
    "pagina2 = extrator('http://pythonscraping.com/pages/page1.html', 'title', 'Interesting')\n",
    "\n",
    "print(pagina2)"
   ]
  }
 ],
 "metadata": {
  "kernelspec": {
   "display_name": "Python 3 (ipykernel)",
   "language": "python",
   "name": "python3"
  },
  "language_info": {
   "codemirror_mode": {
    "name": "ipython",
    "version": 3
   },
   "file_extension": ".py",
   "mimetype": "text/x-python",
   "name": "python",
   "nbconvert_exporter": "python",
   "pygments_lexer": "ipython3",
   "version": "3.11.5"
  }
 },
 "nbformat": 4,
 "nbformat_minor": 5
}
