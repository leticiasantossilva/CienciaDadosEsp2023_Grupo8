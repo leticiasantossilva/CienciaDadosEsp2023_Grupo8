{
 "cells": [
  {
   "cell_type": "markdown",
   "id": "e8fc15e0-6c40-4b2d-a69f-2da4b563ffd7",
   "metadata": {},
   "source": [
    "# Módulo de entrada e saída (es)\n"
   ]
  },
  {
   "cell_type": "markdown",
   "id": "000c3114-31b2-442f-a1a7-307f586c916c",
   "metadata": {},
   "source": [
    "## Requisito 1 - função leitor_pontos()"
   ]
  },
  {
   "cell_type": "code",
   "execution_count": null,
   "id": "28c94fc2-3688-404e-9842-21512e3fd961",
   "metadata": {},
   "outputs": [],
   "source": [
    "# Importar bibliotecas\n",
    "\n",
    "import numpy as np\n",
    "import matplotlib as mpl\n",
    "import matplotlib.pyplot as plt\n"
   ]
  },
  {
   "cell_type": "code",
   "execution_count": 7,
   "id": "23728ed6-9753-4c1a-ada8-a70a91963989",
   "metadata": {
    "tags": []
   },
   "outputs": [],
   "source": [
    "# função leitor_pontos()\n",
    "\n",
    "import numpy as np\n",
    "\n",
    "def leitor_pontos() -> list:\n",
    "    \"\"\"Recebe uma lista de pontos inserida manualmente pelo usuário\"\"\"\n",
    "    # input(f'Digite os pontos (x, y) pela ordem das cordenadas X')  \n",
    "    # Ex.: (0,5), (2,2), (5,8), (8,7) \n",
    "    # x = [0, 2, 5, 8]\n",
    "    # y = [5, 2, 8, 7]\n",
    "    pass"
   ]
  },
  {
   "cell_type": "code",
   "execution_count": 6,
   "id": "3c5b1062-3933-41c0-9c95-2a2bc702a3a0",
   "metadata": {
    "tags": []
   },
   "outputs": [],
   "source": [
    "# É preciso criar uma função que ordene os pontos inseridos a partir do X\n"
   ]
  },
  {
   "cell_type": "markdown",
   "id": "29f4a405-089a-48b7-9e4c-6a8cfee9a8a7",
   "metadata": {},
   "source": [
    "## Requisito 3 - função plota_grafico()"
   ]
  },
  {
   "cell_type": "code",
   "execution_count": 4,
   "id": "9eb5d2fd-fcdd-43b0-bad0-047d5c1080b6",
   "metadata": {
    "tags": []
   },
   "outputs": [],
   "source": [
    "# função plota_grafico\n",
    "\n",
    "import numpy as np\n",
    "import matplotlib as mpl\n",
    "import matplotlib.pyplot as plt\n",
    "\n",
    "def plota_grafico(pontos: list) -> None:\n",
    "    \"\"\"Esta função plota o gráfico dado por uma lista de pontos\"\"\"\n",
    "    # plot\n",
    "    pass"
   ]
  }
 ],
 "metadata": {
  "kernelspec": {
   "display_name": "Python 3 (ipykernel)",
   "language": "python",
   "name": "python3"
  },
  "language_info": {
   "codemirror_mode": {
    "name": "ipython",
    "version": 3
   },
   "file_extension": ".py",
   "mimetype": "text/x-python",
   "name": "python",
   "nbconvert_exporter": "python",
   "pygments_lexer": "ipython3",
   "version": "3.11.5"
  }
 },
 "nbformat": 4,
 "nbformat_minor": 5
}
