{
 "cells": [
  {
   "cell_type": "markdown",
   "id": "f6269629-a0e6-4d93-9340-193fdda3d1e5",
   "metadata": {},
   "source": [
    "# Módulo Main\n",
    "\n",
    "Este módulo do Aplicativo de Ajuste de Curva de Dados prevê a função principal que integra as fases de entrada, processamento e saída de dados."
   ]
  },
  {
   "cell_type": "code",
   "execution_count": 3,
   "id": "4a38ed16-242c-4694-8333-1c5982a1d766",
   "metadata": {
    "tags": []
   },
   "outputs": [],
   "source": [
    "# Importação das bibliotecas da geração de gráficos\n",
    "\n",
    "import numpy as np\n",
    "import matplotlib as mpl\n",
    "import matplotlib.pyplot as plt\n",
    "from scipy import interpolate\n",
    "\n",
    "\n",
    "# Importação de módulos\n",
    "import test_es\n",
    "import test_proc\n"
   ]
  },
  {
   "cell_type": "markdown",
   "id": "c6b6abad-30ad-43fd-8c78-1e2b1b09301d",
   "metadata": {},
   "source": [
    "## Testes de integração"
   ]
  },
  {
   "cell_type": "code",
   "execution_count": 4,
   "id": "7df16239-8df5-457a-a20d-130820e34d35",
   "metadata": {
    "tags": []
   },
   "outputs": [
    {
     "name": "stdin",
     "output_type": "stream",
     "text": [
      "Digite a quantidade de pontos?  3\n"
     ]
    },
    {
     "name": "stdout",
     "output_type": "stream",
     "text": [
      "A seguir digite os pontos das coordenadas em ordem crescente de X.\n"
     ]
    },
    {
     "name": "stdin",
     "output_type": "stream",
     "text": [
      "Digite o ponto X1:  1\n",
      "Digite o ponto Y1:  4\n"
     ]
    },
    {
     "name": "stdout",
     "output_type": "stream",
     "text": [
      "A seguir digite os pontos das coordenadas em ordem crescente de X.\n"
     ]
    },
    {
     "name": "stdin",
     "output_type": "stream",
     "text": [
      "Digite o ponto X2:  2\n",
      "Digite o ponto Y2:  8\n"
     ]
    },
    {
     "name": "stdout",
     "output_type": "stream",
     "text": [
      "A seguir digite os pontos das coordenadas em ordem crescente de X.\n"
     ]
    },
    {
     "name": "stdin",
     "output_type": "stream",
     "text": [
      "Digite o ponto X3:  3\n",
      "Digite o ponto Y3:  7\n"
     ]
    }
   ],
   "source": [
    "# Inserindo pontos\n",
    "\n",
    "pontos = test_es.leitora()"
   ]
  },
  {
   "cell_type": "code",
   "execution_count": 5,
   "id": "0a303bdb-c326-45c4-b63d-db9a5780babb",
   "metadata": {
    "tags": []
   },
   "outputs": [
    {
     "name": "stdout",
     "output_type": "stream",
     "text": [
      "[['1', '2', '3'], ['4', '8', '7']]\n"
     ]
    }
   ],
   "source": [
    "# Teste de armazenamento\n",
    "\n",
    "print(pontos)"
   ]
  },
  {
   "cell_type": "code",
   "execution_count": 6,
   "id": "0a03b81f-9c53-4667-abbb-fa98ee35d8ec",
   "metadata": {
    "tags": []
   },
   "outputs": [],
   "source": [
    "# Integrando entrada e processamento\n",
    "\n",
    "dados = test_proc.interp(pontos)\n"
   ]
  },
  {
   "cell_type": "code",
   "execution_count": 7,
   "id": "98693ccb-2b25-47cf-93ab-d4f744f892a1",
   "metadata": {
    "tags": []
   },
   "outputs": [
    {
     "name": "stdout",
     "output_type": "stream",
     "text": [
      "(array([1., 2., 3.]), array([4., 8., 7.]), array([1.    , 1.0001, 1.0002, ..., 2.9997, 2.9998, 2.9999]), array([4.    , 4.0004, 4.0008, ..., 7.0003, 7.0002, 7.0001]))\n"
     ]
    }
   ],
   "source": [
    "# Teste de armazenamento\n",
    "\n",
    "print(dados)"
   ]
  },
  {
   "cell_type": "code",
   "execution_count": 8,
   "id": "ac7cba2f-cdd9-474e-b042-748ec8d965b2",
   "metadata": {
    "tags": []
   },
   "outputs": [
    {
     "data": {
      "image/png": "[encoded data removed]",
      "text/plain": [
       "<Figure size 640x480 with 1 Axes>"
      ]
     },
     "metadata": {},
     "output_type": "display_data"
    }
   ],
   "source": [
    "# Integrando processamento à saída\n",
    "\n",
    "# Teste com a função de plotagem\n",
    "\n",
    "resultado = test_es.plota_curva(dados)\n"
   ]
  },
  {
   "cell_type": "markdown",
   "id": "0d3c7ea2-c6ea-4657-9114-1266a7f6418c",
   "metadata": {},
   "source": [
    "## Definindo a função Main"
   ]
  },
  {
   "cell_type": "code",
   "execution_count": 11,
   "id": "d30ed642-df80-4745-97cb-a2c92cf48b88",
   "metadata": {
    "tags": []
   },
   "outputs": [],
   "source": [
    "# Definindo a função main do aplicativo de Ajuste de Curva\n",
    "\n",
    "def main():\n",
    "    \"\"\"Esta é a função principal que integra as fases de entrada, processamento e saída de dados\"\"\"\n",
    "    # Leitura de dados\n",
    "    pontos = test_es.leitora()\n",
    "    # Processamento de dados\n",
    "    dados = test_proc.interp(pontos)\n",
    "    # Saída de dados\n",
    "    test_es.plota_curva(dados)"
   ]
  },
  {
   "cell_type": "code",
   "execution_count": 10,
   "id": "248b928c-4ed4-457f-81de-fe07d6e46ca7",
   "metadata": {
    "tags": []
   },
   "outputs": [
    {
     "name": "stdin",
     "output_type": "stream",
     "text": [
      "Digite a quantidade de pontos?  3\n"
     ]
    },
    {
     "name": "stdout",
     "output_type": "stream",
     "text": [
      "A seguir digite os pontos das coordenadas em ordem crescente de X.\n"
     ]
    },
    {
     "name": "stdin",
     "output_type": "stream",
     "text": [
      "Digite o ponto X1:  1\n",
      "Digite o ponto Y1:  7\n"
     ]
    },
    {
     "name": "stdout",
     "output_type": "stream",
     "text": [
      "A seguir digite os pontos das coordenadas em ordem crescente de X.\n"
     ]
    },
    {
     "name": "stdin",
     "output_type": "stream",
     "text": [
      "Digite o ponto X2:  2\n",
      "Digite o ponto Y2:  9\n"
     ]
    },
    {
     "name": "stdout",
     "output_type": "stream",
     "text": [
      "A seguir digite os pontos das coordenadas em ordem crescente de X.\n"
     ]
    },
    {
     "name": "stdin",
     "output_type": "stream",
     "text": [
      "Digite o ponto X3:  3\n",
      "Digite o ponto Y3:  8\n"
     ]
    },
    {
     "data": {
      "image/png": "[encoded data removed]",
      "text/plain": [
       "<Figure size 640x480 with 1 Axes>"
      ]
     },
     "metadata": {},
     "output_type": "display_data"
    }
   ],
   "source": [
    "# teste da função principal\n",
    "\n",
    "main()"
   ]
  }
 ],
 "metadata": {
  "kernelspec": {
   "display_name": "Python 3 (ipykernel)",
   "language": "python",
   "name": "python3"
  },
  "language_info": {
   "codemirror_mode": {
    "name": "ipython",
    "version": 3
   },
   "file_extension": ".py",
   "mimetype": "text/x-python",
   "name": "python",
   "nbconvert_exporter": "python",
   "pygments_lexer": "ipython3",
   "version": "3.11.5"
  }
 },
 "nbformat": 4,
 "nbformat_minor": 5
}
