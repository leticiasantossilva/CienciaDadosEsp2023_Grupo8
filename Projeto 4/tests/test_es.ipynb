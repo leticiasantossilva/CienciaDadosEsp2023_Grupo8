{
 "cells": [
  {
   "cell_type": "markdown",
   "metadata": {},
   "source": [
    "## Módulo es\n",
    "\n",
    "Este módulo prevê funções de entrada e saída de dados para o Aplicativo de Ajuste de Curva de Dados."
   ]
  },
  {
   "cell_type": "markdown",
   "metadata": {},
   "source": [
    "## 1. Requisito 1\n",
    "\n",
    "Ler dados com duas coordenadas.\n",
    "\n",
    "Função leitora() -> lista com pontos\n",
    "\n",
    "Esta função receberá os dados de cada ponto inseridos pelo usuário."
   ]
  },
  {
   "cell_type": "code",
   "execution_count": 1,
   "metadata": {
    "tags": []
   },
   "outputs": [],
   "source": [
    "# Importando bibliotecas\n",
    "\n",
    "import numpy as np\n",
    "import matplotlib as mpl\n",
    "import matplotlib.pyplot as plt\n",
    "from scipy import interpolate\n",
    "\n"
   ]
  },
  {
   "cell_type": "code",
   "execution_count": 5,
   "metadata": {
    "tags": []
   },
   "outputs": [],
   "source": [
    "# Definindo a função leitora\n",
    "\n",
    "def leitora() -> list:\n",
    "    x = input('Digite a coordenada X do ponto: ')\n",
    "    y = input('Digite a coordenada Y do ponto: ')\n",
    "    return [x, y]"
   ]
  },
  {
   "cell_type": "code",
   "execution_count": 6,
   "metadata": {
    "tags": []
   },
   "outputs": [
    {
     "name": "stdin",
     "output_type": "stream",
     "text": [
      "Digite a coordenada X do ponto:  5\n",
      "Digite a coordenada Y do ponto:  8\n"
     ]
    }
   ],
   "source": [
    "# Teste de função para armazenamento do dado\n",
    "\n",
    "p1 = leitora()"
   ]
  },
  {
   "cell_type": "code",
   "execution_count": 7,
   "metadata": {
    "tags": []
   },
   "outputs": [
    {
     "name": "stdout",
     "output_type": "stream",
     "text": [
      "['5', '8']\n"
     ]
    }
   ],
   "source": [
    "# Teste de armazenamento do dado\n",
    "\n",
    "print(p1)"
   ]
  },
  {
   "cell_type": "markdown",
   "metadata": {},
   "source": [
    "### Adaptar leitora() para diversos pontos \n",
    "\n",
    "Esta função receberá do usuário os dados de mais de um ponto.\n",
    "\n",
    "Nesta fase é importante solicitar os pontos pela ordem crescente de X para podermos usar a função interpolate.interp1d()"
   ]
  },
  {
   "cell_type": "code",
   "execution_count": 10,
   "metadata": {
    "tags": []
   },
   "outputs": [],
   "source": [
    "# Solicitando N pontos\n",
    "\n",
    "def leitora() -> list:\n",
    "    x = []\n",
    "    y = []\n",
    "    pontos = float(input(\"Digite a quantidade de pontos? \"))\n",
    "    i = 1\n",
    "    while i <= pontos:\n",
    "        x.append(input(f'Digite o ponto X{i}: '))\n",
    "        y.append(input(f'Digite o ponto Y{i}: '))\n",
    "        i = i + 1\n",
    "    return [x, y]\n"
   ]
  },
  {
   "cell_type": "code",
   "execution_count": 11,
   "metadata": {
    "tags": []
   },
   "outputs": [
    {
     "name": "stdin",
     "output_type": "stream",
     "text": [
      "Digite a quantidade de pontos?  3\n",
      "Digite o ponto X1:  3\n",
      "Digite o ponto Y1:  2\n",
      "Digite o ponto X2:  8\n",
      "Digite o ponto Y2:  5\n",
      "Digite o ponto X3:  4\n",
      "Digite o ponto Y3:  6\n"
     ]
    }
   ],
   "source": [
    "# Teste de função para armazenamento do dado\n",
    "\n",
    "p2 = leitora()"
   ]
  },
  {
   "cell_type": "code",
   "execution_count": 12,
   "metadata": {
    "tags": []
   },
   "outputs": [
    {
     "name": "stdout",
     "output_type": "stream",
     "text": [
      "[['3', '8', '4'], ['2', '5', '6']]\n"
     ]
    }
   ],
   "source": [
    "# Teste de armazenamento do dado\n",
    "\n",
    "print(p2)"
   ]
  },
  {
   "cell_type": "code",
   "execution_count": 16,
   "metadata": {
    "tags": []
   },
   "outputs": [],
   "source": [
    "# Como indicam os testes da função interpolate.interp1d(), no módulo de processamento, é preciso ordenar os pontos pelo X\n",
    "\n",
    "# Evoluindo a função leitora()\n",
    "\n",
    "def leitora():\n",
    "    x = []\n",
    "    y = []\n",
    "    pontos = float(input(\"Digite a quantidade de pontos? \"))\n",
    "    i = 1\n",
    "    while i <= pontos:\n",
    "        print('A seguir digite os pontos das coordenadas em ordem crescente de X.')\n",
    "        \n",
    "        x.append(input(f'Digite o ponto X{i}: '))\n",
    "        y.append(input(f'Digite o ponto Y{i}: '))\n",
    "        i = i + 1\n",
    "    return [x, y]\n",
    "                "
   ]
  },
  {
   "cell_type": "code",
   "execution_count": 17,
   "metadata": {
    "tags": []
   },
   "outputs": [
    {
     "name": "stdin",
     "output_type": "stream",
     "text": [
      "Digite a quantidade de pontos?  3\n"
     ]
    },
    {
     "name": "stdout",
     "output_type": "stream",
     "text": [
      "A seguir digite os pontos das coordenadas em ordem crescente de X.\n"
     ]
    },
    {
     "name": "stdin",
     "output_type": "stream",
     "text": [
      "Digite o ponto X1:  3\n",
      "Digite o ponto Y1:  2\n"
     ]
    },
    {
     "name": "stdout",
     "output_type": "stream",
     "text": [
      "A seguir digite os pontos das coordenadas em ordem crescente de X.\n"
     ]
    },
    {
     "name": "stdin",
     "output_type": "stream",
     "text": [
      "Digite o ponto X2:  4\n",
      "Digite o ponto Y2:  6\n"
     ]
    },
    {
     "name": "stdout",
     "output_type": "stream",
     "text": [
      "A seguir digite os pontos das coordenadas em ordem crescente de X.\n"
     ]
    },
    {
     "name": "stdin",
     "output_type": "stream",
     "text": [
      "Digite o ponto X3:  8\n",
      "Digite o ponto Y3:  5\n"
     ]
    }
   ],
   "source": [
    "# Teste da função atualizada\n",
    "\n",
    "p3 = leitora()"
   ]
  },
  {
   "cell_type": "code",
   "execution_count": 18,
   "metadata": {
    "tags": []
   },
   "outputs": [
    {
     "name": "stdout",
     "output_type": "stream",
     "text": [
      "[['3', '4', '8'], ['2', '6', '5']]\n"
     ]
    }
   ],
   "source": [
    "# Teste de armazenamento do dado\n",
    "\n",
    "print(p3)"
   ]
  },
  {
   "cell_type": "code",
   "execution_count": 74,
   "metadata": {
    "tags": []
   },
   "outputs": [
    {
     "name": "stdout",
     "output_type": "stream",
     "text": [
      "4.0\n"
     ]
    }
   ],
   "source": [
    "print(float(p3[0][0])+1)"
   ]
  },
  {
   "cell_type": "code",
   "execution_count": 19,
   "metadata": {
    "tags": []
   },
   "outputs": [],
   "source": [
    "# Definindo versão final da função leitora()\n",
    "\n",
    "def leitora():\n",
    "    \"\"\" Esta função receberá os pontos desejados, precisando estar em ordem crescento pelo X dos pontos (x,y) \"\"\"\n",
    "    x = []\n",
    "    y = []\n",
    "    pontos = float(input(\"Digite a quantidade de pontos? \"))\n",
    "    i = 1\n",
    "    while i <= pontos:\n",
    "        print('A seguir digite os pontos das coordenadas em ordem crescente de X.')\n",
    "        x.append(input(f'Digite o ponto X{i}: '))\n",
    "        y.append(input(f'Digite o ponto Y{i}: '))\n",
    "        i = i + 1\n",
    "    return [x, y]\n",
    "                "
   ]
  },
  {
   "cell_type": "markdown",
   "metadata": {},
   "source": [
    "## Requisito 3\n",
    "\n",
    "Plotar o gráfico com a função dos pontos de duas coordenadas.\n",
    "\n",
    "Função plota_curva(lista com pontos) e imprimir o gráfico\n",
    "\n",
    "Esta função gera o gráfico com o resultado do ajuste de curva dos pontos inseridos pelo usuário."
   ]
  },
  {
   "cell_type": "code",
   "execution_count": 64,
   "metadata": {
    "tags": []
   },
   "outputs": [],
   "source": [
    "# definindo a função impressora do gráfico\n",
    "\n",
    "def plota_curva(dados: list) -> None:\n",
    "    \"\"\"Função para plotagem da função\"\"\"\n",
    "    plt.plot(dados[0], dados[1], 'o', dados[2], dados[3], 'b-')\n",
    "    plt.show()\n",
    "    "
   ]
  },
  {
   "cell_type": "code",
   "execution_count": 60,
   "metadata": {
    "tags": []
   },
   "outputs": [],
   "source": [
    "# Teste de função impressora\n",
    "\n",
    "# Gerando lista com elementos np.ndarray()\n",
    "\n",
    "x = np.array([1, 7, 10])\n",
    "y = np.array([6, 4, 9])\n",
    "\n",
    "f = interpolate.interp1d(x, y)\n",
    "\n",
    "xnew = np.arange(min(x), max(x), 0.001)\n",
    "ynew = f(xnew)\n",
    "\n",
    "test = [x, y, xnew, ynew]\n"
   ]
  },
  {
   "cell_type": "code",
   "execution_count": 65,
   "metadata": {
    "tags": []
   },
   "outputs": [
    {
     "data": {
      "image/png": "[encoded data removed]",
      "text/plain": [
       "<Figure size 640x480 with 1 Axes>"
      ]
     },
     "metadata": {},
     "output_type": "display_data"
    }
   ],
   "source": [
    "# Teste de função impressora\n",
    "\n",
    "plot = plota_curva(test)"
   ]
  },
  {
   "cell_type": "code",
   "execution_count": 75,
   "metadata": {
    "tags": []
   },
   "outputs": [],
   "source": [
    "# definindo a função impressora do gráfico\n",
    "\n",
    "def plota_curva(dados: list) -> None:\n",
    "    \"\"\" Esta função pega os dados em lista de np.ndarray para gerar o gráfico da função de pontos \"\"\"\n",
    "    plt.plot(dados[0], dados[1], 'o', dados[2], dados[3], 'b-')\n",
    "    plt.xlabel('Eixo X')\n",
    "    plt.ylabel('Eixo Y')\n",
    "    plt.show()\n",
    "    "
   ]
  },
  {
   "cell_type": "code",
   "execution_count": 68,
   "metadata": {
    "tags": []
   },
   "outputs": [
    {
     "data": {
      "image/png": "[encoded data removed]",
      "text/plain": [
       "<Figure size 640x480 with 1 Axes>"
      ]
     },
     "metadata": {},
     "output_type": "display_data"
    }
   ],
   "source": [
    "# Teste de função impressora - com eixos\n",
    "\n",
    "plot = plota_curva(test)"
   ]
  }
 ],
 "metadata": {
  "kernelspec": {
   "display_name": "Python 3 (ipykernel)",
   "language": "python",
   "name": "python3"
  },
  "language_info": {
   "codemirror_mode": {
    "name": "ipython",
    "version": 3
   },
   "file_extension": ".py",
   "mimetype": "text/x-python",
   "name": "python",
   "nbconvert_exporter": "python",
   "pygments_lexer": "ipython3",
   "version": "3.11.5"
  }
 },
 "nbformat": 4,
 "nbformat_minor": 4
}
