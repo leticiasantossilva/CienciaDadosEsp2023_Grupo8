{
 "cells": [
  {
   "cell_type": "markdown",
   "id": "a59708ef-4a3d-4acf-8ebb-0342646ed944",
   "metadata": {},
   "source": [
    "# Módulo Dal - \"data access layer\"\n",
    "\n",
    "Referência de SQLite3: [link](https://pythonclub.com.br/gerenciando-banco-dados-sqlite3-python-parte1.html)"
   ]
  },
  {
   "cell_type": "code",
   "execution_count": 1,
   "id": "2bdefc42-d9d2-4797-b7d4-be977148f2bd",
   "metadata": {},
   "outputs": [],
   "source": [
    "# Importação de biblioteca\n",
    "\n",
    "import sqlite3 as sql\n"
   ]
  },
  {
   "cell_type": "markdown",
   "id": "a31f9215-f064-4426-8ec0-e0ccb5674836",
   "metadata": {},
   "source": [
    "## Requisito RS2 - inserção de dados\n",
    "\n",
    "A biblioteca deve oferecer uma função para inserção de dados."
   ]
  },
  {
   "cell_type": "code",
   "execution_count": 2,
   "id": "a55dfe2c-c061-42cf-9d8c-e0c1da776687",
   "metadata": {},
   "outputs": [
    {
     "name": "stdout",
     "output_type": "stream",
     "text": [
      "Tabela criada com sucesso.\n"
     ]
    }
   ],
   "source": [
    "# Função para criar banco de dados\n",
    "\n",
    "conn = sql.connect('Agenda.db')\n",
    "\n",
    "# definindo um cursor\n",
    "cursor = conn.cursor()\n",
    "\n",
    "# criando a tabela\n",
    "cursor.execute(\"\"\"\n",
    "CREATE TABLE contatos(\n",
    "id INTEGER NOT NULL PRIMARY KEY AUTOINCREMENT,\n",
    "prenome VARCHAR(50) NOT NULL,                           \n",
    "nomeMeio VARCHAR(200) NOT NULL,\n",
    "sobrenome VARCHAR(200) NOT NULL,\n",
    "codArea VARCHAR(2) NOT NULL,\n",
    "celular VARCHAR(9) NOT NULL,\n",
    "fixo VARCHAR(8),\n",
    "estado VARCHAR(2) NOT NULL,\n",
    "municipio VARCHAR(30) NOT NULL,\n",
    "bairro VARCHAR(30), \n",
    "tipoLogradouro VARCHAR(20) NOT NULL,\n",
    "nomeLogradouro VARCHAR(150) NOT NULL,\n",
    "numero INTEGER,  \n",
    "complemento VARCHAR(100) \n",
    ");\n",
    "\"\"\")\n",
    "\n",
    "# Verificar o êxito\n",
    "print('Tabela criada com sucesso.')\n",
    "\n",
    "# Importante fechar o arquivo com .close()\n",
    "conn.close()"
   ]
  },
  {
   "cell_type": "code",
   "execution_count": 21,
   "id": "3e752c43-7ca7-4053-8e2f-c35b362107aa",
   "metadata": {
    "tags": []
   },
   "outputs": [
    {
     "name": "stdout",
     "output_type": "stream",
     "text": [
      "Dados inseridos com sucesso.\n"
     ]
    }
   ],
   "source": [
    "# Função para inserir dados no banco de dados\n",
    "\n",
    "conn = sql.connect('Agenda.db')\n",
    "\n",
    "# definindo um cursor\n",
    "cursor = conn.cursor()\n",
    "\n",
    "# inserindo dados na tabela\n",
    "cursor.execute(\"\"\"\n",
    "INSERT INTO contatos (id, prenome, nomeMeio, sobrenome, codArea, celular, fixo, estado, municipio, bairro, tipoLogradouro, nomeLogradouro, numero, complemento)\n",
    "VALUES (1,'João', 'da Silva', 'Fontenele', '51', '999999999', '', 'RS', 'Porto Alegre', 'Medianeira', 'Rua', 'Alguma', 258, '');\n",
    "\"\"\")\n",
    "\n",
    "# Gravando dados na base de dados\n",
    "conn.commit()\n",
    "\n",
    "\n",
    "# Verificar o êxito\n",
    "print('Dados inseridos com sucesso.')\n",
    "\n",
    "# Importante fechar o arquivo com .close()\n",
    "\n",
    "conn.close()\n"
   ]
  },
  {
   "cell_type": "code",
   "execution_count": 4,
   "id": "f4cc887c-8ffb-40f0-af99-b9a580ab20ef",
   "metadata": {
    "tags": []
   },
   "outputs": [],
   "source": [
    "# Formulando a função de inserir contato\n",
    "\n",
    "import sqlite3 as sql\n",
    "from sqlite3 import Cursor\n",
    "\n",
    "def inserir_dados():\n",
    "    \"\"\" Esta função possibilita inserir novos contatos na Agenda de Contatos \"\"\"\n",
    "    # conectando com o banco de dados\n",
    "    conn = sql.connect('agenda.db')\n",
    "    cursor = conn.cursor()\n",
    "\n",
    "    # solicitando os dados ao usuário\n",
    "    p_prenome = input('Prenome: ')\n",
    "    p_nomeMeio = input('Nome do Meio: ')\n",
    "    p_sobrenome = input('Sobrenome: ')\n",
    "    p_codArea = input('Código de Área: ')\n",
    "    p_celular = input('Celular: ')\n",
    "    p_fixo = input('Telefone Fixo: ')\n",
    "    p_estado = input('Estado: ')\n",
    "    p_municipio = input('Município: ')\n",
    "    p_bairro = input('Bairro: ')\n",
    "    p_tipoLogradouro = input('Tipo de Logradouro: ')\n",
    "    p_nomeLogradouro = input('Nome de Logradouro: ')\n",
    "    p_numero = input('Número: ')\n",
    "    p_complemento = input('Complemento: ')\n",
    "\n",
    "    # inserindo dados na tabela\n",
    "    cursor.execute(\"\"\"\n",
    "    INSERT INTO contatos (prenome, nomeMeio, sobrenome, codArea, celular, fixo, estado, municipio, bairro, tipoLogradouro, nomeLogradouro, numero, complemento)\n",
    "    VALUES (?,?,?,?,?,?,?,?,?,?,?,?,?)\n",
    "    \"\"\", (p_prenome, p_nomeMeio, p_sobrenome, p_codArea, p_celular, p_fixo, p_estado, p_municipio, p_bairro, p_tipoLogradouro, p_nomeLogradouro, p_numero, p_complemento))\n",
    "    \n",
    "    # salvando os dados\n",
    "    conn.commit()\n",
    "    \n",
    "    # confirmação\n",
    "    print('Dados inseridos com sucesso.')\n",
    "    \n",
    "    # fechando a conexão com banco de dados\n",
    "    conn.close()"
   ]
  },
  {
   "cell_type": "markdown",
   "id": "6a9b4907-e6b1-4732-8a00-8ff133335ef9",
   "metadata": {},
   "source": [
    "## Requisito RS3  - consulta de dados\n",
    "\n",
    "A biblioteca deve oferecer uma função para consulta de dados."
   ]
  },
  {
   "cell_type": "code",
   "execution_count": 22,
   "id": "7d6906d8-5773-475b-a72a-a634a3077b47",
   "metadata": {
    "tags": []
   },
   "outputs": [
    {
     "name": "stdout",
     "output_type": "stream",
     "text": [
      "(1, 'João', 'da Silva', 'Fontenele', '51', '999999999', '', 'RS', 'Porto Alegre', 'Medianeira', 'Rua', 'Alguma', 258, '')\n",
      "(2, 'José', 'Soares', 'da Silva', '51', '991234567', '30343034', 'RS', 'Porto Alegre', 'Centro', 'Avenida', 'João Pessoa', 52, 'sala 3')\n"
     ]
    }
   ],
   "source": [
    "# Teste da função pelo sqlite3\n",
    "\n",
    "# Função para conectar com banco de dados\n",
    "\n",
    "conn = sql.connect('Agenda.db')\n",
    "\n",
    "# definindo um cursor\n",
    "cursor = conn.cursor()\n",
    "\n",
    "# executando a consulta\n",
    "cursor.execute(\"\"\"\n",
    "SELECT * FROM contatos;\n",
    "\"\"\")\n",
    "\n",
    "for linha in cursor.fetchall():\n",
    "    print(linha)\n",
    "\n",
    "conn.close()\n"
   ]
  },
  {
   "cell_type": "code",
   "execution_count": 26,
   "id": "3060aea9-0859-4420-b52c-5f7d68a11765",
   "metadata": {
    "tags": []
   },
   "outputs": [],
   "source": [
    "# Definindo a função para ler o banco de dados\n",
    "\n",
    "def ler_dados():\n",
    "    \"\"\" Esta função possibilita ler algum contato da Agenda de Contatos \"\"\"\n",
    "    conn = sql.connect('agenda.db')\n",
    "    cursor = conn.cursor()\n",
    "    \n",
    "    # solicitando leitura\n",
    "    cursor.execute(\"\"\"\n",
    "    SELECT * FROM contatos;\n",
    "    \"\"\")\n",
    "\n",
    "    for linha in cursor.fetchall():\n",
    "        print(f'ID do contato: {linha[0]} \\n Dados: {linha[1:14]}')\n",
    "\n",
    "    # fechando conexão com banco de dados\n",
    "    conn.close()"
   ]
  },
  {
   "cell_type": "code",
   "execution_count": 8,
   "id": "2cead2cf-7812-4641-bcfb-4fe06257add8",
   "metadata": {
    "tags": []
   },
   "outputs": [
    {
     "name": "stdout",
     "output_type": "stream",
     "text": [
      "ID do contato: 2 \n",
      " Dados: ('Jose', 'da Silva', 'Fortes', '51', '912345679', '', 'RS', 'Porto Alegre', 'Medianeira', 'Avenida', 'Tal', 158)\n",
      "ID do contato: 3 \n",
      " Dados: ('Jose', 'da Silva', 'Silva', '51', '991234567', '34123456', 'RS', 'Porto Alegre', 'Centro', 'Avenida', 'João Pessoa', 52)\n"
     ]
    }
   ],
   "source": [
    "# Teste da função\n",
    "\n",
    "test2 = ler_dados()"
   ]
  },
  {
   "cell_type": "markdown",
   "id": "9eca5426-3528-4b4c-9509-28f910339759",
   "metadata": {},
   "source": [
    "## Requisito RS4  - atualização de dados\n",
    "\n",
    "A biblioteca deve oferecer uma função para atualização de dados."
   ]
  },
  {
   "cell_type": "code",
   "execution_count": 9,
   "id": "a94c1eef-94ac-4d00-a21e-fdf8c4481523",
   "metadata": {
    "tags": []
   },
   "outputs": [],
   "source": [
    "# Teste da função pelo sqlite3\n",
    "\n",
    "novo_dado = 'José'\n",
    "id_contato = 2\n",
    "\n",
    "# Função para conectar com banco de dados\n",
    "\n",
    "conn = sql.connect('Agenda.db')\n",
    "\n",
    "# definindo um cursor\n",
    "cursor = conn.cursor()\n",
    "\n",
    "# executando\n",
    "cursor.execute(\"\"\"\n",
    "UPDATE contatos SET prenome = ? WHERE id = ?\n",
    "\"\"\", (novo_dado, id_contato))\n",
    "\n",
    "# salvando os dados\n",
    "conn.commit()\n",
    "\n",
    "conn.close()\n"
   ]
  },
  {
   "cell_type": "code",
   "execution_count": 10,
   "id": "1e4bb7b5-a3b9-4c64-a0b4-e5dbab08e2ce",
   "metadata": {
    "tags": []
   },
   "outputs": [],
   "source": [
    "# Definindo a função de alterar todos os dados de um contato - UPDATE\n",
    "\n",
    "def alterar_dados():\n",
    "    \"\"\" Esta função possibilita atualizar todos os dados de algum contato na Agenda de Contatos \"\"\"\n",
    "    conn = sql.connect('agenda.db')\n",
    "    cursor = conn.cursor()\n",
    "\n",
    "    # solicitando os dados ao usuário\n",
    "    id_cliente = int(input('ID do contato a ser atualizado: '))\n",
    "\n",
    "    p_prenome = input('Prenome: ')\n",
    "    p_nomeMeio = input('Nome do Meio: ')\n",
    "    p_sobrenome = input('Sobrenome: ')\n",
    "    p_codArea = input('Código de Área: ')\n",
    "    p_celular = input('Celular: ')\n",
    "    p_fixo = input('Telefone Fixo: ')\n",
    "    p_estado = input('Estado: ')\n",
    "    p_municipio = input('Município: ')\n",
    "    p_bairro = input('Bairro: ')\n",
    "    p_tipoLogradouro = input('Tipo de Logradouro: ')\n",
    "    p_nomeLogradouro = input('Nome de Logradouro: ')\n",
    "    p_numero = input('Número: ')\n",
    "    p_complemento = input('Complemento: ')\n",
    "\n",
    "    # executando a alteração\n",
    "    cursor.execute(\"\"\"\n",
    "    UPDATE contatos\n",
    "    SET prenome = ?, nomeMeio = ?, sobrenome = ?, codArea = ?, celular = ?, fixo = ?, estado = ?, municipio = ?, bairro = ?, tipoLogradouro = ?, nomeLogradouro = ?, numero = ?, complemento = ?\n",
    "    WHERE id = ?\n",
    "    \"\"\", ((p_prenome, p_nomeMeio, p_sobrenome, p_codArea, p_celular, p_fixo, p_estado, p_municipio, p_bairro, p_tipoLogradouro, p_nomeLogradouro, p_numero, p_complemento, id_cliente)))\n",
    "\n",
    "    # salvando as alterações\n",
    "    conn.commit()\n",
    "\n",
    "    # confirmando a alteração\n",
    "    print('Dados atualizados com sucesso.')\n",
    "\n",
    "    # fechando a conexão\n",
    "    conn.close()\n"
   ]
  },
  {
   "cell_type": "code",
   "execution_count": 24,
   "id": "31994cf1-800c-4929-a275-b1f9037cac19",
   "metadata": {
    "tags": []
   },
   "outputs": [
    {
     "name": "stdin",
     "output_type": "stream",
     "text": [
      "ID do contato a ser atualizado:  2\n",
      "Prenome:  José\n",
      "Nome do Meio:  Souza\n",
      "Sobrenome:  da Silva\n",
      "Código de Área:  51\n",
      "Celular:  991234567\n",
      "Telefone Fixo:  30343034\n",
      "Estado:  RS\n",
      "Município:  Porto Alegre\n",
      "Bairro:  Centro\n",
      "Tipo de Logradouro:  Avenida\n",
      "Nome de Logradouro:  João Pessoa\n",
      "Número:  52\n",
      "Complemento:  1\n"
     ]
    },
    {
     "name": "stdout",
     "output_type": "stream",
     "text": [
      "Dados atualizados com sucesso.\n"
     ]
    }
   ],
   "source": [
    "# Teste da função recém definida\n",
    "\n",
    "alterar_dados()"
   ]
  },
  {
   "cell_type": "code",
   "execution_count": 27,
   "id": "66853d4d-b06f-45c5-b3ba-8df86f11aadd",
   "metadata": {
    "tags": []
   },
   "outputs": [
    {
     "name": "stdout",
     "output_type": "stream",
     "text": [
      "ID do contato: 1 \n",
      " Dados: ('João', 'da Silva', 'Fontenele', '51', '999999999', '', 'RS', 'Porto Alegre', 'Medianeira', 'Rua', 'Alguma', 258, '')\n",
      "ID do contato: 2 \n",
      " Dados: ('José', 'Souza', 'da Silva', '51', '991234567', '30343034', 'RS', 'Porto Alegre', 'Centro', 'Avenida', 'João Pessoa', 52, '1')\n"
     ]
    }
   ],
   "source": [
    "# visualizando a mudança\n",
    "\n",
    "ler_dados()"
   ]
  },
  {
   "cell_type": "code",
   "execution_count": 13,
   "id": "29f223bc-de7c-421d-95cc-5ee113fd4a51",
   "metadata": {
    "tags": []
   },
   "outputs": [],
   "source": [
    "# Definindo a função para atualizar apenas uma parte do contato no banco de dados\n",
    "\n",
    "def atualizar_dado():\n",
    "    \"\"\" Esta função possibilita atualizar isoladamente um dado de algum contato na Agenda de Contatos \"\"\"\n",
    "    # conectando com o banco de dados\n",
    "    conn = sql.connect('agenda.db')\n",
    "    cursor = conn.cursor()\n",
    "\n",
    "    # solicitando os dados ao usuário\n",
    "    id_contato = input('ID do contato a ser atualizado: ')\n",
    "    dado = input(\"\"\"\n",
    "    Qual o código do dado que deseja atualizar:\n",
    "    1 - Prenome\n",
    "    2 - Nome do Meio\n",
    "    3 - Sobrenome\n",
    "    4 - Código de Área\n",
    "    5 - Celular\n",
    "    6 - Telefone Fixo\n",
    "    7 - Estado\n",
    "    8 - Município\n",
    "    9 - Bairro\n",
    "    10 - Tipo de Logradouro\n",
    "    11 - Nome de Logradouro\n",
    "    12 - Número\n",
    "    13 - Complemento\n",
    "    \"\"\")\n",
    "    \n",
    "    # Solicita atualização e executa\n",
    "    if dado == '1':\n",
    "        novo_dado = input('Novo Prenome: ')\n",
    "        cursor.execute(\"\"\"\n",
    "        UPDATE contatos SET prenome = ? WHERE id = ?\n",
    "        \"\"\", (novo_dado, id_contato))\n",
    "    elif dado == '2':\n",
    "        novo_dado = input('Novo Nome do Meio: ')\n",
    "        cursor.execute(\"\"\"\n",
    "        UPDATE contatos SET nomeMeio = ? WHERE id = ?\n",
    "        \"\"\", (novo_dado, id_contato))\n",
    "    elif dado == '3':\n",
    "        novo_dado = input('Novo Sobrenome: ')\n",
    "        cursor.execute(\"\"\"\n",
    "        UPDATE contatos SET sobrenome = ? WHERE id = ?\n",
    "        \"\"\", (novo_dado, id_contato))\n",
    "    elif dado == '4':\n",
    "        novo_dado = input('Novo Código de Área: ')\n",
    "        cursor.execute(\"\"\"\n",
    "        UPDATE contatos SET codArea = ? WHERE id = ?\n",
    "        \"\"\", (novo_dado, id_contato))\n",
    "    elif dado == '5':\n",
    "        novo_dado = input('Novo Celular: ')\n",
    "        cursor.execute(\"\"\"\n",
    "        UPDATE contatos SET celular = ? WHERE id = ?\n",
    "        \"\"\", (novo_dado, id_contato))\n",
    "    elif dado == '6':\n",
    "        novo_dado = input('Novo Telefone Fixo: ')\n",
    "        cursor.execute(\"\"\"\n",
    "        UPDATE contatos SET fixo = ? WHERE id = ?\n",
    "        \"\"\", (novo_dado, id_contato))\n",
    "    elif dado == '7':\n",
    "        novo_dado = input('Novo Estado: ')\n",
    "        cursor.execute(\"\"\"\n",
    "        UPDATE contatos SET estado = ? WHERE id = ?\n",
    "        \"\"\", (novo_dado, id_contato))\n",
    "    elif dado == '8':\n",
    "        novo_dado = input('Novo Município: ')\n",
    "        cursor.execute(\"\"\"\n",
    "        UPDATE contatos SET municipio = ? WHERE id = ?\n",
    "        \"\"\", (novo_dado, id_contato))\n",
    "    elif dado == '9':\n",
    "        novo_dado = input('Novo Bairro: ')\n",
    "        cursor.execute(\"\"\"\n",
    "        UPDATE contatos SET bairro = ? WHERE id = ?\n",
    "        \"\"\", (novo_dado, id_contato))\n",
    "    elif dado == '10':\n",
    "        novo_dado = input('Novo Tipo de Logradouro: ')\n",
    "        cursor.execute(\"\"\"\n",
    "        UPDATE contatos SET tipoLogradouro = ? WHERE id = ?\n",
    "        \"\"\", (novo_dado, id_contato))\n",
    "    elif dado == '11':\n",
    "        novo_dado = input('Novo Nome do Logradouro: ')\n",
    "        cursor.execute(\"\"\"\n",
    "        UPDATE contatos SET nomeLogradouro = ? WHERE id = ?\n",
    "        \"\"\", (novo_dado, id_contato))\n",
    "    elif dado == '12':\n",
    "        novo_dado = input('Novo Número: ')\n",
    "        cursor.execute(\"\"\"\n",
    "        UPDATE contatos SET numero = ? WHERE id = ?\n",
    "        \"\"\", (novo_dado, id_contato))\n",
    "    else:\n",
    "        novo_dado = input('Novo Complemento: ')\n",
    "        cursor.execute(\"\"\"\n",
    "        UPDATE contatos SET complemento = ? WHERE id = ?\n",
    "        \"\"\", (novo_dado, id_contato))\n",
    "    \n",
    "    # salvando os dados\n",
    "    conn.commit()\n",
    "    \n",
    "    # confirmação da atualização\n",
    "    print(f'O dado do contato de ID {id_contato} foi atualizado com sucesso.')\n",
    "    \n",
    "    # fechando a conexão\n",
    "    conn.close()\n"
   ]
  },
  {
   "cell_type": "code",
   "execution_count": 28,
   "id": "45f3b0b4-da99-4b2a-bb88-f4fdec416dec",
   "metadata": {
    "tags": []
   },
   "outputs": [
    {
     "name": "stdin",
     "output_type": "stream",
     "text": [
      "ID do contato a ser atualizado:  2\n",
      "\n",
      "    Qual o código do dado que deseja atualizar:\n",
      "    1 - Prenome\n",
      "    2 - Nome do Meio\n",
      "    3 - Sobrenome\n",
      "    4 - Código de Área\n",
      "    5 - Celular\n",
      "    6 - Telefone Fixo\n",
      "    7 - Estado\n",
      "    8 - Município\n",
      "    9 - Bairro\n",
      "    10 - Tipo de Logradouro\n",
      "    11 - Nome de Logradouro\n",
      "    12 - Número\n",
      "    13 - Complemento\n",
      "     2\n",
      "Novo Nome do Meio:  Soares\n"
     ]
    },
    {
     "name": "stdout",
     "output_type": "stream",
     "text": [
      "O dado do contato de ID 2 foi atualizado com sucesso.\n"
     ]
    }
   ],
   "source": [
    "# testes da função\n",
    "\n",
    "atualizar_dado()"
   ]
  },
  {
   "cell_type": "code",
   "execution_count": 29,
   "id": "f9ddf819-731b-4188-973f-74216be82e55",
   "metadata": {
    "tags": []
   },
   "outputs": [
    {
     "name": "stdout",
     "output_type": "stream",
     "text": [
      "ID do contato: 1 \n",
      " Dados: ('João', 'da Silva', 'Fontenele', '51', '999999999', '', 'RS', 'Porto Alegre', 'Medianeira', 'Rua', 'Alguma', 258, '')\n",
      "ID do contato: 2 \n",
      " Dados: ('José', 'Soares', 'da Silva', '51', '991234567', '30343034', 'RS', 'Porto Alegre', 'Centro', 'Avenida', 'João Pessoa', 52, '1')\n"
     ]
    }
   ],
   "source": [
    "# visualizando a mudança\n",
    "\n",
    "ler_dados()"
   ]
  },
  {
   "cell_type": "markdown",
   "id": "309d9976-a6a2-48a9-ab43-051994de7f09",
   "metadata": {},
   "source": [
    "## Requisito RS5  - exclusão de dados\n",
    "\n",
    "A biblioteca deve oferecer uma função para exclusão de dados."
   ]
  },
  {
   "cell_type": "code",
   "execution_count": 30,
   "id": "e64b95e2-9c04-4a0d-83cf-056363f42f63",
   "metadata": {
    "tags": []
   },
   "outputs": [
    {
     "name": "stdin",
     "output_type": "stream",
     "text": [
      "Prenome:  Maria\n",
      "Nome do Meio:  Ana\n",
      "Sobrenome:  Souza\n",
      "Código de Área:  51\n",
      "Celular:  912345678\n",
      "Telefone Fixo:  34343434\n",
      "Estado:  RS\n",
      "Município:  Porto Alegre\n",
      "Bairro:  Moinhos de Vento\n",
      "Tipo de Logradouro:  Rua\n",
      "Nome de Logradouro:  Tal\n",
      "Número:  123\n",
      "Complemento:  ap 508\n"
     ]
    },
    {
     "name": "stdout",
     "output_type": "stream",
     "text": [
      "Dados inseridos com sucesso.\n"
     ]
    }
   ],
   "source": [
    "# teste de inserir um contato para ser excluído depois\n",
    "\n",
    "inserir_dados()\n"
   ]
  },
  {
   "cell_type": "code",
   "execution_count": 31,
   "id": "2fe95450-8a3f-4ff8-8715-f15b6f1a939e",
   "metadata": {
    "tags": []
   },
   "outputs": [
    {
     "name": "stdout",
     "output_type": "stream",
     "text": [
      "ID do contato: 1 \n",
      " Dados: ('João', 'da Silva', 'Fontenele', '51', '999999999', '', 'RS', 'Porto Alegre', 'Medianeira', 'Rua', 'Alguma', 258, '')\n",
      "ID do contato: 2 \n",
      " Dados: ('José', 'Soares', 'da Silva', '51', '991234567', '30343034', 'RS', 'Porto Alegre', 'Centro', 'Avenida', 'João Pessoa', 52, '1')\n",
      "ID do contato: 4 \n",
      " Dados: ('Maria', 'Ana', 'Souza', '51', '912345678', '34343434', 'RS', 'Porto Alegre', 'Moinhos de Vento', 'Rua', 'Tal', 123, 'ap 508')\n"
     ]
    }
   ],
   "source": [
    "# visualizando a mudança\n",
    "\n",
    "ler_dados()"
   ]
  },
  {
   "cell_type": "code",
   "execution_count": 32,
   "id": "8d54e02c-5321-47c9-a341-c7765d3f18fe",
   "metadata": {
    "tags": []
   },
   "outputs": [],
   "source": [
    "# Teste da função pelo sqlite3\n",
    "\n",
    "# Função para conectar com banco de dados\n",
    "\n",
    "conn = sql.connect('Agenda.db')\n",
    "\n",
    "# definindo um cursor\n",
    "cursor = conn.cursor()\n",
    "\n",
    "id_cont = '4'\n",
    "\n",
    "# executando\n",
    "cursor.execute(\"\"\"\n",
    "DELETE FROM contatos\n",
    "WHERE id = ?\n",
    "\"\"\",(id_cont))\n",
    "\n",
    "# salvando os dados\n",
    "conn.commit()\n",
    "\n",
    "conn.close()"
   ]
  },
  {
   "cell_type": "code",
   "execution_count": 33,
   "id": "2c96fda0-d139-49e3-99cb-553d12ab2777",
   "metadata": {
    "tags": []
   },
   "outputs": [
    {
     "name": "stdout",
     "output_type": "stream",
     "text": [
      "ID do contato: 1 \n",
      " Dados: ('João', 'da Silva', 'Fontenele', '51', '999999999', '', 'RS', 'Porto Alegre', 'Medianeira', 'Rua', 'Alguma', 258, '')\n",
      "ID do contato: 2 \n",
      " Dados: ('José', 'Soares', 'da Silva', '51', '991234567', '30343034', 'RS', 'Porto Alegre', 'Centro', 'Avenida', 'João Pessoa', 52, '1')\n"
     ]
    }
   ],
   "source": [
    "# visualizando a mudança\n",
    "\n",
    "ler_dados()"
   ]
  },
  {
   "cell_type": "code",
   "execution_count": 34,
   "id": "f8a2597e-1f1c-498e-86ba-75f171df1525",
   "metadata": {
    "tags": []
   },
   "outputs": [],
   "source": [
    "# Definindo a função para excluir contato da base de dados\n",
    "\n",
    "def excluir_dados():\n",
    "    \"\"\" Esta função possibilita a exclusão de algum contato registrado no banco Agenda.db \"\"\"\n",
    "    conn = sql.connect('agenda.db')\n",
    "    cursor = conn.cursor()\n",
    "    \n",
    "    # solicita o ID do contato\n",
    "    id_contato = input('Digite o ID do contato que deseja excluir: ')\n",
    "\n",
    "    # excluindo um registro da tabela\n",
    "    cursor.execute(\"\"\"\n",
    "    DELETE FROM contatos\n",
    "    WHERE id = ?\n",
    "    \"\"\", (id_contato))\n",
    "\n",
    "    # salvando os dados\n",
    "    conn.commit()\n",
    "\n",
    "    # confirmação da atualização\n",
    "    print('Contato excluído com sucesso.')\n",
    "\n",
    "    # fechando a conexão\n",
    "    conn.close()"
   ]
  },
  {
   "cell_type": "code",
   "execution_count": 35,
   "id": "5a1e1388-50c7-4ad6-b5ba-783058daac8a",
   "metadata": {
    "tags": []
   },
   "outputs": [
    {
     "name": "stdout",
     "output_type": "stream",
     "text": [
      "ID do contato: 1 \n",
      " Dados: ('João', 'da Silva', 'Fontenele', '51', '999999999', '', 'RS', 'Porto Alegre', 'Medianeira', 'Rua', 'Alguma', 258, '')\n",
      "ID do contato: 2 \n",
      " Dados: ('José', 'Soares', 'da Silva', '51', '991234567', '30343034', 'RS', 'Porto Alegre', 'Centro', 'Avenida', 'João Pessoa', 52, '1')\n"
     ]
    }
   ],
   "source": [
    "# visualizando a mudança\n",
    "\n",
    "ler_dados()"
   ]
  },
  {
   "cell_type": "code",
   "execution_count": 36,
   "id": "744e5e13-955b-45ec-ae0a-b5b74378c70e",
   "metadata": {
    "tags": []
   },
   "outputs": [
    {
     "name": "stdin",
     "output_type": "stream",
     "text": [
      "Digite o ID do contato que deseja excluir:  2\n"
     ]
    },
    {
     "name": "stdout",
     "output_type": "stream",
     "text": [
      "Contato excluído com sucesso.\n"
     ]
    }
   ],
   "source": [
    "# Teste da função criada\n",
    "\n",
    "excluir_dados()"
   ]
  },
  {
   "cell_type": "code",
   "execution_count": 37,
   "id": "89e24030-8f89-48ac-a470-4dfc36f35393",
   "metadata": {
    "tags": []
   },
   "outputs": [
    {
     "name": "stdout",
     "output_type": "stream",
     "text": [
      "ID do contato: 1 \n",
      " Dados: ('João', 'da Silva', 'Fontenele', '51', '999999999', '', 'RS', 'Porto Alegre', 'Medianeira', 'Rua', 'Alguma', 258, '')\n"
     ]
    }
   ],
   "source": [
    "# visualizando a mudança\n",
    "\n",
    "ler_dados()"
   ]
  }
 ],
 "metadata": {
  "kernelspec": {
   "display_name": "Python 3 (ipykernel)",
   "language": "python",
   "name": "python3"
  },
  "language_info": {
   "codemirror_mode": {
    "name": "ipython",
    "version": 3
   },
   "file_extension": ".py",
   "mimetype": "text/x-python",
   "name": "python",
   "nbconvert_exporter": "python",
   "pygments_lexer": "ipython3",
   "version": "3.11.5"
  }
 },
 "nbformat": 4,
 "nbformat_minor": 5
}
