{
 "cells": [
  {
   "cell_type": "markdown",
   "id": "a59708ef-4a3d-4acf-8ebb-0342646ed944",
   "metadata": {},
   "source": [
    "# Módulo Dal - \"data access layer\"\n",
    "\n",
    "Referência de SQLite3: [link](https://pythonclub.com.br/gerenciando-banco-dados-sqlite3-python-parte1.html)"
   ]
  },
  {
   "cell_type": "code",
   "execution_count": 4,
   "id": "2bdefc42-d9d2-4797-b7d4-be977148f2bd",
   "metadata": {},
   "outputs": [],
   "source": [
    "# Importação de biblioteca\n",
    "\n",
    "import sqlite3 as sql\n"
   ]
  },
  {
   "cell_type": "code",
   "execution_count": 10,
   "id": "a55dfe2c-c061-42cf-9d8c-e0c1da776687",
   "metadata": {},
   "outputs": [],
   "source": [
    "# Função para criar banco de dados\n",
    "\n",
    "conn = sql.connect('agenda.db')\n",
    "\n",
    "# definindo um cursor\n",
    "cursor = conn.cursor()\n",
    "\n",
    "# criando a tabela\n",
    "cursor.execute(\"\"\"\n",
    "CREATE TABLE contato(\n",
    "id INTEGER NOT NULL PRIMARY KEY AUTOINCREMENT,\n",
    "prenome VARCHAR(50) NOT NULL,                           \n",
    "nomeMeio VARCHAR(200) NOT NULL,\n",
    "sobrenome VARCHAR(200) NOT NULL,\n",
    "codArea VARCHAR(2) NOT NULL,\n",
    "celular VARCHAR(9) NOT NULL,\n",
    "fixo VARCHAR(8),\n",
    "estado VARCHAR(2) NOT NULL,\n",
    "municipio VARCHAR(30) NOT NULL,\n",
    "bairro VARCHAR(30), \n",
    "tipoLogradouro VARCHAR(20) NOT NULL,\n",
    "nomeLogradouro VARCHAR(150) NOT NULL,\n",
    "numero INTEGER,  \n",
    "complemento VARCHAR(100) \n",
    ");\n",
    "\"\"\")\n",
    "\n",
    "# Importante fechar o arquivo com .close()\n",
    "\n",
    "conn.close()"
   ]
  },
  {
   "cell_type": "code",
   "execution_count": 12,
   "id": "bab5df9c-9ef8-42ea-bd86-38d47f26a7fe",
   "metadata": {},
   "outputs": [],
   "source": [
    "# Função para criar banco de dados\n",
    "\n",
    "conn = sql.connect('agenda.db')\n",
    "\n",
    "# definindo um cursor\n",
    "cursor = conn.cursor()\n",
    "\n",
    "# inserindo dados na tabela\n",
    "cursor.execute(\"\"\"\n",
    "INSERT INTO contato (id, prenome, nomeMeio, sobrenome, codArea, celular, fixo, estado, municipio, bairro, tipoLogradouro, nomeLogradouro, numero, complemento)\n",
    "VALUES (1,'João', 'da Silva', 'Fontenele', '51', '912345678', '', 'RS', 'Porto Alegre', 'Medianeira', 'Rua', 'Alguma', 258, '');\n",
    "\"\"\")\n",
    "\n",
    "# Importante fechar o arquivo com .close()\n",
    "\n",
    "conn.close()\n"
   ]
  },
  {
   "cell_type": "code",
   "execution_count": 13,
   "id": "f4cc887c-8ffb-40f0-af99-b9a580ab20ef",
   "metadata": {},
   "outputs": [],
   "source": [
    "import sqlite3 as sql\n",
    "from sqlite3 import Cursor\n",
    "\n",
    "def inserir(registro: list) -> sql.Cursor:\n",
    "    \"\"\" Esta função aceita a inserção de novos registros na agenda de contatos - RS2 \"\"\"\n",
    "    conn = sql.connect('agenda.db')\n",
    "    conn.cursor()\n",
    "    conn.execute(\"\"\"\n",
    "    INSERT INTO contato VALUES registro; \"\"\")"
   ]
  }
 ],
 "metadata": {
  "kernelspec": {
   "display_name": "Python 3 (ipykernel)",
   "language": "python",
   "name": "python3"
  },
  "language_info": {
   "codemirror_mode": {
    "name": "ipython",
    "version": 3
   },
   "file_extension": ".py",
   "mimetype": "text/x-python",
   "name": "python",
   "nbconvert_exporter": "python",
   "pygments_lexer": "ipython3",
   "version": "3.10.9"
  }
 },
 "nbformat": 4,
 "nbformat_minor": 5
}
