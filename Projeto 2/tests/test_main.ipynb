{
 "cells": [
  {
   "cell_type": "markdown",
   "id": "7cf40d7c-f6bc-4576-97da-0d337d581abf",
   "metadata": {},
   "source": [
    "# Módulo Principal do Aplicativo de Modelagem de Ação\n",
    "\n",
    "\n",
    "Este módulo oferece a função principal que integra as fases de entrada, processamento e saída de dados do projeto de Aplicativo de Modelagem de Ação na B3."
   ]
  },
  {
   "cell_type": "code",
   "execution_count": 3,
   "id": "b04dc8df-1e86-4a93-bc6b-cb7ebd943b79",
   "metadata": {
    "tags": []
   },
   "outputs": [],
   "source": [
    "# Importação dos módulos\n",
    "\n",
    "import test_es\n",
    "from test_proc import Acao"
   ]
  },
  {
   "cell_type": "code",
   "execution_count": 4,
   "id": "735c7123-d6e4-4aac-ae80-9b18773c750d",
   "metadata": {
    "tags": []
   },
   "outputs": [
    {
     "name": "stdin",
     "output_type": "stream",
     "text": [
      "Qual o nome da empresa?  Vale\n",
      "Qual o código da ação na B3?  VALE3\n"
     ]
    }
   ],
   "source": [
    "# Teste da função de entrada de dados\n",
    "\n",
    "dados = test_es.leitora()"
   ]
  },
  {
   "cell_type": "code",
   "execution_count": 5,
   "id": "0a1d9c84-51da-4b84-8cf0-bbb646a1ba57",
   "metadata": {
    "tags": []
   },
   "outputs": [
    {
     "data": {
      "text/plain": [
       "['Vale', 'VALE3']"
      ]
     },
     "execution_count": 5,
     "metadata": {},
     "output_type": "execute_result"
    }
   ],
   "source": [
    "# Teste de gravação dos dados inseridos na entrada\n",
    "\n",
    "dados"
   ]
  },
  {
   "cell_type": "code",
   "execution_count": 7,
   "id": "6a704372-5aea-48de-8cf5-688917bfdc68",
   "metadata": {
    "tags": []
   },
   "outputs": [
    {
     "name": "stdout",
     "output_type": "stream",
     "text": [
      "Este é um objeto da classe Ação. O emissor da ação é Vale e o código é VALE3.\n"
     ]
    }
   ],
   "source": [
    "# Teste da classe Acao\n",
    "\n",
    "vale3 = Acao(\"Vale\", \"VALE3\")\n",
    "\n",
    "print(vale3)"
   ]
  },
  {
   "cell_type": "code",
   "execution_count": 8,
   "id": "80f3aca4-85fd-4d8b-bfd2-f9f7532817f8",
   "metadata": {
    "tags": []
   },
   "outputs": [
    {
     "name": "stdin",
     "output_type": "stream",
     "text": [
      "Qual o nome da empresa?  Petrobras\n",
      "Qual o código da ação na B3?  PETR4\n"
     ]
    },
    {
     "name": "stdout",
     "output_type": "stream",
     "text": [
      "Este é um objeto da classe Ação. O emissor da ação é Petrobras e o código é PETR4.\n"
     ]
    }
   ],
   "source": [
    "# Definindo a função principal do simulador de Ação na B3\n",
    "\n",
    "def main():\n",
    "    # Leitura de dados\n",
    "    dados = test_es.leitora()\n",
    "    \n",
    "    # Instanciamento do objeto\n",
    "    acao = Acao(dados[0], dados[1])\n",
    "    \n",
    "    # Saída de dados\n",
    "    test_es.impressora(acao)\n",
    "    \n",
    "main()"
   ]
  }
 ],
 "metadata": {
  "kernelspec": {
   "display_name": "Python 3 (ipykernel)",
   "language": "python",
   "name": "python3"
  },
  "language_info": {
   "codemirror_mode": {
    "name": "ipython",
    "version": 3
   },
   "file_extension": ".py",
   "mimetype": "text/x-python",
   "name": "python",
   "nbconvert_exporter": "python",
   "pygments_lexer": "ipython3",
   "version": "3.11.5"
  }
 },
 "nbformat": 4,
 "nbformat_minor": 5
}
