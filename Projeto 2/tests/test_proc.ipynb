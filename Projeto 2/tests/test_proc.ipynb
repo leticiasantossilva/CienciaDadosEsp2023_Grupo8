{
 "cells": [
  {
   "cell_type": "markdown",
   "id": "70f0bc13-b9a5-48b7-85e7-9aa961d6d719",
   "metadata": {},
   "source": [
    "# Módulo de instanciação de objetos da classe Ação\n",
    "\n",
    "Este módulo oferece as funções de processamento de dados do Aplicativo de Modelagem de Ação na B3, criando a classe Ação."
   ]
  },
  {
   "cell_type": "code",
   "execution_count": 2,
   "id": "9d04a64f-6156-4950-b623-a10082c1268c",
   "metadata": {
    "tags": []
   },
   "outputs": [],
   "source": [
    "# Criando a classe Ação\n",
    "\n",
    "class Acao:\n",
    "    def __init__(self, emissor, codigo_b3):\n",
    "        \"\"\"Método inicializador da classe Acao\"\"\"\n",
    "        self.emissor = emissor\n",
    "        self.codigo_b3 = codigo_b3\n",
    "    "
   ]
  },
  {
   "cell_type": "code",
   "execution_count": 5,
   "id": "a55e3b14-18e0-4364-b59a-c4c67176983d",
   "metadata": {
    "tags": []
   },
   "outputs": [
    {
     "name": "stdout",
     "output_type": "stream",
     "text": [
      "<__main__.Acao object at 0x0000018527243A50>\n"
     ]
    }
   ],
   "source": [
    "# Teste da classe Ação, inicializando o objeto BBDC3\n",
    "\n",
    "\n",
    "bbdc3 = Acao(\"Bradesco\", \"BBDC3\")\n",
    "\n",
    "\n",
    "# Testando a visualização do objeto\n",
    "\n",
    "print(bbdc3)"
   ]
  },
  {
   "cell_type": "code",
   "execution_count": 6,
   "id": "a87cc0b0-98b2-4b1e-a394-58c390990a24",
   "metadata": {
    "tags": []
   },
   "outputs": [],
   "source": [
    "# Evoluindo a classe Acao - fase de instanciação\n",
    "\n",
    "\n",
    "class Acao:\n",
    "    def __init__(self, emissor, codigo_b3):\n",
    "        \"\"\"Método inicializador da classe Acao\"\"\"\n",
    "        self.emissor = emissor\n",
    "        self.codigo_b3 = codigo_b3\n",
    "    def __str__(self):\n",
    "        return f\"\"\"Este é um objeto da classe Ação. O emissor da ação é {self.emissor} e o código é {self.codigo_b3}\"\"\"\n",
    "        "
   ]
  },
  {
   "cell_type": "code",
   "execution_count": 7,
   "id": "fb133551-4450-43c4-81c2-16499524a16a",
   "metadata": {
    "tags": []
   },
   "outputs": [
    {
     "name": "stdout",
     "output_type": "stream",
     "text": [
      "Este é um objeto da classe Ação. O emissor da ação é Bradesco e o código é BBDC4\n"
     ]
    }
   ],
   "source": [
    "# Teste de instanciação\n",
    "\n",
    "bbdc4 = Acao(\"Bradesco\", \"BBDC4\")\n",
    "\n",
    "print(bbdc4)"
   ]
  },
  {
   "cell_type": "code",
   "execution_count": 15,
   "id": "3f955b2c-dee5-4fa9-84f9-96b2c07e2184",
   "metadata": {
    "tags": []
   },
   "outputs": [],
   "source": [
    "# Evoluindo a classe Acao \n",
    "\n",
    "\n",
    "class Acao:\n",
    "    def __init__(self, emissor, codigo_b3):\n",
    "        \"\"\"Método inicializador da classe Acao\"\"\"\n",
    "        self.emissor = emissor\n",
    "        self.codigo_b3 = codigo_b3\n",
    "    def __str__(self):\n",
    "        \"\"\"Método que instancia objeto da classe Acao\"\"\"\n",
    "        return f\"\"\"Este é um objeto da classe Ação. O emissor da ação é {self.emissor} e o código é {self.codigo_b3}.\"\"\"\n",
    "    def negociar(self):\n",
    "        \"\"\"Prevê uma futura função da classe Acao, que ainda não foi implementada\"\"\"\n",
    "        print(\"Recurso não implementado.\")\n",
    "        NotImplemented\n",
    "    "
   ]
  },
  {
   "cell_type": "code",
   "execution_count": 14,
   "id": "d8a000a7-f558-4a90-b607-de276fab7444",
   "metadata": {
    "tags": []
   },
   "outputs": [
    {
     "name": "stdout",
     "output_type": "stream",
     "text": [
      "Este é um objeto da classe Ação. O emissor da ação é Bradesco e o código é BBDC4.\n",
      "Recurso não implementado.\n"
     ]
    }
   ],
   "source": [
    "# Teste do novo recurso da classe Acao\n",
    "\n",
    "bbdc4 = Acao(\"Bradesco\", \"BBDC4\")\n",
    "\n",
    "print(bbdc4)\n",
    "\n",
    "bbdc4.negociar()"
   ]
  }
 ],
 "metadata": {
  "kernelspec": {
   "display_name": "Python 3 (ipykernel)",
   "language": "python",
   "name": "python3"
  },
  "language_info": {
   "codemirror_mode": {
    "name": "ipython",
    "version": 3
   },
   "file_extension": ".py",
   "mimetype": "text/x-python",
   "name": "python",
   "nbconvert_exporter": "python",
   "pygments_lexer": "ipython3",
   "version": "3.11.5"
  }
 },
 "nbformat": 4,
 "nbformat_minor": 5
}
