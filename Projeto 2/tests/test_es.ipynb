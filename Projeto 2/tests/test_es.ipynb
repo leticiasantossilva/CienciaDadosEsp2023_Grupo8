{
 "cells": [
  {
   "cell_type": "markdown",
   "id": "b27b5049-b99f-49a7-b25f-2e7d6005c0b9",
   "metadata": {},
   "source": [
    "# Módulo de Entrada e Saída\n",
    "\n",
    "Este módulo oferece as funções de entrada e saída de dados do projeto de Aplicativo de Modelagem de Ação na B3."
   ]
  },
  {
   "cell_type": "markdown",
   "id": "17cfbde7-9389-4b76-b83d-9a776a2bbac1",
   "metadata": {},
   "source": [
    "## Funcionalidade de Entrada de Dados"
   ]
  },
  {
   "cell_type": "code",
   "execution_count": 15,
   "id": "12b7b370-419e-4f3b-b058-38750b3ffa4d",
   "metadata": {
    "tags": []
   },
   "outputs": [
    {
     "name": "stdin",
     "output_type": "stream",
     "text": [
      "Qual o nome da empresa?  Itaú\n"
     ]
    }
   ],
   "source": [
    "# Testes de entrada de dados - nome da empresa\n",
    "\n",
    "emissor = input(\"Qual o nome da empresa? \")"
   ]
  },
  {
   "cell_type": "code",
   "execution_count": 3,
   "id": "05d25830-0920-41cf-ab34-5ccbfcf8f583",
   "metadata": {
    "tags": []
   },
   "outputs": [
    {
     "name": "stdout",
     "output_type": "stream",
     "text": [
      "Itaú\n"
     ]
    }
   ],
   "source": [
    "# Teste de armazenamento de dado\n",
    "\n",
    "print(emissor)"
   ]
  },
  {
   "cell_type": "code",
   "execution_count": 4,
   "id": "5d8850c2-2f56-44a0-af22-9420ae8a363d",
   "metadata": {
    "tags": []
   },
   "outputs": [
    {
     "name": "stdin",
     "output_type": "stream",
     "text": [
      "Qual o nome da empresa?  B3\n"
     ]
    }
   ],
   "source": [
    "# Definindo a função de entrada do nome da empresa emissora da ação\n",
    "\n",
    "def leitora_emissor():\n",
    "    \"\"\"Função para inserir a razão social da empresa emissora da ação\"\"\"\n",
    "    emissor = input(\"Qual o nome da empresa? \")\n",
    "    return emissor\n",
    "\n",
    "emissor = leitora_emissor()"
   ]
  },
  {
   "cell_type": "code",
   "execution_count": 5,
   "id": "7aba8e4f-a23a-4c9b-9d15-b0d08f8ecec7",
   "metadata": {
    "tags": []
   },
   "outputs": [
    {
     "name": "stdout",
     "output_type": "stream",
     "text": [
      "B3\n"
     ]
    }
   ],
   "source": [
    "# Teste de armazenamento de dado a partir da função\n",
    "\n",
    "print(emissor)"
   ]
  },
  {
   "cell_type": "code",
   "execution_count": 6,
   "id": "09d823bc-b81d-425b-a2ea-34cff718ef84",
   "metadata": {
    "tags": []
   },
   "outputs": [
    {
     "name": "stdin",
     "output_type": "stream",
     "text": [
      "Qual o código da ação na B3?  B3SA3\n"
     ]
    }
   ],
   "source": [
    "# Testes de entrada de dados - código da ação\n",
    "\n",
    "codigo = input(\"Qual o código da ação na B3? \")"
   ]
  },
  {
   "cell_type": "code",
   "execution_count": 7,
   "id": "9c550195-d292-4ca1-a720-0db4c8714b4c",
   "metadata": {
    "tags": []
   },
   "outputs": [
    {
     "name": "stdout",
     "output_type": "stream",
     "text": [
      "B3SA3\n"
     ]
    }
   ],
   "source": [
    "# Teste de armazenamento de dado a partir da função\n",
    "\n",
    "print(codigo)"
   ]
  },
  {
   "cell_type": "code",
   "execution_count": 8,
   "id": "936727f8-695f-4e82-ba53-db3472415810",
   "metadata": {
    "tags": []
   },
   "outputs": [
    {
     "name": "stdin",
     "output_type": "stream",
     "text": [
      "Qual o código da ação na B3?  ITUB3\n"
     ]
    }
   ],
   "source": [
    "# Definindo a função para pedir o código da ação na B3\n",
    "\n",
    "def leitora_codigo():\n",
    "    \"\"\"Função para inserir o código da ação na B3\"\"\"\n",
    "    codigo = input(\"Qual o código da ação na B3? \")\n",
    "    return codigo\n",
    "\n",
    "codigo = leitora_codigo()"
   ]
  },
  {
   "cell_type": "code",
   "execution_count": 9,
   "id": "14034004-2544-4f44-b66c-e3289fba69c0",
   "metadata": {
    "tags": []
   },
   "outputs": [
    {
     "name": "stdout",
     "output_type": "stream",
     "text": [
      "ITUB3\n"
     ]
    }
   ],
   "source": [
    "# Teste se está gravando a resposta\n",
    "\n",
    "print(codigo)"
   ]
  },
  {
   "cell_type": "code",
   "execution_count": 10,
   "id": "3ad31e3c-66cb-4848-9294-5938960e0a80",
   "metadata": {
    "tags": []
   },
   "outputs": [
    {
     "name": "stdin",
     "output_type": "stream",
     "text": [
      "Qual o nome da empresa?  Bradesco\n",
      "Qual o código da ação na B3?  BBDC4\n"
     ]
    }
   ],
   "source": [
    "# Reunindo as duas funções em uma só função de entrada\n",
    "\n",
    "def leitora():\n",
    "    \"\"\"Função recebe o nome da empresa emissora e o código da ação na B3\"\"\"\n",
    "    emissor = leitora_emissor()\n",
    "    codigo = leitora_codigo()\n",
    "    return [emissor, codigo]\n",
    "\n",
    "empresa = leitora()"
   ]
  },
  {
   "cell_type": "code",
   "execution_count": 11,
   "id": "edfc0bb7-0528-4cc9-9c3d-5a8a4dae6513",
   "metadata": {
    "tags": []
   },
   "outputs": [
    {
     "name": "stdout",
     "output_type": "stream",
     "text": [
      "['Bradesco', 'BBDC4']\n"
     ]
    }
   ],
   "source": [
    "# Teste de armazenamento de dados em lista\n",
    "\n",
    "print(empresa)"
   ]
  },
  {
   "cell_type": "markdown",
   "id": "184ed7e5-6bbc-4d25-8b2d-d5ab1c98d7a8",
   "metadata": {},
   "source": [
    "## Funcionalidade de saída de dados"
   ]
  },
  {
   "cell_type": "code",
   "execution_count": 12,
   "id": "08d03168-8b4f-4092-807d-61584fed9795",
   "metadata": {
    "tags": []
   },
   "outputs": [
    {
     "name": "stdout",
     "output_type": "stream",
     "text": [
      "['Bradesco', 'BBDC4']\n"
     ]
    }
   ],
   "source": [
    "# Testes de saída de dados\n",
    "\n",
    "print(empresa)"
   ]
  },
  {
   "cell_type": "code",
   "execution_count": 13,
   "id": "6c733081-405f-4655-a0bd-556dbe5a7ccf",
   "metadata": {
    "tags": []
   },
   "outputs": [],
   "source": [
    "# Definindo a função de saída dos dados\n",
    "\n",
    "def impressora(resultado: str):\n",
    "    \"\"\"Função que informará ao usuário que foi criado o objeto computacional que representa a ação\"\"\"\n",
    "    print(f\"A ação criada foi {resultado}.\")\n"
   ]
  },
  {
   "cell_type": "code",
   "execution_count": 14,
   "id": "f80ceb60-3bf8-4982-bf98-ea85f2e45106",
   "metadata": {
    "tags": []
   },
   "outputs": [
    {
     "name": "stdout",
     "output_type": "stream",
     "text": [
      "A ação criada foi ['Bradesco', 'BBDC4'].\n"
     ]
    }
   ],
   "source": [
    "# Teste de saída de dados\n",
    "\n",
    "impressora(empresa)"
   ]
  }
 ],
 "metadata": {
  "kernelspec": {
   "display_name": "Python 3 (ipykernel)",
   "language": "python",
   "name": "python3"
  },
  "language_info": {
   "codemirror_mode": {
    "name": "ipython",
    "version": 3
   },
   "file_extension": ".py",
   "mimetype": "text/x-python",
   "name": "python",
   "nbconvert_exporter": "python",
   "pygments_lexer": "ipython3",
   "version": "3.11.5"
  }
 },
 "nbformat": 4,
 "nbformat_minor": 5
}
