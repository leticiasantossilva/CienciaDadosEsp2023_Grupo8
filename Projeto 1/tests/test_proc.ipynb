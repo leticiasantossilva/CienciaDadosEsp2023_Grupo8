{
 "cells": [
  {
   "cell_type": "markdown",
   "id": "9fe0dbc0-c67b-4f02-aac0-63f60ae123e5",
   "metadata": {},
   "source": [
    "# Módulo de Processamento\n",
    "\n",
    "Este módulo oferece funções de processamento de dados do projeto de Calculadora com as 4 operações básicas."
   ]
  },
  {
   "cell_type": "markdown",
   "id": "1ab1a148-71f0-45f9-ab6d-a78ac8bf0ed0",
   "metadata": {},
   "source": [
    "## Requisito 1 - Desenvolvimento da função de soma"
   ]
  },
  {
   "cell_type": "code",
   "execution_count": 1,
   "id": "9c913444-455d-4eb3-9206-771d458cc909",
   "metadata": {
    "tags": []
   },
   "outputs": [
    {
     "data": {
      "text/plain": [
       "5"
      ]
     },
     "execution_count": 1,
     "metadata": {},
     "output_type": "execute_result"
    }
   ],
   "source": [
    "# Teste de soma\n",
    "\n",
    "2+3"
   ]
  },
  {
   "cell_type": "code",
   "execution_count": 2,
   "id": "4a790e76-54ba-4525-abeb-2fca3023817c",
   "metadata": {
    "tags": []
   },
   "outputs": [
    {
     "data": {
      "text/plain": [
       "10"
      ]
     },
     "execution_count": 2,
     "metadata": {},
     "output_type": "execute_result"
    }
   ],
   "source": [
    "# Teste de soma com número armazenado\n",
    "\n",
    "x = 4\n",
    "y = 6\n",
    "x + y"
   ]
  },
  {
   "cell_type": "code",
   "execution_count": 14,
   "id": "3e245988-6458-4f50-a48e-0cde08c7ea0e",
   "metadata": {
    "tags": []
   },
   "outputs": [
    {
     "name": "stdout",
     "output_type": "stream",
     "text": [
      "15\n"
     ]
    }
   ],
   "source": [
    "# Teste de soma com número armazenado em elemento\n",
    "\n",
    "z = x + y\n",
    "print(z)"
   ]
  },
  {
   "cell_type": "code",
   "execution_count": 4,
   "id": "6798b2a5-f55b-4f12-b2d3-60c5530064cb",
   "metadata": {
    "tags": []
   },
   "outputs": [
    {
     "data": {
      "text/plain": [
       "13"
      ]
     },
     "execution_count": 4,
     "metadata": {},
     "output_type": "execute_result"
    }
   ],
   "source": [
    "# Teste da função de adição\n",
    "\n",
    "def somadora(x, y):\n",
    "    return x + y\n",
    "\n",
    "somadora(5, 8)"
   ]
  },
  {
   "cell_type": "code",
   "execution_count": 5,
   "id": "a2b5074a-bec7-44e2-9b0d-d951de9a2aae",
   "metadata": {
    "tags": []
   },
   "outputs": [
    {
     "data": {
      "text/plain": [
       "11"
      ]
     },
     "execution_count": 5,
     "metadata": {},
     "output_type": "execute_result"
    }
   ],
   "source": [
    "# Definindo a função de soma\n",
    "\n",
    "def somadora(numero1: float, numero2: float) -> float:\n",
    "    \"\"\"Esta função pega dois números reais e retorna a soma dos dois\"\"\"\n",
    "    return numero1 + numero2\n",
    "\n",
    "somadora(7, 4)    "
   ]
  },
  {
   "cell_type": "markdown",
   "id": "aa1448c1-4fc2-47c9-be07-729f8021f83b",
   "metadata": {},
   "source": [
    "## Requisito 2 - Desenvolvimento da função de subtração"
   ]
  },
  {
   "cell_type": "code",
   "execution_count": 6,
   "id": "a7afca78-8ce4-48fb-8370-04af8e4bbaf5",
   "metadata": {
    "tags": []
   },
   "outputs": [
    {
     "data": {
      "text/plain": [
       "3"
      ]
     },
     "execution_count": 6,
     "metadata": {},
     "output_type": "execute_result"
    }
   ],
   "source": [
    "# Teste de subtração\n",
    "\n",
    "5-2"
   ]
  },
  {
   "cell_type": "code",
   "execution_count": 7,
   "id": "6a714052-c4d7-42df-9df7-b7c19cebfccd",
   "metadata": {
    "tags": []
   },
   "outputs": [
    {
     "data": {
      "text/plain": [
       "3"
      ]
     },
     "execution_count": 7,
     "metadata": {},
     "output_type": "execute_result"
    }
   ],
   "source": [
    "# Teste de subtração com número armazenado\n",
    "\n",
    "x = 9\n",
    "y = 6\n",
    "x - y"
   ]
  },
  {
   "cell_type": "code",
   "execution_count": 13,
   "id": "8c3fb673-6a09-4994-b383-38683d767329",
   "metadata": {
    "tags": []
   },
   "outputs": [
    {
     "name": "stdout",
     "output_type": "stream",
     "text": [
      "3\n"
     ]
    }
   ],
   "source": [
    "# Teste de subtração com número armazenado em elemento\n",
    "\n",
    "z = x - y\n",
    "print(z)"
   ]
  },
  {
   "cell_type": "code",
   "execution_count": 9,
   "id": "ef25d0be-1712-45fc-bbff-ec4808cbe518",
   "metadata": {
    "tags": []
   },
   "outputs": [
    {
     "data": {
      "text/plain": [
       "2"
      ]
     },
     "execution_count": 9,
     "metadata": {},
     "output_type": "execute_result"
    }
   ],
   "source": [
    "# Teste da função para subtrair\n",
    "\n",
    "def diminuidora(x, y):\n",
    "    return x - y\n",
    "\n",
    "diminuidora(10, 8)"
   ]
  },
  {
   "cell_type": "code",
   "execution_count": 10,
   "id": "56c5e82b-610a-45d1-9410-2a872dc51fd3",
   "metadata": {
    "tags": []
   },
   "outputs": [
    {
     "data": {
      "text/plain": [
       "3"
      ]
     },
     "execution_count": 10,
     "metadata": {},
     "output_type": "execute_result"
    }
   ],
   "source": [
    "# Definindo a função para diminuição\n",
    "\n",
    "def diminuidora(numero1: float, numero2: float) -> float:\n",
    "    \"\"\"Esta função pega dois números reais e retorna a subtração dos dois\"\"\"\n",
    "    return numero1 - numero2\n",
    "\n",
    "diminuidora(7, 4)    "
   ]
  },
  {
   "cell_type": "markdown",
   "id": "e8fac561-f732-41be-93f0-1278569b35ab",
   "metadata": {},
   "source": [
    "## Requisito 3 - Desenvolvimento da função de multiplicação"
   ]
  },
  {
   "cell_type": "code",
   "execution_count": 11,
   "id": "fc3c9589-f214-4287-8382-5bb7252d4846",
   "metadata": {
    "tags": []
   },
   "outputs": [
    {
     "data": {
      "text/plain": [
       "18"
      ]
     },
     "execution_count": 11,
     "metadata": {},
     "output_type": "execute_result"
    }
   ],
   "source": [
    "# Teste de multiplicação\n",
    "\n",
    "9*2"
   ]
  },
  {
   "cell_type": "code",
   "execution_count": 17,
   "id": "4f850994-8303-4d46-97a8-b0f784056ccc",
   "metadata": {
    "tags": []
   },
   "outputs": [
    {
     "data": {
      "text/plain": [
       "15"
      ]
     },
     "execution_count": 17,
     "metadata": {},
     "output_type": "execute_result"
    }
   ],
   "source": [
    "# Teste de multiplicação com número armazenado\n",
    "\n",
    "x = 5\n",
    "y = 3\n",
    "x * y"
   ]
  },
  {
   "cell_type": "code",
   "execution_count": 12,
   "id": "13ab9dc3-451d-4bea-90c0-394f73f2dc0c",
   "metadata": {
    "tags": []
   },
   "outputs": [
    {
     "name": "stdout",
     "output_type": "stream",
     "text": [
      "54\n"
     ]
    }
   ],
   "source": [
    "# Teste de multiplicação com número armazenado em elemento\n",
    "\n",
    "z = x * y\n",
    "print(z)"
   ]
  },
  {
   "cell_type": "code",
   "execution_count": 15,
   "id": "c5fa747a-b557-40e8-b1b7-1b69cd225864",
   "metadata": {
    "tags": []
   },
   "outputs": [
    {
     "data": {
      "text/plain": [
       "80"
      ]
     },
     "execution_count": 15,
     "metadata": {},
     "output_type": "execute_result"
    }
   ],
   "source": [
    "# Teste da função para multiplicar\n",
    "\n",
    "def mult(x, y):\n",
    "    return x * y\n",
    "\n",
    "mult(10, 8)"
   ]
  },
  {
   "cell_type": "code",
   "execution_count": 16,
   "id": "53a9ee91-8579-40d0-ac38-ace4c84e19b8",
   "metadata": {
    "tags": []
   },
   "outputs": [
    {
     "data": {
      "text/plain": [
       "28"
      ]
     },
     "execution_count": 16,
     "metadata": {},
     "output_type": "execute_result"
    }
   ],
   "source": [
    "# Definindo a função para multiplicação\n",
    "\n",
    "def mult(numero1: float, numero2: float) -> float:\n",
    "    \"\"\"Esta função pega dois números reais e retorna a multiplicação dos dois\"\"\"\n",
    "    return numero1 * numero2\n",
    "\n",
    "mult(7, 4)    "
   ]
  },
  {
   "cell_type": "markdown",
   "id": "8d32b2d1-d92f-4c8f-a327-90ca03771783",
   "metadata": {},
   "source": [
    "## Requisito 4 - Desenvolvimento da função de divisão"
   ]
  },
  {
   "cell_type": "code",
   "execution_count": 17,
   "id": "108dc739-c72b-48d2-9a3a-bcf32aa7dad1",
   "metadata": {
    "tags": []
   },
   "outputs": [
    {
     "data": {
      "text/plain": [
       "3.0"
      ]
     },
     "execution_count": 17,
     "metadata": {},
     "output_type": "execute_result"
    }
   ],
   "source": [
    "# Teste de divisão\n",
    "\n",
    "9 / 3"
   ]
  },
  {
   "cell_type": "code",
   "execution_count": 23,
   "id": "9aa3b391-6821-4ffc-976e-cef6845ed51d",
   "metadata": {
    "tags": []
   },
   "outputs": [
    {
     "data": {
      "text/plain": [
       "5.0"
      ]
     },
     "execution_count": 23,
     "metadata": {},
     "output_type": "execute_result"
    }
   ],
   "source": [
    "# Teste de divisão com número armazenado\n",
    "\n",
    "x = 25\n",
    "y = 5\n",
    "x / y"
   ]
  },
  {
   "cell_type": "code",
   "execution_count": 18,
   "id": "d36ac7ce-34cc-4ce3-a6ae-452356607cf4",
   "metadata": {
    "tags": []
   },
   "outputs": [
    {
     "name": "stdout",
     "output_type": "stream",
     "text": [
      "1.5\n"
     ]
    }
   ],
   "source": [
    "# Teste de divisão com número armazenado em elemento\n",
    "\n",
    "z = x / y\n",
    "print(z)"
   ]
  },
  {
   "cell_type": "code",
   "execution_count": 19,
   "id": "b9473237-55e0-48ab-a42a-090107d61d8b",
   "metadata": {
    "tags": []
   },
   "outputs": [
    {
     "ename": "ZeroDivisionError",
     "evalue": "division by zero",
     "output_type": "error",
     "traceback": [
      "\u001b[1;31m---------------------------------------------------------------------------\u001b[0m",
      "\u001b[1;31mZeroDivisionError\u001b[0m                         Traceback (most recent call last)",
      "Cell \u001b[1;32mIn[19], line 3\u001b[0m\n\u001b[0;32m      1\u001b[0m \u001b[38;5;66;03m# Teste de divisão de um número por zero\u001b[39;00m\n\u001b[1;32m----> 3\u001b[0m \u001b[38;5;241m8\u001b[39m \u001b[38;5;241m/\u001b[39m \u001b[38;5;241m0\u001b[39m\n",
      "\u001b[1;31mZeroDivisionError\u001b[0m: division by zero"
     ]
    }
   ],
   "source": [
    "# Teste de divisão de um número por zero\n",
    "\n",
    "8 / 0"
   ]
  },
  {
   "cell_type": "code",
   "execution_count": 20,
   "id": "bad0cf9d-ffd7-409d-b365-42462d4eece6",
   "metadata": {
    "tags": []
   },
   "outputs": [
    {
     "data": {
      "text/plain": [
       "8.0"
      ]
     },
     "execution_count": 20,
     "metadata": {},
     "output_type": "execute_result"
    }
   ],
   "source": [
    "# Teste da função para dividir\n",
    "\n",
    "def div(x, y):\n",
    "    return x / y\n",
    "\n",
    "div(64, 8)"
   ]
  },
  {
   "cell_type": "code",
   "execution_count": 22,
   "id": "99a8dc5c-448c-4c1e-b376-0f986f92122f",
   "metadata": {
    "tags": []
   },
   "outputs": [
    {
     "data": {
      "text/plain": [
       "4.0"
      ]
     },
     "execution_count": 22,
     "metadata": {},
     "output_type": "execute_result"
    }
   ],
   "source": [
    "# Aprimorando a função de divisão\n",
    "\n",
    "def div(numero1: float, numero2: float) -> float:\n",
    "    \"\"\"Esta função pega dois números reais e retorna a divisão dos dois\"\"\"\n",
    "    return numero1 / numero2\n",
    "\n",
    "div(16, 4)    "
   ]
  },
  {
   "cell_type": "code",
   "execution_count": 23,
   "id": "a8d7f062-4bb5-4165-bc83-7b753da6c4a2",
   "metadata": {
    "tags": []
   },
   "outputs": [
    {
     "data": {
      "text/plain": [
       "'Não existe divisão por zero.'"
      ]
     },
     "execution_count": 23,
     "metadata": {},
     "output_type": "execute_result"
    }
   ],
   "source": [
    "# Definindo a função utilizada para dividir\n",
    "\n",
    "def div(numero1: float, numero2: float) -> float:\n",
    "    \"\"\"Esta função pega dois números reais e retorna a divisão dos dois\"\"\"\n",
    "    if numero2 == 0:\n",
    "        resultado = \"Não existe divisão por zero.\"\n",
    "    else:\n",
    "        resultado = numero1 / numero2\n",
    "    return resultado\n",
    "\n",
    "div(16, 0)"
   ]
  }
 ],
 "metadata": {
  "kernelspec": {
   "display_name": "Python 3 (ipykernel)",
   "language": "python",
   "name": "python3"
  },
  "language_info": {
   "codemirror_mode": {
    "name": "ipython",
    "version": 3
   },
   "file_extension": ".py",
   "mimetype": "text/x-python",
   "name": "python",
   "nbconvert_exporter": "python",
   "pygments_lexer": "ipython3",
   "version": "3.11.5"
  }
 },
 "nbformat": 4,
 "nbformat_minor": 5
}
