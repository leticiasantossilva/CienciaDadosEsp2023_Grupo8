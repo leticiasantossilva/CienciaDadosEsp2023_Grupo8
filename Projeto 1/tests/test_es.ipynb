{
 "cells": [
  {
   "cell_type": "markdown",
   "id": "c910e5f0-c87b-4a70-b9d8-5d3a9b05ba72",
   "metadata": {},
   "source": [
    "# Módulo de Entrada e Saída\n",
    "\n",
    "Este módulo oferece funções de entrada e saída de dados do projeto de Calculadora com as 4 operações básicas."
   ]
  },
  {
   "cell_type": "markdown",
   "id": "1eca100f-468a-4fcd-9e29-88494a0737ff",
   "metadata": {},
   "source": [
    "## Função de Entrada"
   ]
  },
  {
   "cell_type": "code",
   "execution_count": 15,
   "id": "07133b95-9574-4722-8d94-1af573dd8679",
   "metadata": {
    "tags": []
   },
   "outputs": [
    {
     "name": "stdin",
     "output_type": "stream",
     "text": [
      "Digite o primeiro número:  8\n"
     ]
    }
   ],
   "source": [
    "# Testes de entrada de dados\n",
    "\n",
    "numero1 = input(\"Digite o primeiro número: \")\n",
    "\n",
    "\"\"\"Essa versão apresenta erro por receber em formato string\"\"\""
   ]
  },
  {
   "cell_type": "code",
   "execution_count": 16,
   "id": "8d1fcdc0-73ec-42f4-b963-088f48c76df2",
   "metadata": {
    "tags": []
   },
   "outputs": [
    {
     "data": {
      "text/plain": [
       "'8'"
      ]
     },
     "execution_count": 16,
     "metadata": {},
     "output_type": "execute_result"
    }
   ],
   "source": [
    "# Teste de armazenamento de dado\n",
    "\n",
    "numero1"
   ]
  },
  {
   "cell_type": "code",
   "execution_count": 17,
   "id": "c9402500-9027-4c6e-bc54-3597f6acf829",
   "metadata": {
    "tags": []
   },
   "outputs": [
    {
     "ename": "TypeError",
     "evalue": "can only concatenate str (not \"int\") to str",
     "output_type": "error",
     "traceback": [
      "\u001b[1;31m---------------------------------------------------------------------------\u001b[0m",
      "\u001b[1;31mTypeError\u001b[0m                                 Traceback (most recent call last)",
      "Cell \u001b[1;32mIn[17], line 3\u001b[0m\n\u001b[0;32m      1\u001b[0m \u001b[38;5;66;03m# Teste de tipo de dado armazenado\u001b[39;00m\n\u001b[1;32m----> 3\u001b[0m numero1\u001b[38;5;241m+\u001b[39m\u001b[38;5;241m1\u001b[39m\n",
      "\u001b[1;31mTypeError\u001b[0m: can only concatenate str (not \"int\") to str"
     ]
    }
   ],
   "source": [
    "# Teste de tipo de dado armazenado\n",
    "\n",
    "numero1+1"
   ]
  },
  {
   "cell_type": "code",
   "execution_count": 12,
   "id": "8edfc8bf-86df-4f8a-8b5e-973d86901147",
   "metadata": {
    "tags": []
   },
   "outputs": [
    {
     "name": "stdin",
     "output_type": "stream",
     "text": [
      "Digite o primeiro número:  2\n"
     ]
    }
   ],
   "source": [
    "# Transformando a entrada de dados em um número do tipo float\n",
    "\n",
    "numero1 = float(input(\"Digite o primeiro número: \"))\n",
    "\n"
   ]
  },
  {
   "cell_type": "code",
   "execution_count": 14,
   "id": "6ceeb7d2-dd8e-4850-afd9-b345ea135304",
   "metadata": {
    "tags": []
   },
   "outputs": [
    {
     "data": {
      "text/plain": [
       "3.0"
      ]
     },
     "execution_count": 14,
     "metadata": {},
     "output_type": "execute_result"
    }
   ],
   "source": [
    "# Teste de armazenamento de dado como float\n",
    "\n",
    "numero1+1"
   ]
  },
  {
   "cell_type": "code",
   "execution_count": 10,
   "id": "af96a320-3349-4ac5-9ee4-380b0731f57a",
   "metadata": {
    "tags": []
   },
   "outputs": [
    {
     "name": "stdin",
     "output_type": "stream",
     "text": [
      "Digite o primeiro número:  2\n",
      "Digite o primeiro número:  2\n"
     ]
    },
    {
     "data": {
      "text/plain": [
       "[2.0, 2.0]"
      ]
     },
     "execution_count": 10,
     "metadata": {},
     "output_type": "execute_result"
    }
   ],
   "source": [
    "# Teste de função de entrada que lê dois números\n",
    "\n",
    "def reader():\n",
    "    i = 0\n",
    "    numeros = []\n",
    "    while i < 2:\n",
    "        numeros.append(float(input(\"Digite o primeiro número: \")))\n",
    "        i+=1\n",
    "    return numeros\n",
    "\n",
    "reader()"
   ]
  },
  {
   "cell_type": "code",
   "execution_count": 9,
   "id": "7e284425-d7b2-4dfe-86f5-c8071a55e9af",
   "metadata": {
    "tags": []
   },
   "outputs": [
    {
     "name": "stdin",
     "output_type": "stream",
     "text": [
      "Digite o número 1 que deseja operar:  6\n",
      "Digite o número 2 que deseja operar:  5\n"
     ]
    },
    {
     "data": {
      "text/plain": [
       "[6.0, 5.0]"
      ]
     },
     "execution_count": 9,
     "metadata": {},
     "output_type": "execute_result"
    }
   ],
   "source": [
    "# Definindo a função que lê dois números sem repetir a mesma frase\n",
    "\n",
    "def leitora_numeros() -> list:\n",
    "    \"\"\" Esta função recebe os dois números que fazem parte do cálculo \"\"\"\n",
    "    i = 0\n",
    "    numeros = []\n",
    "    while i < 2:\n",
    "        numeros.append(float(input(f\"Digite o número {i+1} que deseja operar: \")))\n",
    "        i+=1\n",
    "    return numeros\n",
    "\n",
    "leitora_numeros()"
   ]
  },
  {
   "cell_type": "code",
   "execution_count": 8,
   "id": "f9cb9a1e-ab93-4b8d-b963-8d9074bbcef8",
   "metadata": {
    "tags": []
   },
   "outputs": [
    {
     "name": "stdin",
     "output_type": "stream",
     "text": [
      "Digite a operação que deseja realizar.\n",
      "Pressione + para adição;\n",
      "- para subtração;\n",
      "* para multiplicação;\n",
      "/ para divisão *\n"
     ]
    }
   ],
   "source": [
    "# Teste da função que lê a operação que deve ser executada\n",
    "\n",
    "operacao = input(\"\"\"Digite a operação que deseja realizar.\n",
    "Pressione + para adição;\n",
    "- para subtração;\n",
    "* para multiplicação;\n",
    "/ para divisão\"\"\")\n"
   ]
  },
  {
   "cell_type": "code",
   "execution_count": 7,
   "id": "4cb7b28a-f4b7-4024-ad38-48b4584399cd",
   "metadata": {
    "tags": []
   },
   "outputs": [
    {
     "name": "stdin",
     "output_type": "stream",
     "text": [
      "Digite a operação que deseja realizar.\n",
      "Pressione + para adição;\n",
      "- para subtração;\n",
      "* para multiplicação;\n",
      "/ para divisão *\n"
     ]
    },
    {
     "data": {
      "text/plain": [
       "'*'"
      ]
     },
     "execution_count": 7,
     "metadata": {},
     "output_type": "execute_result"
    }
   ],
   "source": [
    "# Definindo a função de entrada da operação\n",
    "\n",
    "def leitora_operacao() -> str:\n",
    "    \"\"\" Esta função recebe a definição da operação a ser executada no cálculo \"\"\"\n",
    "    operacao = input(\"\"\"Digite a operação que deseja realizar.\n",
    "Pressione + para adição;\n",
    "- para subtração;\n",
    "* para multiplicação;\n",
    "/ para divisão\"\"\")\n",
    "    return operacao\n",
    "\n",
    "leitora_operacao()"
   ]
  },
  {
   "cell_type": "code",
   "execution_count": 18,
   "id": "32b53b0c-2033-4ed3-b307-89d054179e37",
   "metadata": {
    "tags": []
   },
   "outputs": [
    {
     "name": "stdin",
     "output_type": "stream",
     "text": [
      "Digite o número 1 que deseja operar:  8\n",
      "Digite o número 2 que deseja operar:  4\n",
      "Digite a operação que deseja realizar.\n",
      "Pressione + para adição;\n",
      "- para subtração;\n",
      "* para multiplicação;\n",
      "/ para divisão /\n"
     ]
    },
    {
     "data": {
      "text/plain": [
       "[[8.0, 4.0], '/']"
      ]
     },
     "execution_count": 18,
     "metadata": {},
     "output_type": "execute_result"
    }
   ],
   "source": [
    "# Definindo função para inserir os números e as operação\n",
    "\n",
    "def leitora() -> list:\n",
    "    \"\"\" Esta função define a operação de entrada de dados \"\"\"\n",
    "    lista_numeros = leitora_numeros()\n",
    "    operacao = leitora_operacao()\n",
    "    return [lista_numeros, operacao]\n",
    "\n",
    "leitora()"
   ]
  },
  {
   "cell_type": "markdown",
   "id": "8be5542c-a2e1-40ad-8f34-1c492e8bb3ae",
   "metadata": {},
   "source": [
    "## Função de Saída"
   ]
  },
  {
   "cell_type": "code",
   "execution_count": 2,
   "id": "6b04b72f-a603-4306-ba81-92a2767cc3fc",
   "metadata": {
    "tags": []
   },
   "outputs": [
    {
     "name": "stdout",
     "output_type": "stream",
     "text": [
      "2\n"
     ]
    }
   ],
   "source": [
    "# Testes de armazenamento de dados\n",
    "resultado = 2\n",
    "\n",
    "print(resultado)"
   ]
  },
  {
   "cell_type": "code",
   "execution_count": 3,
   "id": "f30259d3-facb-4ed6-9c21-df2a71a85cab",
   "metadata": {
    "tags": []
   },
   "outputs": [
    {
     "name": "stdout",
     "output_type": "stream",
     "text": [
      "O resultado da operação é igual a 2\n"
     ]
    }
   ],
   "source": [
    "# Teste de imprimir dados\n",
    "\n",
    "print(f\"O resultado da operação é igual a {resultado}\")"
   ]
  },
  {
   "cell_type": "code",
   "execution_count": 4,
   "id": "456a45d9-217f-4f63-aa45-e86d1d5d7b49",
   "metadata": {
    "tags": []
   },
   "outputs": [
    {
     "name": "stdout",
     "output_type": "stream",
     "text": [
      "O resultado da operação é igual a 9\n"
     ]
    }
   ],
   "source": [
    "# Teste de função de saída\n",
    "\n",
    "def escritora(resultado):\n",
    "    print(f\"O resultado da operação é igual a {resultado}\")\n",
    "    \n",
    "resultado = 9\n",
    "escritora(resultado)"
   ]
  },
  {
   "cell_type": "code",
   "execution_count": 5,
   "id": "c286e692-e585-43ea-9658-b685903213b3",
   "metadata": {
    "tags": []
   },
   "outputs": [
    {
     "name": "stdout",
     "output_type": "stream",
     "text": [
      "O resultado da operação é igual a 4\n"
     ]
    }
   ],
   "source": [
    "# Definindo a função de Saída\n",
    "\n",
    "def escritora(resultado: float) -> None:\n",
    "    \"\"\" Esta função coloca o resultado na tela \"\"\"\n",
    "    print(f\"O resultado da operação é igual a {resultado}\")\n",
    "\n",
    "resultado = 4 \n",
    "escritora(resultado)"
   ]
  }
 ],
 "metadata": {
  "kernelspec": {
   "display_name": "Python 3 (ipykernel)",
   "language": "python",
   "name": "python3"
  },
  "language_info": {
   "codemirror_mode": {
    "name": "ipython",
    "version": 3
   },
   "file_extension": ".py",
   "mimetype": "text/x-python",
   "name": "python",
   "nbconvert_exporter": "python",
   "pygments_lexer": "ipython3",
   "version": "3.11.5"
  }
 },
 "nbformat": 4,
 "nbformat_minor": 5
}
