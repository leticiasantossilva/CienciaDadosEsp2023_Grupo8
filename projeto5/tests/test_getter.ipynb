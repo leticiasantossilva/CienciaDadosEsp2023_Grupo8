{
 "cells": [
  {
   "cell_type": "markdown",
   "id": "bd0777fe-f1e0-48b8-b674-1bf5b669a1a7",
   "metadata": {},
   "source": [
    "# Módulo de busca de páginas - Getter"
   ]
  },
  {
   "cell_type": "markdown",
   "id": "6832894a-a110-4fb8-a55f-ed449f43a6ab",
   "metadata": {},
   "source": [
    "## Função get_web()\n",
    "\n",
    "Este módulo prevê uma função capaz de baixar página web com a seguinte assinatura:"
   ]
  },
  {
   "cell_type": "code",
   "execution_count": 1,
   "id": "c6567e4d-a999-42fe-8f69-6817bf790c5a",
   "metadata": {
    "tags": []
   },
   "outputs": [],
   "source": [
    "# Função get_web()\n",
    "\n",
    "from typing import Any\n",
    "\n",
    "def get_web(nome_pagina: str) -> Any:\n",
    "    \"\"\" Esta função é capaz de baixar uma página na web \"\"\"\n",
    "    \n",
    "    pass"
   ]
  },
  {
   "cell_type": "markdown",
   "id": "49bebea5-72f8-4025-8305-5b660831c2a8",
   "metadata": {},
   "source": [
    "## Treinando o uso da biblioteca Requests\n",
    "\n",
    "Referência: [tutorial](https://requests.readthedocs.io/en/latest/user/quickstart/)"
   ]
  },
  {
   "cell_type": "code",
   "execution_count": 2,
   "id": "d9c30137-c42b-4ff6-af84-9c9fa32ed02c",
   "metadata": {
    "tags": []
   },
   "outputs": [
    {
     "name": "stdout",
     "output_type": "stream",
     "text": [
      "<class 'requests.models.Response'>\n"
     ]
    }
   ],
   "source": [
    "# Importação da biblioteca\n",
    "\n",
    "import requests\n",
    "\n",
    "# Tutorial - get webpage\n",
    "r = requests.get('https://api.github.com/events')\n",
    "\n",
    "print(type(r))"
   ]
  },
  {
   "cell_type": "code",
   "execution_count": 3,
   "id": "949cea3f-40a5-4992-bc3e-8778c18c7adb",
   "metadata": {
    "tags": []
   },
   "outputs": [],
   "source": [
    "#  Tutorial - conteúdo da webpage\n",
    "\n",
    "r = requests.get('https://api.github.com/events')\n",
    "r.text    # Imprime o código fonte da página\n",
    "\n",
    "r.encoding\n",
    "\n",
    "r.encoding = 'ISO-8859-1'"
   ]
  },
  {
   "cell_type": "code",
   "execution_count": 4,
   "id": "bfab151d-0635-4f07-94b7-a525334f08c9",
   "metadata": {
    "tags": []
   },
   "outputs": [
    {
     "ename": "UnidentifiedImageError",
     "evalue": "cannot identify image file <_io.BytesIO object at 0x000001E7D508CD10>",
     "output_type": "error",
     "traceback": [
      "\u001b[1;31m---------------------------------------------------------------------------\u001b[0m",
      "\u001b[1;31mUnidentifiedImageError\u001b[0m                    Traceback (most recent call last)",
      "Cell \u001b[1;32mIn[4], line 8\u001b[0m\n\u001b[0;32m      5\u001b[0m \u001b[38;5;28;01mfrom\u001b[39;00m \u001b[38;5;21;01mPIL\u001b[39;00m \u001b[38;5;28;01mimport\u001b[39;00m Image\n\u001b[0;32m      6\u001b[0m \u001b[38;5;28;01mfrom\u001b[39;00m \u001b[38;5;21;01mio\u001b[39;00m \u001b[38;5;28;01mimport\u001b[39;00m BytesIO\n\u001b[1;32m----> 8\u001b[0m i \u001b[38;5;241m=\u001b[39m Image\u001b[38;5;241m.\u001b[39mopen(BytesIO(r\u001b[38;5;241m.\u001b[39mcontent))\n",
      "File \u001b[1;32m~\\anaconda3\\Lib\\site-packages\\PIL\\Image.py:3283\u001b[0m, in \u001b[0;36mopen\u001b[1;34m(fp, mode, formats)\u001b[0m\n\u001b[0;32m   3281\u001b[0m     warnings\u001b[38;5;241m.\u001b[39mwarn(message)\n\u001b[0;32m   3282\u001b[0m msg \u001b[38;5;241m=\u001b[39m \u001b[38;5;124m\"\u001b[39m\u001b[38;5;124mcannot identify image file \u001b[39m\u001b[38;5;132;01m%r\u001b[39;00m\u001b[38;5;124m\"\u001b[39m \u001b[38;5;241m%\u001b[39m (filename \u001b[38;5;28;01mif\u001b[39;00m filename \u001b[38;5;28;01melse\u001b[39;00m fp)\n\u001b[1;32m-> 3283\u001b[0m \u001b[38;5;28;01mraise\u001b[39;00m UnidentifiedImageError(msg)\n",
      "\u001b[1;31mUnidentifiedImageError\u001b[0m: cannot identify image file <_io.BytesIO object at 0x000001E7D508CD10>"
     ]
    }
   ],
   "source": [
    "# Tutorial - Lendo imagens a partir de código Binary\n",
    "\n",
    "r.content\n",
    "\n",
    "from PIL import Image\n",
    "from io import BytesIO\n",
    "\n",
    "i = Image.open(BytesIO(r.content))"
   ]
  },
  {
   "cell_type": "code",
   "execution_count": null,
   "id": "103f22ff-f91b-41ec-afa3-3b4931d1818c",
   "metadata": {
    "tags": []
   },
   "outputs": [],
   "source": [
    "# Tutorial - Leitura de webpage em Java Script (JSON)\n",
    "\n",
    "\n",
    "r = requests.get('https://api.github.com/events')\n",
    "\n",
    "r.json()"
   ]
  },
  {
   "cell_type": "code",
   "execution_count": null,
   "id": "2e1fa2b3-99f1-4ae8-a59f-8e0dc46c47a9",
   "metadata": {
    "tags": []
   },
   "outputs": [],
   "source": [
    "# Tutorial - Raw \n",
    "\n",
    "r = requests.get('https://api.github.com/events', stream=True)\n",
    "\n",
    "r.raw\n",
    "\n",
    "#r.raw.read(10)"
   ]
  },
  {
   "cell_type": "code",
   "execution_count": null,
   "id": "6573f031-abda-43f9-aef2-523f49fdee16",
   "metadata": {
    "tags": []
   },
   "outputs": [],
   "source": [
    "# Como salvar em file o que está em raw\n",
    "\n",
    "with open('arquivo', 'wb') as fd:\n",
    "    for chunk in r.iter_content(chunk_size=128):\n",
    "        fd.write(chunk)\n"
   ]
  },
  {
   "cell_type": "markdown",
   "id": "30ddbc26-b17c-4dbb-839b-e7e1e074ce0e",
   "metadata": {},
   "source": [
    "### Abrindo arquivos no Python"
   ]
  },
  {
   "cell_type": "code",
   "execution_count": 13,
   "id": "72436299-842a-49f2-aba5-e1a0dd69b3b7",
   "metadata": {
    "tags": []
   },
   "outputs": [
    {
     "name": "stdout",
     "output_type": "stream",
     "text": [
      "<class '_io.TextIOWrapper'>\n"
     ]
    }
   ],
   "source": [
    "#criar arquivo\n",
    "\n",
    "arquivo2 = open('arquivo2.txt', 'w')\n",
    "print(type(arquivo2))\n",
    "arquivo2.close()"
   ]
  },
  {
   "cell_type": "code",
   "execution_count": 23,
   "id": "c9bc8f8e-e300-4f95-bb8f-8eeae320217e",
   "metadata": {
    "tags": []
   },
   "outputs": [],
   "source": [
    "#import io\n",
    "#arquivo_casa = io.StringIO(casa)\n",
    "\n",
    "arquivo_casa = open('casa2.txt', 'w')\n",
    "casa = 'A casa é bonita'\n",
    "arquivo_casa.write(casa)\n",
    "arquivo_casa.close()"
   ]
  },
  {
   "cell_type": "code",
   "execution_count": 25,
   "id": "71e5af97-da35-4c86-8c4d-ff61bce43d5b",
   "metadata": {
    "tags": []
   },
   "outputs": [],
   "source": [
    "#sintaxe que funcionou\n",
    "\n",
    "with open('arquivo3.txt', 'w') as a3:\n",
    "    a3.write('casa')"
   ]
  },
  {
   "cell_type": "markdown",
   "id": "e8cbeaa1-dc75-4559-b7e6-712c71de76b1",
   "metadata": {},
   "source": [
    "## Teste da get_web()"
   ]
  },
  {
   "cell_type": "code",
   "execution_count": null,
   "id": "e7580782-e0ee-4992-a7d5-c6d466cbb833",
   "metadata": {
    "tags": []
   },
   "outputs": [],
   "source": [
    "# Testes da função get_web()\n",
    "\n"
   ]
  }
 ],
 "metadata": {
  "kernelspec": {
   "display_name": "Python 3 (ipykernel)",
   "language": "python",
   "name": "python3"
  },
  "language_info": {
   "codemirror_mode": {
    "name": "ipython",
    "version": 3
   },
   "file_extension": ".py",
   "mimetype": "text/x-python",
   "name": "python",
   "nbconvert_exporter": "python",
   "pygments_lexer": "ipython3",
   "version": "3.10.9"
  }
 },
 "nbformat": 4,
 "nbformat_minor": 5
}
